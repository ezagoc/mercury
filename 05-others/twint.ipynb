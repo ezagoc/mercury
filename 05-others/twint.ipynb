{
 "cells": [
  {
   "cell_type": "code",
   "execution_count": 3,
   "id": "654a248f",
   "metadata": {},
   "outputs": [
    {
     "name": "stdout",
     "output_type": "stream",
     "text": [
      "Requirement already satisfied: twint in c:\\users\\dell\\miniconda3\\lib\\site-packages (2.1.20)\n",
      "Requirement already satisfied: geopy in c:\\users\\dell\\miniconda3\\lib\\site-packages (from twint) (2.3.0)\n",
      "Requirement already satisfied: aiohttp in c:\\users\\dell\\miniconda3\\lib\\site-packages (from twint) (3.8.4)\n",
      "Requirement already satisfied: beautifulsoup4 in c:\\users\\dell\\miniconda3\\lib\\site-packages (from twint) (4.11.1)\n",
      "Requirement already satisfied: schedule in c:\\users\\dell\\miniconda3\\lib\\site-packages (from twint) (1.2.0)\n",
      "Requirement already satisfied: aiodns in c:\\users\\dell\\miniconda3\\lib\\site-packages (from twint) (3.0.0)\n",
      "Requirement already satisfied: fake-useragent in c:\\users\\dell\\miniconda3\\lib\\site-packages (from twint) (1.1.3)\n",
      "Requirement already satisfied: googletransx in c:\\users\\dell\\miniconda3\\lib\\site-packages (from twint) (2.4.2)\n",
      "Requirement already satisfied: elasticsearch in c:\\users\\dell\\miniconda3\\lib\\site-packages (from twint) (8.8.0)\n",
      "Requirement already satisfied: cchardet in c:\\users\\dell\\miniconda3\\lib\\site-packages (from twint) (2.1.7)\n",
      "Requirement already satisfied: pysocks in c:\\users\\dell\\miniconda3\\lib\\site-packages (from twint) (1.7.1)\n",
      "Requirement already satisfied: pandas in c:\\users\\dell\\miniconda3\\lib\\site-packages (from twint) (1.5.2)\n",
      "Requirement already satisfied: aiohttp-socks in c:\\users\\dell\\miniconda3\\lib\\site-packages (from twint) (0.8.0)\n",
      "Requirement already satisfied: pycares>=4.0.0 in c:\\users\\dell\\miniconda3\\lib\\site-packages (from aiodns->twint) (4.3.0)\n",
      "Requirement already satisfied: aiosignal>=1.1.2 in c:\\users\\dell\\miniconda3\\lib\\site-packages (from aiohttp->twint) (1.3.1)\n",
      "Requirement already satisfied: charset-normalizer<4.0,>=2.0 in c:\\users\\dell\\miniconda3\\lib\\site-packages (from aiohttp->twint) (2.0.7)\n",
      "Requirement already satisfied: async-timeout<5.0,>=4.0.0a3 in c:\\users\\dell\\miniconda3\\lib\\site-packages (from aiohttp->twint) (4.0.2)\n",
      "Requirement already satisfied: multidict<7.0,>=4.5 in c:\\users\\dell\\miniconda3\\lib\\site-packages (from aiohttp->twint) (6.0.4)\n",
      "Requirement already satisfied: attrs>=17.3.0 in c:\\users\\dell\\miniconda3\\lib\\site-packages (from aiohttp->twint) (22.1.0)\n",
      "Requirement already satisfied: frozenlist>=1.1.1 in c:\\users\\dell\\miniconda3\\lib\\site-packages (from aiohttp->twint) (1.3.3)\n",
      "Requirement already satisfied: yarl<2.0,>=1.0 in c:\\users\\dell\\miniconda3\\lib\\site-packages (from aiohttp->twint) (1.9.2)\n",
      "Requirement already satisfied: python-socks[asyncio]<3.0.0,>=2.0.0 in c:\\users\\dell\\miniconda3\\lib\\site-packages (from aiohttp-socks->twint) (2.3.0)\n",
      "Requirement already satisfied: soupsieve>1.2 in c:\\users\\dell\\miniconda3\\lib\\site-packages (from beautifulsoup4->twint) (2.3.2.post1)\n",
      "Requirement already satisfied: elastic-transport<9,>=8 in c:\\users\\dell\\miniconda3\\lib\\site-packages (from elasticsearch->twint) (8.4.0)\n",
      "Requirement already satisfied: importlib-resources>=5.0 in c:\\users\\dell\\miniconda3\\lib\\site-packages (from fake-useragent->twint) (5.9.0)\n",
      "Requirement already satisfied: geographiclib<3,>=1.52 in c:\\users\\dell\\miniconda3\\lib\\site-packages (from geopy->twint) (2.0)\n",
      "Requirement already satisfied: requests in c:\\users\\dell\\miniconda3\\lib\\site-packages (from googletransx->twint) (2.28.1)\n",
      "Requirement already satisfied: python-dateutil>=2.8.1 in c:\\users\\dell\\miniconda3\\lib\\site-packages (from pandas->twint) (2.8.2)\n",
      "Requirement already satisfied: numpy>=1.20.3 in c:\\users\\dell\\miniconda3\\lib\\site-packages (from pandas->twint) (1.21.4)\n",
      "Requirement already satisfied: pytz>=2020.1 in c:\\users\\dell\\miniconda3\\lib\\site-packages (from pandas->twint) (2021.3)\n",
      "Requirement already satisfied: certifi in c:\\users\\dell\\miniconda3\\lib\\site-packages (from elastic-transport<9,>=8->elasticsearch->twint) (2021.10.8)\n",
      "Requirement already satisfied: urllib3<2,>=1.26.2 in c:\\users\\dell\\miniconda3\\lib\\site-packages (from elastic-transport<9,>=8->elasticsearch->twint) (1.26.7)\n",
      "Requirement already satisfied: zipp>=3.1.0 in c:\\users\\dell\\miniconda3\\lib\\site-packages (from importlib-resources>=5.0->fake-useragent->twint) (3.8.1)\n",
      "Requirement already satisfied: cffi>=1.5.0 in c:\\users\\dell\\miniconda3\\lib\\site-packages (from pycares>=4.0.0->aiodns->twint) (1.15.0)\n",
      "Requirement already satisfied: six>=1.5 in c:\\users\\dell\\miniconda3\\lib\\site-packages (from python-dateutil>=2.8.1->pandas->twint) (1.16.0)\n",
      "Requirement already satisfied: idna>=2.0 in c:\\users\\dell\\miniconda3\\lib\\site-packages (from yarl<2.0,>=1.0->aiohttp->twint) (3.3)\n",
      "Requirement already satisfied: pycparser in c:\\users\\dell\\miniconda3\\lib\\site-packages (from cffi>=1.5.0->pycares>=4.0.0->aiodns->twint) (2.21)\n"
     ]
    },
    {
     "name": "stderr",
     "output_type": "stream",
     "text": [
      "\n",
      "[notice] A new release of pip available: 22.2.2 -> 23.1.2\n",
      "[notice] To update, run: python.exe -m pip install --upgrade pip\n"
     ]
    },
    {
     "name": "stdout",
     "output_type": "stream",
     "text": [
      "Requirement already satisfied: nest_asyncio in c:\\users\\dell\\miniconda3\\lib\\site-packages (1.5.5)\n"
     ]
    },
    {
     "name": "stderr",
     "output_type": "stream",
     "text": [
      "\n",
      "[notice] A new release of pip available: 22.2.2 -> 23.1.2\n",
      "[notice] To update, run: python.exe -m pip install --upgrade pip\n"
     ]
    }
   ],
   "source": [
    "!pip install twint\n",
    "!pip install nest_asyncio\n",
    "import nest_asyncio\n",
    "nest_asyncio.apply()"
   ]
  },
  {
   "cell_type": "code",
   "execution_count": 12,
   "id": "185c46e3",
   "metadata": {},
   "outputs": [
    {
     "name": "stderr",
     "output_type": "stream",
     "text": [
      "CRITICAL:root:twint.get:User:'NoneType' object is not subscriptable\n",
      "CRITICAL:root:twint.feed:Follow:IndexError\n"
     ]
    }
   ],
   "source": [
    "import twint\n",
    "\n",
    "c = twint.Config()\n",
    "c.Username = \"EmilioPacheco97\"\n",
    "c.User_full = True\n",
    "c.Pandas = True\n",
    "\n",
    "twint.run.Followers(c)\n",
    "\n",
    "Followers_df = twint.storage.panda.Follow_df"
   ]
  },
  {
   "cell_type": "code",
   "execution_count": 13,
   "id": "947ab952",
   "metadata": {},
   "outputs": [
    {
     "data": {
      "text/html": [
       "<div>\n",
       "<style scoped>\n",
       "    .dataframe tbody tr th:only-of-type {\n",
       "        vertical-align: middle;\n",
       "    }\n",
       "\n",
       "    .dataframe tbody tr th {\n",
       "        vertical-align: top;\n",
       "    }\n",
       "\n",
       "    .dataframe thead th {\n",
       "        text-align: right;\n",
       "    }\n",
       "</style>\n",
       "<table border=\"1\" class=\"dataframe\">\n",
       "  <thead>\n",
       "    <tr style=\"text-align: right;\">\n",
       "      <th></th>\n",
       "    </tr>\n",
       "  </thead>\n",
       "  <tbody>\n",
       "  </tbody>\n",
       "</table>\n",
       "</div>"
      ],
      "text/plain": [
       "Empty DataFrame\n",
       "Columns: []\n",
       "Index: []"
      ]
     },
     "execution_count": 13,
     "metadata": {},
     "output_type": "execute_result"
    }
   ],
   "source": [
    "Followers_df"
   ]
  },
  {
   "cell_type": "code",
   "execution_count": null,
   "id": "1c1702c7",
   "metadata": {},
   "outputs": [],
   "source": []
  }
 ],
 "metadata": {
  "kernelspec": {
   "display_name": "Python 3 (ipykernel)",
   "language": "python",
   "name": "python3"
  },
  "language_info": {
   "codemirror_mode": {
    "name": "ipython",
    "version": 3
   },
   "file_extension": ".py",
   "mimetype": "text/x-python",
   "name": "python",
   "nbconvert_exporter": "python",
   "pygments_lexer": "ipython3",
   "version": "3.9.12"
  }
 },
 "nbformat": 4,
 "nbformat_minor": 5
}
