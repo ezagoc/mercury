{
 "cells": [
  {
   "cell_type": "code",
   "execution_count": 4,
   "id": "3c4f9716",
   "metadata": {},
   "outputs": [],
   "source": [
    "import pandas as pd\n",
    "import os\n",
    "import glob\n",
    "import yaml\n",
    "import time\n",
    "import numpy as np"
   ]
  },
  {
   "cell_type": "markdown",
   "id": "e784f040",
   "metadata": {},
   "source": [
    "## SA Full List"
   ]
  },
  {
   "cell_type": "code",
   "execution_count": 5,
   "id": "315830f5",
   "metadata": {},
   "outputs": [],
   "source": [
    "sa = pd.read_parquet('../../data/02-randomize/SA/04-stratification/integrate/followers_randomized.parquet')\n",
    "sa = sa[sa['treatment']==1]\n",
    "sa = sa[['follower_id']].rename(columns={'follower_id':'id'})\n",
    "sa.to_csv(f'../../data/03-experiment/SA/ads/0-twitter_api/input.txt', header = None, index = None, sep = ',')"
   ]
  },
  {
   "cell_type": "code",
   "execution_count": null,
   "id": "e87c2933",
   "metadata": {},
   "outputs": [],
   "source": []
  },
  {
   "cell_type": "markdown",
   "id": "f7b109d4",
   "metadata": {},
   "source": [
    "## KE Full List"
   ]
  },
  {
   "cell_type": "code",
   "execution_count": 3,
   "id": "013bc941",
   "metadata": {},
   "outputs": [],
   "source": [
    "sa = pd.read_parquet('../../data/02-randomize/KE/04-stratification/integrate/followers_randomized.parquet')\n",
    "sa = sa[sa['treatment']==1]\n",
    "sa = sa[['follower_id']].rename(columns={'follower_id':'id'})\n",
    "sa.to_csv(f'../../data/03-experiment/KE/ads/0-twitter_api/input.txt', header = None, index = None, sep = ',')"
   ]
  },
  {
   "cell_type": "markdown",
   "id": "4c12c1d7",
   "metadata": {},
   "source": [
    "## Saturation"
   ]
  },
  {
   "cell_type": "code",
   "execution_count": null,
   "id": "4922cbd1",
   "metadata": {},
   "outputs": [],
   "source": [
    "import random\n",
    "random.seed(123)\n",
    "sa['rand'] = [random.uniform(0, 1) for k in sa.index]"
   ]
  },
  {
   "cell_type": "code",
   "execution_count": 19,
   "id": "468d690f",
   "metadata": {},
   "outputs": [],
   "source": [
    "sa_1 = sa[sa['rand'] < 1/7]\n",
    "sa_1 = sa_1[['id']]\n",
    "sa_1.to_csv(f'../../data/03-experiment/KE/ads/0-twitter_api/input_1.txt', header = None, index = None, sep = ',')"
   ]
  },
  {
   "cell_type": "code",
   "execution_count": 20,
   "id": "b58ef8e0",
   "metadata": {},
   "outputs": [],
   "source": [
    "sa_2 = sa[(sa['rand'] > 1/7) & (sa['rand'] < 3/7)]\n",
    "sa_2 = sa_2[['id']]\n",
    "sa_2.to_csv(f'../../data/03-experiment/KE/ads/0-twitter_api/input_strong_abs_2.txt', header = None, index = None, sep = ',')"
   ]
  },
  {
   "cell_type": "code",
   "execution_count": 21,
   "id": "b317feec",
   "metadata": {},
   "outputs": [],
   "source": [
    "sa_3 = sa[(sa['rand'] > 3/7)]\n",
    "sa_3 = sa_3[['id']]\n",
    "sa_3.to_csv(f'../../data/03-experiment/KE/ads/0-twitter_api/input_strong_abs_3.txt', header = None, index = None, sep = ',')"
   ]
  },
  {
   "cell_type": "code",
   "execution_count": null,
   "id": "86f906f2",
   "metadata": {},
   "outputs": [],
   "source": [
    "sa = pd.read_parquet('../../data/02-randomize/KE/04-stratification/integrate/followers_randomized_strong_weak.parquet')\n",
    "sa = sa[sa['treatment']==1]\n",
    "sa = sa[['follower_id']].rename(columns={'follower_id':'id'})\n",
    "#sa.to_csv(f'../../data/03-experiment/KE/ads/0-twitter_api/input_strong.txt', header = None, index = None, sep = ',')"
   ]
  }
 ],
 "metadata": {
  "kernelspec": {
   "display_name": "Python 3 (ipykernel)",
   "language": "python",
   "name": "python3"
  },
  "language_info": {
   "codemirror_mode": {
    "name": "ipython",
    "version": 3
   },
   "file_extension": ".py",
   "mimetype": "text/x-python",
   "name": "python",
   "nbconvert_exporter": "python",
   "pygments_lexer": "ipython3",
   "version": "3.9.12"
  }
 },
 "nbformat": 4,
 "nbformat_minor": 5
}
