{
 "cells": [
  {
   "cell_type": "code",
   "execution_count": 2,
   "id": "3c4f9716",
   "metadata": {},
   "outputs": [],
   "source": [
    "import pandas as pd\n",
    "import os\n",
    "import glob\n",
    "import yaml\n",
    "import time\n",
    "import numpy as np"
   ]
  },
  {
   "cell_type": "markdown",
   "id": "e784f040",
   "metadata": {},
   "source": [
    "## SA Full List"
   ]
  },
  {
   "cell_type": "code",
   "execution_count": 7,
   "id": "315830f5",
   "metadata": {},
   "outputs": [
    {
     "data": {
      "text/html": [
       "<div>\n",
       "<style scoped>\n",
       "    .dataframe tbody tr th:only-of-type {\n",
       "        vertical-align: middle;\n",
       "    }\n",
       "\n",
       "    .dataframe tbody tr th {\n",
       "        vertical-align: top;\n",
       "    }\n",
       "\n",
       "    .dataframe thead th {\n",
       "        text-align: right;\n",
       "    }\n",
       "</style>\n",
       "<table border=\"1\" class=\"dataframe\">\n",
       "  <thead>\n",
       "    <tr style=\"text-align: right;\">\n",
       "      <th></th>\n",
       "      <th>username</th>\n",
       "      <th>follower_id</th>\n",
       "      <th>blockid1</th>\n",
       "      <th>blockid2</th>\n",
       "      <th>treatment</th>\n",
       "      <th>id</th>\n",
       "    </tr>\n",
       "  </thead>\n",
       "  <tbody>\n",
       "    <tr>\n",
       "      <th>0</th>\n",
       "      <td>milestunhi</td>\n",
       "      <td>1000263301182476289</td>\n",
       "      <td>184.0</td>\n",
       "      <td>189.0</td>\n",
       "      <td>0.0</td>\n",
       "      <td>11111111</td>\n",
       "    </tr>\n",
       "    <tr>\n",
       "      <th>1</th>\n",
       "      <td>JaravazaVanessa</td>\n",
       "      <td>1001406436478513152</td>\n",
       "      <td>143.0</td>\n",
       "      <td>100.0</td>\n",
       "      <td>1.0</td>\n",
       "      <td>11111111</td>\n",
       "    </tr>\n",
       "    <tr>\n",
       "      <th>2</th>\n",
       "      <td>cshndi</td>\n",
       "      <td>1001833216402251776</td>\n",
       "      <td>207.0</td>\n",
       "      <td>241.0</td>\n",
       "      <td>1.0</td>\n",
       "      <td>11111111</td>\n",
       "    </tr>\n",
       "    <tr>\n",
       "      <th>3</th>\n",
       "      <td>givmangwende</td>\n",
       "      <td>1003813557073530880</td>\n",
       "      <td>202.0</td>\n",
       "      <td>232.0</td>\n",
       "      <td>1.0</td>\n",
       "      <td>11111111</td>\n",
       "    </tr>\n",
       "    <tr>\n",
       "      <th>4</th>\n",
       "      <td>MakoMidzi</td>\n",
       "      <td>1003945105517109249</td>\n",
       "      <td>184.0</td>\n",
       "      <td>189.0</td>\n",
       "      <td>1.0</td>\n",
       "      <td>11111111</td>\n",
       "    </tr>\n",
       "    <tr>\n",
       "      <th>...</th>\n",
       "      <td>...</td>\n",
       "      <td>...</td>\n",
       "      <td>...</td>\n",
       "      <td>...</td>\n",
       "      <td>...</td>\n",
       "      <td>...</td>\n",
       "    </tr>\n",
       "    <tr>\n",
       "      <th>28636</th>\n",
       "      <td>Ke_georginah</td>\n",
       "      <td>2270946743</td>\n",
       "      <td>1.0</td>\n",
       "      <td>2.0</td>\n",
       "      <td>1.0</td>\n",
       "      <td>222222222a</td>\n",
       "    </tr>\n",
       "    <tr>\n",
       "      <th>28637</th>\n",
       "      <td>briantau1</td>\n",
       "      <td>251925293</td>\n",
       "      <td>1.0</td>\n",
       "      <td>1.0</td>\n",
       "      <td>1.0</td>\n",
       "      <td>222222222a</td>\n",
       "    </tr>\n",
       "    <tr>\n",
       "      <th>28638</th>\n",
       "      <td>Zama_B02</td>\n",
       "      <td>2678104934</td>\n",
       "      <td>1.0</td>\n",
       "      <td>2.0</td>\n",
       "      <td>0.0</td>\n",
       "      <td>222222222a</td>\n",
       "    </tr>\n",
       "    <tr>\n",
       "      <th>28639</th>\n",
       "      <td>daddyhope</td>\n",
       "      <td>73672445</td>\n",
       "      <td>3.0</td>\n",
       "      <td>5.0</td>\n",
       "      <td>0.0</td>\n",
       "      <td>222222222a</td>\n",
       "    </tr>\n",
       "    <tr>\n",
       "      <th>28640</th>\n",
       "      <td>aya_mpanza</td>\n",
       "      <td>743780095</td>\n",
       "      <td>1.0</td>\n",
       "      <td>1.0</td>\n",
       "      <td>0.0</td>\n",
       "      <td>222222222a</td>\n",
       "    </tr>\n",
       "  </tbody>\n",
       "</table>\n",
       "<p>28641 rows × 6 columns</p>\n",
       "</div>"
      ],
      "text/plain": [
       "              username          follower_id  blockid1  blockid2  treatment  \\\n",
       "0           milestunhi  1000263301182476289     184.0     189.0        0.0   \n",
       "1      JaravazaVanessa  1001406436478513152     143.0     100.0        1.0   \n",
       "2               cshndi  1001833216402251776     207.0     241.0        1.0   \n",
       "3         givmangwende  1003813557073530880     202.0     232.0        1.0   \n",
       "4            MakoMidzi  1003945105517109249     184.0     189.0        1.0   \n",
       "...                ...                  ...       ...       ...        ...   \n",
       "28636     Ke_georginah           2270946743       1.0       2.0        1.0   \n",
       "28637        briantau1            251925293       1.0       1.0        1.0   \n",
       "28638         Zama_B02           2678104934       1.0       2.0        0.0   \n",
       "28639        daddyhope             73672445       3.0       5.0        0.0   \n",
       "28640       aya_mpanza            743780095       1.0       1.0        0.0   \n",
       "\n",
       "               id  \n",
       "0        11111111  \n",
       "1        11111111  \n",
       "2        11111111  \n",
       "3        11111111  \n",
       "4        11111111  \n",
       "...           ...  \n",
       "28636  222222222a  \n",
       "28637  222222222a  \n",
       "28638  222222222a  \n",
       "28639  222222222a  \n",
       "28640  222222222a  \n",
       "\n",
       "[28641 rows x 6 columns]"
      ]
     },
     "execution_count": 7,
     "metadata": {},
     "output_type": "execute_result"
    }
   ],
   "source": [
    "sa = pd.read_parquet('../../data/02-randomize/SA/04-stratification/integrate/followers_randomized_batch2.parquet')\n",
    "\n",
    "sa"
   ]
  },
  {
   "cell_type": "code",
   "execution_count": 10,
   "id": "fe3e90f9",
   "metadata": {},
   "outputs": [],
   "source": [
    "sa = sa[sa['treatment']==1]\n",
    "sa = sa[['follower_id']].rename(columns={'follower_id':'id'})\n",
    "sa = sa.sample(frac = 1).reset_index(drop = True)\n",
    "sa"
   ]
  },
  {
   "cell_type": "code",
   "execution_count": 10,
   "id": "f5bd2999",
   "metadata": {},
   "outputs": [
    {
     "data": {
      "text/plain": [
       "14313"
      ]
     },
     "execution_count": 10,
     "metadata": {},
     "output_type": "execute_result"
    }
   ],
   "source": [
    "prueba = sa.drop_duplicates()\n",
    "len(prueba)"
   ]
  },
  {
   "cell_type": "code",
   "execution_count": 7,
   "id": "73e5208c",
   "metadata": {},
   "outputs": [],
   "source": [
    "sa.to_csv(f'../../data/03-experiment/SA/ads/0-twitter_api/input_batch2.txt', \n",
    "          header = None, index = None, sep = ',')"
   ]
  },
  {
   "cell_type": "markdown",
   "id": "f7b109d4",
   "metadata": {},
   "source": [
    "## KE Full List"
   ]
  },
  {
   "cell_type": "code",
   "execution_count": 11,
   "id": "013bc941",
   "metadata": {},
   "outputs": [
    {
     "data": {
      "text/html": [
       "<div>\n",
       "<style scoped>\n",
       "    .dataframe tbody tr th:only-of-type {\n",
       "        vertical-align: middle;\n",
       "    }\n",
       "\n",
       "    .dataframe tbody tr th {\n",
       "        vertical-align: top;\n",
       "    }\n",
       "\n",
       "    .dataframe thead th {\n",
       "        text-align: right;\n",
       "    }\n",
       "</style>\n",
       "<table border=\"1\" class=\"dataframe\">\n",
       "  <thead>\n",
       "    <tr style=\"text-align: right;\">\n",
       "      <th></th>\n",
       "      <th>id</th>\n",
       "    </tr>\n",
       "  </thead>\n",
       "  <tbody>\n",
       "    <tr>\n",
       "      <th>0</th>\n",
       "      <td>1601441950091067393</td>\n",
       "    </tr>\n",
       "    <tr>\n",
       "      <th>1</th>\n",
       "      <td>1435912151655501827</td>\n",
       "    </tr>\n",
       "    <tr>\n",
       "      <th>2</th>\n",
       "      <td>907176551715889152</td>\n",
       "    </tr>\n",
       "    <tr>\n",
       "      <th>3</th>\n",
       "      <td>1448565741754753030</td>\n",
       "    </tr>\n",
       "    <tr>\n",
       "      <th>4</th>\n",
       "      <td>1480863928720711680</td>\n",
       "    </tr>\n",
       "    <tr>\n",
       "      <th>...</th>\n",
       "      <td>...</td>\n",
       "    </tr>\n",
       "    <tr>\n",
       "      <th>20085</th>\n",
       "      <td>1246252313959899136</td>\n",
       "    </tr>\n",
       "    <tr>\n",
       "      <th>20086</th>\n",
       "      <td>1158531647618375680</td>\n",
       "    </tr>\n",
       "    <tr>\n",
       "      <th>20087</th>\n",
       "      <td>1313002186306129920</td>\n",
       "    </tr>\n",
       "    <tr>\n",
       "      <th>20088</th>\n",
       "      <td>1205805546877702146</td>\n",
       "    </tr>\n",
       "    <tr>\n",
       "      <th>20089</th>\n",
       "      <td>1329713640870653953</td>\n",
       "    </tr>\n",
       "  </tbody>\n",
       "</table>\n",
       "<p>20090 rows × 1 columns</p>\n",
       "</div>"
      ],
      "text/plain": [
       "                        id\n",
       "0      1601441950091067393\n",
       "1      1435912151655501827\n",
       "2       907176551715889152\n",
       "3      1448565741754753030\n",
       "4      1480863928720711680\n",
       "...                    ...\n",
       "20085  1246252313959899136\n",
       "20086  1158531647618375680\n",
       "20087  1313002186306129920\n",
       "20088  1205805546877702146\n",
       "20089  1329713640870653953\n",
       "\n",
       "[20090 rows x 1 columns]"
      ]
     },
     "execution_count": 11,
     "metadata": {},
     "output_type": "execute_result"
    }
   ],
   "source": [
    "sa = pd.read_parquet('../../data/02-randomize/KE/04-stratification/integrate/followers_randomized_batch2.parquet')\n",
    "sa = sa[sa['treatment']==1]\n",
    "sa = sa[['follower_id']].rename(columns={'follower_id':'id'})\n",
    "sa = sa.sample(frac = 1).reset_index(drop = True)\n",
    "sa"
   ]
  },
  {
   "cell_type": "code",
   "execution_count": 12,
   "id": "3bb7699b",
   "metadata": {},
   "outputs": [],
   "source": [
    "sa.to_csv(f'../../data/03-experiment/KE/ads/0-twitter_api/input_batch2.txt', \n",
    "          header = None, index = None, sep = ',')"
   ]
  },
  {
   "cell_type": "markdown",
   "id": "7a72ec77",
   "metadata": {},
   "source": [
    "## Saturation"
   ]
  },
  {
   "cell_type": "code",
   "execution_count": null,
   "id": "da87af50",
   "metadata": {},
   "outputs": [],
   "source": [
    "import random\n",
    "random.seed(123)\n",
    "sa['rand'] = [random.uniform(0, 1) for k in sa.index]"
   ]
  },
  {
   "cell_type": "code",
   "execution_count": 19,
   "id": "468d690f",
   "metadata": {},
   "outputs": [],
   "source": [
    "sa_1 = sa[sa['rand'] < 1/7]\n",
    "sa_1 = sa_1[['id']]\n",
    "sa_1.to_csv(f'../../data/03-experiment/KE/ads/0-twitter_api/input_1.txt', header = None, index = None, sep = ',')"
   ]
  },
  {
   "cell_type": "code",
   "execution_count": 20,
   "id": "b58ef8e0",
   "metadata": {},
   "outputs": [],
   "source": [
    "sa_2 = sa[(sa['rand'] > 1/7) & (sa['rand'] < 3/7)]\n",
    "sa_2 = sa_2[['id']]\n",
    "sa_2.to_csv(f'../../data/03-experiment/KE/ads/0-twitter_api/input_strong_abs_2.txt', header = None, index = None, sep = ',')"
   ]
  },
  {
   "cell_type": "code",
   "execution_count": 21,
   "id": "b317feec",
   "metadata": {},
   "outputs": [],
   "source": [
    "sa_3 = sa[(sa['rand'] > 3/7)]\n",
    "sa_3 = sa_3[['id']]\n",
    "sa_3.to_csv(f'../../data/03-experiment/KE/ads/0-twitter_api/input_strong_abs_3.txt', header = None, index = None, sep = ',')"
   ]
  },
  {
   "cell_type": "code",
   "execution_count": null,
   "id": "86f906f2",
   "metadata": {},
   "outputs": [],
   "source": [
    "sa = pd.read_parquet('../../data/02-randomize/KE/04-stratification/integrate/followers_randomized_strong_weak.parquet')\n",
    "sa = sa[sa['treatment']==1]\n",
    "sa = sa[['follower_id']].rename(columns={'follower_id':'id'})\n",
    "#sa.to_csv(f'../../data/03-experiment/KE/ads/0-twitter_api/input_strong.txt', header = None, index = None, sep = ',')"
   ]
  }
 ],
 "metadata": {
  "kernelspec": {
   "display_name": "Python 3 (ipykernel)",
   "language": "python",
   "name": "python3"
  },
  "language_info": {
   "codemirror_mode": {
    "name": "ipython",
    "version": 3
   },
   "file_extension": ".py",
   "mimetype": "text/x-python",
   "name": "python",
   "nbconvert_exporter": "python",
   "pygments_lexer": "ipython3",
   "version": "3.9.12"
  }
 },
 "nbformat": 4,
 "nbformat_minor": 5
}
