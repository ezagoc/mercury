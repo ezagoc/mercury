{
 "cells": [
  {
   "cell_type": "code",
   "execution_count": 1,
   "id": "3b83f2bb",
   "metadata": {},
   "outputs": [
    {
     "data": {
      "text/plain": [
       "19512"
      ]
     },
     "execution_count": 1,
     "metadata": {},
     "output_type": "execute_result"
    }
   ],
   "source": [
    "import tweetple\n",
    "\n",
    "from tweetple import TweetPle\n",
    "\n",
    "import pandas as pd\n",
    "import os\n",
    "import glob\n",
    "import yaml\n",
    "import time\n",
    "import numpy as np\n",
    "\n",
    "import warnings\n",
    "warnings.simplefilter(action='ignore', category=FutureWarning)\n",
    "\n",
    "import sys\n",
    "sys.path.insert(0, '../../../src/utils')\n",
    "#from funcs import GetPosts, get_participants_facebook, get_participants_twitter\n",
    "from tqdm import tqdm\n",
    "sys.path.insert(0, '../../../src/utils')\n",
    "#from general import *\n",
    "\n",
    "def get_path(country, week, type_fol):\n",
    "    base = f'../../data/03-experiment/{country}/'\n",
    "    path_tw = base + f'treatment/followers/00-raw/tweets/{week}/'\n",
    "    path_abs =  base + f'treatment/followers/00-raw/tweets_absent/{week}/'\n",
    "    rand = f'../../data/02-randomize/{country}/04-stratification/integrate/followers_randomized_{type_fol}.parquet'\n",
    "    baseline = base + 'baseline/00-raw/followers/tweets/'\n",
    "    baseline2 = base + 'baseline/00-raw/followers/tweets_absent/'\n",
    "    return path_tw, base, rand, baseline, baseline2, path_abs\n",
    "\n",
    "\n",
    "path_tw, base, rand, baseline, baseline2, path_abs = get_path('KE', 'february0', 'abs')\n",
    "\n",
    "# What path are you choosing as output? Change it here:\n",
    "path_s = path_abs\n",
    "\n",
    "df = pd.read_parquet(rand)\n",
    "\n",
    "from os import listdir\n",
    "from os.path import isfile, join\n",
    "mypath = path_s\n",
    "id_final = df['username'].tolist()\n",
    "onlyfiles = [f for f in listdir(mypath) if isfile(join(mypath, f))]\n",
    "onlyfiles = [f.replace('.parquet', '') for f in onlyfiles]\n",
    "#ids de tweets\n",
    "#ids_tweets = list(df.id)\n",
    "ids = list(set(id_final).difference(onlyfiles))\n",
    "ids.sort()\n",
    "len(ids)"
   ]
  },
  {
   "cell_type": "code",
   "execution_count": 8,
   "id": "f45655af",
   "metadata": {},
   "outputs": [
    {
     "name": "stderr",
     "output_type": "stream",
     "text": [
      "100%|██████████████████████████████████████████████████████████████████████████| 24100/24100 [9:08:38<00:00,  1.37s/it]\n"
     ]
    }
   ],
   "source": [
    "#Bearer Token de Academic Twitter API\n",
    "bearer_token = \"AAAAAAAAAAAAAAAAAAAAAPLTMQEAAAAACSsXWirDTJJ6LdSIWv2nIphsXBk%3D3jSj3V6PeCNcSKYQ54IK46adw1Q3m6AGvbllvkzwGbXZ6WD3Fh\"\n",
    "## BASELINE DATES\n",
    "#start =  '2022-08-04T00:00:00Z'\n",
    "#end = '2022-12-04T00:00:00Z'\n",
    "\n",
    "### December0\n",
    "#start =  '2022-12-04T00:00:00Z'\n",
    "#end = '2022-12-18T00:00:00Z'\n",
    "\n",
    "### December1\n",
    "#start =  '2022-12-18T00:00:00Z'\n",
    "#end = '2023-01-02T00:00:00Z'\n",
    "\n",
    "### January 0\n",
    "#start =  '2023-01-02T00:00:00Z'\n",
    "#end = '2023-01-15T00:00:00Z'\n",
    "\n",
    "### January 1\n",
    "#start =  '2023-01-15T00:00:00Z'\n",
    "#end = '2023-01-29T00:00:00Z'\n",
    "\n",
    "### February 0\n",
    "start =  '2023-01-29T00:00:00Z'\n",
    "end = '2023-02-05T00:00:00Z'\n",
    "\n",
    "TweetPle.TweetStreamer(ids[0:24100], bearer_token, path_save = path_s, start_time = start, end_time = end).main()"
   ]
  },
  {
   "cell_type": "code",
   "execution_count": null,
   "id": "a1aa9fe9",
   "metadata": {},
   "outputs": [],
   "source": []
  }
 ],
 "metadata": {
  "kernelspec": {
   "display_name": "Python 3 (ipykernel)",
   "language": "python",
   "name": "python3"
  },
  "language_info": {
   "codemirror_mode": {
    "name": "ipython",
    "version": 3
   },
   "file_extension": ".py",
   "mimetype": "text/x-python",
   "name": "python",
   "nbconvert_exporter": "python",
   "pygments_lexer": "ipython3",
   "version": "3.9.12"
  }
 },
 "nbformat": 4,
 "nbformat_minor": 5
}
