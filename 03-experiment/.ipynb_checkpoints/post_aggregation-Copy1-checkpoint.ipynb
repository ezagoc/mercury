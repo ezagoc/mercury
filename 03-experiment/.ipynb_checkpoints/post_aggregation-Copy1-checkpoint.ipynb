{
 "cells": [
  {
   "cell_type": "code",
   "execution_count": 1,
   "id": "5484a9b5",
   "metadata": {},
   "outputs": [],
   "source": [
    "import pandas as pd\n",
    "import os\n",
    "import glob\n",
    "import numpy as np\n",
    "import time\n",
    "from os import listdir\n",
    "from os.path import isfile, join\n",
    "from tqdm import tqdm\n",
    "\n",
    "def get_path(country, week):\n",
    "    base = f'../../data/03-experiment/{country}/'\n",
    "    path_tw = base + f'treatment/followers/00-raw/tweets/{week}/'\n",
    "    rand = f'../../data/02-randomize/{country}/04-stratification/integrate/followers_randomized.parquet'\n",
    "    baseline = base + 'baseline/00-raw/followers/tweets/'\n",
    "    agg = base + f'treatment/followers/01-preprocess/'\n",
    "    agg_base = base + 'baseline/01-preprocess/followers/'\n",
    "    return path_tw, base, rand, baseline, agg, agg_base\n",
    "\n",
    "df_vars = ['id', 'handle', 'author_id', 'created_at', 'text', 'lang', 'referenced_tweets',\n",
    "           'entities.urls','public_metrics.like_count', 'public_metrics.quote_count', \n",
    "           'public_metrics.reply_count', 'public_metrics.retweet_count']"
   ]
  },
  {
   "cell_type": "markdown",
   "id": "7bc65210",
   "metadata": {},
   "source": [
    "### Aggregating baseline posts"
   ]
  },
  {
   "cell_type": "code",
   "execution_count": 2,
   "id": "c1696304",
   "metadata": {},
   "outputs": [
    {
     "data": {
      "text/plain": [
       "82465"
      ]
     },
     "execution_count": 2,
     "metadata": {},
     "output_type": "execute_result"
    }
   ],
   "source": [
    "### \n",
    "path_tw, base, rand, baseline, agg, agg_base = get_path('KE', 'december1')\n",
    "onlyfiles = [f for f in listdir(baseline) if isfile(join(baseline, f))]\n",
    "onlyfiles = [f.replace('.parquet', '') for f in onlyfiles]\n",
    "onlyfiles.sort()\n",
    "len(onlyfiles)"
   ]
  },
  {
   "cell_type": "code",
   "execution_count": null,
   "id": "a590bc33",
   "metadata": {},
   "outputs": [
    {
     "name": "stderr",
     "output_type": "stream",
     "text": [
      " 32%|█████████████████████████▏                                                     | 319/1000 [00:12<00:38, 17.83it/s]"
     ]
    }
   ],
   "source": [
    "for i in range(9, 83):\n",
    "    df_final = pd.DataFrame()\n",
    "    time.sleep(5)\n",
    "    a = 1000*i \n",
    "    b = 1000*(i+1)\n",
    "    for e in tqdm(onlyfiles[a:b]):\n",
    "        df = pd.read_parquet(f'{baseline}{e}.parquet')\n",
    "        df_final = pd.concat([df_final, df])\n",
    "    df_final = df_final[df_vars]\n",
    "    df_final = df_final.reset_index(drop=True)\n",
    "    print(i, a, b)\n",
    "    df_final.to_parquet(f'{agg_base}intermediate/baseline_{i}.parquet.gzip', compression = 'gzip')\n",
    "    \n",
    "df_final = pd.DataFrame()\n",
    "for i in tqdm(onlyfiles[82000:]):\n",
    "    df = pd.read_parquet(f'{baseline}{i}.parquet')\n",
    "    df_final = pd.concat([df_final, df])\n",
    "\n",
    "df_final = df_final[df_vars]\n",
    "df_final = df_final.reset_index(drop=True)\n",
    "df_final.to_parquet(f'{agg_base}intermediate/baseline_83.parquet.gzip', compression = 'gzip')"
   ]
  },
  {
   "cell_type": "code",
   "execution_count": 4,
   "id": "7ccd7ce7",
   "metadata": {},
   "outputs": [
    {
     "name": "stderr",
     "output_type": "stream",
     "text": [
      "100%|██████████████████████████████████████████████████████████████████████████████████| 15/15 [00:16<00:00,  1.08s/it]\n"
     ]
    }
   ],
   "source": [
    "df_final = pd.DataFrame()\n",
    "for i in tqdm(onlyfiles[9200:]):\n",
    "    df = pd.read_parquet(f'{baseline}{i}.parquet')\n",
    "    #df = df[df['created_at'] > '2022-08-03T00:00:00Z'].reset_index(drop=True)\n",
    "    df_final = pd.concat([df_final, df])\n",
    "\n",
    "df_final = df_final[df_vars]\n",
    "df_final = df_final.reset_index(drop=True)\n",
    "df_final.to_parquet(f'{agg_base}intermediate/baseline_94.parquet.gzip', compression = 'gzip')"
   ]
  },
  {
   "cell_type": "code",
   "execution_count": 2,
   "id": "65005e50",
   "metadata": {},
   "outputs": [
    {
     "data": {
      "text/plain": [
       "7243"
      ]
     },
     "execution_count": 2,
     "metadata": {},
     "output_type": "execute_result"
    }
   ],
   "source": [
    "### Baseline KE absent\n",
    "path_tw, base, rand, baseline, baseline2, path_abs, agg, agg_base = get_path('KE', 'december1')\n",
    "onlyfiles = [f for f in listdir(baseline2) if isfile(join(baseline2, f))]\n",
    "onlyfiles = [f.replace('.parquet', '') for f in onlyfiles]\n",
    "onlyfiles.sort()\n",
    "len(onlyfiles)"
   ]
  },
  {
   "cell_type": "code",
   "execution_count": null,
   "id": "ff2d459b",
   "metadata": {},
   "outputs": [],
   "source": [
    "for i in range(0, 36):\n",
    "    df_final = pd.DataFrame()\n",
    "    time.sleep(5)\n",
    "    a = 200*i \n",
    "    b = 200*(i+1)\n",
    "    for e in tqdm(onlyfiles[a:b]):\n",
    "        df = pd.read_parquet(f'{baseline2}{e}.parquet')\n",
    "        df_final = pd.concat([df_final, df])\n",
    "    df_final = df_final[df_vars]\n",
    "    df_final = df_final.reset_index(drop=True)\n",
    "    print(i, a, b)\n",
    "    df_final.to_parquet(f'{agg_base}intermediate_abs/baseline_{i}.parquet.gzip', compression = 'gzip')"
   ]
  },
  {
   "cell_type": "code",
   "execution_count": 5,
   "id": "8e2f59ca",
   "metadata": {},
   "outputs": [
    {
     "name": "stderr",
     "output_type": "stream",
     "text": [
      "100%|██████████| 43/43 [00:00<00:00, 92.76it/s] \n"
     ]
    }
   ],
   "source": [
    "df_final = pd.DataFrame()\n",
    "for i in tqdm(onlyfiles[7200:]):\n",
    "    df = pd.read_parquet(f'{baseline2}{i}.parquet')\n",
    "    #df = df[df['created_at'] > '2022-08-03T00:00:00Z'].reset_index(drop=True)\n",
    "    df_final = pd.concat([df_final, df])\n",
    "\n",
    "df_final = df_final[df_vars]\n",
    "df_final = df_final.reset_index(drop=True)\n",
    "df_final.to_parquet(f'{agg_base}intermediate_abs/baseline_36.parquet.gzip', compression = 'gzip')"
   ]
  },
  {
   "cell_type": "code",
   "execution_count": 6,
   "id": "1a35d84c",
   "metadata": {},
   "outputs": [
    {
     "data": {
      "text/plain": [
       "46912"
      ]
     },
     "execution_count": 6,
     "metadata": {},
     "output_type": "execute_result"
    }
   ],
   "source": [
    "# Baseline SA \n",
    "path_tw, base, rand, baseline, baseline2, path_abs, agg, agg_base = get_path('SA', 'december1')\n",
    "onlyfiles = [f for f in listdir(baseline) if isfile(join(baseline, f))]\n",
    "onlyfiles = [f.replace('.parquet', '') for f in onlyfiles]\n",
    "onlyfiles.sort()\n",
    "len(onlyfiles)"
   ]
  },
  {
   "cell_type": "code",
   "execution_count": null,
   "id": "afc3b3c0",
   "metadata": {},
   "outputs": [],
   "source": [
    "for i in range(0, 155):\n",
    "    df_final = pd.DataFrame()\n",
    "    time.sleep(7)\n",
    "    a = 300*i \n",
    "    b = 300*(i+1)\n",
    "    for e in tqdm(onlyfiles[a:b]):\n",
    "        df = pd.read_parquet(f'{baseline}{e}.parquet')\n",
    "        df = df[df['created_at'] > '2022-08-03T00:00:00Z'].reset_index(drop=True)\n",
    "        df_final = pd.concat([df_final, df])\n",
    "    df_final = df_final[df_vars]\n",
    "    df_final = df_final.reset_index(drop=True)\n",
    "    print(i, a, b)\n",
    "    df_final.to_parquet(f'{agg_base}intermediate/baseline_{i}.parquet.gzip', compression = 'gzip')"
   ]
  },
  {
   "cell_type": "code",
   "execution_count": 10,
   "id": "a102b8d5",
   "metadata": {},
   "outputs": [
    {
     "name": "stderr",
     "output_type": "stream",
     "text": [
      "100%|██████████| 412/412 [00:14<00:00, 28.35it/s]\n"
     ]
    }
   ],
   "source": [
    "df_final = pd.DataFrame()\n",
    "for i in tqdm(onlyfiles[46500:]):\n",
    "    df = pd.read_parquet(f'{baseline}{i}.parquet')\n",
    "    df = df[df['created_at'] > '2022-08-03T00:00:00Z'].reset_index(drop=True)\n",
    "    df_final = pd.concat([df_final, df])\n",
    "\n",
    "df_final = df_final[df_vars]\n",
    "df_final = df_final.reset_index(drop=True)\n",
    "df_final.to_parquet(f'{agg_base}intermediate/baseline_155.parquet.gzip', compression = 'gzip')"
   ]
  },
  {
   "cell_type": "code",
   "execution_count": 3,
   "id": "b42713c7",
   "metadata": {},
   "outputs": [
    {
     "data": {
      "text/plain": [
       "10087"
      ]
     },
     "execution_count": 3,
     "metadata": {},
     "output_type": "execute_result"
    }
   ],
   "source": [
    "# Baseline SA \n",
    "path_tw, base, rand, baseline, baseline2, path_abs, agg, agg_base = get_path('SA', 'december1')\n",
    "onlyfiles = [f for f in listdir(baseline2) if isfile(join(baseline2, f))]\n",
    "onlyfiles = [f.replace('.parquet', '') for f in onlyfiles]\n",
    "onlyfiles.sort()\n",
    "len(onlyfiles)"
   ]
  },
  {
   "cell_type": "code",
   "execution_count": 5,
   "id": "1e0e1772",
   "metadata": {},
   "outputs": [],
   "source": [
    "import sys\n",
    "sys.path.insert(0, '../../src/utils')\n",
    "from funcs import PreprocessTweets\n",
    "def compute_engagement_tw(engage):\n",
    "    engage[\"total_reactions\"] = engage[\n",
    "        [x for x in engage.columns if \"public_metrics\" in x]\n",
    "    ].sum(axis=\"columns\")\n",
    "    engage[\"total_comments\"] = engage[\n",
    "        [\"public_metrics.reply_count\", \"public_metrics.quote_count\"]\n",
    "    ].sum(axis=\"columns\")\n",
    "    engage.rename(\n",
    "        {\"public_metrics.retweet_count\": \"total_shares\"}, axis=1, inplace=True\n",
    "    )\n",
    "    return(engage)\n",
    "\n",
    "def has_items_tw(df):\n",
    "\n",
    "    has_items = PreprocessTweets(df).preprocess()\n",
    "    has_items.drop(['entities.urls', 'description', 'display_url',\n",
    "    'end', 'expanded_url', 'images', 'media_key', 'start', \n",
    "    'status', 'title', 'unwound_url', 'url'], axis=1, inplace=True)\n",
    "    \n",
    "    return(has_items)"
   ]
  },
  {
   "cell_type": "code",
   "execution_count": null,
   "id": "17a02277",
   "metadata": {},
   "outputs": [],
   "source": [
    "for i in range(0, 25):\n",
    "    df_final = pd.DataFrame()\n",
    "    a = 400*i \n",
    "    b = 400*(i+1)\n",
    "    for e in tqdm(onlyfiles[a:b]):\n",
    "        df = pd.read_parquet(f'{baseline2}{e}.parquet')\n",
    "        df = df[df['created_at'] > '2022-08-03T00:00:00Z'].reset_index(drop=True)\n",
    "        df_final = pd.concat([df_final, df])\n",
    "    df_final = df_final[df_vars]\n",
    "    df_final = df_final.reset_index(drop=True)\n",
    "    df_final = compute_engagement_tw(df_final)\n",
    "    df_final = has_items_tw(df_final)\n",
    "    print(i, a, b)\n",
    "    df_final.to_parquet(f'{agg_base}intermediate_abs/baseline_{i}.parquet.gzip', compression = 'gzip')"
   ]
  },
  {
   "cell_type": "code",
   "execution_count": 8,
   "id": "fc277df1",
   "metadata": {},
   "outputs": [
    {
     "name": "stderr",
     "output_type": "stream",
     "text": [
      "100%|██████████| 87/87 [00:00<00:00, 96.83it/s] \n"
     ]
    }
   ],
   "source": [
    "df_final = pd.DataFrame()\n",
    "for i in tqdm(onlyfiles[10000:]):\n",
    "    df = pd.read_parquet(f'{baseline2}{i}.parquet')\n",
    "    df = df[df['created_at'] > '2022-08-03T00:00:00Z'].reset_index(drop=True)\n",
    "    df_final = pd.concat([df_final, df])\n",
    "\n",
    "df_final = df_final[df_vars]\n",
    "df_final = compute_engagement_tw(df_final)\n",
    "df_final = has_items_tw(df_final)\n",
    "df_final = df_final.reset_index(drop=True)\n",
    "df_final.to_parquet(f'{agg_base}intermediate_abs/baseline_25.parquet.gzip', compression = 'gzip')"
   ]
  }
 ],
 "metadata": {
  "kernelspec": {
   "display_name": "Python 3 (ipykernel)",
   "language": "python",
   "name": "python3"
  },
  "language_info": {
   "codemirror_mode": {
    "name": "ipython",
    "version": 3
   },
   "file_extension": ".py",
   "mimetype": "text/x-python",
   "name": "python",
   "nbconvert_exporter": "python",
   "pygments_lexer": "ipython3",
   "version": "3.9.12"
  },
  "vscode": {
   "interpreter": {
    "hash": "76d7c06053c3456e5600312cec90888656fc0ed30c03d8425b9dac6e4fc8e014"
   }
  }
 },
 "nbformat": 4,
 "nbformat_minor": 5
}
