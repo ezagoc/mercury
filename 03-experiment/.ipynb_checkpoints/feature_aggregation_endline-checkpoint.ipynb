{
 "cells": [
  {
   "cell_type": "code",
   "execution_count": 1,
   "metadata": {},
   "outputs": [
    {
     "ename": "NameError",
     "evalue": "name 'base' is not defined",
     "output_type": "error",
     "traceback": [
      "\u001b[1;31m---------------------------------------------------------------------------\u001b[0m",
      "\u001b[1;31mNameError\u001b[0m                                 Traceback (most recent call last)",
      "Input \u001b[1;32mIn [1]\u001b[0m, in \u001b[0;36m<cell line: 61>\u001b[1;34m()\u001b[0m\n\u001b[0;32m     56\u001b[0m     df_no_rt_agg\u001b[38;5;241m.\u001b[39mrename(columns \u001b[38;5;241m=\u001b[39m {\u001b[38;5;124m'\u001b[39m\u001b[38;5;124mhandle\u001b[39m\u001b[38;5;124m'\u001b[39m: \u001b[38;5;124m'\u001b[39m\u001b[38;5;124musername\u001b[39m\u001b[38;5;124m'\u001b[39m, \n\u001b[0;32m     57\u001b[0m                        \u001b[38;5;124m'\u001b[39m\u001b[38;5;124mauthor_id\u001b[39m\u001b[38;5;124m'\u001b[39m:\u001b[38;5;124m'\u001b[39m\u001b[38;5;124mfollower_id\u001b[39m\u001b[38;5;124m'\u001b[39m}, inplace \u001b[38;5;241m=\u001b[39m \u001b[38;5;28;01mTrue\u001b[39;00m)\n\u001b[0;32m     59\u001b[0m     \u001b[38;5;28;01mreturn\u001b[39;00m df_rt_agg, df_no_rt_agg\n\u001b[1;32m---> 61\u001b[0m df_omu \u001b[38;5;241m=\u001b[39m pd\u001b[38;5;241m.\u001b[39mread_parquet(\u001b[38;5;124mf\u001b[39m\u001b[38;5;124m'\u001b[39m\u001b[38;5;132;01m{\u001b[39;00mbase\u001b[38;5;132;01m}\u001b[39;00m\u001b[38;5;124mtreatment/followers/00-raw/tweets/march/omurung2.parquet\u001b[39m\u001b[38;5;124m'\u001b[39m)\n\u001b[0;32m     62\u001b[0m df_omu \u001b[38;5;241m=\u001b[39m df_omu[[\u001b[38;5;124m'\u001b[39m\u001b[38;5;124mid\u001b[39m\u001b[38;5;124m'\u001b[39m, \u001b[38;5;124m'\u001b[39m\u001b[38;5;124mpublic_metrics.retweet_count\u001b[39m\u001b[38;5;124m'\u001b[39m]]\n\u001b[0;32m     63\u001b[0m df_omu\u001b[38;5;241m.\u001b[39mrename(columns \u001b[38;5;241m=\u001b[39m {\u001b[38;5;124m'\u001b[39m\u001b[38;5;124mpublic_metrics.retweet_count\u001b[39m\u001b[38;5;124m'\u001b[39m: \u001b[38;5;124m'\u001b[39m\u001b[38;5;124mtotal_shares\u001b[39m\u001b[38;5;124m'\u001b[39m}, inplace \u001b[38;5;241m=\u001b[39m \u001b[38;5;28;01mTrue\u001b[39;00m)\n",
      "\u001b[1;31mNameError\u001b[0m: name 'base' is not defined"
     ]
    }
   ],
   "source": [
    "import pandas as pd\n",
    "import os\n",
    "import glob\n",
    "import numpy as np\n",
    "import warnings\n",
    "warnings.simplefilter(action='ignore', category = FutureWarning)\n",
    "from tqdm import tqdm\n",
    "\n",
    "def get_path(country, week = 'march'):\n",
    "    base = f'../../data/03-experiment/{country}/'\n",
    "    path_tw = base + f'treatment/followers/00-raw/tweets/{week}/'\n",
    "    rand = f'../../data/02-randomize/{country}/04-stratification/integrate/followers_randomized.parquet'\n",
    "    baseline = base + 'baseline/00-raw/followers/tweets/'\n",
    "    agg = base + f'treatment/followers/01-preprocess/'\n",
    "    agg_base = base + 'baseline/01-preprocess/followers/'\n",
    "    return path_tw, base, rand, baseline, agg, agg_base\n",
    "\n",
    "\n",
    "def summ_followers2(df):\n",
    "    metrics = [col for col in df.columns if 'total_' in col]\n",
    "    cols = metrics + ['verifiability', 'true']\n",
    "\n",
    "    df_agg = df[['handle', 'author_id'] + \n",
    "        cols].groupby(['handle', 'author_id']).sum().reset_index()\n",
    "\n",
    "    df_count = df[['handle', 'author_id']].groupby(['author_id']).count()\n",
    "    df_count.rename({'handle': 'n_posts'}, axis=1, inplace=True)\n",
    "\n",
    "    df_agg = df_agg.merge(df_count, on=['author_id'], how='left')\n",
    "\n",
    "    return df_agg\n",
    "\n",
    "def divide_and_conquer(df_final):\n",
    "    df_RT = df_final[(df_final['text'].str.contains('RT @', case=True, regex=False)) & \n",
    "                 (df_final['total_comments'] == 0)]\n",
    "    df_RT = df_RT.reset_index(drop=True)\n",
    "\n",
    "    df_no_rt = df_final[(~df_final['text'].str.contains('RT @', \n",
    "                    case=True, regex=False)) | \n",
    "                    (df_final['total_comments'] > 0)].reset_index(drop=True)\n",
    "    \n",
    "    df_rt_agg = summ_followers2(df_RT).reset_index(drop=True)\n",
    "    df_no_rt_agg = summ_followers2(df_no_rt).reset_index(drop=True)\n",
    "\n",
    "    cols = [col for col in df_rt_agg.columns if 'total_' in col] + ['verifiability', 'true', 'n_posts']\n",
    "    df_rt_agg.rename(columns = \n",
    "        {col: col + '_rt' for col in df_rt_agg.columns if col in cols}, \n",
    "        inplace=True)\n",
    "\n",
    "    df_no_rt_agg.rename(columns = \n",
    "        {col: col + '_no_rt' for col in df_no_rt_agg.columns if col in cols}, \n",
    "        inplace=True)\n",
    "\n",
    "    df_rt_agg.rename(columns = {'handle': 'username', \n",
    "                       'author_id':'follower_id'}, inplace = True)\n",
    "    df_no_rt_agg.rename(columns = {'handle': 'username', \n",
    "                       'author_id':'follower_id'}, inplace = True)\n",
    "    \n",
    "    return df_rt_agg, df_no_rt_agg\n"
   ]
  },
  {
   "cell_type": "code",
   "execution_count": 23,
   "metadata": {},
   "outputs": [],
   "source": [
    "country = 'KE'\n",
    "base = pd.read_parquet(f'../../data/04-analysis/{country}/baseline_rt.parquet')\n",
    "base.rename(columns = {'shares_base': 'total_shares_base', \n",
    "                       'reactions_base':'total_reactions_base',\n",
    "                       'comments_base':'total_comments_base'}, inplace = True)\n",
    "\n",
    "if country == 'SA':\n",
    "    N_ARCHS = 25\n",
    "else:\n",
    "    N_ARCHS = 58"
   ]
  },
  {
   "cell_type": "markdown",
   "metadata": {},
   "source": [
    "## Agreggate 1st month: \n",
    "\n",
    "dates:\n",
    "start =  '2023-03-12T00:00:00Z'\n",
    "end = '2023-04-09T00:00:00Z'\n",
    "\n",
    "So:\n",
    "\n",
    "week1-2 (stage1) = '2023-03-13T00:00:00Z' to '2023-03-27T00:00:00Z'\n",
    "week3-4 (stage2) = '2023-03-27T00:00:00Z' to '2023-04-09T00:00:00Z'"
   ]
  },
  {
   "cell_type": "code",
   "execution_count": 3,
   "metadata": {},
   "outputs": [
    {
     "name": "stdout",
     "output_type": "stream",
     "text": [
      "<class 'pandas.core.frame.DataFrame'>\n",
      "RangeIndex: 10632882 entries, 0 to 10632881\n",
      "Data columns (total 18 columns):\n",
      " #   Column                      Dtype  \n",
      "---  ------                      -----  \n",
      " 0   id                          object \n",
      " 1   handle                      object \n",
      " 2   author_id                   object \n",
      " 3   created_at                  object \n",
      " 4   text                        object \n",
      " 5   lang                        object \n",
      " 6   referenced_tweets           object \n",
      " 7   public_metrics.like_count   int64  \n",
      " 8   public_metrics.quote_count  int64  \n",
      " 9   public_metrics.reply_count  int64  \n",
      " 10  total_shares                int64  \n",
      " 11  total_reactions             int64  \n",
      " 12  total_comments              int64  \n",
      " 13  has_url                     int32  \n",
      " 14  has_image                   int32  \n",
      " 15  has_text                    int32  \n",
      " 16  verifiability               float64\n",
      " 17  true                        float64\n",
      "dtypes: float64(2), int32(3), int64(6), object(7)\n",
      "memory usage: 1.3+ GB\n"
     ]
    }
   ],
   "source": [
    "# Read the files\n",
    "path_tw, base, rand, baseline, agg, agg_base = get_path(country, 'march')\n",
    "\n",
    "df_final = pd.DataFrame()\n",
    "for i in range(0, N_ARCHS):\n",
    "    df = pd.read_parquet(f'{agg}predicted/march_{i}.parquet.gzip')\n",
    "    df_final = pd.concat([df_final, df])\n",
    "\n",
    "df_final = df_final.reset_index(drop=True)\n",
    "df_final.info()"
   ]
  },
  {
   "cell_type": "code",
   "execution_count": 17,
   "metadata": {},
   "outputs": [],
   "source": [
    "# Only run for KE\n",
    "#df_omu = pd.read_parquet(f'{base}treatment/followers/00-raw/tweets/march/omurung2.parquet')\n",
    "#df_omu = df_omu[['id', 'public_metrics.retweet_count']]\n",
    "#df_omu.rename(columns = {'public_metrics.retweet_count': 'total_shares'}, inplace = True)\n",
    "\n",
    "df_check = df_final[df_final['handle'] == 'omurung2']\n",
    "df_check = df_check.drop(['total_reactions', 'total_shares'], axis=1)\n",
    "df_check = df_check.merge(df_omu, on='id', how='left')\n",
    "df_check['total_reactions'] = (df_check['public_metrics.like_count'] + \n",
    "                               df_check['public_metrics.quote_count'] + \n",
    "                               df_check['total_shares'])\n",
    "\n",
    "df_final1 = df_final[df_final['handle'] != 'omurung2']\n",
    "df_final = pd.concat([df_final1, df_check]).reset_index(drop=True)"
   ]
  },
  {
   "cell_type": "code",
   "execution_count": 20,
   "metadata": {},
   "outputs": [],
   "source": [
    "df_final['stage'] = np.where((df_final['created_at'] > '2023-03-13') & (df_final['created_at'] < '2023-03-27'), \n",
    "                             1, 2)\n",
    "metrics = [col for col in df_final.columns if 'total_' in col]\n",
    "cols = metrics + ['verifiability', 'true']"
   ]
  },
  {
   "cell_type": "code",
   "execution_count": 21,
   "metadata": {},
   "outputs": [],
   "source": [
    "stage1 = df_final[df_final['stage'] == 1]\n",
    "stage1_agg = summ_followers2(stage1)\n",
    "stage1_agg.rename(columns = {'handle':'username', \n",
    "                             'author_id':'follower_id'}, inplace = True)\n",
    "df_rt_agg, df_no_rt_agg = divide_and_conquer(stage1)"
   ]
  },
  {
   "cell_type": "code",
   "execution_count": 24,
   "metadata": {},
   "outputs": [],
   "source": [
    "base = base.merge(df_rt_agg, on=['follower_id', 'username'], \n",
    "                  how='left')\n",
    "\n",
    "base = base.merge(df_no_rt_agg, on=['follower_id', 'username'], \n",
    "                  how='left')\n",
    "\n",
    "base = base.merge(stage1_agg, on=['follower_id', 'username'], \n",
    "                  how='left')"
   ]
  },
  {
   "cell_type": "code",
   "execution_count": 25,
   "metadata": {},
   "outputs": [
    {
     "name": "stdout",
     "output_type": "stream",
     "text": [
      "<class 'pandas.core.frame.DataFrame'>\n",
      "Int64Index: 102534 entries, 0 to 102533\n",
      "Data columns (total 48 columns):\n",
      " #   Column                      Non-Null Count   Dtype  \n",
      "---  ------                      --------------   -----  \n",
      " 0   username                    102534 non-null  object \n",
      " 1   follower_id                 102534 non-null  object \n",
      " 2   ads_treatment               102534 non-null  float64\n",
      " 3   strat_block1                102534 non-null  object \n",
      " 4   strat_block2                102534 non-null  object \n",
      " 5   c_t_strong_total            102534 non-null  int32  \n",
      " 6   c_t_weak_total              102534 non-null  int32  \n",
      " 7   c_t_neither_total           102534 non-null  int32  \n",
      " 8   t_strong                    102534 non-null  float64\n",
      " 9   t_weak                      102534 non-null  float64\n",
      " 10  t_neither                   102534 non-null  float64\n",
      " 11  total_shares_base           102534 non-null  float64\n",
      " 12  total_reactions_base        102534 non-null  float64\n",
      " 13  total_comments_base         102534 non-null  float64\n",
      " 14  verifiability_base          102534 non-null  float64\n",
      " 15  n_posts_base                102534 non-null  float64\n",
      " 16  true_base                   102534 non-null  float64\n",
      " 17  bot_account                 102534 non-null  int32  \n",
      " 18  total_shares_rt_base        102534 non-null  float64\n",
      " 19  total_reactions_rt_base     102534 non-null  float64\n",
      " 20  total_comments_rt_base      102534 non-null  float64\n",
      " 21  verifiability_rt_base       102534 non-null  float64\n",
      " 22  true_rt_base                102534 non-null  float64\n",
      " 23  n_posts_rt_base             102534 non-null  float64\n",
      " 24  total_shares_no_rt_base     102534 non-null  float64\n",
      " 25  total_reactions_no_rt_base  102534 non-null  float64\n",
      " 26  total_comments_no_rt_base   102534 non-null  float64\n",
      " 27  verifiability_no_rt_base    102534 non-null  float64\n",
      " 28  true_no_rt_base             102534 non-null  float64\n",
      " 29  n_posts_no_rt_base          102534 non-null  float64\n",
      " 30  total_shares_rt             40731 non-null   float64\n",
      " 31  total_reactions_rt          40731 non-null   float64\n",
      " 32  total_comments_rt           40731 non-null   float64\n",
      " 33  verifiability_rt            40731 non-null   float64\n",
      " 34  true_rt                     40731 non-null   float64\n",
      " 35  n_posts_rt                  40731 non-null   float64\n",
      " 36  total_shares_no_rt          44459 non-null   float64\n",
      " 37  total_reactions_no_rt       44459 non-null   float64\n",
      " 38  total_comments_no_rt        44459 non-null   float64\n",
      " 39  verifiability_no_rt         44459 non-null   float64\n",
      " 40  true_no_rt                  44459 non-null   float64\n",
      " 41  n_posts_no_rt               44459 non-null   float64\n",
      " 42  total_shares                52682 non-null   float64\n",
      " 43  total_reactions             52682 non-null   float64\n",
      " 44  total_comments              52682 non-null   float64\n",
      " 45  verifiability               52682 non-null   float64\n",
      " 46  true                        52682 non-null   float64\n",
      " 47  n_posts                     52682 non-null   float64\n",
      "dtypes: float64(40), int32(4), object(4)\n",
      "memory usage: 36.8+ MB\n"
     ]
    }
   ],
   "source": [
    "base.info()"
   ]
  },
  {
   "cell_type": "code",
   "execution_count": 26,
   "metadata": {},
   "outputs": [],
   "source": [
    "cols_base = ([col for col in base.columns if '_rt' in col] + \n",
    "             [col for col in base.columns if '_no_rt' in col] + \n",
    "             cols + ['n_posts'])\n",
    "\n",
    "for x in cols_base:\n",
    "    base[x] = np.where(base[x].isnull(), 0, base[x])"
   ]
  },
  {
   "cell_type": "code",
   "execution_count": 27,
   "metadata": {},
   "outputs": [
    {
     "name": "stdout",
     "output_type": "stream",
     "text": [
      "<class 'pandas.core.frame.DataFrame'>\n",
      "Int64Index: 102534 entries, 0 to 102533\n",
      "Data columns (total 48 columns):\n",
      " #   Column                      Non-Null Count   Dtype  \n",
      "---  ------                      --------------   -----  \n",
      " 0   username                    102534 non-null  object \n",
      " 1   follower_id                 102534 non-null  object \n",
      " 2   ads_treatment               102534 non-null  float64\n",
      " 3   strat_block1                102534 non-null  object \n",
      " 4   strat_block2                102534 non-null  object \n",
      " 5   c_t_strong_total            102534 non-null  int32  \n",
      " 6   c_t_weak_total              102534 non-null  int32  \n",
      " 7   c_t_neither_total           102534 non-null  int32  \n",
      " 8   t_strong                    102534 non-null  float64\n",
      " 9   t_weak                      102534 non-null  float64\n",
      " 10  t_neither                   102534 non-null  float64\n",
      " 11  total_shares_base           102534 non-null  float64\n",
      " 12  total_reactions_base        102534 non-null  float64\n",
      " 13  total_comments_base         102534 non-null  float64\n",
      " 14  verifiability_base          102534 non-null  float64\n",
      " 15  n_posts_base                102534 non-null  float64\n",
      " 16  true_base                   102534 non-null  float64\n",
      " 17  bot_account                 102534 non-null  int32  \n",
      " 18  total_shares_rt_base        102534 non-null  float64\n",
      " 19  total_reactions_rt_base     102534 non-null  float64\n",
      " 20  total_comments_rt_base      102534 non-null  float64\n",
      " 21  verifiability_rt_base       102534 non-null  float64\n",
      " 22  true_rt_base                102534 non-null  float64\n",
      " 23  n_posts_rt_base             102534 non-null  float64\n",
      " 24  total_shares_no_rt_base     102534 non-null  float64\n",
      " 25  total_reactions_no_rt_base  102534 non-null  float64\n",
      " 26  total_comments_no_rt_base   102534 non-null  float64\n",
      " 27  verifiability_no_rt_base    102534 non-null  float64\n",
      " 28  true_no_rt_base             102534 non-null  float64\n",
      " 29  n_posts_no_rt_base          102534 non-null  float64\n",
      " 30  total_shares_rt             102534 non-null  float64\n",
      " 31  total_reactions_rt          102534 non-null  float64\n",
      " 32  total_comments_rt           102534 non-null  float64\n",
      " 33  verifiability_rt            102534 non-null  float64\n",
      " 34  true_rt                     102534 non-null  float64\n",
      " 35  n_posts_rt                  102534 non-null  float64\n",
      " 36  total_shares_no_rt          102534 non-null  float64\n",
      " 37  total_reactions_no_rt       102534 non-null  float64\n",
      " 38  total_comments_no_rt        102534 non-null  float64\n",
      " 39  verifiability_no_rt         102534 non-null  float64\n",
      " 40  true_no_rt                  102534 non-null  float64\n",
      " 41  n_posts_no_rt               102534 non-null  float64\n",
      " 42  total_shares                102534 non-null  float64\n",
      " 43  total_reactions             102534 non-null  float64\n",
      " 44  total_comments              102534 non-null  float64\n",
      " 45  verifiability               102534 non-null  float64\n",
      " 46  true                        102534 non-null  float64\n",
      " 47  n_posts                     102534 non-null  float64\n",
      "dtypes: float64(40), int32(4), object(4)\n",
      "memory usage: 36.8+ MB\n"
     ]
    }
   ],
   "source": [
    "base.info()"
   ]
  },
  {
   "cell_type": "code",
   "execution_count": 29,
   "metadata": {},
   "outputs": [],
   "source": [
    "base.to_parquet(f'{agg}aggregated/stage1_rt.parquet', \n",
    "                index=False)"
   ]
  },
  {
   "cell_type": "code",
   "execution_count": 30,
   "metadata": {},
   "outputs": [],
   "source": [
    "base = pd.read_parquet(f'../../data/04-analysis/{country}/baseline_rt.parquet')\n",
    "base.rename(columns = {'shares_base': 'total_shares_base', \n",
    "                       'reactions_base':'total_reactions_base',\n",
    "                       'comments_base':'total_comments_base'}, inplace = True)"
   ]
  },
  {
   "cell_type": "code",
   "execution_count": 31,
   "metadata": {},
   "outputs": [],
   "source": [
    "# Stage 2\n",
    "stage2 = df_final[df_final['stage'] == 2]\n",
    "stage2_agg = summ_followers2(stage2)\n",
    "stage2_agg.rename(columns = {'handle':'username', \n",
    "                             'author_id':'follower_id'}, inplace = True)\n",
    "df_rt_agg, df_no_rt_agg = divide_and_conquer(stage2)"
   ]
  },
  {
   "cell_type": "code",
   "execution_count": 32,
   "metadata": {},
   "outputs": [],
   "source": [
    "base = base.merge(df_rt_agg, on=['follower_id', 'username'], \n",
    "                  how='left')\n",
    "\n",
    "base = base.merge(df_no_rt_agg, on=['follower_id', 'username'], \n",
    "                  how='left')\n",
    "\n",
    "base = base.merge(stage2_agg, on=['follower_id', 'username'], \n",
    "                  how='left')"
   ]
  },
  {
   "cell_type": "code",
   "execution_count": 33,
   "metadata": {},
   "outputs": [],
   "source": [
    "for x in cols_base:\n",
    "    base[x] = np.where(base[x].isnull(), 0, base[x])"
   ]
  },
  {
   "cell_type": "code",
   "execution_count": 35,
   "metadata": {},
   "outputs": [],
   "source": [
    "base.to_parquet(f'{agg}aggregated/stage2_rt.parquet', \n",
    "                index=False)"
   ]
  }
 ],
 "metadata": {
  "kernelspec": {
   "display_name": "Python 3 (ipykernel)",
   "language": "python",
   "name": "python3"
  },
  "language_info": {
   "codemirror_mode": {
    "name": "ipython",
    "version": 3
   },
   "file_extension": ".py",
   "mimetype": "text/x-python",
   "name": "python",
   "nbconvert_exporter": "python",
   "pygments_lexer": "ipython3",
   "version": "3.9.12"
  }
 },
 "nbformat": 4,
 "nbformat_minor": 2
}
