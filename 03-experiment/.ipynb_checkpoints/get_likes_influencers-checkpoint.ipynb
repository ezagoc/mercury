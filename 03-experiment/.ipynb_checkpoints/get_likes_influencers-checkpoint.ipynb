{
 "cells": [
  {
   "cell_type": "code",
   "execution_count": 1,
   "id": "b405b87e",
   "metadata": {},
   "outputs": [],
   "source": [
    "import tweetple\n",
    "\n",
    "from tweetple import TweetPle\n",
    "\n",
    "import pandas as pd\n",
    "import os\n",
    "import glob\n",
    "import yaml\n",
    "import time\n",
    "import numpy as np\n",
    "\n",
    "def unique_tweets(path_read):\n",
    "    \"\"\"Get unique tweets\"\"\"\n",
    "    df = read_files(path_read)\n",
    "    df = df.drop_duplicates(subset='id').reset_index(drop=True)\n",
    "    df = expand_column(df, 'entities.urls')\n",
    "\n",
    "    return df\n",
    "\n",
    "\n",
    "import sys\n",
    "sys.path.insert(0, '../../../src/utils')\n",
    "#from funcs import GetPosts, get_participants_facebook, get_participants_twitter\n",
    "from tqdm import tqdm\n",
    "sys.path.insert(0, '../../../src/utils')\n",
    "from general import *\n",
    "\n",
    "def get_path(country):\n",
    "    base = f'../../data/03-experiment/{country}/baseline/'\n",
    "    path_tw = base + '00-raw/influencers/tweets/'\n",
    "    path_fb = base + '00-raw/influencers/posts/'\n",
    "    path_likes = f'{base}00-raw/influencers/likes/'\n",
    "    path_followers = f'{base}00-raw/influencers/followers/'\n",
    "    path_converstations = f'{base}00-raw/influencers/conversations/'\n",
    "    path_retweets = f'{base}00-raw/influencers/retweets/'\n",
    "    return path_tw, path_fb, base, path_likes, path_followers, path_converstations, path_retweets\n",
    "\n",
    "\n",
    "path_tw, path_fb, base, path_likes, path_followers, path_converstations, path_retweets = get_path('KE')"
   ]
  },
  {
   "cell_type": "code",
   "execution_count": null,
   "id": "583e09b9",
   "metadata": {},
   "outputs": [],
   "source": []
  },
  {
   "cell_type": "code",
   "execution_count": null,
   "id": "a66d8ddd",
   "metadata": {},
   "outputs": [],
   "source": [
    "df = pd.read_parquet(f'{base}01-preprocess/influencers/tweets.parquet')\n",
    "\n",
    "df = df.drop_duplicates(subset='id').reset_index(drop=True)\n",
    "df = df[df['public_metrics.like_count'] > 0]\n",
    "df = df.reset_index(drop=True)\n",
    "ids_tweets = df.sort_values(\n",
    "    ['public_metrics.like_count'], \n",
    "    ascending=False)['id']\n",
    "ids_tweets = list(ids_tweets)\n",
    "\n",
    "from os import listdir\n",
    "from os.path import isfile, join\n",
    "mypath = path_likes\n",
    "\n",
    "onlyfiles = [f for f in listdir(mypath) if isfile(join(mypath, f))]\n",
    "onlyfiles = [f.replace('.parquet', '') for f in onlyfiles]\n",
    "#ids de tweets\n",
    "#ids_tweets = list(df.id)\n",
    "ids = list(set(ids_tweets).difference(onlyfiles))\n",
    "\n",
    "len(ids)"
   ]
  },
  {
   "cell_type": "code",
   "execution_count": 13,
   "id": "478a5a9b",
   "metadata": {},
   "outputs": [],
   "source": [
    "df = pd.DataFrame(ids)\n",
    "df.to_excel( f'../../data/pruebas/ids_not_scraped_KE.xlsx', index=False)"
   ]
  },
  {
   "cell_type": "code",
   "execution_count": 9,
   "id": "fe5a07d9",
   "metadata": {},
   "outputs": [
    {
     "name": "stderr",
     "output_type": "stream",
     "text": [
      "100%|██████████████████████████████████████████████████████████████████████████████| 320/320 [1:01:04<00:00, 11.45s/it]\n"
     ]
    }
   ],
   "source": [
    "TweetPle.TweepleStreamer(\n",
    "        ids,\n",
    "        bearer_token='AAAAAAAAAAAAAAAAAAAAABR%2FUQEAAAAAHS0JZPRE%2BzA3NYrldLvJ37ulcNE%3DZh2Y4yUoA6EtSjtdLzC6urLqD11YOclklNx4x466a6VVYoyZwe',\n",
    "        path_save=path_likes\n",
    "    ).likes_lookup()"
   ]
  },
  {
   "cell_type": "code",
   "execution_count": null,
   "id": "c80a5431",
   "metadata": {},
   "outputs": [],
   "source": []
  }
 ],
 "metadata": {
  "kernelspec": {
   "display_name": "Python 3 (ipykernel)",
   "language": "python",
   "name": "python3"
  },
  "language_info": {
   "codemirror_mode": {
    "name": "ipython",
    "version": 3
   },
   "file_extension": ".py",
   "mimetype": "text/x-python",
   "name": "python",
   "nbconvert_exporter": "python",
   "pygments_lexer": "ipython3",
   "version": "3.9.12"
  }
 },
 "nbformat": 4,
 "nbformat_minor": 5
}
