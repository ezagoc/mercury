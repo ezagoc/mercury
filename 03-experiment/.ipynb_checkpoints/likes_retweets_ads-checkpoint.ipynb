{
 "cells": [
  {
   "cell_type": "code",
   "execution_count": 1,
   "id": "6ec8c423",
   "metadata": {},
   "outputs": [],
   "source": [
    "import numpy as np\n",
    "import pandas as pd\n",
    "from os import listdir\n",
    "import os\n",
    "from tqdm import tqdm\n",
    "import tweetple\n",
    "from tweetple import TweetPle\n",
    "import sys\n"
   ]
  },
  {
   "cell_type": "code",
   "execution_count": 4,
   "id": "39c75d3d",
   "metadata": {},
   "outputs": [
    {
     "ename": "FileNotFoundError",
     "evalue": "[Errno 2] No such file or directory: '../../data/03-experiment/ads/0-analytics/2023-03-01-to-2023-04-26-agg.parquet'",
     "output_type": "error",
     "traceback": [
      "\u001b[0;31m---------------------------------------------------------------------------\u001b[0m",
      "\u001b[0;31mFileNotFoundError\u001b[0m                         Traceback (most recent call last)",
      "Input \u001b[0;32mIn [4]\u001b[0m, in \u001b[0;36m<cell line: 1>\u001b[0;34m()\u001b[0m\n\u001b[0;32m----> 1\u001b[0m ads \u001b[38;5;241m=\u001b[39m \u001b[43mpd\u001b[49m\u001b[38;5;241;43m.\u001b[39;49m\u001b[43mread_parquet\u001b[49m\u001b[43m(\u001b[49m\u001b[38;5;124;43m\"\u001b[39;49m\u001b[38;5;124;43m../../data/03-experiment/ads/0-analytics/2023-03-01-to-2023-04-26-agg.parquet\u001b[39;49m\u001b[38;5;124;43m\"\u001b[39;49m\u001b[43m)\u001b[49m\n",
      "File \u001b[0;32m~/miniforge3/envs/env_tf/lib/python3.9/site-packages/pandas/io/parquet.py:503\u001b[0m, in \u001b[0;36mread_parquet\u001b[0;34m(path, engine, columns, storage_options, use_nullable_dtypes, **kwargs)\u001b[0m\n\u001b[1;32m    456\u001b[0m \u001b[38;5;124;03m\"\"\"\u001b[39;00m\n\u001b[1;32m    457\u001b[0m \u001b[38;5;124;03mLoad a parquet object from the file path, returning a DataFrame.\u001b[39;00m\n\u001b[1;32m    458\u001b[0m \n\u001b[0;32m   (...)\u001b[0m\n\u001b[1;32m    499\u001b[0m \u001b[38;5;124;03mDataFrame\u001b[39;00m\n\u001b[1;32m    500\u001b[0m \u001b[38;5;124;03m\"\"\"\u001b[39;00m\n\u001b[1;32m    501\u001b[0m impl \u001b[38;5;241m=\u001b[39m get_engine(engine)\n\u001b[0;32m--> 503\u001b[0m \u001b[38;5;28;01mreturn\u001b[39;00m \u001b[43mimpl\u001b[49m\u001b[38;5;241;43m.\u001b[39;49m\u001b[43mread\u001b[49m\u001b[43m(\u001b[49m\n\u001b[1;32m    504\u001b[0m \u001b[43m    \u001b[49m\u001b[43mpath\u001b[49m\u001b[43m,\u001b[49m\n\u001b[1;32m    505\u001b[0m \u001b[43m    \u001b[49m\u001b[43mcolumns\u001b[49m\u001b[38;5;241;43m=\u001b[39;49m\u001b[43mcolumns\u001b[49m\u001b[43m,\u001b[49m\n\u001b[1;32m    506\u001b[0m \u001b[43m    \u001b[49m\u001b[43mstorage_options\u001b[49m\u001b[38;5;241;43m=\u001b[39;49m\u001b[43mstorage_options\u001b[49m\u001b[43m,\u001b[49m\n\u001b[1;32m    507\u001b[0m \u001b[43m    \u001b[49m\u001b[43muse_nullable_dtypes\u001b[49m\u001b[38;5;241;43m=\u001b[39;49m\u001b[43muse_nullable_dtypes\u001b[49m\u001b[43m,\u001b[49m\n\u001b[1;32m    508\u001b[0m \u001b[43m    \u001b[49m\u001b[38;5;241;43m*\u001b[39;49m\u001b[38;5;241;43m*\u001b[39;49m\u001b[43mkwargs\u001b[49m\u001b[43m,\u001b[49m\n\u001b[1;32m    509\u001b[0m \u001b[43m\u001b[49m\u001b[43m)\u001b[49m\n",
      "File \u001b[0;32m~/miniforge3/envs/env_tf/lib/python3.9/site-packages/pandas/io/parquet.py:244\u001b[0m, in \u001b[0;36mPyArrowImpl.read\u001b[0;34m(self, path, columns, use_nullable_dtypes, storage_options, **kwargs)\u001b[0m\n\u001b[1;32m    241\u001b[0m \u001b[38;5;28;01mif\u001b[39;00m manager \u001b[38;5;241m==\u001b[39m \u001b[38;5;124m\"\u001b[39m\u001b[38;5;124marray\u001b[39m\u001b[38;5;124m\"\u001b[39m:\n\u001b[1;32m    242\u001b[0m     to_pandas_kwargs[\u001b[38;5;124m\"\u001b[39m\u001b[38;5;124msplit_blocks\u001b[39m\u001b[38;5;124m\"\u001b[39m] \u001b[38;5;241m=\u001b[39m \u001b[38;5;28;01mTrue\u001b[39;00m  \u001b[38;5;66;03m# type: ignore[assignment]\u001b[39;00m\n\u001b[0;32m--> 244\u001b[0m path_or_handle, handles, kwargs[\u001b[38;5;124m\"\u001b[39m\u001b[38;5;124mfilesystem\u001b[39m\u001b[38;5;124m\"\u001b[39m] \u001b[38;5;241m=\u001b[39m \u001b[43m_get_path_or_handle\u001b[49m\u001b[43m(\u001b[49m\n\u001b[1;32m    245\u001b[0m \u001b[43m    \u001b[49m\u001b[43mpath\u001b[49m\u001b[43m,\u001b[49m\n\u001b[1;32m    246\u001b[0m \u001b[43m    \u001b[49m\u001b[43mkwargs\u001b[49m\u001b[38;5;241;43m.\u001b[39;49m\u001b[43mpop\u001b[49m\u001b[43m(\u001b[49m\u001b[38;5;124;43m\"\u001b[39;49m\u001b[38;5;124;43mfilesystem\u001b[39;49m\u001b[38;5;124;43m\"\u001b[39;49m\u001b[43m,\u001b[49m\u001b[43m \u001b[49m\u001b[38;5;28;43;01mNone\u001b[39;49;00m\u001b[43m)\u001b[49m\u001b[43m,\u001b[49m\n\u001b[1;32m    247\u001b[0m \u001b[43m    \u001b[49m\u001b[43mstorage_options\u001b[49m\u001b[38;5;241;43m=\u001b[39;49m\u001b[43mstorage_options\u001b[49m\u001b[43m,\u001b[49m\n\u001b[1;32m    248\u001b[0m \u001b[43m    \u001b[49m\u001b[43mmode\u001b[49m\u001b[38;5;241;43m=\u001b[39;49m\u001b[38;5;124;43m\"\u001b[39;49m\u001b[38;5;124;43mrb\u001b[39;49m\u001b[38;5;124;43m\"\u001b[39;49m\u001b[43m,\u001b[49m\n\u001b[1;32m    249\u001b[0m \u001b[43m\u001b[49m\u001b[43m)\u001b[49m\n\u001b[1;32m    250\u001b[0m \u001b[38;5;28;01mtry\u001b[39;00m:\n\u001b[1;32m    251\u001b[0m     result \u001b[38;5;241m=\u001b[39m \u001b[38;5;28mself\u001b[39m\u001b[38;5;241m.\u001b[39mapi\u001b[38;5;241m.\u001b[39mparquet\u001b[38;5;241m.\u001b[39mread_table(\n\u001b[1;32m    252\u001b[0m         path_or_handle, columns\u001b[38;5;241m=\u001b[39mcolumns, \u001b[38;5;241m*\u001b[39m\u001b[38;5;241m*\u001b[39mkwargs\n\u001b[1;32m    253\u001b[0m     )\u001b[38;5;241m.\u001b[39mto_pandas(\u001b[38;5;241m*\u001b[39m\u001b[38;5;241m*\u001b[39mto_pandas_kwargs)\n",
      "File \u001b[0;32m~/miniforge3/envs/env_tf/lib/python3.9/site-packages/pandas/io/parquet.py:102\u001b[0m, in \u001b[0;36m_get_path_or_handle\u001b[0;34m(path, fs, storage_options, mode, is_dir)\u001b[0m\n\u001b[1;32m     92\u001b[0m handles \u001b[38;5;241m=\u001b[39m \u001b[38;5;28;01mNone\u001b[39;00m\n\u001b[1;32m     93\u001b[0m \u001b[38;5;28;01mif\u001b[39;00m (\n\u001b[1;32m     94\u001b[0m     \u001b[38;5;129;01mnot\u001b[39;00m fs\n\u001b[1;32m     95\u001b[0m     \u001b[38;5;129;01mand\u001b[39;00m \u001b[38;5;129;01mnot\u001b[39;00m is_dir\n\u001b[0;32m   (...)\u001b[0m\n\u001b[1;32m    100\u001b[0m     \u001b[38;5;66;03m# fsspec resources can also point to directories\u001b[39;00m\n\u001b[1;32m    101\u001b[0m     \u001b[38;5;66;03m# this branch is used for example when reading from non-fsspec URLs\u001b[39;00m\n\u001b[0;32m--> 102\u001b[0m     handles \u001b[38;5;241m=\u001b[39m \u001b[43mget_handle\u001b[49m\u001b[43m(\u001b[49m\n\u001b[1;32m    103\u001b[0m \u001b[43m        \u001b[49m\u001b[43mpath_or_handle\u001b[49m\u001b[43m,\u001b[49m\u001b[43m \u001b[49m\u001b[43mmode\u001b[49m\u001b[43m,\u001b[49m\u001b[43m \u001b[49m\u001b[43mis_text\u001b[49m\u001b[38;5;241;43m=\u001b[39;49m\u001b[38;5;28;43;01mFalse\u001b[39;49;00m\u001b[43m,\u001b[49m\u001b[43m \u001b[49m\u001b[43mstorage_options\u001b[49m\u001b[38;5;241;43m=\u001b[39;49m\u001b[43mstorage_options\u001b[49m\n\u001b[1;32m    104\u001b[0m \u001b[43m    \u001b[49m\u001b[43m)\u001b[49m\n\u001b[1;32m    105\u001b[0m     fs \u001b[38;5;241m=\u001b[39m \u001b[38;5;28;01mNone\u001b[39;00m\n\u001b[1;32m    106\u001b[0m     path_or_handle \u001b[38;5;241m=\u001b[39m handles\u001b[38;5;241m.\u001b[39mhandle\n",
      "File \u001b[0;32m~/miniforge3/envs/env_tf/lib/python3.9/site-packages/pandas/io/common.py:865\u001b[0m, in \u001b[0;36mget_handle\u001b[0;34m(path_or_buf, mode, encoding, compression, memory_map, is_text, errors, storage_options)\u001b[0m\n\u001b[1;32m    856\u001b[0m         handle \u001b[38;5;241m=\u001b[39m \u001b[38;5;28mopen\u001b[39m(\n\u001b[1;32m    857\u001b[0m             handle,\n\u001b[1;32m    858\u001b[0m             ioargs\u001b[38;5;241m.\u001b[39mmode,\n\u001b[0;32m   (...)\u001b[0m\n\u001b[1;32m    861\u001b[0m             newline\u001b[38;5;241m=\u001b[39m\u001b[38;5;124m\"\u001b[39m\u001b[38;5;124m\"\u001b[39m,\n\u001b[1;32m    862\u001b[0m         )\n\u001b[1;32m    863\u001b[0m     \u001b[38;5;28;01melse\u001b[39;00m:\n\u001b[1;32m    864\u001b[0m         \u001b[38;5;66;03m# Binary mode\u001b[39;00m\n\u001b[0;32m--> 865\u001b[0m         handle \u001b[38;5;241m=\u001b[39m \u001b[38;5;28;43mopen\u001b[39;49m\u001b[43m(\u001b[49m\u001b[43mhandle\u001b[49m\u001b[43m,\u001b[49m\u001b[43m \u001b[49m\u001b[43mioargs\u001b[49m\u001b[38;5;241;43m.\u001b[39;49m\u001b[43mmode\u001b[49m\u001b[43m)\u001b[49m\n\u001b[1;32m    866\u001b[0m     handles\u001b[38;5;241m.\u001b[39mappend(handle)\n\u001b[1;32m    868\u001b[0m \u001b[38;5;66;03m# Convert BytesIO or file objects passed with an encoding\u001b[39;00m\n",
      "\u001b[0;31mFileNotFoundError\u001b[0m: [Errno 2] No such file or directory: '../../data/03-experiment/ads/0-analytics/2023-03-01-to-2023-04-26-agg.parquet'"
     ]
    }
   ],
   "source": [
    "ads = pd.read_parquet(\"../../data/03-experiment/ads/0-analytics/2023-03-01-to-2023-04-26-agg.parquet\")"
   ]
  },
  {
   "cell_type": "code",
   "execution_count": 8,
   "id": "65254e73",
   "metadata": {},
   "outputs": [],
   "source": [
    "ids = list(ads['id'])"
   ]
  },
  {
   "cell_type": "code",
   "execution_count": 10,
   "id": "09a4933d",
   "metadata": {},
   "outputs": [
    {
     "name": "stderr",
     "output_type": "stream",
     "text": [
      "100%|██████████| 29/29 [11:00<00:00, 22.79s/it]\n"
     ]
    }
   ],
   "source": [
    "save = '../../data/03-experiment/ads/likes/'\n",
    "bearer_token = 'AAAAAAAAAAAAAAAAAAAAAAA0ZAEAAAAAQyJL09AyaJy6%2BqJSjdSNJF8mG7k%3D6aLu9bxFdeXAFanGaB4GzpuMspiEBhGnCgb7D8C27ZBvUm27JX'\n",
    "\n",
    "TweetPle.TweepleStreamer(ids, bearer_token, path_save = save).likes_lookup()\n",
    "\n"
   ]
  },
  {
   "cell_type": "code",
   "execution_count": 11,
   "id": "47382434",
   "metadata": {},
   "outputs": [
    {
     "name": "stderr",
     "output_type": "stream",
     "text": [
      "100%|██████████| 29/29 [10:01<00:00, 20.73s/it]\n"
     ]
    }
   ],
   "source": [
    "save = '../../data/03-experiment/ads/retweets/'\n",
    "bearer_token = 'AAAAAAAAAAAAAAAAAAAAAAA0ZAEAAAAAQyJL09AyaJy6%2BqJSjdSNJF8mG7k%3D6aLu9bxFdeXAFanGaB4GzpuMspiEBhGnCgb7D8C27ZBvUm27JX'\n",
    "\n",
    "TweetPle.TweepleStreamer(ids, bearer_token, path_save = save).retweet_lookup()"
   ]
  },
  {
   "cell_type": "code",
   "execution_count": 14,
   "id": "d52a996e",
   "metadata": {},
   "outputs": [
    {
     "ename": "AttributeError",
     "evalue": "'TweepleStreamer' object has no attribute 'get_threads'",
     "output_type": "error",
     "traceback": [
      "\u001b[0;31m---------------------------------------------------------------------------\u001b[0m",
      "\u001b[0;31mAttributeError\u001b[0m                            Traceback (most recent call last)",
      "Input \u001b[0;32mIn [14]\u001b[0m, in \u001b[0;36m<cell line: 4>\u001b[0;34m()\u001b[0m\n\u001b[1;32m      1\u001b[0m save \u001b[38;5;241m=\u001b[39m \u001b[38;5;124m'\u001b[39m\u001b[38;5;124m../../data/03-experiment/ads/retweets/\u001b[39m\u001b[38;5;124m'\u001b[39m\n\u001b[1;32m      2\u001b[0m bearer_token \u001b[38;5;241m=\u001b[39m \u001b[38;5;124m'\u001b[39m\u001b[38;5;124mAAAAAAAAAAAAAAAAAAAAAAA0ZAEAAAAAQyJL09AyaJy6\u001b[39m\u001b[38;5;124m%\u001b[39m\u001b[38;5;124m2BqJSjdSNJF8mG7k\u001b[39m\u001b[38;5;124m%\u001b[39m\u001b[38;5;124m3D6aLu9bxFdeXAFanGaB4GzpuMspiEBhGnCgb7D8C27ZBvUm27JX\u001b[39m\u001b[38;5;124m'\u001b[39m\n\u001b[0;32m----> 4\u001b[0m \u001b[43mTweetPle\u001b[49m\u001b[38;5;241;43m.\u001b[39;49m\u001b[43mTweepleStreamer\u001b[49m\u001b[43m(\u001b[49m\u001b[43mids\u001b[49m\u001b[43m,\u001b[49m\u001b[43m \u001b[49m\u001b[43mbearer_token\u001b[49m\u001b[43m,\u001b[49m\u001b[43m \u001b[49m\u001b[43mpath_save\u001b[49m\u001b[43m \u001b[49m\u001b[38;5;241;43m=\u001b[39;49m\u001b[43m \u001b[49m\u001b[43msave\u001b[49m\u001b[43m)\u001b[49m\u001b[38;5;241;43m.\u001b[39;49m\u001b[43mget_threads\u001b[49m()\n",
      "\u001b[0;31mAttributeError\u001b[0m: 'TweepleStreamer' object has no attribute 'get_threads'"
     ]
    }
   ],
   "source": [
    "save = '../../data/03-experiment/ads/replies/'\n",
    "bearer_token = 'AAAAAAAAAAAAAAAAAAAAAAA0ZAEAAAAAQyJL09AyaJy6%2BqJSjdSNJF8mG7k%3D6aLu9bxFdeXAFanGaB4GzpuMspiEBhGnCgb7D8C27ZBvUm27JX'\n",
    "\n",
    "TweetPle.TweepleStreamer(ids, bearer_token, path_save = save).get_threads()"
   ]
  },
  {
   "cell_type": "code",
   "execution_count": 16,
   "id": "045d5bc8",
   "metadata": {},
   "outputs": [
    {
     "name": "stdout",
     "output_type": "stream",
     "text": [
      "0 1617311279667888129\n",
      "1 1617311277482708994\n",
      "2 1617311146662322177\n",
      "3 1614774562259968002\n",
      "4 1614774562838781952\n",
      "5 1614774559131025408\n",
      "6 1614774433301798913\n",
      "7 1612237843832643590\n",
      "8 1612237722545946625\n",
      "9 1612237718372683778\n",
      "10 1609701131315183618\n",
      "11 1609701006195007488\n",
      "12 1609701003695194113\n",
      "13 1609701002667560960\n",
      "14 1607164414318215171\n",
      "15 1607164292616314880\n",
      "16 1607164292188487685\n",
      "17 1607164286509453317\n",
      "18 1604806500559396865\n",
      "19 1604627575829045250\n",
      "20 1604627571349475328\n",
      "21 1602090861491372032\n",
      "22 1602090858358136832\n",
      "23 1602090856525156352\n",
      "24 1602090858873954304\n",
      "25 1599934504357007360\n",
      "26 1599934504306630656\n",
      "27 1599931633401884674\n",
      "28 1599931633750069248\n"
     ]
    }
   ],
   "source": [
    "save = '../../data/03-experiment/ads/replies/'\n",
    "TweetPle.get_threads(ids, bearer_token, save)"
   ]
  },
  {
   "cell_type": "markdown",
   "id": "b776a78e",
   "metadata": {},
   "source": [
    "SMIS"
   ]
  },
  {
   "cell_type": "code",
   "execution_count": 2,
   "id": "277700ff",
   "metadata": {},
   "outputs": [],
   "source": [
    "ke = pd.read_parquet('../../data/06-others/ids_KE.parquet')"
   ]
  },
  {
   "cell_type": "code",
   "execution_count": 3,
   "id": "248d50af",
   "metadata": {},
   "outputs": [
    {
     "data": {
      "text/html": [
       "<div>\n",
       "<style scoped>\n",
       "    .dataframe tbody tr th:only-of-type {\n",
       "        vertical-align: middle;\n",
       "    }\n",
       "\n",
       "    .dataframe tbody tr th {\n",
       "        vertical-align: top;\n",
       "    }\n",
       "\n",
       "    .dataframe thead th {\n",
       "        text-align: right;\n",
       "    }\n",
       "</style>\n",
       "<table border=\"1\" class=\"dataframe\">\n",
       "  <thead>\n",
       "    <tr style=\"text-align: right;\">\n",
       "      <th></th>\n",
       "      <th>username</th>\n",
       "      <th>username2</th>\n",
       "      <th>tweet_id</th>\n",
       "    </tr>\n",
       "  </thead>\n",
       "  <tbody>\n",
       "    <tr>\n",
       "      <th>0</th>\n",
       "      <td>MbuthiaAmina</td>\n",
       "      <td>id_1</td>\n",
       "      <td>1619923362402148352</td>\n",
       "    </tr>\n",
       "    <tr>\n",
       "      <th>1</th>\n",
       "      <td>MbuthiaAmina</td>\n",
       "      <td>id_2</td>\n",
       "      <td>1619238000382324736</td>\n",
       "    </tr>\n",
       "    <tr>\n",
       "      <th>2</th>\n",
       "      <td>MbuthiaAmina</td>\n",
       "      <td>id_3</td>\n",
       "      <td>1618678849579147264</td>\n",
       "    </tr>\n",
       "    <tr>\n",
       "      <th>3</th>\n",
       "      <td>MbuthiaAmina</td>\n",
       "      <td>id_4</td>\n",
       "      <td>1617496295198834689</td>\n",
       "    </tr>\n",
       "    <tr>\n",
       "      <th>4</th>\n",
       "      <td>MbuthiaAmina</td>\n",
       "      <td>id_5</td>\n",
       "      <td>1615392691843481601</td>\n",
       "    </tr>\n",
       "    <tr>\n",
       "      <th>...</th>\n",
       "      <td>...</td>\n",
       "      <td>...</td>\n",
       "      <td>...</td>\n",
       "    </tr>\n",
       "    <tr>\n",
       "      <th>59</th>\n",
       "      <td>DannyGona</td>\n",
       "      <td>id_8</td>\n",
       "      <td>1608651615560691712</td>\n",
       "    </tr>\n",
       "    <tr>\n",
       "      <th>60</th>\n",
       "      <td>DannyGona</td>\n",
       "      <td>id_9</td>\n",
       "      <td>1607553965331255296</td>\n",
       "    </tr>\n",
       "    <tr>\n",
       "      <th>61</th>\n",
       "      <td>DannyGona</td>\n",
       "      <td>id_10</td>\n",
       "      <td>1606302191710453761</td>\n",
       "    </tr>\n",
       "    <tr>\n",
       "      <th>62</th>\n",
       "      <td>DannyGona</td>\n",
       "      <td>id_11</td>\n",
       "      <td>1605080196259803137</td>\n",
       "    </tr>\n",
       "    <tr>\n",
       "      <th>63</th>\n",
       "      <td>DannyGona</td>\n",
       "      <td>id_12</td>\n",
       "      <td>1604018763082383361</td>\n",
       "    </tr>\n",
       "  </tbody>\n",
       "</table>\n",
       "<p>64 rows × 3 columns</p>\n",
       "</div>"
      ],
      "text/plain": [
       "        username username2             tweet_id\n",
       "0   MbuthiaAmina      id_1  1619923362402148352\n",
       "1   MbuthiaAmina      id_2  1619238000382324736\n",
       "2   MbuthiaAmina      id_3  1618678849579147264\n",
       "3   MbuthiaAmina      id_4  1617496295198834689\n",
       "4   MbuthiaAmina      id_5  1615392691843481601\n",
       "..           ...       ...                  ...\n",
       "59     DannyGona      id_8  1608651615560691712\n",
       "60     DannyGona      id_9  1607553965331255296\n",
       "61     DannyGona     id_10  1606302191710453761\n",
       "62     DannyGona     id_11  1605080196259803137\n",
       "63     DannyGona     id_12  1604018763082383361\n",
       "\n",
       "[64 rows x 3 columns]"
      ]
     },
     "execution_count": 3,
     "metadata": {},
     "output_type": "execute_result"
    }
   ],
   "source": [
    "ke"
   ]
  },
  {
   "cell_type": "code",
   "execution_count": 4,
   "id": "8c5622d7",
   "metadata": {},
   "outputs": [
    {
     "data": {
      "text/plain": [
       "['1619923362402148352',\n",
       " '1619238000382324736',\n",
       " '1618678849579147264',\n",
       " '1617496295198834689',\n",
       " '1615392691843481601',\n",
       " '1612398336182751232',\n",
       " '1608892432904785920',\n",
       " '1607993453140393985',\n",
       " '1605903619789766656',\n",
       " '1603807213293912073',\n",
       " '1602575704012783616',\n",
       " '1601116231456948224',\n",
       " '1600164997484597249',\n",
       " '1617891239931830278',\n",
       " '1617890576933818368',\n",
       " '1617566057501261824',\n",
       " '1617473046578593792',\n",
       " '1616698290833326080',\n",
       " '1602961486078525440',\n",
       " '1618926979088257024',\n",
       " '1617589259480727583',\n",
       " '1616514361241243653',\n",
       " '1614909212194226177',\n",
       " '1613961758921691136',\n",
       " '1612551748232552451',\n",
       " '1611435062402158602',\n",
       " '1609213743472197632',\n",
       " '1607689576914771970',\n",
       " '1607689576914771970',\n",
       " '1606311591342837766',\n",
       " '1604920847197667328',\n",
       " '1604863608986312704',\n",
       " '1602347326105944064',\n",
       " '1601213304227397632',\n",
       " '1599688336418881536',\n",
       " '1618875042884096001',\n",
       " '1617769911035768832',\n",
       " '1616386836225527809',\n",
       " '1614848367082835968',\n",
       " '1613873764084621320',\n",
       " '1611260614290063360',\n",
       " '1610186858553831424',\n",
       " '1608695742616731648',\n",
       " '1608695742616731648',\n",
       " '1607984305955024897',\n",
       " '1606205249626177537',\n",
       " '1606215601189539843',\n",
       " '1604795761497378816',\n",
       " '1603703477569556481',\n",
       " '1602924881087238145',\n",
       " '1600709253882314755',\n",
       " '1599727382855680000',\n",
       " '1618822613249441793',\n",
       " '1617520911477006341',\n",
       " '1616181213341028352',\n",
       " '1613924217698881537',\n",
       " '1612804960025968640',\n",
       " '1611165947758264322',\n",
       " '1610094074865795072',\n",
       " '1608651615560691712',\n",
       " '1607553965331255296',\n",
       " '1606302191710453761',\n",
       " '1605080196259803137',\n",
       " '1604018763082383361']"
      ]
     },
     "execution_count": 4,
     "metadata": {},
     "output_type": "execute_result"
    }
   ],
   "source": [
    "ids = list(ke['tweet_id'].astype(str))\n",
    "ids"
   ]
  },
  {
   "cell_type": "code",
   "execution_count": 5,
   "id": "38fe5c80",
   "metadata": {},
   "outputs": [
    {
     "name": "stderr",
     "output_type": "stream",
     "text": [
      "100%|██████████████████████████████████████████████████████████████████████████████████| 64/64 [21:07<00:00, 19.81s/it]\n"
     ]
    }
   ],
   "source": [
    "save = '../../data/03-experiment/smis/likes/'\n",
    "bearer_token = 'AAAAAAAAAAAAAAAAAAAAAAA0ZAEAAAAAQyJL09AyaJy6%2BqJSjdSNJF8mG7k%3D6aLu9bxFdeXAFanGaB4GzpuMspiEBhGnCgb7D8C27ZBvUm27JX'\n",
    "\n",
    "TweetPle.TweepleStreamer(ids, bearer_token, path_save = save).likes_lookup()"
   ]
  },
  {
   "cell_type": "code",
   "execution_count": null,
   "id": "b118349b",
   "metadata": {},
   "outputs": [],
   "source": [
    "save = '../../data/03-experiment/smis/rts/'\n",
    "bearer_token = 'AAAAAAAAAAAAAAAAAAAAAAA0ZAEAAAAAQyJL09AyaJy6%2BqJSjdSNJF8mG7k%3D6aLu9bxFdeXAFanGaB4GzpuMspiEBhGnCgb7D8C27ZBvUm27JX'\n",
    "\n",
    "TweetPle.TweepleStreamer(ids, bearer_token, path_save = save).retweet_lookup()"
   ]
  },
  {
   "cell_type": "code",
   "execution_count": 6,
   "id": "277c36ae",
   "metadata": {},
   "outputs": [
    {
     "name": "stdout",
     "output_type": "stream",
     "text": [
      "0 1619923362402148352\n",
      "1 1619238000382324736\n",
      "2 1618678849579147264\n",
      "3 1617496295198834689\n",
      "4 1615392691843481601\n",
      "5 1612398336182751232\n",
      "6 1608892432904785920\n",
      "7 1607993453140393985\n",
      "8 1605903619789766656\n",
      "9 1603807213293912073\n",
      "10 1602575704012783616\n",
      "11 1601116231456948224\n",
      "12 1600164997484597249\n",
      "13 1617891239931830278\n",
      "14 1617890576933818368\n",
      "15 1617566057501261824\n",
      "16 1617473046578593792\n",
      "17 1616698290833326080\n",
      "18 1602961486078525440\n",
      "19 1618926979088257024\n",
      "20 1617589259480727583\n",
      "21 1616514361241243653\n",
      "22 1614909212194226177\n",
      "23 1613961758921691136\n",
      "24 1612551748232552451\n",
      "25 1611435062402158602\n",
      "26 1609213743472197632\n",
      "27 1607689576914771970\n",
      "28 1607689576914771970\n",
      "29 1606311591342837766\n",
      "30 1604920847197667328\n",
      "31 1604863608986312704\n",
      "32 1602347326105944064\n",
      "33 1601213304227397632\n",
      "34 1599688336418881536\n",
      "35 1618875042884096001\n",
      "36 1617769911035768832\n",
      "37 1616386836225527809\n",
      "38 1614848367082835968\n",
      "39 1613873764084621320\n",
      "40 1611260614290063360\n",
      "41 1610186858553831424\n",
      "42 1608695742616731648\n",
      "43 1608695742616731648\n",
      "44 1607984305955024897\n",
      "45 1606205249626177537\n",
      "46 1606215601189539843\n",
      "47 1604795761497378816\n",
      "48 1603703477569556481\n",
      "49 1602924881087238145\n",
      "50 1600709253882314755\n",
      "51 1599727382855680000\n",
      "52 1618822613249441793\n",
      "53 1617520911477006341\n",
      "54 1616181213341028352\n",
      "55 1613924217698881537\n",
      "56 1612804960025968640\n",
      "57 1611165947758264322\n",
      "58 1610094074865795072\n",
      "59 1608651615560691712\n",
      "60 1607553965331255296\n",
      "61 1606302191710453761\n",
      "62 1605080196259803137\n",
      "63 1604018763082383361\n"
     ]
    }
   ],
   "source": [
    "save = '../../data/03-experiment/smis/replies/'\n",
    "TweetPle.get_threads(ids, bearer_token, save)"
   ]
  },
  {
   "cell_type": "code",
   "execution_count": null,
   "id": "9f9e2201",
   "metadata": {},
   "outputs": [],
   "source": []
  }
 ],
 "metadata": {
  "kernelspec": {
   "display_name": "Python 3",
   "language": "python",
   "name": "python3"
  },
  "language_info": {
   "codemirror_mode": {
    "name": "ipython",
    "version": 3
   },
   "file_extension": ".py",
   "mimetype": "text/x-python",
   "name": "python",
   "nbconvert_exporter": "python",
   "pygments_lexer": "ipython3",
   "version": "3.9.11"
  }
 },
 "nbformat": 4,
 "nbformat_minor": 5
}
