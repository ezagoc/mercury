{
 "cells": [
  {
   "cell_type": "code",
   "execution_count": 1,
   "metadata": {},
   "outputs": [],
   "source": [
    "import pandas as pd\n",
    "import os\n",
    "import glob\n",
    "import numpy as np\n",
    "import warnings\n",
    "warnings.simplefilter(action='ignore', category = FutureWarning)\n",
    "from tqdm import tqdm\n",
    "\n",
    "def get_path(country, week = 'march'):\n",
    "    base = f'../../data/03-experiment/{country}/'\n",
    "    path_tw = base + f'treatment/followers/00-raw/tweets/{week}/'\n",
    "    rand = f'../../data/02-randomize/{country}/04-stratification/integrate/followers_randomized.parquet'\n",
    "    baseline = base + 'baseline/00-raw/followers/tweets/'\n",
    "    agg = base + f'treatment/followers/01-preprocess/'\n",
    "    agg_base = base + 'baseline/01-preprocess/followers/'\n",
    "    return path_tw, base, rand, baseline, agg, agg_base\n",
    "\n",
    "\n",
    "def summ_followers2(df):\n",
    "    metrics = [col for col in df.columns if 'total_' in col]\n",
    "    cols = metrics + ['verifiability', 'true']\n",
    "\n",
    "    df_agg = df[['handle', 'author_id'] + \n",
    "        cols].groupby(['handle', 'author_id']).sum().reset_index()\n",
    "\n",
    "    df_count = df[['handle', 'author_id']].groupby(['author_id']).count()\n",
    "    df_count.rename({'handle': 'n_posts'}, axis=1, inplace=True)\n",
    "\n",
    "    df_agg = df_agg.merge(df_count, on=['author_id'], how='left')\n",
    "\n",
    "    return df_agg\n",
    "\n",
    "def divide_and_conquer(df_final):\n",
    "    df_RT = df_final[(df_final['text'].str.contains('RT @', case=True, regex=False)) & \n",
    "                 (df_final['total_comments'] == 0)]\n",
    "    df_RT = df_RT.reset_index(drop=True)\n",
    "\n",
    "    df_no_rt = df_final[(~df_final['text'].str.contains('RT @', \n",
    "                    case=True, regex=False)) | \n",
    "                    (df_final['total_comments'] > 0)].reset_index(drop=True)\n",
    "    \n",
    "    df_rt_agg = summ_followers2(df_RT).reset_index(drop=True)\n",
    "    df_no_rt_agg = summ_followers2(df_no_rt).reset_index(drop=True)\n",
    "\n",
    "    cols = [col for col in df_rt_agg.columns if 'total_' in col] + ['verifiability', 'true', 'n_posts']\n",
    "    df_rt_agg.rename(columns = \n",
    "        {col: col + '_rt' for col in df_rt_agg.columns if col in cols}, \n",
    "        inplace=True)\n",
    "\n",
    "    df_no_rt_agg.rename(columns = \n",
    "        {col: col + '_no_rt' for col in df_no_rt_agg.columns if col in cols}, \n",
    "        inplace=True)\n",
    "\n",
    "    df_rt_agg.rename(columns = {'handle': 'username', \n",
    "                       'author_id':'follower_id'}, inplace = True)\n",
    "    df_no_rt_agg.rename(columns = {'handle': 'username', \n",
    "                       'author_id':'follower_id'}, inplace = True)\n",
    "    \n",
    "    return df_rt_agg, df_no_rt_agg\n",
    "\n",
    "\n",
    "# Change Country here\n",
    "country = 'KE'\n",
    "base1 = pd.read_parquet(f'../../data/04-analysis/{country}/baseline_batch2.parquet')\n",
    "\n",
    "if country == 'KE':\n",
    "    n_end = 9\n",
    "    n_base = 14\n",
    "else:\n",
    "    n_end = 7"
   ]
  },
  {
   "cell_type": "code",
   "execution_count": 2,
   "metadata": {},
   "outputs": [
    {
     "name": "stderr",
     "output_type": "stream",
     "text": [
      "100%|██████████| 14/14 [00:20<00:00,  1.44s/it]\n",
      "100%|██████████| 14/14 [00:25<00:00,  1.82s/it]\n"
     ]
    }
   ],
   "source": [
    "### Baseline:\n",
    "\n",
    "path_tw, base, rand, baseline, agg, agg_base = get_path(country, 'march')\n",
    "\n",
    "df_final = pd.DataFrame()\n",
    "for i in tqdm(range(0, n_base)):\n",
    "    df = pd.read_parquet(f'{agg_base}predicted/baseline_batch2_0{i}.parquet.gzip')\n",
    "    df_final = pd.concat([df_final, df])\n",
    "\n",
    "df_final1 = pd.DataFrame()\n",
    "for i in tqdm(range(0, n_base)):\n",
    "    df1 = pd.read_parquet(f'{agg_base}predicted/baseline2_batch2_{i}.parquet.gzip')\n",
    "    df_final1 = pd.concat([df_final1, df1])\n",
    "\n",
    "df_final = pd.concat([df_final, df_final1]).reset_index(drop=True)"
   ]
  },
  {
   "cell_type": "code",
   "execution_count": 3,
   "metadata": {},
   "outputs": [
    {
     "name": "stdout",
     "output_type": "stream",
     "text": [
      "<class 'pandas.core.frame.DataFrame'>\n",
      "RangeIndex: 18464919 entries, 0 to 18464918\n",
      "Data columns (total 17 columns):\n",
      " #   Column            Dtype  \n",
      "---  ------            -----  \n",
      " 0   author_id         object \n",
      " 1   id                object \n",
      " 2   conversation_id   object \n",
      " 3   created_at        object \n",
      " 4   text              object \n",
      " 5   lang              object \n",
      " 6   total_shares      int32  \n",
      " 7   reply_count       int32  \n",
      " 8   like_count        int32  \n",
      " 9   quote_count       int32  \n",
      " 10  impression_count  int32  \n",
      " 11  has_text          bool   \n",
      " 12  has_words         bool   \n",
      " 13  total_reactions   int64  \n",
      " 14  total_comments    int64  \n",
      " 15  verifiability     float64\n",
      " 16  true              float64\n",
      "dtypes: bool(2), float64(2), int32(5), int64(2), object(6)\n",
      "memory usage: 1.8+ GB\n"
     ]
    }
   ],
   "source": [
    "df_final.info()"
   ]
  },
  {
   "cell_type": "code",
   "execution_count": 6,
   "metadata": {},
   "outputs": [],
   "source": [
    "df_final['handle'] = df_final['author_id']\n",
    "\n",
    "df_RT = df_final[(df_final['text'].str.contains('RT @', case=True, regex=False)) & \n",
    "                 (df_final['total_comments'] == 0)]\n",
    "df_RT = df_RT.reset_index(drop=True)\n",
    "\n",
    "df_no_rt = df_final[(~df_final['text'].str.contains('RT @', \n",
    "                    case=True, regex=False)) | \n",
    "                    (df_final['total_comments'] > 0)].reset_index(drop=True)"
   ]
  },
  {
   "cell_type": "code",
   "execution_count": 5,
   "metadata": {},
   "outputs": [
    {
     "data": {
      "text/plain": [
       "True"
      ]
     },
     "execution_count": 5,
     "metadata": {},
     "output_type": "execute_result"
    }
   ],
   "source": [
    "len(df_RT) + len(df_no_rt) == len(df_final)"
   ]
  },
  {
   "cell_type": "code",
   "execution_count": 7,
   "metadata": {},
   "outputs": [],
   "source": [
    "df_agg = summ_followers2(df_final).reset_index(drop=True)\n",
    "df_rt_agg = summ_followers2(df_RT).reset_index(drop=True)\n",
    "df_no_rt_agg = summ_followers2(df_no_rt).reset_index(drop=True)"
   ]
  },
  {
   "cell_type": "code",
   "execution_count": 11,
   "metadata": {},
   "outputs": [],
   "source": [
    "cols = [col for col in df_rt_agg.columns if 'total_' in col] + ['verifiability', 'true', 'n_posts']\n",
    "df_agg.rename(columns = \n",
    "        {col: col + '_base' for col in df_agg.columns if col in cols}, \n",
    "        inplace=True)\n",
    "\n",
    "df_rt_agg.rename(columns = \n",
    "        {col: col + '_rt_base' for col in df_rt_agg.columns if col in cols}, \n",
    "        inplace=True)\n",
    "\n",
    "df_no_rt_agg.rename(columns = \n",
    "        {col: col + '_no_rt_base' for col in df_no_rt_agg.columns if col in cols}, \n",
    "        inplace=True)\n",
    "\n",
    "df_agg.rename(columns = {'author_id':'follower_id'}, inplace = True)\n",
    "df_rt_agg.rename(columns = {'author_id':'follower_id'}, inplace = True)\n",
    "df_no_rt_agg.rename(columns = {'author_id':'follower_id'}, inplace = True)\n",
    "\n",
    "df_agg = df_agg.drop(['handle'], axis=1)\n",
    "df_rt_agg = df_rt_agg.drop(['handle'], axis=1)\n",
    "df_no_rt_agg = df_no_rt_agg.drop(['handle'], axis=1)"
   ]
  },
  {
   "cell_type": "code",
   "execution_count": 13,
   "metadata": {},
   "outputs": [],
   "source": [
    "base1 = pd.read_parquet(f'../../data/04-analysis/{country}/baseline_batch2.parquet')"
   ]
  },
  {
   "cell_type": "code",
   "execution_count": 14,
   "metadata": {},
   "outputs": [],
   "source": [
    "base1 = base1.merge(df_rt_agg, on=['follower_id'], \n",
    "                  how='left')\n",
    "\n",
    "base1 = base1.merge(df_agg, on=['follower_id'], \n",
    "                  how='left')\n",
    "\n",
    "base1 = base1.merge(df_no_rt_agg, on=['follower_id'], \n",
    "                  how='left')"
   ]
  },
  {
   "cell_type": "code",
   "execution_count": 16,
   "metadata": {},
   "outputs": [],
   "source": [
    "cols_base = [col for col in base1.columns if '_base' in col]\n",
    "for x in cols_base:\n",
    "    base1[x] = np.where(base1[x].isnull(), 0, base1[x])"
   ]
  },
  {
   "cell_type": "code",
   "execution_count": 18,
   "metadata": {},
   "outputs": [],
   "source": [
    "base1.to_parquet(f'../../data/04-analysis/{country}/baseline/baseline_batch2.parquet')"
   ]
  },
  {
   "cell_type": "markdown",
   "metadata": {},
   "source": [
    "### Endlines:"
   ]
  },
  {
   "cell_type": "code",
   "execution_count": 19,
   "metadata": {},
   "outputs": [],
   "source": [
    "base1 = pd.read_parquet(f'../../data/04-analysis/{country}/baseline/baseline_batch2.parquet')"
   ]
  },
  {
   "cell_type": "code",
   "execution_count": 20,
   "metadata": {},
   "outputs": [
    {
     "name": "stdout",
     "output_type": "stream",
     "text": [
      "<class 'pandas.core.frame.DataFrame'>\n",
      "RangeIndex: 8192943 entries, 0 to 8192942\n",
      "Data columns (total 15 columns):\n",
      " #   Column            Dtype  \n",
      "---  ------            -----  \n",
      " 0   author_id         object \n",
      " 1   id                object \n",
      " 2   conversation_id   object \n",
      " 3   created_at        object \n",
      " 4   text              object \n",
      " 5   total_shares      int32  \n",
      " 6   reply_count       int32  \n",
      " 7   like_count        int32  \n",
      " 8   quote_count       int32  \n",
      " 9   impression_count  int32  \n",
      " 10  lang2             object \n",
      " 11  total_reactions   int64  \n",
      " 12  total_comments    int64  \n",
      " 13  verifiability     float64\n",
      " 14  true              float64\n",
      "dtypes: float64(2), int32(5), int64(2), object(6)\n",
      "memory usage: 781.3+ MB\n"
     ]
    }
   ],
   "source": [
    "path_tw, base, rand, baseline, agg, agg_base = get_path(country, 'march')\n",
    "\n",
    "df_final = pd.DataFrame()\n",
    "for i in range(0, n_end):\n",
    "    df = pd.read_parquet(f'{agg}predicted/may_batch2{i}.parquet.gzip')\n",
    "    df_final = pd.concat([df_final, df])\n",
    "\n",
    "df_final = df_final.reset_index(drop=True)\n",
    "df_final.info()"
   ]
  },
  {
   "cell_type": "code",
   "execution_count": 21,
   "metadata": {},
   "outputs": [],
   "source": [
    "df_final['stage'] = np.where((df_final['created_at'] > '2023-04-31') & (df_final['created_at'] < '2023-05-15'), \n",
    "                             1, 2)\n",
    "metrics = [col for col in df_final.columns if 'total_' in col]\n",
    "cols = metrics + ['verifiability', 'true']"
   ]
  },
  {
   "cell_type": "code",
   "execution_count": 22,
   "metadata": {},
   "outputs": [
    {
     "name": "stderr",
     "output_type": "stream",
     "text": [
      "C:\\Users\\Dell\\AppData\\Local\\Temp\\ipykernel_21900\\3158369543.py:2: SettingWithCopyWarning: \n",
      "A value is trying to be set on a copy of a slice from a DataFrame.\n",
      "Try using .loc[row_indexer,col_indexer] = value instead\n",
      "\n",
      "See the caveats in the documentation: https://pandas.pydata.org/pandas-docs/stable/user_guide/indexing.html#returning-a-view-versus-a-copy\n",
      "  stage1['handle'] = stage1['author_id']\n"
     ]
    }
   ],
   "source": [
    "stage1 = df_final[df_final['stage'] == 1]\n",
    "stage1['handle'] = stage1['author_id']\n",
    "\n",
    "stage1_agg = summ_followers2(stage1)\n",
    "stage1_agg.rename(columns = {'handle':'username', \n",
    "                             'author_id':'follower_id'}, inplace = True)\n",
    "df_rt_agg, df_no_rt_agg = divide_and_conquer(stage1)\n",
    "\n",
    "stage1_agg = stage1_agg.drop(['username'], axis=1)\n",
    "df_rt_agg = df_rt_agg.drop(['username'], axis=1)\n",
    "df_no_rt_agg = df_no_rt_agg.drop(['username'], axis=1)\n",
    "\n",
    "base1 = base1.merge(df_rt_agg, on=['follower_id'], \n",
    "                  how='left')\n",
    "\n",
    "base1 = base1.merge(df_no_rt_agg, on=['follower_id'], \n",
    "                  how='left')\n",
    "\n",
    "base1 = base1.merge(stage1_agg, on=['follower_id'], \n",
    "                  how='left')\n",
    "\n",
    "cols_base = ([col for col in base1.columns if '_rt' in col] + \n",
    "             [col for col in base1.columns if '_no_rt' in col] + \n",
    "             cols + ['n_posts'])\n",
    "\n",
    "for x in cols_base:\n",
    "    base1[x] = np.where(base1[x].isnull(), 0, base1[x])\n",
    "    \n",
    "base1.to_parquet(f'{agg}aggregated/stage1_rt_batch2.parquet', \n",
    "                index=False)"
   ]
  },
  {
   "cell_type": "code",
   "execution_count": 25,
   "metadata": {},
   "outputs": [],
   "source": [
    "base1 = pd.read_parquet(f'../../data/04-analysis/{country}/baseline/baseline_batch2.parquet')"
   ]
  },
  {
   "cell_type": "code",
   "execution_count": 26,
   "metadata": {},
   "outputs": [
    {
     "name": "stderr",
     "output_type": "stream",
     "text": [
      "C:\\Users\\Dell\\AppData\\Local\\Temp\\ipykernel_21900\\1014534164.py:2: SettingWithCopyWarning: \n",
      "A value is trying to be set on a copy of a slice from a DataFrame.\n",
      "Try using .loc[row_indexer,col_indexer] = value instead\n",
      "\n",
      "See the caveats in the documentation: https://pandas.pydata.org/pandas-docs/stable/user_guide/indexing.html#returning-a-view-versus-a-copy\n",
      "  stage2['handle'] = stage2['author_id']\n"
     ]
    }
   ],
   "source": [
    "stage2 = df_final[df_final['stage'] == 2]\n",
    "stage2['handle'] = stage2['author_id']\n",
    "\n",
    "stage2_agg = summ_followers2(stage2)\n",
    "stage2_agg.rename(columns = {'handle':'username', \n",
    "                             'author_id':'follower_id'}, inplace = True)\n",
    "df_rt_agg, df_no_rt_agg = divide_and_conquer(stage2)\n",
    "\n",
    "stage2_agg = stage2_agg.drop(['username'], axis=1)\n",
    "df_rt_agg = df_rt_agg.drop(['username'], axis=1)\n",
    "df_no_rt_agg = df_no_rt_agg.drop(['username'], axis=1)\n",
    "\n",
    "base1 = base1.merge(df_rt_agg, on=['follower_id'], \n",
    "                  how='left')\n",
    "\n",
    "base1 = base1.merge(df_no_rt_agg, on=['follower_id'], \n",
    "                  how='left')\n",
    "\n",
    "base1 = base1.merge(stage2_agg, on=['follower_id'], \n",
    "                  how='left')\n",
    "\n",
    "cols_base = ([col for col in base1.columns if '_rt' in col] + \n",
    "             [col for col in base1.columns if '_no_rt' in col] + \n",
    "             cols + ['n_posts'])\n",
    "\n",
    "for x in cols_base:\n",
    "    base1[x] = np.where(base1[x].isnull(), 0, base1[x])\n",
    "    \n",
    "base1.to_parquet(f'{agg}aggregated/stage2_rt_batch2.parquet', \n",
    "                index=False)"
   ]
  }
 ],
 "metadata": {
  "kernelspec": {
   "display_name": "Python 3 (ipykernel)",
   "language": "python",
   "name": "python3"
  },
  "language_info": {
   "codemirror_mode": {
    "name": "ipython",
    "version": 3
   },
   "file_extension": ".py",
   "mimetype": "text/x-python",
   "name": "python",
   "nbconvert_exporter": "python",
   "pygments_lexer": "ipython3",
   "version": "3.9.12"
  }
 },
 "nbformat": 4,
 "nbformat_minor": 2
}
