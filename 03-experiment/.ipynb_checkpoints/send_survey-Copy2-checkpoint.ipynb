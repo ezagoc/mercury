{
 "cells": [
  {
   "cell_type": "code",
   "execution_count": 2,
   "id": "7bf8d92a",
   "metadata": {},
   "outputs": [],
   "source": [
    "import pandas as pd\n",
    "import os\n",
    "from os import listdir\n",
    "from tqdm import tqdm\n",
    "import requests\n",
    "import pandas as pd\n",
    "import os\n",
    "from os import listdir\n",
    "import re\n",
    "import json\n",
    "import numpy as np\n",
    "import requests\n",
    "import uuid\n",
    "from datetime import timedelta\n",
    "from bs4 import BeautifulSoup\n",
    "from unidecode import unidecode\n",
    "from datetime import date\n",
    "import datetime\n",
    "from tqdm import tqdm\n",
    "import ast\n",
    "from os import listdir\n",
    "import tweetple\n",
    "from tweetple import TweetPle\n",
    "import tweepy\n",
    "from time import sleep\n",
    "from random import randint\n",
    "from time import sleep\n",
    "\n",
    "\n",
    "tqdm.pandas()"
   ]
  },
  {
   "cell_type": "code",
   "execution_count": null,
   "id": "686b3f7e",
   "metadata": {},
   "outputs": [],
   "source": []
  },
  {
   "cell_type": "code",
   "execution_count": 28,
   "id": "6c44d1cd",
   "metadata": {},
   "outputs": [],
   "source": [
    "# assign tokens\n",
    "##JB\n",
    "consumer_key = '3AGiDL5LlPfWSNpp5Tf8SvGCX'\n",
    "consumer_secret = 'd2PTRlyo4kx8FbApzciNISegodocr6uTZaHdPRKqoAgfo7EFZU'\n",
    "access_token = '183708767-AFZJfTQMS6jhzAVi0qkyVlXRusyzoxElpnpO6cgK'\n",
    "access_token_secret = 'Tq9iqQr61rLp8N7q29FlCeUIsKveDCdyDBX4TNwvQTqkv'\n",
    "\n",
    "# authorization of consumer key and consumer secret\n",
    "auth = tweepy.OAuthHandler(consumer_key, consumer_secret)\n",
    "  \n",
    "# set access to user's access key and access secret \n",
    "auth.set_access_token(access_token, access_token_secret)\n",
    "  \n",
    "# calling the api \n",
    "api = tweepy.API(auth)\n"
   ]
  },
  {
   "cell_type": "code",
   "execution_count": 2,
   "id": "acca5833",
   "metadata": {},
   "outputs": [],
   "source": [
    "# assign tokens\n",
    "##HL\n",
    "consumer_key = '11pKNTz6xjlTIBTrxts4g7Nqq'\n",
    "consumer_secret = 'glXAO69SQ90qnwvmNwuaql2ysQSg6HQmZhjM5KhOSBm57KNut2'\n",
    "access_token = '1357614423410696200-h3WReWT9zuosra5Efbgcg3SmPDVSDj'\n",
    "access_token_secret = 'BYjDa0YGFSBqUP5FM3R7EL3kGOiyKOtS8rqEuVUe5qqYt'\n",
    "  \n",
    "# authorization of consumer key and consumer secret\n",
    "auth = tweepy.OAuthHandler(consumer_key, consumer_secret)\n",
    "  \n",
    "# set access to user's access key and access secret \n",
    "auth.set_access_token(access_token, access_token_secret)\n",
    "  \n",
    "# calling the api \n",
    "api = tweepy.API(auth)"
   ]
  },
  {
   "cell_type": "code",
   "execution_count": 3,
   "id": "25c64cd7",
   "metadata": {},
   "outputs": [],
   "source": [
    "# assign tokens\n",
    "##AB\n",
    "consumer_key = 'UWCRNFGEZ1UpEXN14QxzF8BCw'\n",
    "consumer_secret = 'ZyoyAGSVWr9Yne59dypdPgxo9bn4eNsZ9cXbnVgFirU7TWQs6V'\n",
    "access_token = '967997058111111168-pRWW7NR00VrBOMRiWz1fvflMQ7hFoUR'\n",
    "access_token_secret = 'NkXvLuXl63ebRmf26days8lzDfhGEF7TZM0QXSQtuNveQ'\n",
    "  \n",
    "# authorization of consumer key and consumer secret\n",
    "auth = tweepy.OAuthHandler(consumer_key, consumer_secret)\n",
    "  \n",
    "# set access to user's access key and access secret \n",
    "auth.set_access_token(access_token, access_token_secret)\n",
    "  \n",
    "# calling the api \n",
    "api = tweepy.API(auth)"
   ]
  },
  {
   "cell_type": "code",
   "execution_count": 59,
   "id": "d168e1a2",
   "metadata": {},
   "outputs": [],
   "source": [
    "# assign tokens\n",
    "##JM\n",
    "consumer_key = 'd1bNHheixVDLlRd9nHG5IcbPI'\n",
    "consumer_secret = 'JBwoq4YuR3MNCHG2wMBq1csDt9WfySFfFWuJ9QeoEsXsGlW4aP'\n",
    "access_token = '1487181498809823238-tIsQrTscieYcHXWoNAQJbu0EfeAI5M'\n",
    "access_token_secret = '3tM0wdJhXLugAYzZZdtmBPlVBC4i6cFPd1en7NjcGXG3R'\n",
    "  \n",
    "# authorization of consumer key and consumer secret\n",
    "auth = tweepy.OAuthHandler(consumer_key, consumer_secret)\n",
    "  \n",
    "# set access to user's access key and access secret \n",
    "auth.set_access_token(access_token, access_token_secret)\n",
    "  \n",
    "# calling the api \n",
    "api = tweepy.API(auth)"
   ]
  },
  {
   "cell_type": "code",
   "execution_count": null,
   "id": "259d47ae",
   "metadata": {},
   "outputs": [],
   "source": [
    "# assign tokens\n",
    "##EZ\n",
    "consumer_key = 'De5UKZsjldpTyP4vB77ClP5ZQ'\n",
    "consumer_secret = 'fp21xwvKHwFvIQ0p9ruFrWanw1mcGNGYLcmTxsftJ8ZpqkPlRZ'\n",
    "access_token = '222975792-ITvJ2nv4HD8V3QCLSKJwkyZzkeujKF0QsxX3zGNB'\n",
    "access_token_secret = 'oZb5xDAF1seKldIr7OunPanFpQgdSVNsWQtQxmfJU924Y'\n",
    "  \n",
    "# authorization of consumer key and consumer secret\n",
    "auth = tweepy.OAuthHandler(consumer_key, consumer_secret)\n",
    "  \n",
    "# set access to user's access key and access secret \n",
    "auth.set_access_token(access_token, access_token_secret)\n",
    "  \n",
    "# calling the api \n",
    "api = tweepy.API(auth)"
   ]
  },
  {
   "cell_type": "code",
   "execution_count": 4,
   "id": "5b26678b",
   "metadata": {},
   "outputs": [],
   "source": [
    "country='KE'\n",
    "citizen = 'Kenyan'\n",
    "#country='SA'\n",
    "#citizen = 'South African'\n",
    "survey = pd.read_csv(f'../../data/03-experiment/{country}/survey/1-qualtrics/Links_Full_second_batch.csv')"
   ]
  },
  {
   "cell_type": "code",
   "execution_count": 5,
   "id": "ddcce94b",
   "metadata": {},
   "outputs": [],
   "source": [
    "survey.rename(columns={'First Name':\"username\"}, inplace=True)"
   ]
  },
  {
   "cell_type": "code",
   "execution_count": 6,
   "id": "6b53aa51",
   "metadata": {},
   "outputs": [],
   "source": [
    "ids = pd.read_parquet(f'../../data/03-experiment/{country}/survey/0-open_dms/open_dms_batch2.parquet')"
   ]
  },
  {
   "cell_type": "code",
   "execution_count": 58,
   "id": "0e10b50e",
   "metadata": {},
   "outputs": [],
   "source": [
    "survey['username'] = (np.where(survey['Email Address'].str.contains('@'),\n",
    "                  survey['Email Address'].str.split('@').str[0],\n",
    "                  np.nan))\n"
   ]
  },
  {
   "cell_type": "code",
   "execution_count": 60,
   "id": "75f83076",
   "metadata": {},
   "outputs": [],
   "source": [
    "### correr esto cuando se quiera revisar quienes tienen dms abiertos usando la lista total de followers"
   ]
  },
  {
   "cell_type": "code",
   "execution_count": 18,
   "id": "06ba5e64",
   "metadata": {},
   "outputs": [
    {
     "name": "stderr",
     "output_type": "stream",
     "text": [
      "100%|██████████| 27/27 [00:10<00:00,  2.60it/s]\n"
     ]
    }
   ],
   "source": [
    "## revisar cuentas que tienen abiertos sus dms\n",
    "followers = list(ids.follower_id)\n",
    "can_dm = []\n",
    "error2 = []\n",
    "for i in tqdm(error):\n",
    "    try:\n",
    "        allowed = api.get_friendship(source_id = 183708767, target_id= i )[0].can_dm\n",
    "        if allowed == True:\n",
    "            can_dm.append(i)\n",
    "    except tweepy.TweepyException as e:\n",
    "        if e.args[0].split(' ')[0] == '429':\n",
    "            sleep(15*60)\n",
    "            error2.append(i)\n",
    "            print(i)"
   ]
  },
  {
   "cell_type": "code",
   "execution_count": 2,
   "id": "80a416a9",
   "metadata": {
    "collapsed": true
   },
   "outputs": [
    {
     "ename": "NameError",
     "evalue": "name 'ids' is not defined",
     "output_type": "error",
     "traceback": [
      "\u001b[0;31m---------------------------------------------------------------------------\u001b[0m",
      "\u001b[0;31mNameError\u001b[0m                                 Traceback (most recent call last)",
      "Input \u001b[0;32mIn [2]\u001b[0m, in \u001b[0;36m<cell line: 1>\u001b[0;34m()\u001b[0m\n\u001b[0;32m----> 1\u001b[0m can_dms \u001b[38;5;241m=\u001b[39m \u001b[43mids\u001b[49m[ids[\u001b[38;5;124m'\u001b[39m\u001b[38;5;124mfollower_id\u001b[39m\u001b[38;5;124m'\u001b[39m]\u001b[38;5;241m.\u001b[39misin(can_dm)]\u001b[38;5;241m.\u001b[39mreset_index(drop\u001b[38;5;241m=\u001b[39m\u001b[38;5;28;01mTrue\u001b[39;00m)\n\u001b[1;32m      2\u001b[0m can_dms_old \u001b[38;5;241m=\u001b[39m pd\u001b[38;5;241m.\u001b[39mread_parquet(\u001b[38;5;124mf\u001b[39m\u001b[38;5;124m'\u001b[39m\u001b[38;5;124m../../data/03-experiment/\u001b[39m\u001b[38;5;132;01m{\u001b[39;00mcountry\u001b[38;5;132;01m}\u001b[39;00m\u001b[38;5;124m/survey/0-open_dms/open_dms.parquet\u001b[39m\u001b[38;5;124m'\u001b[39m)\n\u001b[1;32m      3\u001b[0m can_dms \u001b[38;5;241m=\u001b[39m pd\u001b[38;5;241m.\u001b[39mconcat([can_dms, can_dms_old], axis\u001b[38;5;241m=\u001b[39m\u001b[38;5;241m0\u001b[39m)\u001b[38;5;241m.\u001b[39mdrop_duplicates(\u001b[38;5;124m'\u001b[39m\u001b[38;5;124mfollower_id\u001b[39m\u001b[38;5;124m'\u001b[39m)\u001b[38;5;241m.\u001b[39mreset_index(drop\u001b[38;5;241m=\u001b[39m\u001b[38;5;28;01mTrue\u001b[39;00m)\n",
      "\u001b[0;31mNameError\u001b[0m: name 'ids' is not defined"
     ]
    }
   ],
   "source": [
    "can_dms = ids[ids['follower_id'].isin(can_dm)].reset_index(drop=True)\n",
    "can_dms_old = pd.read_parquet(f'../../data/03-experiment/{country}/survey/0-open_dms/open_dms.parquet')\n",
    "can_dms = pd.concat([can_dms, can_dms_old], axis=0).drop_duplicates('follower_id').reset_index(drop=True)\n",
    "can_dms.to_parquet(f'../../data/03-experiment/{country}/survey/0-open_dms/open_dms.parquet')"
   ]
  },
  {
   "cell_type": "code",
   "execution_count": 7,
   "id": "abd21eae",
   "metadata": {},
   "outputs": [],
   "source": [
    "## hacer merge con links survey\n",
    "survey = pd.merge(survey,ids,on='username',how='left')"
   ]
  },
  {
   "cell_type": "code",
   "execution_count": 60,
   "id": "f9b113cb",
   "metadata": {},
   "outputs": [],
   "source": [
    "successes_old = pd.read_parquet(f'../../data/03-experiment/{country}/survey/2-successes/successes_b2.parquet')\n",
    "no_dms_old = pd.read_parquet(f'../../data/03-experiment/{country}/survey/3-no_dms/no_dm_b2.parquet')\n",
    "can_dms_old = pd.read_parquet(f'../../data/03-experiment/{country}/survey/0-open_dms/open_dms_batch2.parquet')\n",
    "successes_pilot = pd.read_parquet(f'../../../social-media-influencers-africa/data/03-experiment/{country}/survey/1-successes/successes.parquet')\n",
    "successes_b1 = pd.read_parquet(f'../../data/03-experiment/{country}/survey/2-successes/successes.parquet')"
   ]
  },
  {
   "cell_type": "code",
   "execution_count": 61,
   "id": "232288d0",
   "metadata": {},
   "outputs": [],
   "source": [
    "tries = list(successes_old.follower_id)+list(no_dms_old.follower_id)+list(successes_pilot.follower_id)+list(successes_b1.follower_id)"
   ]
  },
  {
   "cell_type": "code",
   "execution_count": 62,
   "id": "8688696d",
   "metadata": {},
   "outputs": [],
   "source": [
    "#quedarnos con usuarios a los que no les hemos mandando survey y tienen abiertos sus dms\n",
    "\n",
    "survey = survey[~survey['follower_id'].isin(tries)].reset_index(drop=True)\n",
    "survey = survey[survey['follower_id'].isin(can_dms_old.follower_id)].reset_index(drop=True)"
   ]
  },
  {
   "cell_type": "code",
   "execution_count": 9,
   "id": "28b07830",
   "metadata": {},
   "outputs": [],
   "source": [
    "links = list(survey.Link)\n",
    "ids = list(survey.follower_id)\n",
    "names = list(survey['username'])"
   ]
  },
  {
   "cell_type": "code",
   "execution_count": 10,
   "id": "5418f5a4",
   "metadata": {},
   "outputs": [
    {
     "data": {
      "text/plain": [
       "10307"
      ]
     },
     "execution_count": 10,
     "metadata": {},
     "output_type": "execute_result"
    }
   ],
   "source": [
    "len(survey)"
   ]
  },
  {
   "cell_type": "code",
   "execution_count": 11,
   "id": "b0afef17",
   "metadata": {},
   "outputs": [
    {
     "name": "stderr",
     "output_type": "stream",
     "text": [
      "28it [38:18, 72.50s/it]"
     ]
    },
    {
     "name": "stdout",
     "output_type": "stream",
     "text": [
      "403 Forbidden\n",
      "108 - Cannot find specified user.\n"
     ]
    },
    {
     "name": "stderr",
     "output_type": "stream",
     "text": [
      "50it [1:07:50, 103.01s/it]"
     ]
    },
    {
     "name": "stdout",
     "output_type": "stream",
     "text": [
      "403 Forbidden\n",
      "108 - Cannot find specified user.\n"
     ]
    },
    {
     "name": "stderr",
     "output_type": "stream",
     "text": [
      "101it [2:11:51, 84.61s/it]"
     ]
    },
    {
     "name": "stdout",
     "output_type": "stream",
     "text": [
      "403 Forbidden\n",
      "108 - Cannot find specified user.\n"
     ]
    },
    {
     "name": "stderr",
     "output_type": "stream",
     "text": [
      "143it [3:04:07, 79.78s/it] "
     ]
    },
    {
     "name": "stdout",
     "output_type": "stream",
     "text": [
      "403 Forbidden\n",
      "349 - You cannot send messages to this user.\n"
     ]
    },
    {
     "name": "stderr",
     "output_type": "stream",
     "text": [
      "167it [3:33:34, 67.66s/it]"
     ]
    },
    {
     "name": "stdout",
     "output_type": "stream",
     "text": [
      "403 Forbidden\n",
      "349 - You cannot send messages to this user.\n"
     ]
    },
    {
     "name": "stderr",
     "output_type": "stream",
     "text": [
      "213it [4:33:20, 85.98s/it]"
     ]
    },
    {
     "name": "stdout",
     "output_type": "stream",
     "text": [
      "403 Forbidden\n",
      "349 - You cannot send messages to this user.\n"
     ]
    },
    {
     "name": "stderr",
     "output_type": "stream",
     "text": [
      "222it [4:45:56, 78.55s/it]"
     ]
    },
    {
     "name": "stdout",
     "output_type": "stream",
     "text": [
      "403 Forbidden\n",
      "349 - You cannot send messages to this user.\n"
     ]
    },
    {
     "name": "stderr",
     "output_type": "stream",
     "text": [
      "298it [6:20:06, 70.38s/it]"
     ]
    },
    {
     "name": "stdout",
     "output_type": "stream",
     "text": [
      "403 Forbidden\n",
      "349 - You cannot send messages to this user.\n"
     ]
    },
    {
     "name": "stderr",
     "output_type": "stream",
     "text": [
      "344it [7:21:40, 77.04s/it]\n"
     ]
    },
    {
     "ename": "KeyboardInterrupt",
     "evalue": "",
     "output_type": "error",
     "traceback": [
      "\u001b[0;31m---------------------------------------------------------------------------\u001b[0m",
      "\u001b[0;31mKeyboardInterrupt\u001b[0m                         Traceback (most recent call last)",
      "Input \u001b[0;32mIn [11]\u001b[0m, in \u001b[0;36m<cell line: 4>\u001b[0;34m()\u001b[0m\n\u001b[1;32m      7\u001b[0m \u001b[38;5;66;03m# send the dm\u001b[39;00m\n\u001b[1;32m      8\u001b[0m \u001b[38;5;28;01mtry\u001b[39;00m:\n\u001b[0;32m----> 9\u001b[0m     \u001b[43msleep\u001b[49m\u001b[43m(\u001b[49m\u001b[43mrandint\u001b[49m\u001b[43m(\u001b[49m\u001b[38;5;241;43m30\u001b[39;49m\u001b[43m,\u001b[49m\u001b[38;5;241;43m120\u001b[39;49m\u001b[43m)\u001b[49m\u001b[43m)\u001b[49m\n\u001b[1;32m     10\u001b[0m     api\u001b[38;5;241m.\u001b[39msend_direct_message(i, text)\n\u001b[1;32m     11\u001b[0m     success\u001b[38;5;241m.\u001b[39mappend(i)\n",
      "\u001b[0;31mKeyboardInterrupt\u001b[0m: "
     ]
    }
   ],
   "source": [
    "success = []\n",
    "no_dm = []\n",
    "errores = []\n",
    "for i,j in tqdm(zip(ids[400:801],names[400:801])):\n",
    "    # the text to be tweeted\n",
    "    text = f\"Hello @{j} ! We are researchers from several North American universities conducting a short survey of {citizen} residents’ consumption and trust of different media sources, knowledge and views about the COVID-19 vaccine and misinformation. Your opinion is very valuable. If you complete the survey, you will enter a lottery to win 1 of 10 prizes worth 50 USD. \\n If you want to participate send us your email address and we will send you the link to the survey. \\n For any inquires please contact @HLarreguy, Principal Investigator.\"\n",
    "    # send the dm\n",
    "    try:\n",
    "        sleep(randint(30,120))\n",
    "        api.send_direct_message(i, text)\n",
    "        success.append(i)\n",
    "    except tweepy.TweepyException as e:\n",
    "        if e.args[0].split(' ')[0] == '420':\n",
    "            errores.append(i)\n",
    "            sleep(15*60)\n",
    "        elif 'cannot send messages' in e.args[0]:\n",
    "            print(e.args[0])\n",
    "            no_dm.append(i)\n",
    "        elif 'automated' in e.args[0]:\n",
    "            print(e.args[0])\n",
    "            errores.append(i)\n",
    "            sleep(120)\n",
    "        else:\n",
    "            errores.append(i)\n",
    "            print(e.args[0])\n",
    "#successes = survey[survey['follower_id'].isin(success)].reset_index(drop=True)\n",
    "#successes_old = pd.read_parquet(f'../../data/03-experiment/{country}/survey/1-successes/successes.parquet')\n",
    "#successes = pd.concat([successes, successes_old], axis=0)\n",
    "#successes.to_parquet(f'../../data/03-experiment/{country}/survey/1-successes/successes.parquet')"
   ]
  },
  {
   "cell_type": "code",
   "execution_count": 15,
   "id": "17ff6df1",
   "metadata": {},
   "outputs": [],
   "source": [
    "successes = survey[survey['follower_id'].isin(success)].reset_index(drop=True)\n",
    "successes_old = pd.read_parquet(f'../../data/03-experiment/{country}/survey/2-successes/successes_b2.parquet')\n",
    "successes = pd.concat([successes, successes_old], axis=0).drop_duplicates('follower_id').reset_index(drop=True)\n",
    "successes.to_parquet(f'../../data/03-experiment/{country}/survey/2-successes/successes_b2.parquet')"
   ]
  },
  {
   "cell_type": "code",
   "execution_count": 16,
   "id": "43222e63",
   "metadata": {},
   "outputs": [],
   "source": [
    "no_dms_1 = survey[survey['follower_id'].isin(no_dm)].reset_index(drop=True)\n",
    "no_dms_2 = pd.read_parquet(f'../../data/03-experiment/{country}/survey/3-no_dms/no_dm_b2.parquet')\n",
    "no_dms = pd.concat([no_dms_1, no_dms_2], axis=0).drop_duplicates('follower_id').reset_index(drop=True)\n",
    "no_dms.to_parquet(f'../../data/03-experiment/{country}/survey/3-no_dms/no_dm_b2.parquet')"
   ]
  },
  {
   "cell_type": "code",
   "execution_count": 23,
   "id": "184016e3",
   "metadata": {},
   "outputs": [
    {
     "data": {
      "text/plain": [
       "'https://itamnegocios.qualtrics.com/jfe/form/SV_81bgxYPATGLprSu?Q_CHL=gl&Q_DL=EMD_k5hjd1TPrlARxJM_81bgxYPATGLprSu_CGC_xdFrzM4x4tZ2jlJ&_g_=g'"
      ]
     },
     "execution_count": 23,
     "metadata": {},
     "output_type": "execute_result"
    }
   ],
   "source": [
    "list(survey[survey['username']=='khisajohn15']['Link'])[0]"
   ]
  },
  {
   "cell_type": "code",
   "execution_count": 16,
   "id": "a7657131",
   "metadata": {},
   "outputs": [
    {
     "data": {
      "text/plain": [
       "14"
      ]
     },
     "execution_count": 16,
     "metadata": {},
     "output_type": "execute_result"
    }
   ],
   "source": [
    "len(success)"
   ]
  },
  {
   "cell_type": "code",
   "execution_count": 17,
   "id": "8c15d17e",
   "metadata": {},
   "outputs": [
    {
     "data": {
      "text/plain": [
       "1033"
      ]
     },
     "execution_count": 17,
     "metadata": {},
     "output_type": "execute_result"
    }
   ],
   "source": [
    "len(successes)"
   ]
  },
  {
   "cell_type": "code",
   "execution_count": 27,
   "id": "9f66a9d7",
   "metadata": {},
   "outputs": [
    {
     "ename": "IndexError",
     "evalue": "list index out of range",
     "output_type": "error",
     "traceback": [
      "\u001b[0;31m---------------------------------------------------------------------------\u001b[0m",
      "\u001b[0;31mIndexError\u001b[0m                                Traceback (most recent call last)",
      "Input \u001b[0;32mIn [27]\u001b[0m, in \u001b[0;36m<cell line: 1>\u001b[0;34m()\u001b[0m\n\u001b[0;32m----> 1\u001b[0m \u001b[38;5;28;43mlist\u001b[39;49m\u001b[43m(\u001b[49m\u001b[43msurvey\u001b[49m\u001b[43m[\u001b[49m\u001b[43msurvey\u001b[49m\u001b[43m[\u001b[49m\u001b[38;5;124;43m'\u001b[39;49m\u001b[38;5;124;43musername\u001b[39;49m\u001b[38;5;124;43m'\u001b[39;49m\u001b[43m]\u001b[49m\u001b[38;5;241;43m==\u001b[39;49m\u001b[38;5;124;43m'\u001b[39;49m\u001b[38;5;124;43m_Korle\u001b[39;49m\u001b[38;5;124;43m'\u001b[39;49m\u001b[43m]\u001b[49m\u001b[43m[\u001b[49m\u001b[38;5;124;43m'\u001b[39;49m\u001b[38;5;124;43mLink\u001b[39;49m\u001b[38;5;124;43m'\u001b[39;49m\u001b[43m]\u001b[49m\u001b[43m)\u001b[49m\u001b[43m[\u001b[49m\u001b[38;5;241;43m0\u001b[39;49m\u001b[43m]\u001b[49m\n",
      "\u001b[0;31mIndexError\u001b[0m: list index out of range"
     ]
    }
   ],
   "source": [
    "list(survey[survey['username']=='_Korle']['Link'])[0]"
   ]
  },
  {
   "cell_type": "code",
   "execution_count": 38,
   "id": "40bfe9df",
   "metadata": {},
   "outputs": [],
   "source": [
    "successes.to_parquet(f'../../data/03-experiment/{country}/survey/1-successes/successes.parquet')"
   ]
  },
  {
   "cell_type": "markdown",
   "id": "7a28e068",
   "metadata": {},
   "source": [
    "### Tweet something from the API"
   ]
  },
  {
   "cell_type": "code",
   "execution_count": 29,
   "id": "94905700",
   "metadata": {},
   "outputs": [
    {
     "data": {
      "text/plain": [
       "Status(_api=<tweepy.api.API object at 0x127433130>, _json={'created_at': 'Mon May 08 16:36:21 +0000 2023', 'id': 1655612612510375938, 'id_str': '1655612612510375938', 'text': 'This is a tweet.', 'truncated': False, 'entities': {'hashtags': [], 'symbols': [], 'user_mentions': [], 'urls': []}, 'source': '<a href=\"http://cie.itam.mx/\" rel=\"nofollow\">quinoba</a>', 'in_reply_to_status_id': None, 'in_reply_to_status_id_str': None, 'in_reply_to_user_id': None, 'in_reply_to_user_id_str': None, 'in_reply_to_screen_name': None, 'user': {'id': 183708767, 'id_str': '183708767', 'name': 'Quino', 'screen_name': 'j_barrutia', 'location': 'México', 'description': '', 'url': 'https://t.co/wSSsSqGWbz', 'entities': {'url': {'urls': [{'url': 'https://t.co/wSSsSqGWbz', 'expanded_url': 'https://github.com/quinoba', 'display_url': 'github.com/quinoba', 'indices': [0, 23]}]}, 'description': {'urls': []}}, 'protected': False, 'followers_count': 163, 'friends_count': 356, 'listed_count': 0, 'created_at': 'Fri Aug 27 18:02:45 +0000 2010', 'favourites_count': 1943, 'utc_offset': None, 'time_zone': None, 'geo_enabled': True, 'verified': False, 'statuses_count': 1476, 'lang': None, 'contributors_enabled': False, 'is_translator': False, 'is_translation_enabled': False, 'profile_background_color': 'C0DEED', 'profile_background_image_url': 'http://abs.twimg.com/images/themes/theme1/bg.png', 'profile_background_image_url_https': 'https://abs.twimg.com/images/themes/theme1/bg.png', 'profile_background_tile': False, 'profile_image_url': 'http://pbs.twimg.com/profile_images/1473831298963812356/6SiLiv9k_normal.jpg', 'profile_image_url_https': 'https://pbs.twimg.com/profile_images/1473831298963812356/6SiLiv9k_normal.jpg', 'profile_banner_url': 'https://pbs.twimg.com/profile_banners/183708767/1622598566', 'profile_link_color': '1DA1F2', 'profile_sidebar_border_color': 'C0DEED', 'profile_sidebar_fill_color': 'DDEEF6', 'profile_text_color': '333333', 'profile_use_background_image': True, 'has_extended_profile': True, 'default_profile': True, 'default_profile_image': False, 'following': False, 'follow_request_sent': False, 'notifications': False, 'translator_type': 'none', 'withheld_in_countries': []}, 'geo': None, 'coordinates': None, 'place': None, 'contributors': None, 'is_quote_status': False, 'retweet_count': 0, 'favorite_count': 0, 'favorited': False, 'retweeted': False, 'lang': 'en'}, created_at=datetime.datetime(2023, 5, 8, 16, 36, 21, tzinfo=datetime.timezone.utc), id=1655612612510375938, id_str='1655612612510375938', text='This is a tweet.', truncated=False, entities={'hashtags': [], 'symbols': [], 'user_mentions': [], 'urls': []}, source='quinoba', source_url='http://cie.itam.mx/', in_reply_to_status_id=None, in_reply_to_status_id_str=None, in_reply_to_user_id=None, in_reply_to_user_id_str=None, in_reply_to_screen_name=None, author=User(_api=<tweepy.api.API object at 0x127433130>, _json={'id': 183708767, 'id_str': '183708767', 'name': 'Quino', 'screen_name': 'j_barrutia', 'location': 'México', 'description': '', 'url': 'https://t.co/wSSsSqGWbz', 'entities': {'url': {'urls': [{'url': 'https://t.co/wSSsSqGWbz', 'expanded_url': 'https://github.com/quinoba', 'display_url': 'github.com/quinoba', 'indices': [0, 23]}]}, 'description': {'urls': []}}, 'protected': False, 'followers_count': 163, 'friends_count': 356, 'listed_count': 0, 'created_at': 'Fri Aug 27 18:02:45 +0000 2010', 'favourites_count': 1943, 'utc_offset': None, 'time_zone': None, 'geo_enabled': True, 'verified': False, 'statuses_count': 1476, 'lang': None, 'contributors_enabled': False, 'is_translator': False, 'is_translation_enabled': False, 'profile_background_color': 'C0DEED', 'profile_background_image_url': 'http://abs.twimg.com/images/themes/theme1/bg.png', 'profile_background_image_url_https': 'https://abs.twimg.com/images/themes/theme1/bg.png', 'profile_background_tile': False, 'profile_image_url': 'http://pbs.twimg.com/profile_images/1473831298963812356/6SiLiv9k_normal.jpg', 'profile_image_url_https': 'https://pbs.twimg.com/profile_images/1473831298963812356/6SiLiv9k_normal.jpg', 'profile_banner_url': 'https://pbs.twimg.com/profile_banners/183708767/1622598566', 'profile_link_color': '1DA1F2', 'profile_sidebar_border_color': 'C0DEED', 'profile_sidebar_fill_color': 'DDEEF6', 'profile_text_color': '333333', 'profile_use_background_image': True, 'has_extended_profile': True, 'default_profile': True, 'default_profile_image': False, 'following': False, 'follow_request_sent': False, 'notifications': False, 'translator_type': 'none', 'withheld_in_countries': []}, id=183708767, id_str='183708767', name='Quino', screen_name='j_barrutia', location='México', description='', url='https://t.co/wSSsSqGWbz', entities={'url': {'urls': [{'url': 'https://t.co/wSSsSqGWbz', 'expanded_url': 'https://github.com/quinoba', 'display_url': 'github.com/quinoba', 'indices': [0, 23]}]}, 'description': {'urls': []}}, protected=False, followers_count=163, friends_count=356, listed_count=0, created_at=datetime.datetime(2010, 8, 27, 18, 2, 45, tzinfo=datetime.timezone.utc), favourites_count=1943, utc_offset=None, time_zone=None, geo_enabled=True, verified=False, statuses_count=1476, lang=None, contributors_enabled=False, is_translator=False, is_translation_enabled=False, profile_background_color='C0DEED', profile_background_image_url='http://abs.twimg.com/images/themes/theme1/bg.png', profile_background_image_url_https='https://abs.twimg.com/images/themes/theme1/bg.png', profile_background_tile=False, profile_image_url='http://pbs.twimg.com/profile_images/1473831298963812356/6SiLiv9k_normal.jpg', profile_image_url_https='https://pbs.twimg.com/profile_images/1473831298963812356/6SiLiv9k_normal.jpg', profile_banner_url='https://pbs.twimg.com/profile_banners/183708767/1622598566', profile_link_color='1DA1F2', profile_sidebar_border_color='C0DEED', profile_sidebar_fill_color='DDEEF6', profile_text_color='333333', profile_use_background_image=True, has_extended_profile=True, default_profile=True, default_profile_image=False, following=False, follow_request_sent=False, notifications=False, translator_type='none', withheld_in_countries=[]), user=User(_api=<tweepy.api.API object at 0x127433130>, _json={'id': 183708767, 'id_str': '183708767', 'name': 'Quino', 'screen_name': 'j_barrutia', 'location': 'México', 'description': '', 'url': 'https://t.co/wSSsSqGWbz', 'entities': {'url': {'urls': [{'url': 'https://t.co/wSSsSqGWbz', 'expanded_url': 'https://github.com/quinoba', 'display_url': 'github.com/quinoba', 'indices': [0, 23]}]}, 'description': {'urls': []}}, 'protected': False, 'followers_count': 163, 'friends_count': 356, 'listed_count': 0, 'created_at': 'Fri Aug 27 18:02:45 +0000 2010', 'favourites_count': 1943, 'utc_offset': None, 'time_zone': None, 'geo_enabled': True, 'verified': False, 'statuses_count': 1476, 'lang': None, 'contributors_enabled': False, 'is_translator': False, 'is_translation_enabled': False, 'profile_background_color': 'C0DEED', 'profile_background_image_url': 'http://abs.twimg.com/images/themes/theme1/bg.png', 'profile_background_image_url_https': 'https://abs.twimg.com/images/themes/theme1/bg.png', 'profile_background_tile': False, 'profile_image_url': 'http://pbs.twimg.com/profile_images/1473831298963812356/6SiLiv9k_normal.jpg', 'profile_image_url_https': 'https://pbs.twimg.com/profile_images/1473831298963812356/6SiLiv9k_normal.jpg', 'profile_banner_url': 'https://pbs.twimg.com/profile_banners/183708767/1622598566', 'profile_link_color': '1DA1F2', 'profile_sidebar_border_color': 'C0DEED', 'profile_sidebar_fill_color': 'DDEEF6', 'profile_text_color': '333333', 'profile_use_background_image': True, 'has_extended_profile': True, 'default_profile': True, 'default_profile_image': False, 'following': False, 'follow_request_sent': False, 'notifications': False, 'translator_type': 'none', 'withheld_in_countries': []}, id=183708767, id_str='183708767', name='Quino', screen_name='j_barrutia', location='México', description='', url='https://t.co/wSSsSqGWbz', entities={'url': {'urls': [{'url': 'https://t.co/wSSsSqGWbz', 'expanded_url': 'https://github.com/quinoba', 'display_url': 'github.com/quinoba', 'indices': [0, 23]}]}, 'description': {'urls': []}}, protected=False, followers_count=163, friends_count=356, listed_count=0, created_at=datetime.datetime(2010, 8, 27, 18, 2, 45, tzinfo=datetime.timezone.utc), favourites_count=1943, utc_offset=None, time_zone=None, geo_enabled=True, verified=False, statuses_count=1476, lang=None, contributors_enabled=False, is_translator=False, is_translation_enabled=False, profile_background_color='C0DEED', profile_background_image_url='http://abs.twimg.com/images/themes/theme1/bg.png', profile_background_image_url_https='https://abs.twimg.com/images/themes/theme1/bg.png', profile_background_tile=False, profile_image_url='http://pbs.twimg.com/profile_images/1473831298963812356/6SiLiv9k_normal.jpg', profile_image_url_https='https://pbs.twimg.com/profile_images/1473831298963812356/6SiLiv9k_normal.jpg', profile_banner_url='https://pbs.twimg.com/profile_banners/183708767/1622598566', profile_link_color='1DA1F2', profile_sidebar_border_color='C0DEED', profile_sidebar_fill_color='DDEEF6', profile_text_color='333333', profile_use_background_image=True, has_extended_profile=True, default_profile=True, default_profile_image=False, following=False, follow_request_sent=False, notifications=False, translator_type='none', withheld_in_countries=[]), geo=None, coordinates=None, place=None, contributors=None, is_quote_status=False, retweet_count=0, favorite_count=0, favorited=False, retweeted=False, lang='en')"
      ]
     },
     "execution_count": 29,
     "metadata": {},
     "output_type": "execute_result"
    }
   ],
   "source": [
    "# assign tokens\n",
    "consumer_key = '3AGiDL5LlPfWSNpp5Tf8SvGCX'\n",
    "consumer_secret = 'd2PTRlyo4kx8FbApzciNISegodocr6uTZaHdPRKqoAgfo7EFZU'\n",
    "access_token = '183708767-AFZJfTQMS6jhzAVi0qkyVlXRusyzoxElpnpO6cgK'\n",
    "access_token_secret = 'Tq9iqQr61rLp8N7q29FlCeUIsKveDCdyDBX4TNwvQTqkv'\n",
    "  \n",
    "# authorization of consumer key and consumer secret\n",
    "auth = tweepy.OAuthHandler(consumer_key, consumer_secret)\n",
    "  \n",
    "# set access to user's access key and access secret \n",
    "auth.set_access_token(access_token, access_token_secret)\n",
    "  \n",
    "# calling the api \n",
    "api = tweepy.API(auth)\n",
    "  \n",
    "# the text to be tweeted\n",
    "status = \"This is a tweet.\"\n",
    "  \n",
    "# posting the tweet\n",
    "\n",
    "api.update_status(status)"
   ]
  }
 ],
 "metadata": {
  "kernelspec": {
   "display_name": "Python 3",
   "language": "python",
   "name": "python3"
  },
  "language_info": {
   "codemirror_mode": {
    "name": "ipython",
    "version": 3
   },
   "file_extension": ".py",
   "mimetype": "text/x-python",
   "name": "python",
   "nbconvert_exporter": "python",
   "pygments_lexer": "ipython3",
   "version": "3.9.11"
  }
 },
 "nbformat": 4,
 "nbformat_minor": 5
}
