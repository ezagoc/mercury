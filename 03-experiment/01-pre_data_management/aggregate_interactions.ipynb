{
 "cells": [
  {
   "cell_type": "code",
   "execution_count": 1,
   "id": "190dffef",
   "metadata": {},
   "outputs": [],
   "source": [
    "import tweetple\n",
    "\n",
    "from tweetple import TweetPle\n",
    "import pyarrow\n",
    "import pandas as pd\n",
    "import os\n",
    "import glob\n",
    "import yaml\n",
    "import time\n",
    "import numpy as np\n",
    "\n",
    "import sys\n",
    "sys.path.insert(0, '../../src/utils')\n",
    "from funcs import *\n",
    "from tqdm import tqdm\n",
    "sys.path.insert(0, '../../src/utils')\n",
    "from general import *\n",
    "\n",
    "def unique_replies(tweets, path_read, path_save):\n",
    "    \"\"\"Get unique users replying to Tweets\n",
    "    shared by influencers\n",
    "    \"\"\"\n",
    "    col_a = 'replier_user_id'\n",
    "    col_b = 'tweet_replied'\n",
    "    col_c = 'influencer_id'\n",
    "    df = read_files(path_read)\n",
    "    df = df.drop_duplicates(['author_id', 'id', 'in_reply_to_user_id'])\n",
    "\n",
    "    df = df.rename(\n",
    "        {'author_id': col_a, 'id': col_b, 'in_reply_to_user_id': col_c},\n",
    "        axis=1\n",
    "    )\n",
    "    df = df.reset_index(drop=True)\n",
    "    df = df[[col_a, col_b, col_c]]\n",
    "    df.to_parquet(f'{path_save}replies.parquet')\n",
    "\n",
    "    return df\n",
    "\n",
    "def unique_likes(tweets, path_read, path_save):\n",
    "    \"\"\"Get unique users `liking users` of Tweets\n",
    "    shared by influencers\n",
    "    \"\"\"\n",
    "    col_a = 'liking_user_username'\n",
    "    col_b = 'tweet_liked'\n",
    "    col_c = 'influencer_id'\n",
    "    col_d = 'liking_user_id'\n",
    "    df = read_files(path_read)\n",
    "    df = df.drop_duplicates(['id', col_b])\n",
    "    df = df.rename(\n",
    "        {'id': col_d, 'username': col_a},\n",
    "        axis=1\n",
    "    )\n",
    "    df = df.reset_index(drop=True)\n",
    "    tweets = tweets[['author_id', 'id']]\n",
    "    tweets = tweets.rename(\n",
    "        {'author_id': col_c, 'id': col_b},\n",
    "        axis=1\n",
    "    )\n",
    "    df = df.merge(tweets, on=col_b, how='left')\n",
    "    df = df[\n",
    "        [col_d, col_a, col_b, col_c]\n",
    "    ]\n",
    "    df.to_parquet(f'{path_save}likes.parquet')\n",
    "\n",
    "    return df\n",
    "\n",
    "def scrape_followers(participants_tw, country, path_save):\n",
    "    b_path = f'../../data/01-characterize/followers/{country}/00-raw/'\n",
    "    file = 'integrate/followers.parquet.gzip'\n",
    "    a_followers = pd.read_parquet(f'{b_path}{file}')\n",
    "    a_followers = a_followers.rename(\n",
    "        {'id': 'follower_id', 'author_id_following': 'influencer_id'},\n",
    "        axis=1\n",
    "    )\n",
    "    participants_tw = participants_tw.rename(\n",
    "        {'author_id': 'influencer_id'},\n",
    "        axis=1\n",
    "    )\n",
    "    followers = a_followers[\n",
    "        a_followers.influencer_id.isin(participants_tw.influencer_id.unique())\n",
    "    ]\n",
    "    followers = followers.reset_index(drop=True)\n",
    "    followers = followers[['username','follower_id', 'influencer_id']]\n",
    "    followers.to_parquet(f'{path_save}followers.parquet')\n",
    "    \n",
    "    return followers\n",
    "\n",
    "def get_path(country):\n",
    "    base = f'../../data/03-experiment/{country}/baseline/'\n",
    "    path_tw = base + '00-raw/influencers/tweets/'\n",
    "    path_fb = base + '00-raw/influencers/posts/'\n",
    "    path_likes = f'{base}00-raw/influencers/likes/'\n",
    "    path_followers = f'{base}00-raw/influencers/followers/'\n",
    "    path_converstations = f'{base}00-raw/influencers/conversations/'\n",
    "    path_retweets = f'{base}00-raw/influencers/retweets/'\n",
    "    path_save =  f'{base}01-preprocess/influencers/'\n",
    "    return path_tw, path_fb, base, path_likes, path_followers, path_converstations, path_retweets, path_save\n",
    "\n",
    "country = 'SA'\n",
    "path_tw, path_fb, base, path_likes, path_followers, path_converstations, path_retweets, path_save = get_path(country)"
   ]
  },
  {
   "cell_type": "code",
   "execution_count": 2,
   "id": "905abe18",
   "metadata": {},
   "outputs": [],
   "source": [
    "participants_tw = pd.read_parquet(f'../../data/01-characterize/influencers/{country}/confirmed_influencers.parquet')\n",
    "participants_tw['author_id'] = participants_tw['id'].astype(str)\n",
    "participants_tw = participants_tw.drop(['id'], axis = 1)\n",
    "usernames_tw = list(participants_tw['handle'])\n",
    "ids_tw = list(participants_tw['author_id'].astype(str))"
   ]
  },
  {
   "cell_type": "code",
   "execution_count": 2,
   "id": "0684c73a",
   "metadata": {},
   "outputs": [],
   "source": [
    "tweets = pd.read_parquet(f\"{base}01-preprocess/influencers/tweets.parquet\")"
   ]
  },
  {
   "cell_type": "code",
   "execution_count": 98,
   "id": "6968f78b",
   "metadata": {},
   "outputs": [
    {
     "data": {
      "text/plain": [
       "'../../data/03-experiment/SA/baseline/00-raw/influencers/conversations/1605960786920312832.parquet'"
      ]
     },
     "execution_count": 98,
     "metadata": {},
     "output_type": "execute_result"
    }
   ],
   "source": [
    "glob.glob(path_converstations + \"/*.parquet\")[8160] #posiciones: 709, 8160 \n",
    "# archivos: 1604709183168839680.parquet, 1605907529652903936.parquet, 1605960786920312832.parquet"
   ]
  },
  {
   "cell_type": "code",
   "execution_count": 3,
   "id": "9a08b47b",
   "metadata": {},
   "outputs": [],
   "source": [
    "replies = unique_replies(tweets, path_converstations, path_save)"
   ]
  },
  {
   "cell_type": "code",
   "execution_count": 3,
   "id": "01babbff",
   "metadata": {},
   "outputs": [],
   "source": [
    "# Followers:\n",
    "follow = scrape_followers(participants_tw, country, path_save)"
   ]
  },
  {
   "cell_type": "code",
   "execution_count": 4,
   "id": "c45851da",
   "metadata": {},
   "outputs": [],
   "source": [
    "# Likes\n",
    "likes = unique_likes(tweets, path_likes, path_save)"
   ]
  },
  {
   "cell_type": "code",
   "execution_count": null,
   "id": "e2c9480f",
   "metadata": {},
   "outputs": [],
   "source": [
    "# Conversations\n",
    "replies = read_files(path_converstations)\n",
    "replies.to_parquet(f'{path_save}replies.parquet')"
   ]
  }
 ],
 "metadata": {
  "kernelspec": {
   "display_name": "Python 3 (ipykernel)",
   "language": "python",
   "name": "python3"
  },
  "language_info": {
   "codemirror_mode": {
    "name": "ipython",
    "version": 3
   },
   "file_extension": ".py",
   "mimetype": "text/x-python",
   "name": "python",
   "nbconvert_exporter": "python",
   "pygments_lexer": "ipython3",
   "version": "3.9.12"
  }
 },
 "nbformat": 4,
 "nbformat_minor": 5
}
