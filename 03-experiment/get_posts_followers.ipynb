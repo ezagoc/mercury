{
 "cells": [
  {
   "cell_type": "code",
   "execution_count": 2,
   "id": "3b83f2bb",
   "metadata": {},
   "outputs": [
    {
     "data": {
      "text/plain": [
       "40194"
      ]
     },
     "execution_count": 2,
     "metadata": {},
     "output_type": "execute_result"
    }
   ],
   "source": [
    "import tweetple\n",
    "\n",
    "from tweetple import TweetPle\n",
    "\n",
    "import pandas as pd\n",
    "import os\n",
    "import glob\n",
    "import yaml\n",
    "import time\n",
    "import numpy as np\n",
    "\n",
    "import warnings\n",
    "warnings.simplefilter(action='ignore', category=FutureWarning)\n",
    "\n",
    "from tqdm import tqdm\n",
    "\n",
    "def get_path(country, week, batch):\n",
    "    base = f'../../data/03-experiment/{country}/'\n",
    "    path_tw = base + f'treatment/followers/00-raw/tweets/{week}/'\n",
    "    rand = f'../../data/02-randomize/{country}/04-stratification/integrate/followers_randomized{batch}.parquet'\n",
    "    baseline = base + 'baseline/00-raw/followers/tweets/'\n",
    "    baseline_batch2 = base + 'baseline/00-raw/followers/tweets_batch2/'\n",
    "    return path_tw, base, rand, baseline, baseline_batch2\n",
    "\n",
    "\n",
    "path_tw, base, rand, baseline, baseline_batch2 = get_path('KE', 'april1', '_batch2')\n",
    "\n",
    "# What path are you choosing as output? Change it here:\n",
    "# baseline\n",
    "#path_s = baseline\n",
    "path_s = baseline_batch2\n",
    "# treatment\n",
    "#path_s = path_tw\n",
    "\n",
    "df = pd.read_parquet(rand)\n",
    "\n",
    "from os import listdir\n",
    "from os.path import isfile, join\n",
    "# Change baseline to \n",
    "mypath = path_s\n",
    "id_final = df['username'].tolist()\n",
    "onlyfiles = [f for f in listdir(mypath) if isfile(join(mypath, f))]\n",
    "onlyfiles = [f.replace('.parquet', '') for f in onlyfiles]\n",
    "#ids de tweets\n",
    "#ids_tweets = list(df.id)\n",
    "ids = list(set(id_final).difference(onlyfiles))\n",
    "ids.sort()\n",
    "len(ids)"
   ]
  },
  {
   "cell_type": "code",
   "execution_count": null,
   "id": "f45655af",
   "metadata": {},
   "outputs": [
    {
     "name": "stderr",
     "output_type": "stream",
     "text": [
      "  1%|▍                                                                          | 252/40194 [06:09<15:53:54,  1.43s/it]"
     ]
    }
   ],
   "source": [
    "#Bearer Token de Academic Twitter API\n",
    "bearer_token = \"AAAAAAAAAAAAAAAAAAAAAPLTMQEAAAAACSsXWirDTJJ6LdSIWv2nIphsXBk%3D3jSj3V6PeCNcSKYQ54IK46adw1Q3m6AGvbllvkzwGbXZ6WD3Fh\"\n",
    "## BASELINE DATES\n",
    "#start =  '2022-12-11T00:00:00Z'\n",
    "#end = '2023-03-12T00:00:00Z'\n",
    "\n",
    "### BATCH2:\n",
    "start =  '2023-02-01T00:00:00Z'\n",
    "end = '2023-05-01T00:00:00Z'\n",
    "\n",
    "### march\n",
    "#start =  '2023-03-12T00:00:00Z'\n",
    "#end = '2023-04-09T00:00:00Z'\n",
    "\n",
    "### april1\n",
    "#start =  '2023-04-09T00:00:00Z'\n",
    "#end = '2023-04-23T00:00:00Z'\n",
    "\n",
    "### January 0\n",
    "#start =  '2023-01-02T00:00:00Z'\n",
    "#end = '2023-01-15T00:00:00Z'\n",
    "\n",
    "### January 1\n",
    "#start =  '2023-01-15T00:00:00Z'\n",
    "#end = '2023-01-29T00:00:00Z'\n",
    "\n",
    "### February 0\n",
    "#start =  '2023-01-29T00:00:00Z'\n",
    "#end = '2023-02-05T00:00:00Z'\n",
    "\n",
    "TweetPle.TweetStreamer(ids, bearer_token, path_save = path_s, start_time = start, end_time = end).main()"
   ]
  },
  {
   "cell_type": "code",
   "execution_count": null,
   "id": "a1aa9fe9",
   "metadata": {},
   "outputs": [],
   "source": []
  }
 ],
 "metadata": {
  "kernelspec": {
   "display_name": "Python 3 (ipykernel)",
   "language": "python",
   "name": "python3"
  },
  "language_info": {
   "codemirror_mode": {
    "name": "ipython",
    "version": 3
   },
   "file_extension": ".py",
   "mimetype": "text/x-python",
   "name": "python",
   "nbconvert_exporter": "python",
   "pygments_lexer": "ipython3",
   "version": "3.9.12"
  }
 },
 "nbformat": 4,
 "nbformat_minor": 5
}
