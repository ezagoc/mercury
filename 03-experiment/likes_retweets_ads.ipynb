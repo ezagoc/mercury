{
 "cells": [
  {
   "cell_type": "code",
   "execution_count": 1,
   "id": "6ec8c423",
   "metadata": {},
   "outputs": [],
   "source": [
    "import numpy as np\n",
    "import pandas as pd\n",
    "from os import listdir\n",
    "import os\n",
    "from tqdm import tqdm\n",
    "import tweetple\n",
    "from tweetple import TweetPle\n",
    "import sys\n"
   ]
  },
  {
   "cell_type": "code",
   "execution_count": 6,
   "id": "67fdc5e6",
   "metadata": {},
   "outputs": [
    {
     "data": {
      "text/plain": [
       "-1720.0"
      ]
     },
     "execution_count": 6,
     "metadata": {},
     "output_type": "execute_result"
    }
   ],
   "source": [
    "(2506+3257+22245+8746-40194)/2"
   ]
  },
  {
   "cell_type": "code",
   "execution_count": 7,
   "id": "a284d643",
   "metadata": {},
   "outputs": [
    {
     "data": {
      "text/plain": [
       "4226"
      ]
     },
     "execution_count": 7,
     "metadata": {},
     "output_type": "execute_result"
    }
   ],
   "source": [
    "2506+1720"
   ]
  },
  {
   "cell_type": "code",
   "execution_count": 8,
   "id": "f44bee0f",
   "metadata": {},
   "outputs": [
    {
     "data": {
      "text/plain": [
       "10466"
      ]
     },
     "execution_count": 8,
     "metadata": {},
     "output_type": "execute_result"
    }
   ],
   "source": [
    "8746+1720"
   ]
  },
  {
   "cell_type": "code",
   "execution_count": 2,
   "id": "39c75d3d",
   "metadata": {},
   "outputs": [],
   "source": [
    "ads = pd.read_excel(\"../../data/03-experiment/ads/0-analytics/2023-03-01-to-2023-05-01-agg.xlsx\")"
   ]
  },
  {
   "cell_type": "code",
   "execution_count": 3,
   "id": "65254e73",
   "metadata": {},
   "outputs": [],
   "source": [
    "ids = list(ads['id'])"
   ]
  },
  {
   "cell_type": "code",
   "execution_count": 7,
   "id": "09a4933d",
   "metadata": {},
   "outputs": [
    {
     "name": "stderr",
     "output_type": "stream",
     "text": [
      " 29%|██▊       | 8/28 [03:01<07:33, 22.65s/it]/Users/joaquinbarrutia/miniforge3/envs/env_tf/lib/python3.9/site-packages/tweetple/TwitterFullArchive.py:388: FutureWarning: The frame.append method is deprecated and will be removed from pandas in a future version. Use pandas.concat instead.\n",
      "  df = df.append(pd.DataFrame(\n",
      " 36%|███▌      | 10/28 [03:58<07:32, 25.16s/it]/Users/joaquinbarrutia/miniforge3/envs/env_tf/lib/python3.9/site-packages/tweetple/TwitterFullArchive.py:388: FutureWarning: The frame.append method is deprecated and will be removed from pandas in a future version. Use pandas.concat instead.\n",
      "  df = df.append(pd.DataFrame(\n",
      " 50%|█████     | 14/28 [05:40<05:42, 24.47s/it]/Users/joaquinbarrutia/miniforge3/envs/env_tf/lib/python3.9/site-packages/tweetple/TwitterFullArchive.py:388: FutureWarning: The frame.append method is deprecated and will be removed from pandas in a future version. Use pandas.concat instead.\n",
      "  df = df.append(pd.DataFrame(\n",
      "/Users/joaquinbarrutia/miniforge3/envs/env_tf/lib/python3.9/site-packages/tweetple/TwitterFullArchive.py:388: FutureWarning: The frame.append method is deprecated and will be removed from pandas in a future version. Use pandas.concat instead.\n",
      "  df = df.append(pd.DataFrame(\n",
      " 79%|███████▊  | 22/28 [09:05<02:19, 23.33s/it]/Users/joaquinbarrutia/miniforge3/envs/env_tf/lib/python3.9/site-packages/tweetple/TwitterFullArchive.py:388: FutureWarning: The frame.append method is deprecated and will be removed from pandas in a future version. Use pandas.concat instead.\n",
      "  df = df.append(pd.DataFrame(\n",
      "/Users/joaquinbarrutia/miniforge3/envs/env_tf/lib/python3.9/site-packages/tweetple/TwitterFullArchive.py:388: FutureWarning: The frame.append method is deprecated and will be removed from pandas in a future version. Use pandas.concat instead.\n",
      "  df = df.append(pd.DataFrame(\n",
      "100%|██████████| 28/28 [20:40<00:00, 44.32s/it] \n"
     ]
    }
   ],
   "source": [
    "save = '../../data/03-experiment/ads/1-likes/'\n",
    "bearer_token = 'AAAAAAAAAAAAAAAAAAAAAFpgZAEAAAAAbJS59UWzipi32ixd7LHtXov9olo%3D7gxD8Afshgj4munMXHLU08jzRdTpsAh4RZqq7VBofq1wAvkx1T'\n",
    "\n",
    "TweetPle.TweepleStreamer(ids, bearer_token, path_save = save).likes_lookup()\n",
    "\n"
   ]
  },
  {
   "cell_type": "code",
   "execution_count": 8,
   "id": "47382434",
   "metadata": {},
   "outputs": [
    {
     "name": "stderr",
     "output_type": "stream",
     "text": [
      "100%|██████████| 28/28 [10:33<00:00, 22.61s/it]\n"
     ]
    }
   ],
   "source": [
    "save = '../../data/03-experiment/ads/2-retweets/'\n",
    "bearer_token = 'AAAAAAAAAAAAAAAAAAAAAFpgZAEAAAAAbJS59UWzipi32ixd7LHtXov9olo%3D7gxD8Afshgj4munMXHLU08jzRdTpsAh4RZqq7VBofq1wAvkx1T'\n",
    "\n",
    "TweetPle.TweepleStreamer(ids, bearer_token, path_save = save).retweet_lookup()"
   ]
  },
  {
   "cell_type": "code",
   "execution_count": 10,
   "id": "045d5bc8",
   "metadata": {},
   "outputs": [
    {
     "name": "stdout",
     "output_type": "stream",
     "text": [
      "0 1636517707368767489\n",
      "1 1637604873452789761\n",
      "2 1636517711843938304\n",
      "3 1636517711579877376\n",
      "4 1637604869807783942\n",
      "5 1640305663250436096\n",
      "6 1637604868067323904\n",
      "7 1637604869413502977\n",
      "8 1640126490057535490\n",
      "9 1640126482696798208\n",
      "10 1640126489994620928\n",
      "11 1640126483539849217\n",
      "12 1642663207205519361\n",
      "13 1642663197781139456\n",
      "14 1643176589520408576\n",
      "15 1642663198016016384\n",
      "16 1645334801589624833\n",
      "17 1645199912764596224\n",
      "18 1645199918032891905\n",
      "19 1645199912680960001\n",
      "20 1647736629875056641\n",
      "21 1647736634115522560\n",
      "22 1647736630596497408\n",
      "23 1647736634010660864\n",
      "24 1650273346138013696\n",
      "25 1650273350797631490\n",
      "26 1650273348125966336\n",
      "27 1650273348902060033\n"
     ]
    }
   ],
   "source": [
    "save = '../../data/03-experiment/ads/3-replies/'\n",
    "bearer_token = 'AAAAAAAAAAAAAAAAAAAAAFpgZAEAAAAAbJS59UWzipi32ixd7LHtXov9olo%3D7gxD8Afshgj4munMXHLU08jzRdTpsAh4RZqq7VBofq1wAvkx1T'\n",
    "TweetPle.get_threads(ids, bearer_token, save)"
   ]
  },
  {
   "cell_type": "markdown",
   "id": "b776a78e",
   "metadata": {},
   "source": [
    "SMIS"
   ]
  },
  {
   "cell_type": "code",
   "execution_count": 2,
   "id": "277700ff",
   "metadata": {},
   "outputs": [],
   "source": [
    "ke = pd.read_parquet('../../data/06-others/ids_KE.parquet')"
   ]
  },
  {
   "cell_type": "code",
   "execution_count": 3,
   "id": "248d50af",
   "metadata": {},
   "outputs": [
    {
     "data": {
      "text/html": [
       "<div>\n",
       "<style scoped>\n",
       "    .dataframe tbody tr th:only-of-type {\n",
       "        vertical-align: middle;\n",
       "    }\n",
       "\n",
       "    .dataframe tbody tr th {\n",
       "        vertical-align: top;\n",
       "    }\n",
       "\n",
       "    .dataframe thead th {\n",
       "        text-align: right;\n",
       "    }\n",
       "</style>\n",
       "<table border=\"1\" class=\"dataframe\">\n",
       "  <thead>\n",
       "    <tr style=\"text-align: right;\">\n",
       "      <th></th>\n",
       "      <th>username</th>\n",
       "      <th>username2</th>\n",
       "      <th>tweet_id</th>\n",
       "    </tr>\n",
       "  </thead>\n",
       "  <tbody>\n",
       "    <tr>\n",
       "      <th>0</th>\n",
       "      <td>MbuthiaAmina</td>\n",
       "      <td>id_1</td>\n",
       "      <td>1619923362402148352</td>\n",
       "    </tr>\n",
       "    <tr>\n",
       "      <th>1</th>\n",
       "      <td>MbuthiaAmina</td>\n",
       "      <td>id_2</td>\n",
       "      <td>1619238000382324736</td>\n",
       "    </tr>\n",
       "    <tr>\n",
       "      <th>2</th>\n",
       "      <td>MbuthiaAmina</td>\n",
       "      <td>id_3</td>\n",
       "      <td>1618678849579147264</td>\n",
       "    </tr>\n",
       "    <tr>\n",
       "      <th>3</th>\n",
       "      <td>MbuthiaAmina</td>\n",
       "      <td>id_4</td>\n",
       "      <td>1617496295198834689</td>\n",
       "    </tr>\n",
       "    <tr>\n",
       "      <th>4</th>\n",
       "      <td>MbuthiaAmina</td>\n",
       "      <td>id_5</td>\n",
       "      <td>1615392691843481601</td>\n",
       "    </tr>\n",
       "    <tr>\n",
       "      <th>...</th>\n",
       "      <td>...</td>\n",
       "      <td>...</td>\n",
       "      <td>...</td>\n",
       "    </tr>\n",
       "    <tr>\n",
       "      <th>59</th>\n",
       "      <td>DannyGona</td>\n",
       "      <td>id_8</td>\n",
       "      <td>1608651615560691712</td>\n",
       "    </tr>\n",
       "    <tr>\n",
       "      <th>60</th>\n",
       "      <td>DannyGona</td>\n",
       "      <td>id_9</td>\n",
       "      <td>1607553965331255296</td>\n",
       "    </tr>\n",
       "    <tr>\n",
       "      <th>61</th>\n",
       "      <td>DannyGona</td>\n",
       "      <td>id_10</td>\n",
       "      <td>1606302191710453761</td>\n",
       "    </tr>\n",
       "    <tr>\n",
       "      <th>62</th>\n",
       "      <td>DannyGona</td>\n",
       "      <td>id_11</td>\n",
       "      <td>1605080196259803137</td>\n",
       "    </tr>\n",
       "    <tr>\n",
       "      <th>63</th>\n",
       "      <td>DannyGona</td>\n",
       "      <td>id_12</td>\n",
       "      <td>1604018763082383361</td>\n",
       "    </tr>\n",
       "  </tbody>\n",
       "</table>\n",
       "<p>64 rows × 3 columns</p>\n",
       "</div>"
      ],
      "text/plain": [
       "        username username2             tweet_id\n",
       "0   MbuthiaAmina      id_1  1619923362402148352\n",
       "1   MbuthiaAmina      id_2  1619238000382324736\n",
       "2   MbuthiaAmina      id_3  1618678849579147264\n",
       "3   MbuthiaAmina      id_4  1617496295198834689\n",
       "4   MbuthiaAmina      id_5  1615392691843481601\n",
       "..           ...       ...                  ...\n",
       "59     DannyGona      id_8  1608651615560691712\n",
       "60     DannyGona      id_9  1607553965331255296\n",
       "61     DannyGona     id_10  1606302191710453761\n",
       "62     DannyGona     id_11  1605080196259803137\n",
       "63     DannyGona     id_12  1604018763082383361\n",
       "\n",
       "[64 rows x 3 columns]"
      ]
     },
     "execution_count": 3,
     "metadata": {},
     "output_type": "execute_result"
    }
   ],
   "source": [
    "ke"
   ]
  },
  {
   "cell_type": "code",
   "execution_count": 4,
   "id": "8c5622d7",
   "metadata": {},
   "outputs": [
    {
     "data": {
      "text/plain": [
       "['1619923362402148352',\n",
       " '1619238000382324736',\n",
       " '1618678849579147264',\n",
       " '1617496295198834689',\n",
       " '1615392691843481601',\n",
       " '1612398336182751232',\n",
       " '1608892432904785920',\n",
       " '1607993453140393985',\n",
       " '1605903619789766656',\n",
       " '1603807213293912073',\n",
       " '1602575704012783616',\n",
       " '1601116231456948224',\n",
       " '1600164997484597249',\n",
       " '1617891239931830278',\n",
       " '1617890576933818368',\n",
       " '1617566057501261824',\n",
       " '1617473046578593792',\n",
       " '1616698290833326080',\n",
       " '1602961486078525440',\n",
       " '1618926979088257024',\n",
       " '1617589259480727583',\n",
       " '1616514361241243653',\n",
       " '1614909212194226177',\n",
       " '1613961758921691136',\n",
       " '1612551748232552451',\n",
       " '1611435062402158602',\n",
       " '1609213743472197632',\n",
       " '1607689576914771970',\n",
       " '1607689576914771970',\n",
       " '1606311591342837766',\n",
       " '1604920847197667328',\n",
       " '1604863608986312704',\n",
       " '1602347326105944064',\n",
       " '1601213304227397632',\n",
       " '1599688336418881536',\n",
       " '1618875042884096001',\n",
       " '1617769911035768832',\n",
       " '1616386836225527809',\n",
       " '1614848367082835968',\n",
       " '1613873764084621320',\n",
       " '1611260614290063360',\n",
       " '1610186858553831424',\n",
       " '1608695742616731648',\n",
       " '1608695742616731648',\n",
       " '1607984305955024897',\n",
       " '1606205249626177537',\n",
       " '1606215601189539843',\n",
       " '1604795761497378816',\n",
       " '1603703477569556481',\n",
       " '1602924881087238145',\n",
       " '1600709253882314755',\n",
       " '1599727382855680000',\n",
       " '1618822613249441793',\n",
       " '1617520911477006341',\n",
       " '1616181213341028352',\n",
       " '1613924217698881537',\n",
       " '1612804960025968640',\n",
       " '1611165947758264322',\n",
       " '1610094074865795072',\n",
       " '1608651615560691712',\n",
       " '1607553965331255296',\n",
       " '1606302191710453761',\n",
       " '1605080196259803137',\n",
       " '1604018763082383361']"
      ]
     },
     "execution_count": 4,
     "metadata": {},
     "output_type": "execute_result"
    }
   ],
   "source": [
    "ids = list(ke['tweet_id'].astype(str))\n",
    "ids"
   ]
  },
  {
   "cell_type": "code",
   "execution_count": 5,
   "id": "38fe5c80",
   "metadata": {},
   "outputs": [
    {
     "name": "stderr",
     "output_type": "stream",
     "text": [
      "100%|██████████████████████████████████████████████████████████████████████████████████| 64/64 [21:07<00:00, 19.81s/it]\n"
     ]
    }
   ],
   "source": [
    "save = '../../data/03-experiment/smis/likes/'\n",
    "bearer_token = 'AAAAAAAAAAAAAAAAAAAAAAA0ZAEAAAAAQyJL09AyaJy6%2BqJSjdSNJF8mG7k%3D6aLu9bxFdeXAFanGaB4GzpuMspiEBhGnCgb7D8C27ZBvUm27JX'\n",
    "\n",
    "TweetPle.TweepleStreamer(ids, bearer_token, path_save = save).likes_lookup()"
   ]
  },
  {
   "cell_type": "code",
   "execution_count": null,
   "id": "b118349b",
   "metadata": {},
   "outputs": [],
   "source": [
    "save = '../../data/03-experiment/smis/rts/'\n",
    "bearer_token = 'AAAAAAAAAAAAAAAAAAAAAAA0ZAEAAAAAQyJL09AyaJy6%2BqJSjdSNJF8mG7k%3D6aLu9bxFdeXAFanGaB4GzpuMspiEBhGnCgb7D8C27ZBvUm27JX'\n",
    "\n",
    "TweetPle.TweepleStreamer(ids, bearer_token, path_save = save).retweet_lookup()"
   ]
  },
  {
   "cell_type": "code",
   "execution_count": 6,
   "id": "277c36ae",
   "metadata": {},
   "outputs": [
    {
     "name": "stdout",
     "output_type": "stream",
     "text": [
      "0 1619923362402148352\n",
      "1 1619238000382324736\n",
      "2 1618678849579147264\n",
      "3 1617496295198834689\n",
      "4 1615392691843481601\n",
      "5 1612398336182751232\n",
      "6 1608892432904785920\n",
      "7 1607993453140393985\n",
      "8 1605903619789766656\n",
      "9 1603807213293912073\n",
      "10 1602575704012783616\n",
      "11 1601116231456948224\n",
      "12 1600164997484597249\n",
      "13 1617891239931830278\n",
      "14 1617890576933818368\n",
      "15 1617566057501261824\n",
      "16 1617473046578593792\n",
      "17 1616698290833326080\n",
      "18 1602961486078525440\n",
      "19 1618926979088257024\n",
      "20 1617589259480727583\n",
      "21 1616514361241243653\n",
      "22 1614909212194226177\n",
      "23 1613961758921691136\n",
      "24 1612551748232552451\n",
      "25 1611435062402158602\n",
      "26 1609213743472197632\n",
      "27 1607689576914771970\n",
      "28 1607689576914771970\n",
      "29 1606311591342837766\n",
      "30 1604920847197667328\n",
      "31 1604863608986312704\n",
      "32 1602347326105944064\n",
      "33 1601213304227397632\n",
      "34 1599688336418881536\n",
      "35 1618875042884096001\n",
      "36 1617769911035768832\n",
      "37 1616386836225527809\n",
      "38 1614848367082835968\n",
      "39 1613873764084621320\n",
      "40 1611260614290063360\n",
      "41 1610186858553831424\n",
      "42 1608695742616731648\n",
      "43 1608695742616731648\n",
      "44 1607984305955024897\n",
      "45 1606205249626177537\n",
      "46 1606215601189539843\n",
      "47 1604795761497378816\n",
      "48 1603703477569556481\n",
      "49 1602924881087238145\n",
      "50 1600709253882314755\n",
      "51 1599727382855680000\n",
      "52 1618822613249441793\n",
      "53 1617520911477006341\n",
      "54 1616181213341028352\n",
      "55 1613924217698881537\n",
      "56 1612804960025968640\n",
      "57 1611165947758264322\n",
      "58 1610094074865795072\n",
      "59 1608651615560691712\n",
      "60 1607553965331255296\n",
      "61 1606302191710453761\n",
      "62 1605080196259803137\n",
      "63 1604018763082383361\n"
     ]
    }
   ],
   "source": [
    "save = '../../data/03-experiment/smis/replies/'\n",
    "TweetPle.get_threads(ids, bearer_token, save)"
   ]
  },
  {
   "cell_type": "code",
   "execution_count": null,
   "id": "9f9e2201",
   "metadata": {},
   "outputs": [],
   "source": []
  }
 ],
 "metadata": {
  "kernelspec": {
   "display_name": "Python 3",
   "language": "python",
   "name": "python3"
  },
  "language_info": {
   "codemirror_mode": {
    "name": "ipython",
    "version": 3
   },
   "file_extension": ".py",
   "mimetype": "text/x-python",
   "name": "python",
   "nbconvert_exporter": "python",
   "pygments_lexer": "ipython3",
   "version": "3.9.11"
  }
 },
 "nbformat": 4,
 "nbformat_minor": 5
}
