{
 "cells": [
  {
   "cell_type": "code",
   "execution_count": 3,
   "id": "94e0aad5",
   "metadata": {},
   "outputs": [
    {
     "data": {
      "text/plain": [
       "44201"
      ]
     },
     "execution_count": 3,
     "metadata": {},
     "output_type": "execute_result"
    }
   ],
   "source": [
    "import tweetple\n",
    "\n",
    "from tweetple import TweetPle\n",
    "\n",
    "import pandas as pd\n",
    "import os\n",
    "import glob\n",
    "import yaml\n",
    "import time\n",
    "import numpy as np\n",
    "\n",
    "import warnings\n",
    "warnings.simplefilter(action='ignore', category=FutureWarning)\n",
    "\n",
    "from tqdm import tqdm\n",
    "\n",
    "def get_path(country, week):\n",
    "    base = f'../../data/03-experiment/{country}/'\n",
    "    path_tw = base + f'treatment/followers/00-raw/tweets/{week}/'\n",
    "    rand = f'../../data/02-randomize/{country}/04-stratification/integrate/followers_randomized.parquet'\n",
    "    baseline = base + 'baseline/00-raw/followers/tweets/'\n",
    "    return path_tw, base, rand, baseline\n",
    "\n",
    "\n",
    "path_tw, base, rand, baseline = get_path('SA', 'march0')\n",
    "\n",
    "# What path are you choosing as output? Change it here:\n",
    "# baseline\n",
    "path_s = baseline\n",
    "# treatment\n",
    "# path_s = path_tw\n",
    "\n",
    "df = pd.read_parquet(rand)\n",
    "\n",
    "from os import listdir\n",
    "from os.path import isfile, join\n",
    "# Change baseline to \n",
    "mypath = path_s\n",
    "id_final = df['username'].tolist()\n",
    "onlyfiles = [f for f in listdir(mypath) if isfile(join(mypath, f))]\n",
    "onlyfiles = [f.replace('.parquet', '') for f in onlyfiles]\n",
    "#ids de tweets\n",
    "#ids_tweets = list(df.id)\n",
    "ids = list(set(id_final).difference(onlyfiles))\n",
    "ids.sort()\n",
    "len(ids)"
   ]
  },
  {
   "cell_type": "code",
   "execution_count": 4,
   "id": "e8e010ba",
   "metadata": {},
   "outputs": [
    {
     "name": "stderr",
     "output_type": "stream",
     "text": [
      "100%|█████████████████████████████████████████████████████████████████████████| 16000/16000 [17:52:16<00:00,  4.02s/it]\n"
     ]
    }
   ],
   "source": [
    "#Bearer Token de Academic Twitter API\n",
    "bearer_token = \"AAAAAAAAAAAAAAAAAAAAAAA0ZAEAAAAAQyJL09AyaJy6%2BqJSjdSNJF8mG7k%3D6aLu9bxFdeXAFanGaB4GzpuMspiEBhGnCgb7D8C27ZBvUm27JX\"\n",
    "## BASELINE DATES\n",
    "start =  '2022-12-11T00:00:00Z'\n",
    "end = '2023-03-12T00:00:00Z'\n",
    "\n",
    "### march0\n",
    "#start =  '2023-03-12T00:00:00Z'\n",
    "#end = '2023-03-25T00:00:00Z'\n",
    "\n",
    "### march1\n",
    "#start =  '2022-12-18T00:00:00Z'\n",
    "#end = '2023-01-02T00:00:00Z'\n",
    "\n",
    "### January 0\n",
    "#start =  '2023-01-02T00:00:00Z'\n",
    "#end = '2023-01-15T00:00:00Z'\n",
    "\n",
    "### January 1\n",
    "#start =  '2023-01-15T00:00:00Z'\n",
    "#end = '2023-01-29T00:00:00Z'\n",
    "\n",
    "### February 0\n",
    "#start =  '2023-01-29T00:00:00Z'\n",
    "#end = '2023-02-05T00:00:00Z'\n",
    "\n",
    "TweetPle.TweetStreamer(ids[0:16000], bearer_token, path_save = path_s, start_time = start, end_time = end).main()"
   ]
  },
  {
   "cell_type": "code",
   "execution_count": null,
   "id": "73283069",
   "metadata": {},
   "outputs": [],
   "source": []
  }
 ],
 "metadata": {
  "kernelspec": {
   "display_name": "Python 3 (ipykernel)",
   "language": "python",
   "name": "python3"
  },
  "language_info": {
   "codemirror_mode": {
    "name": "ipython",
    "version": 3
   },
   "file_extension": ".py",
   "mimetype": "text/x-python",
   "name": "python",
   "nbconvert_exporter": "python",
   "pygments_lexer": "ipython3",
   "version": "3.9.12"
  }
 },
 "nbformat": 4,
 "nbformat_minor": 5
}
