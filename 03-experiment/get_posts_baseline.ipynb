{
 "cells": [
  {
   "cell_type": "code",
   "execution_count": null,
   "id": "919c4c1c",
   "metadata": {},
   "outputs": [],
   "source": [
    "import tweetple\n",
    "\n",
    "from tweetple import TweetPle\n",
    "\n",
    "import pandas as pd\n",
    "import os\n",
    "import glob\n",
    "import yaml\n",
    "import time\n",
    "import numpy as np\n",
    "\n",
    "import warnings\n",
    "warnings.simplefilter(action='ignore', category=FutureWarning)\n",
    "\n",
    "from tqdm import tqdm\n",
    "\n",
    "def get_path(country, week, batch):\n",
    "    base = f'../../data/03-experiment/{country}/'\n",
    "    path_tw = base + f'treatment/followers/00-raw/tweets/{week}/'\n",
    "    rand = f'../../data/02-randomize/{country}/04-stratification/integrate/followers_randomized{batch}.parquet'\n",
    "    baseline = base + 'baseline/00-raw/followers/tweets/'\n",
    "    baseline_batch2 = base + 'baseline/00-raw/followers/tweets_batch2/'\n",
    "    return path_tw, base, rand, baseline, baseline_batch2\n",
    "\n",
    "\n",
    "path_tw, base, rand, baseline, baseline_batch2 = get_path('KE', '', '')\n",
    "#path_tw, base, rand, baseline, baseline_batch2 = get_path('SA', '', '')\n",
    "path_s = baseline\n",
    "\n",
    "df = pd.read_parquet(rand)\n",
    "\n",
    "from os import listdir\n",
    "from os.path import isfile, join\n",
    "mypath = path_s\n",
    "id_final = df['username'].tolist()\n",
    "onlyfiles = [f for f in listdir(mypath) if isfile(join(mypath, f))]\n",
    "onlyfiles = [f.replace('.parquet', '') for f in onlyfiles]\n",
    "ids = list(set(id_final).difference(onlyfiles))\n",
    "ids.sort()\n",
    "\n",
    "start =  '2022-12-11T00:00:00Z'\n",
    "end = '2023-03-12T00:00:00Z'\n",
    "\n",
    "bearer_token = 'HERE_YOUR_BEARER'\n",
    "\n",
    "TweetPle.TweetStreamer(ids, bearer_token, path_save = path_s, \n",
    "                       start_time = start, end_time = end).main()"
   ]
  }
 ],
 "metadata": {
  "kernelspec": {
   "display_name": "Python 3 (ipykernel)",
   "language": "python",
   "name": "python3"
  },
  "language_info": {
   "codemirror_mode": {
    "name": "ipython",
    "version": 3
   },
   "file_extension": ".py",
   "mimetype": "text/x-python",
   "name": "python",
   "nbconvert_exporter": "python",
   "pygments_lexer": "ipython3",
   "version": "3.9.12"
  }
 },
 "nbformat": 4,
 "nbformat_minor": 5
}
