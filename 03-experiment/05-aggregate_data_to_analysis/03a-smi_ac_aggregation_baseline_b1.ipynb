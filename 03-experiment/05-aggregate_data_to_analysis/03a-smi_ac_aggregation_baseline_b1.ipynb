{
 "cells": [
  {
   "cell_type": "code",
   "execution_count": 2,
   "id": "68624e01",
   "metadata": {},
   "outputs": [],
   "source": [
    "import pandas as pd\n",
    "import os\n",
    "import glob\n",
    "import numpy as np\n",
    "import warnings\n",
    "warnings.simplefilter(action='ignore', category = FutureWarning)\n",
    "from tqdm import tqdm\n",
    "import sys\n",
    "import re\n",
    "\n",
    "sys.path.insert(0, '../../../src/utils')\n",
    "from import_data import *\n",
    "\n",
    "def summ_followers2(df):\n",
    "    if 'like_count' in df.columns:\n",
    "        df = df.rename(columns={'like_count':'total_likes'})\n",
    "    else:\n",
    "        df = df.rename(columns={'public_metrics.like_count':'total_likes'}) \n",
    "    df['t_verifiability_smi'] = df['verifiability'] * df['interaction_smi']\n",
    "    df['t_verifiability_ac'] = df['verifiability'] * df['interaction_ac']\n",
    "    df['t_eng_smi'] = df['eng'] * df['interaction_smi']\n",
    "    df['t_eng_ac'] = df['eng'] * df['interaction_ac']\n",
    "    df['t_non_ver_smi'] = df['non_ver'] * df['interaction_smi']\n",
    "    df['t_non_ver_ac'] = df['non_ver'] * df['interaction_ac']\n",
    "    df['t_true_smi'] = df['true'] * df['interaction_smi']\n",
    "    df['t_true_ac'] = df['true'] * df['interaction_ac']\n",
    "    df['t_fake_smi'] = df['fake'] * df['interaction_smi']\n",
    "    df['t_fake_ac'] = df['fake'] * df['interaction_ac']\n",
    "\n",
    "    \n",
    "    cols = (['interaction_smi', 'interaction_ac'] + \n",
    "            [col for col in df.columns if 't_' in col])\n",
    "    df_agg = df[['author_id'] + \n",
    "        cols].groupby(['author_id']).sum().reset_index()\n",
    "    \n",
    "    return df_agg\n",
    "\n",
    "smi_ke = pd.read_excel(\"~/Dropbox/Bolivia_Project/social-media-influencers-africa/data/02-randomize/KE/03-assignment/output/RandomizedTwitterSampleKE.xlsx\")\n",
    "smi_ke_1 = pd.read_excel(\"~/Dropbox/Bolivia_Project/social-media-influencers-af/data/02-randomize/KE/03-assignment/output/RandomizedTwitterSampleKE.xlsx\")\n",
    "smi_ke_2 = pd.read_excel(\"~/Dropbox/Bolivia_Project/social-media-influencers-af/data/02-randomize/KE/03-assignment/output/RandomizedTwitterSampleKE_batch2.xlsx\")\n",
    "\n",
    "smi_sa = pd.read_excel(\"~/Dropbox/Bolivia_Project/social-media-influencers-africa/data/02-randomize/SA/03-assignment/output/RandomizedTwitterSampleSA.xlsx\")\n",
    "smi_sa_1 = pd.read_excel(\"~/Dropbox/Bolivia_Project/social-media-influencers-af/data/02-randomize/SA/03-assignment/output/RandomizedTwitterSampleSA.xlsx\")\n",
    "smi_sa_2 = pd.read_excel(\"~/Dropbox/Bolivia_Project/social-media-influencers-af/data/02-randomize/SA/03-assignment/output/RandomizedTwitterSampleSA_batch2.xlsx\")\n",
    "\n",
    "smis = pd.concat([smi_ke,smi_ke_1,smi_ke_2,smi_sa,smi_sa_1,smi_sa_2], ignore_index=True)\n",
    "smis = smis[smis['treatment']==1]\n",
    "smis_list = list(smis.username)"
   ]
  },
  {
   "cell_type": "markdown",
   "id": "f0bcbf19",
   "metadata": {},
   "source": [
    "#This I do recommend running it first for one country, restart kernel, and run for the other country:"
   ]
  },
  {
   "cell_type": "code",
   "execution_count": 3,
   "id": "aa5dd0b6",
   "metadata": {},
   "outputs": [
    {
     "name": "stderr",
     "output_type": "stream",
     "text": [
      "100%|███████████████████████████████████████████| 74/74 [27:11<00:00, 22.04s/it]\n"
     ]
    }
   ],
   "source": [
    "country = 'SA'\n",
    "\n",
    "base1 = pd.read_parquet(f'../../../data/04-analysis/{country}/treatment_info/information_batch1.parquet')\n",
    "\n",
    "df_final = get_baseline_data_b1(country, type_data = 'predicted', base_path = '../../../')\n",
    "df_final['fake'] = np.where((df_final['verifiability'] == 1) & (df_final['true'] == 0), 1, 0)\n",
    "df_final['eng'] = np.where((df_final['lang'] == 'en'), 1, 0)\n",
    "df_final['fake'] = np.where((df_final['verifiability'] == 0), np.nan, df_final['fake'])\n",
    "df_final['non_ver'] = np.where((df_final['verifiability'] == 0) & (~df_final['verifiability'].isnull()),\n",
    "                                   1, 0)\n",
    "# Extraer el nombre de usuario de los retweets\n",
    "df_final['reposted'] = df_final['text'].str.extract(r'^RT @(\\w+):')\n",
    "# Completar los valores nulos con la columna handle\n",
    "df_final['reposted'] = df_final['reposted'].fillna(df_final['handle'])\n",
    "df_final['interaction_ac'] = (df_final['reposted'] == 'AfricaCheck').astype(int)\n",
    "df_final['interaction_smi'] = (df_final['reposted'].isin(smis_list)).astype(int)\n",
    "df_final = df_final.drop(['reposted'], axis = 1)\n",
    "df_no_rt = df_final[(df_final['text'].str.contains('RT @', \n",
    "                    case=True, regex=False))].reset_index(drop=True)\n",
    "\n",
    "df_no_rt_agg = summ_followers2(df_no_rt).reset_index(drop=True)\n",
    "\n",
    "cols = (['interaction_smi', 'interaction_ac'] + \n",
    "            [col for col in df_no_rt_agg.columns if 't_' in col])\n",
    "\n",
    "df_no_rt_agg.rename(columns = \n",
    "        {col: col + '_base' for col in df_no_rt_agg.columns if col in cols}, \n",
    "        inplace=True)\n",
    "\n",
    "df_no_rt_agg.rename(columns = { \n",
    "                       'author_id':'follower_id'}, inplace = True)\n",
    "\n",
    "\n",
    "base1 = base1.merge(df_no_rt_agg, on=['follower_id'], \n",
    "                    how='left')\n",
    "\n",
    "cols_base = [col for col in base1.columns if '_base' in col]\n",
    "for x in cols_base:\n",
    "    base1[x] = np.where(base1[x].isnull(), 0, base1[x])\n",
    "    \n",
    "base1.to_parquet(f'../../../data/04-analysis/{country}/baseline/baseline_batch1_smi_ac.parquet')"
   ]
  },
  {
   "cell_type": "code",
   "execution_count": 3,
   "id": "19407df9",
   "metadata": {},
   "outputs": [
    {
     "name": "stderr",
     "output_type": "stream",
     "text": [
      "100%|███████████████████████████████████████████| 84/84 [57:58<00:00, 41.41s/it]\n"
     ]
    }
   ],
   "source": [
    "country = 'KE'\n",
    "\n",
    "base1 = pd.read_parquet(f'../../../data/04-analysis/{country}/treatment_info/information_batch1.parquet')\n",
    "\n",
    "df_final = get_baseline_data_b1(country, type_data = 'predicted', base_path = '../../../')\n",
    "df_final['fake'] = np.where((df_final['verifiability'] == 1) & (df_final['true'] == 0), 1, 0)\n",
    "df_final['eng'] = np.where((df_final['lang'] == 'en'), 1, 0)\n",
    "df_final['fake'] = np.where((df_final['verifiability'] == 0), np.nan, df_final['fake'])\n",
    "df_final['non_ver'] = np.where((df_final['verifiability'] == 0) & (~df_final['verifiability'].isnull()),\n",
    "                                   1, 0)\n",
    "# Extraer el nombre de usuario de los retweets\n",
    "df_final['reposted'] = df_final['text'].str.extract(r'^RT @(\\w+):')\n",
    "# Completar los valores nulos con la columna handle\n",
    "df_final['reposted'] = df_final['reposted'].fillna(df_final['handle'])\n",
    "df_final['interaction_ac'] = (df_final['reposted'] == 'AfricaCheck').astype(int)\n",
    "df_final['interaction_smi'] = (df_final['reposted'].isin(smis_list)).astype(int)\n",
    "df_final = df_final.drop(['reposted'], axis = 1)\n",
    "df_no_rt = df_final[(df_final['text'].str.contains('RT @', \n",
    "                    case=True, regex=False))].reset_index(drop=True)\n",
    "\n",
    "df_no_rt_agg = summ_followers2(df_no_rt).reset_index(drop=True)\n",
    "\n",
    "cols = (['interaction_smi', 'interaction_ac'] + \n",
    "            [col for col in df_no_rt_agg.columns if 't_' in col])\n",
    "\n",
    "df_no_rt_agg.rename(columns = \n",
    "        {col: col + '_base' for col in df_no_rt_agg.columns if col in cols}, \n",
    "        inplace=True)\n",
    "\n",
    "df_no_rt_agg.rename(columns = { \n",
    "                       'author_id':'follower_id'}, inplace = True)\n",
    "\n",
    "\n",
    "base1 = base1.merge(df_no_rt_agg, on=['follower_id'], \n",
    "                    how='left')\n",
    "\n",
    "cols_base = [col for col in base1.columns if '_base' in col]\n",
    "for x in cols_base:\n",
    "    base1[x] = np.where(base1[x].isnull(), 0, base1[x])\n",
    "    \n",
    "base1.to_parquet(f'../../../data/04-analysis/{country}/baseline/baseline_batch1_smi_ac.parquet')"
   ]
  },
  {
   "cell_type": "code",
   "execution_count": 4,
   "id": "413b831c",
   "metadata": {},
   "outputs": [
    {
     "name": "stdout",
     "output_type": "stream",
     "text": [
      "<class 'pandas.core.frame.DataFrame'>\n",
      "RangeIndex: 30182655 entries, 0 to 30182654\n",
      "Data columns (total 23 columns):\n",
      " #   Column                      Dtype  \n",
      "---  ------                      -----  \n",
      " 0   id                          object \n",
      " 1   handle                      object \n",
      " 2   author_id                   object \n",
      " 3   created_at                  object \n",
      " 4   text                        object \n",
      " 5   lang                        object \n",
      " 6   referenced_tweets           object \n",
      " 7   public_metrics.like_count   int64  \n",
      " 8   public_metrics.quote_count  int64  \n",
      " 9   public_metrics.reply_count  int64  \n",
      " 10  total_shares                int64  \n",
      " 11  total_reactions             int64  \n",
      " 12  total_comments              int64  \n",
      " 13  has_url                     int64  \n",
      " 14  has_image                   int64  \n",
      " 15  has_text                    int64  \n",
      " 16  verifiability               float64\n",
      " 17  true                        float64\n",
      " 18  fake                        float64\n",
      " 19  eng                         int64  \n",
      " 20  non_ver                     int64  \n",
      " 21  interaction_ac              int64  \n",
      " 22  interaction_smi             int64  \n",
      "dtypes: float64(3), int64(13), object(7)\n",
      "memory usage: 5.2+ GB\n"
     ]
    }
   ],
   "source": [
    "df_final.info()"
   ]
  },
  {
   "cell_type": "code",
   "execution_count": null,
   "id": "870bee6d",
   "metadata": {},
   "outputs": [],
   "source": []
  }
 ],
 "metadata": {
  "kernelspec": {
   "display_name": "Python 3 (ipykernel)",
   "language": "python",
   "name": "python3"
  },
  "language_info": {
   "codemirror_mode": {
    "name": "ipython",
    "version": 3
   },
   "file_extension": ".py",
   "mimetype": "text/x-python",
   "name": "python",
   "nbconvert_exporter": "python",
   "pygments_lexer": "ipython3",
   "version": "3.10.13"
  }
 },
 "nbformat": 4,
 "nbformat_minor": 5
}
