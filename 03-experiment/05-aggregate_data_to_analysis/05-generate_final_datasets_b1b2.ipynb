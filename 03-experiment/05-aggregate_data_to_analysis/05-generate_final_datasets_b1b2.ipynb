{
 "cells": [
  {
   "cell_type": "code",
   "execution_count": 1,
   "id": "e9e71916",
   "metadata": {},
   "outputs": [
    {
     "name": "stdout",
     "output_type": "stream",
     "text": [
      "KE\n",
      "stage1_2\n",
      "stage3_4\n",
      "stage5_6\n",
      "SA\n",
      "stage1_2\n",
      "stage3_4\n",
      "stage5_6\n"
     ]
    }
   ],
   "source": [
    "import pandas as pd\n",
    "import numpy as np\n",
    "\n",
    "for country in ['KE', 'SA']:\n",
    "    print(country)\n",
    "    bots_b1 = pd.read_parquet(f'../../../data/04-analysis/{country}/bots_batch1.parquet').rename(columns={'author_id': \n",
    "                                                                                    'follower_id'}).assign(dummy_sample=1, \n",
    "                                                                                                           batch_id='b1')\n",
    "\n",
    "    bots_b2 = pd.read_parquet(f'../../../data/04-analysis/{country}/bots_batch2.parquet').rename(columns={'author_id': \n",
    "                                                                                    'follower_id'}).assign(dummy_sample=1,\n",
    "                                                                                                           batch_id='b2')\n",
    "    bots = pd.concat([bots_b1, bots_b2]).reset_index(drop=True)\n",
    "    for stage in ['stage1_2', 'stage3_4', 'stage5_6']:\n",
    "        print(stage)\n",
    "\n",
    "        b1 = pd.read_parquet(f'../../../data/04-analysis/{country}/{stage}/verifiability_batch1.parquet').assign(batch_id='b1').reset_index(drop = True)\n",
    "        b2 = pd.read_parquet(f'../../../data/04-analysis/{country}/{stage}/verifiability_batch2.parquet').assign(batch_id='b2').reset_index(drop = True)\n",
    "\n",
    "        b1b2 = pd.concat([b1, b2]).reset_index(drop=True)\n",
    "        try: \n",
    "            b1b2 = b1b2.drop(['author_id_x', 'author_id_y', 'blockid1', 'blockid2'], axis = 1)\n",
    "        except:\n",
    "            b1b2 = b1b2.drop(['blockid1', 'blockid2'], axis = 1)\n",
    "        b1b2 = b1b2.merge(bots, on = ['follower_id', 'batch_id'], how = 'left')\n",
    "        b1b2 = b1b2[(b1b2['dummy_95'] == 0) & (~b1b2['dummy_sample'].isnull())]\n",
    "        b1b2 = b1b2.drop(['dummy_95', 'dummy_sample'], axis = 1).reset_index(drop = True)\n",
    "        b1b2.to_parquet(f'../../../data/04-analysis/{country}/{stage}/verifiability_b1b2.parquet')"
   ]
  },
  {
   "cell_type": "code",
   "execution_count": null,
   "id": "5a1f0a41",
   "metadata": {},
   "outputs": [],
   "source": []
  }
 ],
 "metadata": {
  "kernelspec": {
   "display_name": "Python 3 (ipykernel)",
   "language": "python",
   "name": "python3"
  },
  "language_info": {
   "codemirror_mode": {
    "name": "ipython",
    "version": 3
   },
   "file_extension": ".py",
   "mimetype": "text/x-python",
   "name": "python",
   "nbconvert_exporter": "python",
   "pygments_lexer": "ipython3",
   "version": "3.9.12"
  }
 },
 "nbformat": 4,
 "nbformat_minor": 5
}
