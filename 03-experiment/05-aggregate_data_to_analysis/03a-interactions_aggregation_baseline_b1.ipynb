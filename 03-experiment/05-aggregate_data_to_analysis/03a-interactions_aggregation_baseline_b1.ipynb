{
 "cells": [
  {
   "cell_type": "code",
   "execution_count": 1,
   "id": "68624e01",
   "metadata": {},
   "outputs": [],
   "source": [
    "import pandas as pd\n",
    "import os\n",
    "import glob\n",
    "import numpy as np\n",
    "import warnings\n",
    "warnings.simplefilter(action='ignore', category = FutureWarning)\n",
    "from tqdm import tqdm\n",
    "import sys\n",
    "import re\n",
    "\n",
    "sys.path.insert(0, '../../../src/utils')\n",
    "from import_data import *\n",
    "\n",
    "def summ_followers2(df):\n",
    "    if 'like_count' in df.columns:\n",
    "        df = df.rename(columns={'like_count':'total_likes'})\n",
    "    else:\n",
    "        df = df.rename(columns={'public_metrics.like_count':'total_likes'}) \n",
    "    df['t_verifiability_likes'] = df['verifiability'] * df['total_likes']\n",
    "    df['t_verifiability_shares'] = df['verifiability'] * df['total_shares']\n",
    "    df['t_verifiability_comments'] = df['verifiability'] * df['total_comments']\n",
    "    df['t_verifiability_reactions'] = df['verifiability'] * df['total_reactions']\n",
    "    df['t_eng_likes'] = df['eng'] * df['total_likes']\n",
    "    df['t_eng_shares'] = df['eng'] * df['total_shares']\n",
    "    df['t_eng_comments'] = df['eng'] * df['total_comments']\n",
    "    df['t_eng_reactions'] = df['eng'] * df['total_reactions']\n",
    "    df['t_non_ver_likes'] = df['non_ver'] * df['total_likes']\n",
    "    df['t_non_ver_shares'] = df['non_ver'] * df['total_shares']\n",
    "    df['t_non_ver_comments'] = df['non_ver'] * df['total_comments']\n",
    "    df['t_non_ver_reactions'] = df['non_ver'] * df['total_reactions']\n",
    "    df['t_true_likes'] = df['true'] * df['total_likes']\n",
    "    df['t_true_shares'] = df['true'] * df['total_shares']\n",
    "    df['t_true_comments'] = df['true'] * df['total_comments']\n",
    "    df['t_true_reactions'] = df['true'] * df['total_reactions']\n",
    "    df['t_fake_likes'] = df['fake'] * df['total_likes']\n",
    "    df['t_fake_shares'] = df['fake'] * df['total_shares']\n",
    "    df['t_fake_comments'] = df['fake'] * df['total_comments']\n",
    "    df['t_fake_reactions'] = df['fake'] * df['total_reactions']\n",
    "    \n",
    "    cols = (['total_likes', 'total_shares', 'total_comments', 'total_reactions'] + \n",
    "            [col for col in df.columns if 't_' in col])\n",
    "    df_agg = df[['author_id'] + \n",
    "        cols].groupby(['author_id']).sum().reset_index()\n",
    "    \n",
    "    return df_agg"
   ]
  },
  {
   "cell_type": "markdown",
   "id": "f0bcbf19",
   "metadata": {},
   "source": [
    "#This I do recommend running it first for one country, restart kernel, and run for the other country:"
   ]
  },
  {
   "cell_type": "code",
   "execution_count": 2,
   "id": "aa5dd0b6",
   "metadata": {},
   "outputs": [
    {
     "name": "stderr",
     "output_type": "stream",
     "text": [
      "100%|██████████████████████████████████████████████████████████████████████████████████| 74/74 [02:17<00:00,  1.86s/it]\n"
     ]
    }
   ],
   "source": [
    "country = 'SA'\n",
    "\n",
    "base1 = pd.read_parquet(f'../../../data/04-analysis/{country}/treatment_info/information_batch1.parquet')\n",
    "\n",
    "df_final = get_baseline_data_b1(country, type_data = 'predicted', base_path = '../../../')\n",
    "df_final['fake'] = np.where((df_final['verifiability'] == 1) & (df_final['true'] == 0), 1, 0)\n",
    "df_final['eng'] = np.where((df_final['lang'] == 'en'), 1, 0)\n",
    "df_final['fake'] = np.where((df_final['verifiability'] == 0), np.nan, df_final['fake'])\n",
    "df_final['non_ver'] = np.where((df_final['verifiability'] == 0) & (~df_final['verifiability'].isnull()),\n",
    "                                   1, 0)\n",
    "\n",
    "df_no_rt = df_final[(~df_final['text'].str.contains('RT @', \n",
    "                    case=True, regex=False)) | \n",
    "                    (df_final['total_comments'] > 0)].reset_index(drop=True)\n",
    "\n",
    "df_no_rt_agg = summ_followers2(df_no_rt).reset_index(drop=True)\n",
    "\n",
    "cols = (['total_likes', 'total_shares', 'total_comments', 'total_reactions'] + \n",
    "            [col for col in df_no_rt_agg.columns if 't_' in col])\n",
    "\n",
    "df_no_rt_agg.rename(columns = \n",
    "        {col: col + '_base' for col in df_no_rt_agg.columns if col in cols}, \n",
    "        inplace=True)\n",
    "\n",
    "df_no_rt_agg.rename(columns = { \n",
    "                       'author_id':'follower_id'}, inplace = True)\n",
    "\n",
    "\n",
    "base1 = base1.merge(df_no_rt_agg, on=['follower_id'], \n",
    "                    how='left')\n",
    "\n",
    "cols_base = [col for col in base1.columns if '_base' in col]\n",
    "for x in cols_base:\n",
    "    base1[x] = np.where(base1[x].isnull(), 0, base1[x])\n",
    "    \n",
    "base1.to_parquet(f'../../../data/04-analysis/{country}/baseline/baseline_batch1_interactions.parquet')"
   ]
  },
  {
   "cell_type": "code",
   "execution_count": 2,
   "id": "19407df9",
   "metadata": {},
   "outputs": [
    {
     "name": "stderr",
     "output_type": "stream",
     "text": [
      "100%|██████████████████████████████████████████████████████████████████████████████████| 84/84 [04:06<00:00,  2.94s/it]\n"
     ]
    }
   ],
   "source": [
    "country = 'KE'\n",
    "\n",
    "base1 = pd.read_parquet(f'../../../data/04-analysis/{country}/treatment_info/information_batch1.parquet')\n",
    "\n",
    "df_final = get_baseline_data_b1(country, type_data = 'predicted', base_path = '../../../')\n",
    "df_final['fake'] = np.where((df_final['verifiability'] == 1) & (df_final['true'] == 0), 1, 0)\n",
    "df_final['eng'] = np.where((df_final['lang'] == 'en'), 1, 0)\n",
    "df_final['fake'] = np.where((df_final['verifiability'] == 0), np.nan, df_final['fake'])\n",
    "df_final['non_ver'] = np.where((df_final['verifiability'] == 0) & (~df_final['verifiability'].isnull()),\n",
    "                                   1, 0)\n",
    "\n",
    "df_no_rt = df_final[(~df_final['text'].str.contains('RT @', \n",
    "                    case=True, regex=False)) | \n",
    "                    (df_final['total_comments'] > 0)].reset_index(drop=True)\n",
    "\n",
    "df_no_rt_agg = summ_followers2(df_no_rt).reset_index(drop=True)\n",
    "\n",
    "cols = (['total_likes', 'total_shares', 'total_comments', 'total_reactions'] + \n",
    "            [col for col in df_no_rt_agg.columns if 't_' in col])\n",
    "\n",
    "df_no_rt_agg.rename(columns = \n",
    "        {col: col + '_base' for col in df_no_rt_agg.columns if col in cols}, \n",
    "        inplace=True)\n",
    "\n",
    "df_no_rt_agg.rename(columns = { \n",
    "                       'author_id':'follower_id'}, inplace = True)\n",
    "\n",
    "\n",
    "base1 = base1.merge(df_no_rt_agg, on=['follower_id'], \n",
    "                    how='left')\n",
    "\n",
    "cols_base = [col for col in base1.columns if '_base' in col]\n",
    "for x in cols_base:\n",
    "    base1[x] = np.where(base1[x].isnull(), 0, base1[x])\n",
    "    \n",
    "base1.to_parquet(f'../../../data/04-analysis/{country}/baseline/baseline_batch1_interactions.parquet')"
   ]
  },
  {
   "cell_type": "code",
   "execution_count": 3,
   "id": "413b831c",
   "metadata": {},
   "outputs": [
    {
     "name": "stdout",
     "output_type": "stream",
     "text": [
      "<class 'pandas.core.frame.DataFrame'>\n",
      "Int64Index: 102534 entries, 0 to 102533\n",
      "Data columns (total 36 columns):\n",
      " #   Column                          Non-Null Count   Dtype  \n",
      "---  ------                          --------------   -----  \n",
      " 0   username                        102534 non-null  object \n",
      " 1   follower_id                     102534 non-null  object \n",
      " 2   ads_treatment                   102534 non-null  float64\n",
      " 3   id                              102534 non-null  object \n",
      " 4   c_t_strong_total                102534 non-null  int32  \n",
      " 5   c_t_weak_total                  102534 non-null  int32  \n",
      " 6   c_t_neither_total               102534 non-null  int32  \n",
      " 7   t_strong                        102534 non-null  float64\n",
      " 8   t_weak                          102534 non-null  float64\n",
      " 9   t_neither                       102534 non-null  float64\n",
      " 10  strat_block1                    102534 non-null  object \n",
      " 11  strat_block2                    102534 non-null  object \n",
      " 12  total_likes_base                102534 non-null  float64\n",
      " 13  total_shares_base               102534 non-null  float64\n",
      " 14  total_comments_base             102534 non-null  float64\n",
      " 15  total_reactions_base            102534 non-null  float64\n",
      " 16  t_verifiability_likes_base      102534 non-null  float64\n",
      " 17  t_verifiability_shares_base     102534 non-null  float64\n",
      " 18  t_verifiability_comments_base   102534 non-null  float64\n",
      " 19  t_verifiability_reactions_base  102534 non-null  float64\n",
      " 20  t_eng_likes_base                102534 non-null  float64\n",
      " 21  t_eng_shares_base               102534 non-null  float64\n",
      " 22  t_eng_comments_base             102534 non-null  float64\n",
      " 23  t_eng_reactions_base            102534 non-null  float64\n",
      " 24  t_non_ver_likes_base            102534 non-null  float64\n",
      " 25  t_non_ver_shares_base           102534 non-null  float64\n",
      " 26  t_non_ver_comments_base         102534 non-null  float64\n",
      " 27  t_non_ver_reactions_base        102534 non-null  float64\n",
      " 28  t_true_likes_base               102534 non-null  float64\n",
      " 29  t_true_shares_base              102534 non-null  float64\n",
      " 30  t_true_comments_base            102534 non-null  float64\n",
      " 31  t_true_reactions_base           102534 non-null  float64\n",
      " 32  t_fake_likes_base               102534 non-null  float64\n",
      " 33  t_fake_shares_base              102534 non-null  float64\n",
      " 34  t_fake_comments_base            102534 non-null  float64\n",
      " 35  t_fake_reactions_base           102534 non-null  float64\n",
      "dtypes: float64(28), int32(3), object(5)\n",
      "memory usage: 27.8+ MB\n"
     ]
    }
   ],
   "source": [
    "base1.info()"
   ]
  },
  {
   "cell_type": "code",
   "execution_count": null,
   "id": "870bee6d",
   "metadata": {},
   "outputs": [],
   "source": []
  }
 ],
 "metadata": {
  "kernelspec": {
   "display_name": "Python 3 (ipykernel)",
   "language": "python",
   "name": "python3"
  },
  "language_info": {
   "codemirror_mode": {
    "name": "ipython",
    "version": 3
   },
   "file_extension": ".py",
   "mimetype": "text/x-python",
   "name": "python",
   "nbconvert_exporter": "python",
   "pygments_lexer": "ipython3",
   "version": "3.9.12"
  }
 },
 "nbformat": 4,
 "nbformat_minor": 5
}
