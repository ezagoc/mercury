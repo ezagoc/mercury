{
 "cells": [
  {
   "cell_type": "code",
   "execution_count": 2,
   "id": "68624e01",
   "metadata": {},
   "outputs": [],
   "source": [
    "import pandas as pd\n",
    "import os\n",
    "import glob\n",
    "import numpy as np\n",
    "import warnings\n",
    "warnings.simplefilter(action='ignore', category = FutureWarning)\n",
    "from tqdm import tqdm\n",
    "import sys\n",
    "import re\n",
    "\n",
    "sys.path.insert(0, '../../../src/utils')\n",
    "from import_data import *\n",
    "\n",
    "def summ_followers2(df):\n",
    "    if 'like_count' in df.columns:\n",
    "        df = df.rename(columns={'like_count':'total_likes'})\n",
    "    else:\n",
    "        df = df.rename(columns={'public_metrics.like_count':'total_likes'}) \n",
    "    df['t_verifiability_smi'] = df['verifiability'] * df['interaction_smi']\n",
    "    df['t_verifiability_ac'] = df['verifiability'] * df['interaction_ac']\n",
    "    df['t_eng_smi'] = df['eng'] * df['interaction_smi']\n",
    "    df['t_eng_ac'] = df['eng'] * df['interaction_ac']\n",
    "    df['t_non_ver_smi'] = df['non_ver'] * df['interaction_smi']\n",
    "    df['t_non_ver_ac'] = df['non_ver'] * df['interaction_ac']\n",
    "    df['t_true_smi'] = df['true'] * df['interaction_smi']\n",
    "    df['t_true_ac'] = df['true'] * df['interaction_ac']\n",
    "    df['t_fake_smi'] = df['fake'] * df['interaction_smi']\n",
    "    df['t_fake_ac'] = df['fake'] * df['interaction_ac']\n",
    "\n",
    "    \n",
    "    cols = (['interaction_smi', 'interaction_ac'] + \n",
    "            [col for col in df.columns if 't_' in col])\n",
    "    df_agg = df[['username'] + \n",
    "        cols].groupby(['username']).sum().reset_index()\n",
    "    \n",
    "    return df_agg\n",
    "\n",
    "smi_ke = pd.read_excel(\"~/Dropbox/Bolivia_Project/social-media-influencers-africa/data/02-randomize/KE/03-assignment/output/RandomizedTwitterSampleKE.xlsx\")\n",
    "smi_ke_1 = pd.read_excel(\"~/Dropbox/Bolivia_Project/social-media-influencers-af/data/02-randomize/KE/03-assignment/output/RandomizedTwitterSampleKE.xlsx\")\n",
    "smi_ke_2 = pd.read_excel(\"~/Dropbox/Bolivia_Project/social-media-influencers-af/data/02-randomize/KE/03-assignment/output/RandomizedTwitterSampleKE_batch2.xlsx\")\n",
    "\n",
    "smi_sa = pd.read_excel(\"~/Dropbox/Bolivia_Project/social-media-influencers-africa/data/02-randomize/SA/03-assignment/output/RandomizedTwitterSampleSA.xlsx\")\n",
    "smi_sa_1 = pd.read_excel(\"~/Dropbox/Bolivia_Project/social-media-influencers-af/data/02-randomize/SA/03-assignment/output/RandomizedTwitterSampleSA.xlsx\")\n",
    "smi_sa_2 = pd.read_excel(\"~/Dropbox/Bolivia_Project/social-media-influencers-af/data/02-randomize/SA/03-assignment/output/RandomizedTwitterSampleSA_batch2.xlsx\")\n",
    "\n",
    "smis = pd.concat([smi_ke,smi_ke_1,smi_ke_2,smi_sa,smi_sa_1,smi_sa_2], ignore_index=True)\n",
    "smis = smis[smis['treatment']==1]\n",
    "smis_list = list(smis.username)"
   ]
  },
  {
   "cell_type": "markdown",
   "id": "f0bcbf19",
   "metadata": {},
   "source": [
    "#This I do recommend running it first for one country, restart kernel, and run for the other country:"
   ]
  },
  {
   "cell_type": "code",
   "execution_count": 3,
   "id": "aa5dd0b6",
   "metadata": {},
   "outputs": [
    {
     "name": "stderr",
     "output_type": "stream",
     "text": [
      "100%|███████████████████████████████████████████| 74/74 [26:38<00:00, 21.60s/it]\n"
     ]
    },
    {
     "ename": "KeyError",
     "evalue": "\"['username'] not in index\"",
     "output_type": "error",
     "traceback": [
      "\u001b[0;31m---------------------------------------------------------------------------\u001b[0m",
      "\u001b[0;31mKeyError\u001b[0m                                  Traceback (most recent call last)",
      "Cell \u001b[0;32mIn[3], line 21\u001b[0m\n\u001b[1;32m     17\u001b[0m df_final \u001b[38;5;241m=\u001b[39m df_final\u001b[38;5;241m.\u001b[39mdrop([\u001b[38;5;124m'\u001b[39m\u001b[38;5;124mreposted\u001b[39m\u001b[38;5;124m'\u001b[39m], axis \u001b[38;5;241m=\u001b[39m \u001b[38;5;241m1\u001b[39m)\n\u001b[1;32m     18\u001b[0m df_no_rt \u001b[38;5;241m=\u001b[39m df_final[(df_final[\u001b[38;5;124m'\u001b[39m\u001b[38;5;124mtext\u001b[39m\u001b[38;5;124m'\u001b[39m]\u001b[38;5;241m.\u001b[39mstr\u001b[38;5;241m.\u001b[39mcontains(\u001b[38;5;124m'\u001b[39m\u001b[38;5;124mRT @\u001b[39m\u001b[38;5;124m'\u001b[39m, \n\u001b[1;32m     19\u001b[0m                     case\u001b[38;5;241m=\u001b[39m\u001b[38;5;28;01mTrue\u001b[39;00m, regex\u001b[38;5;241m=\u001b[39m\u001b[38;5;28;01mFalse\u001b[39;00m))]\u001b[38;5;241m.\u001b[39mreset_index(drop\u001b[38;5;241m=\u001b[39m\u001b[38;5;28;01mTrue\u001b[39;00m)\n\u001b[0;32m---> 21\u001b[0m df_no_rt_agg \u001b[38;5;241m=\u001b[39m \u001b[43msumm_followers2\u001b[49m\u001b[43m(\u001b[49m\u001b[43mdf_no_rt\u001b[49m\u001b[43m)\u001b[49m\u001b[38;5;241m.\u001b[39mreset_index(drop\u001b[38;5;241m=\u001b[39m\u001b[38;5;28;01mTrue\u001b[39;00m)\n\u001b[1;32m     23\u001b[0m cols \u001b[38;5;241m=\u001b[39m ([\u001b[38;5;124m'\u001b[39m\u001b[38;5;124minteraction_smi\u001b[39m\u001b[38;5;124m'\u001b[39m, \u001b[38;5;124m'\u001b[39m\u001b[38;5;124minteraction_ac\u001b[39m\u001b[38;5;124m'\u001b[39m] \u001b[38;5;241m+\u001b[39m \n\u001b[1;32m     24\u001b[0m             [col \u001b[38;5;28;01mfor\u001b[39;00m col \u001b[38;5;129;01min\u001b[39;00m df_no_rt_agg\u001b[38;5;241m.\u001b[39mcolumns \u001b[38;5;28;01mif\u001b[39;00m \u001b[38;5;124m'\u001b[39m\u001b[38;5;124mt_\u001b[39m\u001b[38;5;124m'\u001b[39m \u001b[38;5;129;01min\u001b[39;00m col])\n\u001b[1;32m     26\u001b[0m df_no_rt_agg\u001b[38;5;241m.\u001b[39mrename(columns \u001b[38;5;241m=\u001b[39m \n\u001b[1;32m     27\u001b[0m         {col: col \u001b[38;5;241m+\u001b[39m \u001b[38;5;124m'\u001b[39m\u001b[38;5;124m_base\u001b[39m\u001b[38;5;124m'\u001b[39m \u001b[38;5;28;01mfor\u001b[39;00m col \u001b[38;5;129;01min\u001b[39;00m df_no_rt_agg\u001b[38;5;241m.\u001b[39mcolumns \u001b[38;5;28;01mif\u001b[39;00m col \u001b[38;5;129;01min\u001b[39;00m cols}, \n\u001b[1;32m     28\u001b[0m         inplace\u001b[38;5;241m=\u001b[39m\u001b[38;5;28;01mTrue\u001b[39;00m)\n",
      "Cell \u001b[0;32mIn[2], line 33\u001b[0m, in \u001b[0;36msumm_followers2\u001b[0;34m(df)\u001b[0m\n\u001b[1;32m     28\u001b[0m df[\u001b[38;5;124m'\u001b[39m\u001b[38;5;124mt_fake_ac\u001b[39m\u001b[38;5;124m'\u001b[39m] \u001b[38;5;241m=\u001b[39m df[\u001b[38;5;124m'\u001b[39m\u001b[38;5;124mfake\u001b[39m\u001b[38;5;124m'\u001b[39m] \u001b[38;5;241m*\u001b[39m df[\u001b[38;5;124m'\u001b[39m\u001b[38;5;124minteraction_ac\u001b[39m\u001b[38;5;124m'\u001b[39m]\n\u001b[1;32m     31\u001b[0m cols \u001b[38;5;241m=\u001b[39m ([\u001b[38;5;124m'\u001b[39m\u001b[38;5;124minteraction_smi\u001b[39m\u001b[38;5;124m'\u001b[39m, \u001b[38;5;124m'\u001b[39m\u001b[38;5;124minteraction_ac\u001b[39m\u001b[38;5;124m'\u001b[39m] \u001b[38;5;241m+\u001b[39m \n\u001b[1;32m     32\u001b[0m         [col \u001b[38;5;28;01mfor\u001b[39;00m col \u001b[38;5;129;01min\u001b[39;00m df\u001b[38;5;241m.\u001b[39mcolumns \u001b[38;5;28;01mif\u001b[39;00m \u001b[38;5;124m'\u001b[39m\u001b[38;5;124mt_\u001b[39m\u001b[38;5;124m'\u001b[39m \u001b[38;5;129;01min\u001b[39;00m col])\n\u001b[0;32m---> 33\u001b[0m df_agg \u001b[38;5;241m=\u001b[39m \u001b[43mdf\u001b[49m\u001b[43m[\u001b[49m\u001b[43m[\u001b[49m\u001b[38;5;124;43m'\u001b[39;49m\u001b[38;5;124;43musername\u001b[39;49m\u001b[38;5;124;43m'\u001b[39;49m\u001b[43m]\u001b[49m\u001b[43m \u001b[49m\u001b[38;5;241;43m+\u001b[39;49m\u001b[43m \u001b[49m\n\u001b[1;32m     34\u001b[0m \u001b[43m    \u001b[49m\u001b[43mcols\u001b[49m\u001b[43m]\u001b[49m\u001b[38;5;241m.\u001b[39mgroupby([\u001b[38;5;124m'\u001b[39m\u001b[38;5;124musername\u001b[39m\u001b[38;5;124m'\u001b[39m])\u001b[38;5;241m.\u001b[39msum()\u001b[38;5;241m.\u001b[39mreset_index()\n\u001b[1;32m     36\u001b[0m \u001b[38;5;28;01mreturn\u001b[39;00m df_agg\n",
      "File \u001b[0;32m~/miniforge3/envs/tensorflow_env/lib/python3.10/site-packages/pandas/core/frame.py:4108\u001b[0m, in \u001b[0;36mDataFrame.__getitem__\u001b[0;34m(self, key)\u001b[0m\n\u001b[1;32m   4106\u001b[0m     \u001b[38;5;28;01mif\u001b[39;00m is_iterator(key):\n\u001b[1;32m   4107\u001b[0m         key \u001b[38;5;241m=\u001b[39m \u001b[38;5;28mlist\u001b[39m(key)\n\u001b[0;32m-> 4108\u001b[0m     indexer \u001b[38;5;241m=\u001b[39m \u001b[38;5;28;43mself\u001b[39;49m\u001b[38;5;241;43m.\u001b[39;49m\u001b[43mcolumns\u001b[49m\u001b[38;5;241;43m.\u001b[39;49m\u001b[43m_get_indexer_strict\u001b[49m\u001b[43m(\u001b[49m\u001b[43mkey\u001b[49m\u001b[43m,\u001b[49m\u001b[43m \u001b[49m\u001b[38;5;124;43m\"\u001b[39;49m\u001b[38;5;124;43mcolumns\u001b[39;49m\u001b[38;5;124;43m\"\u001b[39;49m\u001b[43m)\u001b[49m[\u001b[38;5;241m1\u001b[39m]\n\u001b[1;32m   4110\u001b[0m \u001b[38;5;66;03m# take() does not accept boolean indexers\u001b[39;00m\n\u001b[1;32m   4111\u001b[0m \u001b[38;5;28;01mif\u001b[39;00m \u001b[38;5;28mgetattr\u001b[39m(indexer, \u001b[38;5;124m\"\u001b[39m\u001b[38;5;124mdtype\u001b[39m\u001b[38;5;124m\"\u001b[39m, \u001b[38;5;28;01mNone\u001b[39;00m) \u001b[38;5;241m==\u001b[39m \u001b[38;5;28mbool\u001b[39m:\n",
      "File \u001b[0;32m~/miniforge3/envs/tensorflow_env/lib/python3.10/site-packages/pandas/core/indexes/base.py:6200\u001b[0m, in \u001b[0;36mIndex._get_indexer_strict\u001b[0;34m(self, key, axis_name)\u001b[0m\n\u001b[1;32m   6197\u001b[0m \u001b[38;5;28;01melse\u001b[39;00m:\n\u001b[1;32m   6198\u001b[0m     keyarr, indexer, new_indexer \u001b[38;5;241m=\u001b[39m \u001b[38;5;28mself\u001b[39m\u001b[38;5;241m.\u001b[39m_reindex_non_unique(keyarr)\n\u001b[0;32m-> 6200\u001b[0m \u001b[38;5;28;43mself\u001b[39;49m\u001b[38;5;241;43m.\u001b[39;49m\u001b[43m_raise_if_missing\u001b[49m\u001b[43m(\u001b[49m\u001b[43mkeyarr\u001b[49m\u001b[43m,\u001b[49m\u001b[43m \u001b[49m\u001b[43mindexer\u001b[49m\u001b[43m,\u001b[49m\u001b[43m \u001b[49m\u001b[43maxis_name\u001b[49m\u001b[43m)\u001b[49m\n\u001b[1;32m   6202\u001b[0m keyarr \u001b[38;5;241m=\u001b[39m \u001b[38;5;28mself\u001b[39m\u001b[38;5;241m.\u001b[39mtake(indexer)\n\u001b[1;32m   6203\u001b[0m \u001b[38;5;28;01mif\u001b[39;00m \u001b[38;5;28misinstance\u001b[39m(key, Index):\n\u001b[1;32m   6204\u001b[0m     \u001b[38;5;66;03m# GH 42790 - Preserve name from an Index\u001b[39;00m\n",
      "File \u001b[0;32m~/miniforge3/envs/tensorflow_env/lib/python3.10/site-packages/pandas/core/indexes/base.py:6252\u001b[0m, in \u001b[0;36mIndex._raise_if_missing\u001b[0;34m(self, key, indexer, axis_name)\u001b[0m\n\u001b[1;32m   6249\u001b[0m     \u001b[38;5;28;01mraise\u001b[39;00m \u001b[38;5;167;01mKeyError\u001b[39;00m(\u001b[38;5;124mf\u001b[39m\u001b[38;5;124m\"\u001b[39m\u001b[38;5;124mNone of [\u001b[39m\u001b[38;5;132;01m{\u001b[39;00mkey\u001b[38;5;132;01m}\u001b[39;00m\u001b[38;5;124m] are in the [\u001b[39m\u001b[38;5;132;01m{\u001b[39;00maxis_name\u001b[38;5;132;01m}\u001b[39;00m\u001b[38;5;124m]\u001b[39m\u001b[38;5;124m\"\u001b[39m)\n\u001b[1;32m   6251\u001b[0m not_found \u001b[38;5;241m=\u001b[39m \u001b[38;5;28mlist\u001b[39m(ensure_index(key)[missing_mask\u001b[38;5;241m.\u001b[39mnonzero()[\u001b[38;5;241m0\u001b[39m]]\u001b[38;5;241m.\u001b[39munique())\n\u001b[0;32m-> 6252\u001b[0m \u001b[38;5;28;01mraise\u001b[39;00m \u001b[38;5;167;01mKeyError\u001b[39;00m(\u001b[38;5;124mf\u001b[39m\u001b[38;5;124m\"\u001b[39m\u001b[38;5;132;01m{\u001b[39;00mnot_found\u001b[38;5;132;01m}\u001b[39;00m\u001b[38;5;124m not in index\u001b[39m\u001b[38;5;124m\"\u001b[39m)\n",
      "\u001b[0;31mKeyError\u001b[0m: \"['username'] not in index\""
     ]
    }
   ],
   "source": [
    "country = 'SA'\n",
    "\n",
    "base1 = pd.read_parquet(f'../../../data/04-analysis/{country}/treatment_info/information_batch1.parquet')\n",
    "\n",
    "df_final = get_baseline_data_b1(country, type_data = 'predicted', base_path = '../../../')\n",
    "df_final['fake'] = np.where((df_final['verifiability'] == 1) & (df_final['true'] == 0), 1, 0)\n",
    "df_final['eng'] = np.where((df_final['lang'] == 'en'), 1, 0)\n",
    "df_final['fake'] = np.where((df_final['verifiability'] == 0), np.nan, df_final['fake'])\n",
    "df_final['non_ver'] = np.where((df_final['verifiability'] == 0) & (~df_final['verifiability'].isnull()),\n",
    "                                   1, 0)\n",
    "# Extraer el nombre de usuario de los retweets\n",
    "df_final['reposted'] = df_final['text'].str.extract(r'^RT @(\\w+):')\n",
    "# Completar los valores nulos con la columna handle\n",
    "df_final['reposted'] = df_final['reposted'].fillna(df_final['handle'])\n",
    "df_final['interaction_ac'] = (df_final['reposted'] == 'AfricaCheck').astype(int)\n",
    "df_final['interaction_smi'] = (df_final['reposted'].isin(smis_list)).astype(int)\n",
    "df_final = df_final.drop(['reposted'], axis = 1)\n",
    "df_no_rt = df_final[(df_final['text'].str.contains('RT @', \n",
    "                    case=True, regex=False))].reset_index(drop=True)\n",
    "\n",
    "df_no_rt_agg = summ_followers2(df_no_rt).reset_index(drop=True)\n",
    "\n",
    "cols = (['interaction_smi', 'interaction_ac'] + \n",
    "            [col for col in df_no_rt_agg.columns if 't_' in col])\n",
    "\n",
    "df_no_rt_agg.rename(columns = \n",
    "        {col: col + '_base' for col in df_no_rt_agg.columns if col in cols}, \n",
    "        inplace=True)\n",
    "\n",
    "df_no_rt_agg.rename(columns = { \n",
    "                       'author_id':'follower_id'}, inplace = True)\n",
    "\n",
    "\n",
    "base1 = base1.merge(df_no_rt_agg, on=['follower_id'], \n",
    "                    how='left')\n",
    "\n",
    "cols_base = [col for col in base1.columns if '_base' in col]\n",
    "for x in cols_base:\n",
    "    base1[x] = np.where(base1[x].isnull(), 0, base1[x])\n",
    "    \n",
    "base1.to_parquet(f'../../../data/04-analysis/{country}/baseline/baseline_batch1_smi_ac.parquet')"
   ]
  },
  {
   "cell_type": "code",
   "execution_count": 2,
   "id": "19407df9",
   "metadata": {},
   "outputs": [
    {
     "name": "stderr",
     "output_type": "stream",
     "text": [
      "100%|██████████████████████████████████████████████████████████████████████████████████| 84/84 [04:06<00:00,  2.94s/it]\n"
     ]
    }
   ],
   "source": [
    "country = 'KE'\n",
    "\n",
    "base1 = pd.read_parquet(f'../../../data/04-analysis/{country}/treatment_info/information_batch1.parquet')\n",
    "\n",
    "df_final = get_baseline_data_b1(country, type_data = 'predicted', base_path = '../../../')\n",
    "df_final['fake'] = np.where((df_final['verifiability'] == 1) & (df_final['true'] == 0), 1, 0)\n",
    "df_final['eng'] = np.where((df_final['lang'] == 'en'), 1, 0)\n",
    "df_final['fake'] = np.where((df_final['verifiability'] == 0), np.nan, df_final['fake'])\n",
    "df_final['non_ver'] = np.where((df_final['verifiability'] == 0) & (~df_final['verifiability'].isnull()),\n",
    "                                   1, 0)\n",
    "# Extraer el nombre de usuario de los retweets\n",
    "df_final['reposted'] = df_final['text'].str.extract(r'^RT @(\\w+):')\n",
    "# Completar los valores nulos con la columna handle\n",
    "df_final['reposted'] = df_final['reposted'].fillna(df_final['handle'])\n",
    "df_final['interaction_ac'] = (df_final['reposted'] == 'AfricaCheck').astype(int)\n",
    "df_final['interaction_smi'] = (df_final['reposted'].isin(smis_list)).astype(int)\n",
    "df_final = df_final.drop(['reposted'], axis = 1)\n",
    "df_no_rt = df_final[(df_final['text'].str.contains('RT @', \n",
    "                    case=True, regex=False))].reset_index(drop=True)\n",
    "\n",
    "df_no_rt_agg = summ_followers2(df_no_rt).reset_index(drop=True)\n",
    "\n",
    "cols = (['interaction_smi', 'interaction_ac'] + \n",
    "            [col for col in df_no_rt_agg.columns if 't_' in col])\n",
    "\n",
    "df_no_rt_agg.rename(columns = \n",
    "        {col: col + '_base' for col in df_no_rt_agg.columns if col in cols}, \n",
    "        inplace=True)\n",
    "\n",
    "df_no_rt_agg.rename(columns = { \n",
    "                       'author_id':'follower_id'}, inplace = True)\n",
    "\n",
    "\n",
    "base1 = base1.merge(df_no_rt_agg, on=['follower_id'], \n",
    "                    how='left')\n",
    "\n",
    "cols_base = [col for col in base1.columns if '_base' in col]\n",
    "for x in cols_base:\n",
    "    base1[x] = np.where(base1[x].isnull(), 0, base1[x])\n",
    "    \n",
    "base1.to_parquet(f'../../../data/04-analysis/{country}/baseline/baseline_batch1_smi_ac.parquet')"
   ]
  },
  {
   "cell_type": "code",
   "execution_count": 5,
   "id": "413b831c",
   "metadata": {},
   "outputs": [
    {
     "name": "stdout",
     "output_type": "stream",
     "text": [
      "<class 'pandas.core.frame.DataFrame'>\n",
      "RangeIndex: 18876925 entries, 0 to 18876924\n",
      "Data columns (total 22 columns):\n",
      " #   Column                      Dtype  \n",
      "---  ------                      -----  \n",
      " 0   id                          object \n",
      " 1   handle                      object \n",
      " 2   author_id                   object \n",
      " 3   created_at                  object \n",
      " 4   text                        object \n",
      " 5   lang                        object \n",
      " 6   referenced_tweets           object \n",
      " 7   public_metrics.like_count   int64  \n",
      " 8   public_metrics.quote_count  int64  \n",
      " 9   public_metrics.reply_count  int64  \n",
      " 10  total_shares                int64  \n",
      " 11  total_reactions             int64  \n",
      " 12  total_comments              int64  \n",
      " 13  has_url                     int32  \n",
      " 14  has_image                   int32  \n",
      " 15  has_text                    int32  \n",
      " 16  verifiability               float64\n",
      " 17  true                        float64\n",
      " 18  fake                        float64\n",
      " 19  eng                         int64  \n",
      " 20  non_ver                     int64  \n",
      " 21  reposted                    object \n",
      "dtypes: float64(3), int32(3), int64(8), object(8)\n",
      "memory usage: 2.9+ GB\n"
     ]
    }
   ],
   "source": [
    "df_final.info()"
   ]
  },
  {
   "cell_type": "code",
   "execution_count": null,
   "id": "870bee6d",
   "metadata": {},
   "outputs": [],
   "source": []
  }
 ],
 "metadata": {
  "kernelspec": {
   "display_name": "Python 3 (ipykernel)",
   "language": "python",
   "name": "python3"
  },
  "language_info": {
   "codemirror_mode": {
    "name": "ipython",
    "version": 3
   },
   "file_extension": ".py",
   "mimetype": "text/x-python",
   "name": "python",
   "nbconvert_exporter": "python",
   "pygments_lexer": "ipython3",
   "version": "3.10.13"
  }
 },
 "nbformat": 4,
 "nbformat_minor": 5
}
