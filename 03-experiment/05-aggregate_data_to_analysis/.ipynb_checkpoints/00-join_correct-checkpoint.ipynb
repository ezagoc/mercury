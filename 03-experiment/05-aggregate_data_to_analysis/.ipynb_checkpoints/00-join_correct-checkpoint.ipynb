{
 "cells": [
  {
   "cell_type": "code",
   "execution_count": 1,
   "id": "6def1f8d",
   "metadata": {},
   "outputs": [],
   "source": [
    "import pandas as pd\n",
    "import os\n",
    "import glob\n",
    "import numpy as np\n",
    "import re\n",
    "\n",
    "def convert_to_numeric(characters):\n",
    "    try:\n",
    "        numeric_values = re.sub(',', '', characters)\n",
    "        numeric_values = pd.to_numeric(re.sub(\"K|M|mil\", \"\", numeric_values))\n",
    "        if 'K' in characters:\n",
    "            numeric_values *= 1000\n",
    "        elif 'mil' in characters:\n",
    "            numeric_values *= 1000\n",
    "        elif 'M' in characters:\n",
    "            numeric_values *= 1000000\n",
    "        else:\n",
    "            numeric_values = numeric_values\n",
    "    except:\n",
    "        numeric_values = 0\n",
    "    return numeric_values\n",
    "\n",
    "for country in ['SA', 'KE']:\n",
    "    all_files = glob.glob(os.path.join(f'../../../data/03-experiment/{country}/treatment/followers/01-preprocess/predicted_correct/', \"*.parquet.gzip\"))\n",
    "    df_f = pd.concat((pd.read_parquet(f) for f in all_files), ignore_index=True)\n",
    "    df_f = df_f.reset_index(drop=True).drop(['ordinal', 'equal', 'dumdum'], axis = 1)\n",
    "    df_f.rename(columns = {'TimeStamp': 'created_at', 'retweets':'total_shares', \n",
    "                      'likes':'like_count', 'replies':'total_comments', 'false':'fake', \n",
    "                       'lang2':'lang', 'username':'reposted', \n",
    "                       'follower_handle':'username'}, inplace = True)\n",
    "    df_f['non_ver'] = np.where((df_f['verifiability'] == 0) & (~df_f['verifiability'].isnull()),\n",
    "                                1, 0)\n",
    "    df_f['total_shares'] = df_f['total_shares'].astype(str)\n",
    "    df_f['total_shares'] = df_f['total_shares'].apply(convert_to_numeric)\n",
    "    df_f['total_shares'] = np.where(df_f['total_shares'].isnull(), 0, df_f['total_shares'])\n",
    "    df_f['total_comments'] = df_f['total_comments'].astype(str)\n",
    "    df_f['total_comments'] = df_f['total_comments'].apply(convert_to_numeric)\n",
    "    df_f['total_comments'] = np.where(df_f['total_comments'].isnull(), 0, df_f['total_comments'])\n",
    "    df_f['like_count'] = df_f['like_count'].astype(str)\n",
    "    df_f['like_count'] = df_f['like_count'].apply(convert_to_numeric)\n",
    "    df_f['like_count'] = np.where(df_f['like_count'].isnull(), 0, df_f['like_count'])\n",
    "    df_f['total_reactions'] = df_f['like_count'] + df_f['total_shares'] + df_f['total_comments']\n",
    "    df_f['total_reactions'] = np.where(df_f['total_reactions'].isnull(), 0, df_f['total_reactions'])\n",
    "    df_f['date'] = pd.to_datetime(df_f['created_at'].astype(str).str[:10])\n",
    "    df_f['filter'] = np.where((df_f['username'] != df_f['reposted']) & \n",
    "                          (df_f['type'].isnull()), 1, 0)\n",
    "    df_f['id'] = df_f['username'].astype(str) + df_f['created_at'].astype(str)\n",
    "    df_f = df_f[df_f['filter'] == 0].reset_index(drop = True).drop(['filter'], axis = 1)\n",
    "    \n",
    "    df_f.to_parquet(f'../../../data/03-experiment/{country}/treatment/followers/01-preprocess/correct_cases_final.parquet.gzip', \n",
    "              index = False,\n",
    "              compression = 'gzip')"
   ]
  },
  {
   "cell_type": "code",
   "execution_count": null,
   "id": "dd7b6c57",
   "metadata": {},
   "outputs": [],
   "source": []
  }
 ],
 "metadata": {
  "kernelspec": {
   "display_name": "Python 3 (ipykernel)",
   "language": "python",
   "name": "python3"
  },
  "language_info": {
   "codemirror_mode": {
    "name": "ipython",
    "version": 3
   },
   "file_extension": ".py",
   "mimetype": "text/x-python",
   "name": "python",
   "nbconvert_exporter": "python",
   "pygments_lexer": "ipython3",
   "version": "3.9.12"
  }
 },
 "nbformat": 4,
 "nbformat_minor": 5
}
