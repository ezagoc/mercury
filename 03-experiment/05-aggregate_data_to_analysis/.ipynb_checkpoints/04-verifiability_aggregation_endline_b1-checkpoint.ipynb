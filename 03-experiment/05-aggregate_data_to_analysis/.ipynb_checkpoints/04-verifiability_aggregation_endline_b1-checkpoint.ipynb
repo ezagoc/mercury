{
 "cells": [
  {
   "cell_type": "code",
   "execution_count": 1,
   "id": "10317256",
   "metadata": {},
   "outputs": [],
   "source": [
    "import pandas as pd\n",
    "import os\n",
    "import glob\n",
    "import numpy as np\n",
    "import warnings\n",
    "warnings.simplefilter(action='ignore', category = FutureWarning)\n",
    "from tqdm import tqdm\n",
    "import sys\n",
    "import re\n",
    "\n",
    "sys.path.insert(0, '../../../src/utils')\n",
    "from import_data import *\n",
    "\n",
    "def summ_followers2(df):\n",
    "    metrics = [col for col in df.columns if 'total_' in col]\n",
    "    cols = metrics + ['verifiability', 'true', 'fake']\n",
    "\n",
    "    df_agg = df[['handle', 'author_id'] + \n",
    "        cols].groupby(['handle', 'author_id']).sum().reset_index()\n",
    "\n",
    "    df_count = df[['handle', 'author_id']].groupby(['author_id']).count()\n",
    "    df_count.rename({'handle': 'n_posts'}, axis=1, inplace=True)\n",
    "\n",
    "    df_agg = df_agg.merge(df_count, on=['author_id'], how='left')\n",
    "\n",
    "    return df_agg"
   ]
  },
  {
   "cell_type": "code",
   "execution_count": 2,
   "id": "cd710039",
   "metadata": {},
   "outputs": [
    {
     "name": "stderr",
     "output_type": "stream",
     "text": [
      "100%|██████████████████████████████████████████████████████████████████████████████████| 25/25 [00:16<00:00,  1.49it/s]\n",
      "100%|██████████████████████████████████████████████████████████████████████████████████| 58/58 [00:59<00:00,  1.02s/it]\n"
     ]
    }
   ],
   "source": [
    "for country in ['SA', 'KE']:\n",
    "    for stage in ['stage1_2', 'stage3_4', 'stage5_6']: \n",
    "        base1 = pd.read_parquet(f'../../../data/04-analysis/{country}/baseline/baseline_batch1.parquet')\n",
    "\n",
    "        df_final = get_endline_data(country, stage = stage, type_data = 'predicted', \n",
    "                                    base_path = '../../../')\n",
    "\n",
    "        df_final['fake'] = np.where((df_final['verifiability'] == 1) & (df_final['true'] == 0), 1, 0)\n",
    "        df_final['fake'] = np.where((df_final['verifiability'] == 0), np.nan, df_final['fake'])\n",
    "        df_final['handle'] = df_final['author_id']\n",
    "        df_RT = df_final[(df_final['text'].str.contains('RT @', case=True, regex=False)) & \n",
    "                 (df_final['total_comments'] == 0)].reset_index(drop=True)\n",
    "\n",
    "        df_no_rt = df_final[(~df_final['text'].str.contains('RT @', \n",
    "                    case=True, regex=False)) | \n",
    "                    (df_final['total_comments'] > 0)].reset_index(drop=True)\n",
    "\n",
    "        df_final_agg = summ_followers2(df_final).reset_index(drop = True)\n",
    "        df_rt_agg = summ_followers2(df_RT).reset_index(drop=True)\n",
    "        df_no_rt_agg = summ_followers2(df_no_rt).reset_index(drop=True)\n",
    "\n",
    "        cols = ([col for col in df_rt_agg.columns if 'total_' in col] + \n",
    "                ['verifiability', 'true', 'fake', 'n_posts'])\n",
    "\n",
    "        df_rt_agg.rename(columns = \n",
    "                {col: col + '_rt' for col in df_rt_agg.columns if col in cols}, \n",
    "                inplace=True)\n",
    "\n",
    "        df_no_rt_agg.rename(columns = \n",
    "                {col: col + '_no_rt' for col in df_no_rt_agg.columns if col in cols}, \n",
    "                inplace=True)\n",
    "        df_final_agg = df_final_agg.drop(['handle'], axis = 1)\n",
    "        df_rt_agg = df_rt_agg.drop(['handle'], axis = 1)\n",
    "        df_no_rt_agg = df_no_rt_agg.drop(['handle'], axis = 1)\n",
    "        \n",
    "        df_final_agg.rename(columns = {'author_id':'follower_id'}, inplace = True)\n",
    "        df_rt_agg.rename(columns = {'author_id':'follower_id'}, inplace = True)\n",
    "        df_no_rt_agg.rename(columns = {'author_id':'follower_id'}, inplace = True)\n",
    "\n",
    "        base1 = base1.merge(df_final_agg, on=['follower_id'], \n",
    "                            how='left')\n",
    "\n",
    "        base1 = base1.merge(df_rt_agg, on=['follower_id'], \n",
    "                            how='left')\n",
    "\n",
    "        base1 = base1.merge(df_no_rt_agg, on=['follower_id'], \n",
    "                            how='left')\n",
    "\n",
    "        cols_base = ([col for col in base1.columns if '_rt' in col] + \n",
    "             [col for col in base1.columns if '_no_rt' in col] + \n",
    "             cols + ['n_posts'])\n",
    "\n",
    "        for x in cols_base:\n",
    "            base1[x] = np.where(base1[x].isnull(), 0, base1[x])\n",
    "    \n",
    "        base1.to_parquet(f'../../../data/04-analysis/{country}/{stage}/verifiability_batch1.parquet')"
   ]
  }
 ],
 "metadata": {
  "kernelspec": {
   "display_name": "Python 3 (ipykernel)",
   "language": "python",
   "name": "python3"
  },
  "language_info": {
   "codemirror_mode": {
    "name": "ipython",
    "version": 3
   },
   "file_extension": ".py",
   "mimetype": "text/x-python",
   "name": "python",
   "nbconvert_exporter": "python",
   "pygments_lexer": "ipython3",
   "version": "3.9.12"
  }
 },
 "nbformat": 4,
 "nbformat_minor": 5
}
