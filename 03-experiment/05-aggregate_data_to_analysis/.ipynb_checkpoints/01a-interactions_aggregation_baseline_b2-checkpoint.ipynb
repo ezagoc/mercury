{
 "cells": [
  {
   "cell_type": "code",
   "execution_count": 1,
   "metadata": {},
   "outputs": [],
   "source": [
    "import pandas as pd\n",
    "import os\n",
    "import glob\n",
    "import numpy as np\n",
    "import warnings\n",
    "warnings.simplefilter(action='ignore', category = FutureWarning)\n",
    "from tqdm import tqdm\n",
    "\n",
    "import re\n",
    "\n",
    "import sys\n",
    "sys.path.insert(0, '../../../src/utils')\n",
    "from import_data import *\n",
    "\n",
    "def convert_to_numeric(characters):\n",
    "    try:\n",
    "        numeric_values = re.sub(',', '', characters)\n",
    "        numeric_values = pd.to_numeric(re.sub(\"K|M|mil\", \"\", numeric_values))\n",
    "        if 'K' in characters:\n",
    "            numeric_values *= 1000\n",
    "        elif 'mil' in characters:\n",
    "            numeric_values *= 1000\n",
    "        elif 'M' in characters:\n",
    "            numeric_values *= 1000000\n",
    "        else:\n",
    "            numeric_values = numeric_values\n",
    "    except:\n",
    "        numeric_values = 0\n",
    "    return numeric_values\n",
    "\n",
    "def get_path(country, week = 'march'):\n",
    "    base = f'../../../data/03-experiment/{country}/'\n",
    "    path_tw = base + f'treatment/followers/00-raw/tweets/{week}/'\n",
    "    rand = f'../../../data/02-randomize/{country}/04-stratification/integrate/followers_randomized.parquet'\n",
    "    baseline = base + 'baseline/00-raw/followers/tweets/'\n",
    "    agg = base + f'treatment/followers/01-preprocess/'\n",
    "    agg_base = base + 'baseline/01-preprocess/followers/'\n",
    "    return path_tw, base, rand, baseline, agg, agg_base\n",
    "\n",
    "\n",
    "def summ_followers2(df):\n",
    "    if 'like_count' in df.columns:\n",
    "        df = df.rename(columns={'like_count':'total_likes'})\n",
    "    else:\n",
    "        df = df.rename(columns={'public_metrics.like_count':'total_likes'}) \n",
    "    df['t_verifiability_likes'] = df['verifiability'] * df['total_likes']\n",
    "    df['t_verifiability_shares'] = df['verifiability'] * df['total_shares']\n",
    "    df['t_verifiability_comments'] = df['verifiability'] * df['total_comments']\n",
    "    df['t_verifiability_reactions'] = df['verifiability'] * df['total_reactions']\n",
    "    df['t_non_ver_likes'] = df['non_ver'] * df['total_likes']\n",
    "    df['t_non_ver_shares'] = df['non_ver'] * df['total_shares']\n",
    "    df['t_non_ver_comments'] = df['non_ver'] * df['total_comments']\n",
    "    df['t_non_ver_reactions'] = df['non_ver'] * df['total_reactions']\n",
    "    df['t_true_likes'] = df['true'] * df['total_likes']\n",
    "    df['t_true_shares'] = df['true'] * df['total_shares']\n",
    "    df['t_true_comments'] = df['true'] * df['total_comments']\n",
    "    df['t_true_reactions'] = df['true'] * df['total_reactions']\n",
    "    df['t_fake_likes'] = df['fake'] * df['total_likes']\n",
    "    df['t_fake_shares'] = df['fake'] * df['total_shares']\n",
    "    df['t_fake_comments'] = df['fake'] * df['total_comments']\n",
    "    df['t_fake_reactions'] = df['fake'] * df['total_reactions']\n",
    "    \n",
    "    cols = [col for col in df.columns if 't_' in col]\n",
    "    df_agg = df[['username', 'author_id'] + \n",
    "        cols].groupby(['username', 'author_id']).sum().reset_index()\n",
    "    \n",
    "    return df_agg"
   ]
  },
  {
   "cell_type": "code",
   "execution_count": 2,
   "metadata": {},
   "outputs": [
    {
     "name": "stderr",
     "output_type": "stream",
     "text": [
      "100%|███████████████████████████████████████████| 14/14 [00:22<00:00,  1.59s/it]\n",
      "100%|███████████████████████████████████████████| 14/14 [00:34<00:00,  2.48s/it]\n"
     ]
    },
    {
     "name": "stdout",
     "output_type": "stream",
     "text": [
      "Aggregation:\n",
      "KE\n"
     ]
    },
    {
     "name": "stderr",
     "output_type": "stream",
     "text": [
      "100%|███████████████████████████████████████████| 10/10 [00:18<00:00,  1.87s/it]\n"
     ]
    },
    {
     "name": "stdout",
     "output_type": "stream",
     "text": [
      "Aggregation:\n",
      "SA\n"
     ]
    }
   ],
   "source": [
    "for country in ['KE', 'SA']:\n",
    "    # Get the treatment information from each follower\n",
    "    base1 = pd.read_parquet(f'../../../data/04-analysis/{country}/treatment_info/information_batch2.parquet')\n",
    "\n",
    "    # These are only observations from April or March 2023, we need to complete them using the correct cases from Joaquin\n",
    "    df_final = get_data_base_batch22(country,  base_path = '../../../../')\n",
    "    df_final['fake'] = np.where((df_final['verifiability'] == 1) & (df_final['true'] == 0), 1, 0)\n",
    "    df_final['fake'] = np.where((df_final['verifiability'] == 0), np.nan, df_final['fake'])\n",
    "    df_final['non_ver'] = np.where((df_final['verifiability'] == 0) & (~df_final['verifiability'].isnull()),\n",
    "                                   1, 0)\n",
    "    df_final = df_final.merge(base1[['follower_id', 'username']], left_on = 'author_id', \n",
    "                          right_on = 'follower_id', how = 'left').drop(['author_id', 'follower_id'], axis = 1)\n",
    "    \n",
    "    if country == 'SA':\n",
    "        date_base = '2023-04-01'\n",
    "    else: \n",
    "        date_base = '2023-03-01'\n",
    "    \n",
    "    # This can potentially change:\n",
    "    df_f = pd.read_parquet(f'../../../data/03-experiment/{country}/treatment/followers/01-preprocess/correct_cases_final.parquet.gzip')\n",
    "    df_f = df_f[df_f['date']<date_base].drop(['date', 'reposted'], axis = 1)\n",
    "    df_f['author_id'] = df_f['username']\n",
    "    \n",
    "    df_f_no_RT = df_f[df_f['type'].isnull()].drop(['type'], axis = 1)\n",
    "    \n",
    "    print('Aggregation:')\n",
    "    df_final['author_id'] = df_final['username']\n",
    "\n",
    "    df_no_rt = df_final[(~df_final['text'].str.contains('RT @', \n",
    "                    case=True, regex=False)) | \n",
    "                    (df_final['total_comments'] > 0)].reset_index(drop=True)\n",
    "\n",
    "    df_no_rt = pd.concat([df_f_no_RT, df_no_rt]).reset_index(drop=True)\n",
    "\n",
    "    df_no_rt_agg = summ_followers2(df_no_rt).reset_index(drop=True)\n",
    "\n",
    "    cols = [col for col in df_no_rt_agg.columns if 't_' in col]\n",
    "\n",
    "    df_no_rt_agg.rename(columns = \n",
    "        {col: col + '_no_rt_base' for col in df_no_rt_agg.columns if col in cols}, \n",
    "        inplace=True)\n",
    "\n",
    "    df_no_rt_agg = df_no_rt_agg.drop(['author_id'], axis=1)\n",
    "\n",
    "    base1 = base1[['username', 'follower_id']].merge(df_no_rt_agg, on=['username'], \n",
    "                  how='left')\n",
    "\n",
    "    cols_base = [col for col in base1.columns if '_base' in col]\n",
    "    for x in cols_base:\n",
    "        base1[x] = np.where(base1[x].isnull(), 0, base1[x])\n",
    "    \n",
    "    base1.to_parquet(f'../../../data/04-analysis/{country}/baseline/baseline_batch2_interactions.parquet')\n",
    "    print(country)"
   ]
  }
 ],
 "metadata": {
  "kernelspec": {
   "display_name": "Python 3 (ipykernel)",
   "language": "python",
   "name": "python3"
  },
  "language_info": {
   "codemirror_mode": {
    "name": "ipython",
    "version": 3
   },
   "file_extension": ".py",
   "mimetype": "text/x-python",
   "name": "python",
   "nbconvert_exporter": "python",
   "pygments_lexer": "ipython3",
   "version": "3.10.13"
  }
 },
 "nbformat": 4,
 "nbformat_minor": 4
}
