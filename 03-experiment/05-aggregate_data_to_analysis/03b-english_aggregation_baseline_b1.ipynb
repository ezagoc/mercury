{
 "cells": [
  {
   "cell_type": "code",
   "execution_count": 1,
   "id": "68624e01",
   "metadata": {},
   "outputs": [],
   "source": [
    "import pandas as pd\n",
    "import os\n",
    "import glob\n",
    "import numpy as np\n",
    "import warnings\n",
    "warnings.simplefilter(action='ignore', category = FutureWarning)\n",
    "from tqdm import tqdm\n",
    "import sys\n",
    "import re\n",
    "\n",
    "sys.path.insert(0, '../../../src/utils')\n",
    "from import_data import *\n",
    "\n",
    "def summ_followers2(df):\n",
    "    cols = ['eng', 'n_eng']\n",
    "\n",
    "    df_agg = df[['username'] + \n",
    "        cols].groupby(['username']).sum().reset_index()\n",
    "\n",
    "    return df_agg"
   ]
  },
  {
   "cell_type": "markdown",
   "id": "f0bcbf19",
   "metadata": {},
   "source": [
    "#This I do recommend running it first for one country, restart kernel, and run for the other country:"
   ]
  },
  {
   "cell_type": "code",
   "execution_count": 2,
   "id": "aa5dd0b6",
   "metadata": {},
   "outputs": [
    {
     "name": "stderr",
     "output_type": "stream",
     "text": [
      "100%|██████████████████████████████████████████████████████████████████████████████████| 74/74 [01:58<00:00,  1.60s/it]\n"
     ]
    }
   ],
   "source": [
    "country = 'SA'\n",
    "\n",
    "base1 = pd.read_parquet(f'../../../data/04-analysis/{country}/treatment_info/information_batch1.parquet')\n",
    "\n",
    "df_final = get_baseline_data_b1(country, type_data = 'predicted', base_path = '../../../')\n",
    "df_final['eng'] = np.where((df_final['lang'] == 'en'), 1, 0)\n",
    "df_final['n_eng'] = np.where((df_final['lang'] != 'en'), 1, 0)\n",
    "df_final.rename(columns = {'handle': 'username', \n",
    "                       'author_id':'follower_id'}, inplace = True)\n",
    "df_RT = df_final[(df_final['text'].str.contains('RT @', case=True, regex=False)) & \n",
    "                 (df_final['total_comments'] == 0)].reset_index(drop=True)\n",
    "\n",
    "df_no_rt = df_final[(~df_final['text'].str.contains('RT @', \n",
    "                    case=True, regex=False)) | \n",
    "                    (df_final['total_comments'] > 0)].reset_index(drop=True)\n",
    "\n",
    "df_final_agg = summ_followers2(df_final).reset_index(drop = True)\n",
    "df_rt_agg = summ_followers2(df_RT).reset_index(drop=True)\n",
    "df_no_rt_agg = summ_followers2(df_no_rt).reset_index(drop=True)\n",
    "\n",
    "cols = ['eng', 'n_eng']\n",
    "\n",
    "df_final_agg.rename(columns = \n",
    "        {col: col + '_base' for col in df_rt_agg.columns if col in cols}, \n",
    "        inplace=True)\n",
    "\n",
    "df_rt_agg.rename(columns = \n",
    "        {col: col + '_rt_base' for col in df_rt_agg.columns if col in cols}, \n",
    "        inplace=True)\n",
    "\n",
    "df_no_rt_agg.rename(columns = \n",
    "        {col: col + '_no_rt_base' for col in df_no_rt_agg.columns if col in cols}, \n",
    "        inplace=True)\n",
    "\n",
    "base1 = base1.merge(df_final_agg, on=['username'], \n",
    "                    how='left')\n",
    "\n",
    "base1 = base1.merge(df_rt_agg, on=['username'], \n",
    "                    how='left')\n",
    "\n",
    "base1 = base1.merge(df_no_rt_agg, on=['username'], \n",
    "                    how='left')\n",
    "\n",
    "cols_base = [col for col in base1.columns if '_base' in col]\n",
    "for x in cols_base:\n",
    "    base1[x] = np.where(base1[x].isnull(), 0, base1[x])\n",
    "    \n",
    "base1.to_parquet(f'../../../data/04-analysis/{country}/baseline/baseline_english_batch1.parquet')"
   ]
  },
  {
   "cell_type": "code",
   "execution_count": 2,
   "id": "19407df9",
   "metadata": {},
   "outputs": [
    {
     "name": "stderr",
     "output_type": "stream",
     "text": [
      "100%|██████████████████████████████████████████████████████████████████████████████████| 84/84 [04:00<00:00,  2.87s/it]\n"
     ]
    }
   ],
   "source": [
    "country = 'KE'\n",
    "\n",
    "base1 = pd.read_parquet(f'../../../data/04-analysis/{country}/treatment_info/information_batch1.parquet')\n",
    "\n",
    "df_final = get_baseline_data_b1(country, type_data = 'predicted', base_path = '../../../')\n",
    "df_final['eng'] = np.where((df_final['lang'] == 'en'), 1, 0)\n",
    "df_final['n_eng'] = np.where((df_final['lang'] != 'en'), 1, 0)\n",
    "df_final.rename(columns = {'handle': 'username', \n",
    "                       'author_id':'follower_id'}, inplace = True)\n",
    "\n",
    "df_RT = df_final[(df_final['text'].str.contains('RT @', case=True, regex=False)) & \n",
    "                 (df_final['total_comments'] == 0)].reset_index(drop=True)\n",
    "\n",
    "df_no_rt = df_final[(~df_final['text'].str.contains('RT @', \n",
    "                    case=True, regex=False)) | \n",
    "                    (df_final['total_comments'] > 0)].reset_index(drop=True)\n",
    "\n",
    "df_final_agg = summ_followers2(df_final).reset_index(drop = True)\n",
    "df_rt_agg = summ_followers2(df_RT).reset_index(drop=True)\n",
    "df_no_rt_agg = summ_followers2(df_no_rt).reset_index(drop=True)\n",
    "\n",
    "cols = ['eng', 'n_eng']\n",
    "\n",
    "df_final_agg.rename(columns = \n",
    "        {col: col + '_base' for col in df_rt_agg.columns if col in cols}, \n",
    "        inplace=True)\n",
    "\n",
    "df_rt_agg.rename(columns = \n",
    "        {col: col + '_rt_base' for col in df_rt_agg.columns if col in cols}, \n",
    "        inplace=True)\n",
    "\n",
    "df_no_rt_agg.rename(columns = \n",
    "        {col: col + '_no_rt_base' for col in df_no_rt_agg.columns if col in cols}, \n",
    "        inplace=True)\n",
    "\n",
    "base1 = base1.merge(df_final_agg, on=['username'], \n",
    "                    how='left')\n",
    "\n",
    "base1 = base1.merge(df_rt_agg, on=['username'], \n",
    "                    how='left')\n",
    "\n",
    "base1 = base1.merge(df_no_rt_agg, on=['username'], \n",
    "                    how='left')\n",
    "\n",
    "cols_base = [col for col in base1.columns if '_base' in col]\n",
    "for x in cols_base:\n",
    "    base1[x] = np.where(base1[x].isnull(), 0, base1[x])\n",
    "    \n",
    "base1.to_parquet(f'../../../data/04-analysis/{country}/baseline/baseline_english_batch1.parquet')"
   ]
  }
 ],
 "metadata": {
  "kernelspec": {
   "display_name": "Python 3 (ipykernel)",
   "language": "python",
   "name": "python3"
  },
  "language_info": {
   "codemirror_mode": {
    "name": "ipython",
    "version": 3
   },
   "file_extension": ".py",
   "mimetype": "text/x-python",
   "name": "python",
   "nbconvert_exporter": "python",
   "pygments_lexer": "ipython3",
   "version": "3.9.12"
  }
 },
 "nbformat": 4,
 "nbformat_minor": 5
}
