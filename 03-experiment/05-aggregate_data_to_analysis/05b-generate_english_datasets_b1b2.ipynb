{
 "cells": [
  {
   "cell_type": "code",
   "execution_count": 1,
   "id": "e9e71916",
   "metadata": {},
   "outputs": [
    {
     "name": "stdout",
     "output_type": "stream",
     "text": [
      "KE\n",
      "stage1_2\n",
      "stage3_4\n",
      "stage5_6\n",
      "SA\n",
      "stage1_2\n",
      "stage3_4\n",
      "stage5_6\n"
     ]
    }
   ],
   "source": [
    "import pandas as pd\n",
    "import numpy as np\n",
    "\n",
    "for country in ['KE', 'SA']:\n",
    "    print(country)\n",
    "    bots_b1 = pd.read_parquet(f'../../../data/04-analysis/{country}/bots_batch1.parquet').rename(columns={'author_id': \n",
    "                                                                                    'follower_id'}).assign(dummy_sample=1, \n",
    "                                                                                                           batch_id='b1')\n",
    "\n",
    "    bots_b2 = pd.read_parquet(f'../../../data/04-analysis/{country}/bots_batch2.parquet').rename(columns={'author_id': \n",
    "                                                                                    'follower_id'}).assign(dummy_sample=1,\n",
    "                                                                                                           batch_id='b2')\n",
    "    bots = pd.concat([bots_b1, bots_b2]).reset_index(drop=True)\n",
    "    for stage in ['stage1_2', 'stage3_4', 'stage5_6']:\n",
    "        print(stage)\n",
    "\n",
    "        b1 = pd.read_parquet(f'../../../data/04-analysis/{country}/{stage}/english_batch1.parquet').assign(batch_id='b1').reset_index(drop = True)\n",
    "        b2 = pd.read_parquet(f'../../../data/04-analysis/{country}/{stage}/english_batch2.parquet').assign(batch_id='b2').reset_index(drop = True)\n",
    "\n",
    "        b1b2 = pd.concat([b1, b2]).reset_index(drop=True)\n",
    "        try: \n",
    "            b1b2 = b1b2.drop(['author_id_x', 'author_id_y', 'blockid1', 'blockid2'], axis = 1)\n",
    "        except:\n",
    "            b1b2 = b1b2.drop(['blockid1', 'blockid2'], axis = 1)\n",
    "        b1b2 = b1b2.merge(bots, on = ['follower_id', 'batch_id'], how = 'left')\n",
    "        b1b2 = b1b2[(b1b2['dummy_95'] == 0) & (~b1b2['dummy_sample'].isnull())]\n",
    "        b1b2 = b1b2.drop(['dummy_95', 'dummy_sample'], axis = 1).reset_index(drop = True)\n",
    "        b1b2.to_parquet(f'../../../data/04-analysis/{country}/{stage}/english_b1b2.parquet', \n",
    "                       index = False)"
   ]
  },
  {
   "cell_type": "code",
   "execution_count": 5,
   "id": "6b59dc15",
   "metadata": {},
   "outputs": [
    {
     "name": "stdout",
     "output_type": "stream",
     "text": [
      "<class 'pandas.core.frame.DataFrame'>\n",
      "RangeIndex: 69208 entries, 0 to 69207\n",
      "Data columns (total 25 columns):\n",
      " #   Column             Non-Null Count  Dtype  \n",
      "---  ------             --------------  -----  \n",
      " 0   username           69208 non-null  object \n",
      " 1   follower_id        69208 non-null  object \n",
      " 2   ads_treatment      69208 non-null  float64\n",
      " 3   id                 69208 non-null  object \n",
      " 4   c_t_strong_total   69208 non-null  int32  \n",
      " 5   c_t_weak_total     69208 non-null  int32  \n",
      " 6   c_t_neither_total  69208 non-null  int32  \n",
      " 7   t_strong           69208 non-null  float64\n",
      " 8   t_weak             69208 non-null  float64\n",
      " 9   t_neither          69208 non-null  float64\n",
      " 10  strat_block1       69208 non-null  object \n",
      " 11  strat_block2       69208 non-null  object \n",
      " 12  eng_base           69208 non-null  float64\n",
      " 13  n_eng_base         69208 non-null  float64\n",
      " 14  eng_rt_base        69208 non-null  float64\n",
      " 15  n_eng_rt_base      69208 non-null  float64\n",
      " 16  eng_no_rt_base     69208 non-null  float64\n",
      " 17  n_eng_no_rt_base   69208 non-null  float64\n",
      " 18  eng                69208 non-null  float64\n",
      " 19  n_eng              69208 non-null  float64\n",
      " 20  eng_rt             69208 non-null  float64\n",
      " 21  n_eng_rt           69208 non-null  float64\n",
      " 22  eng_no_rt          69208 non-null  float64\n",
      " 23  n_eng_no_rt        69208 non-null  float64\n",
      " 24  batch_id           69208 non-null  object \n",
      "dtypes: float64(16), int32(3), object(6)\n",
      "memory usage: 12.4+ MB\n"
     ]
    }
   ],
   "source": [
    "b1b2.info()"
   ]
  },
  {
   "cell_type": "code",
   "execution_count": null,
   "id": "74be0c47",
   "metadata": {},
   "outputs": [],
   "source": []
  }
 ],
 "metadata": {
  "kernelspec": {
   "display_name": "Python 3 (ipykernel)",
   "language": "python",
   "name": "python3"
  },
  "language_info": {
   "codemirror_mode": {
    "name": "ipython",
    "version": 3
   },
   "file_extension": ".py",
   "mimetype": "text/x-python",
   "name": "python",
   "nbconvert_exporter": "python",
   "pygments_lexer": "ipython3",
   "version": "3.9.12"
  }
 },
 "nbformat": 4,
 "nbformat_minor": 5
}
