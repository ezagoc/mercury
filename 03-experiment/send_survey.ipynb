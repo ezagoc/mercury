{
 "cells": [
  {
   "cell_type": "code",
   "execution_count": 1,
   "id": "7bf8d92a",
   "metadata": {},
   "outputs": [],
   "source": [
    "import pandas as pd\n",
    "import os\n",
    "from os import listdir\n",
    "from tqdm import tqdm\n",
    "import requests\n",
    "import pandas as pd\n",
    "import os\n",
    "from os import listdir\n",
    "import re\n",
    "import json\n",
    "import numpy as np\n",
    "import requests\n",
    "import uuid\n",
    "from datetime import timedelta\n",
    "from bs4 import BeautifulSoup\n",
    "from unidecode import unidecode\n",
    "from datetime import date\n",
    "import datetime\n",
    "from tqdm import tqdm\n",
    "import ast\n",
    "from os import listdir\n",
    "import tweetple\n",
    "from tweetple import TweetPle\n",
    "import tweepy\n",
    "from time import sleep\n",
    "from random import randint\n",
    "tqdm.pandas()"
   ]
  },
  {
   "cell_type": "code",
   "execution_count": 179,
   "id": "6c44d1cd",
   "metadata": {},
   "outputs": [],
   "source": [
    "# assign tokens\n",
    "##JB\n",
    "consumer_key = '3AGiDL5LlPfWSNpp5Tf8SvGCX'\n",
    "consumer_secret = 'd2PTRlyo4kx8FbApzciNISegodocr6uTZaHdPRKqoAgfo7EFZU'\n",
    "access_token = '183708767-AFZJfTQMS6jhzAVi0qkyVlXRusyzoxElpnpO6cgK'\n",
    "access_token_secret = 'Tq9iqQr61rLp8N7q29FlCeUIsKveDCdyDBX4TNwvQTqkv'\n",
    "  \n",
    "# authorization of consumer key and consumer secret\n",
    "auth = tweepy.OAuthHandler(consumer_key, consumer_secret)\n",
    "  \n",
    "# set access to user's access key and access secret \n",
    "auth.set_access_token(access_token, access_token_secret)\n",
    "  \n",
    "# calling the api \n",
    "api = tweepy.API(auth)\n"
   ]
  },
  {
   "cell_type": "code",
   "execution_count": null,
   "id": "acca5833",
   "metadata": {},
   "outputs": [],
   "source": [
    "# assign tokens\n",
    "##HL\n",
    "consumer_key = '11pKNTz6xjlTIBTrxts4g7Nqq'\n",
    "consumer_secret = 'glXAO69SQ90qnwvmNwuaql2ysQSg6HQmZhjM5KhOSBm57KNut2'\n",
    "access_token = '1357614423410696200-h3WReWT9zuosra5Efbgcg3SmPDVSDj'\n",
    "access_token_secret = 'BYjDa0YGFSBqUP5FM3R7EL3kGOiyKOtS8rqEuVUe5qqYt'\n",
    "  \n",
    "# authorization of consumer key and consumer secret\n",
    "auth = tweepy.OAuthHandler(consumer_key, consumer_secret)\n",
    "  \n",
    "# set access to user's access key and access secret \n",
    "auth.set_access_token(access_token, access_token_secret)\n",
    "  \n",
    "# calling the api \n",
    "api = tweepy.API(auth)"
   ]
  },
  {
   "cell_type": "code",
   "execution_count": null,
   "id": "25c64cd7",
   "metadata": {},
   "outputs": [],
   "source": [
    "# assign tokens\n",
    "##AB\n",
    "consumer_key = 'UWCRNFGEZ1UpEXN14QxzF8BCw'\n",
    "consumer_secret = 'ZyoyAGSVWr9Yne59dypdPgxo9bn4eNsZ9cXbnVgFirU7TWQs6V'\n",
    "access_token = '967997058111111168-pRWW7NR00VrBOMRiWz1fvflMQ7hFoUR'\n",
    "access_token_secret = 'NkXvLuXl63ebRmf26days8lzDfhGEF7TZM0QXSQtuNveQ'\n",
    "  \n",
    "# authorization of consumer key and consumer secret\n",
    "auth = tweepy.OAuthHandler(consumer_key, consumer_secret)\n",
    "  \n",
    "# set access to user's access key and access secret \n",
    "auth.set_access_token(access_token, access_token_secret)\n",
    "  \n",
    "# calling the api \n",
    "api = tweepy.API(auth)"
   ]
  },
  {
   "cell_type": "code",
   "execution_count": null,
   "id": "d168e1a2",
   "metadata": {},
   "outputs": [],
   "source": [
    "# assign tokens\n",
    "##JM\n",
    "consumer_key = 'd1bNHheixVDLlRd9nHG5IcbPI'\n",
    "consumer_secret = 'JBwoq4YuR3MNCHG2wMBq1csDt9WfySFfFWuJ9QeoEsXsGlW4aP'\n",
    "access_token = '1487181498809823238-tIsQrTscieYcHXWoNAQJbu0EfeAI5M'\n",
    "access_token_secret = '3tM0wdJhXLugAYzZZdtmBPlVBC4i6cFPd1en7NjcGXG3R'\n",
    "  \n",
    "# authorization of consumer key and consumer secret\n",
    "auth = tweepy.OAuthHandler(consumer_key, consumer_secret)\n",
    "  \n",
    "# set access to user's access key and access secret \n",
    "auth.set_access_token(access_token, access_token_secret)\n",
    "  \n",
    "# calling the api \n",
    "api = tweepy.API(auth)"
   ]
  },
  {
   "cell_type": "code",
   "execution_count": 2,
   "id": "259d47ae",
   "metadata": {},
   "outputs": [],
   "source": [
    "# assign tokens\n",
    "##EZ\n",
    "consumer_key = 'De5UKZsjldpTyP4vB77ClP5ZQ'\n",
    "consumer_secret = 'fp21xwvKHwFvIQ0p9ruFrWanw1mcGNGYLcmTxsftJ8ZpqkPlRZ'\n",
    "access_token = '222975792-ITvJ2nv4HD8V3QCLSKJwkyZzkeujKF0QsxX3zGNB'\n",
    "access_token_secret = 'oZb5xDAF1seKldIr7OunPanFpQgdSVNsWQtQxmfJU924Y'\n",
    "  \n",
    "# authorization of consumer key and consumer secret\n",
    "auth = tweepy.OAuthHandler(consumer_key, consumer_secret)\n",
    "  \n",
    "# set access to user's access key and access secret \n",
    "auth.set_access_token(access_token, access_token_secret)\n",
    "  \n",
    "# calling the api \n",
    "api = tweepy.API(auth)"
   ]
  },
  {
   "cell_type": "code",
   "execution_count": 12,
   "id": "5b26678b",
   "metadata": {},
   "outputs": [],
   "source": [
    "country='KE'\n",
    "citizen = 'Kenyan'\n",
    "country='SA'\n",
    "citizen = 'South African'\n",
    "survey = pd.read_csv(f'../../data/03-experiment/{country}/survey/1-qualtrics/Links_Full_second_batch.csv')"
   ]
  },
  {
   "cell_type": "code",
   "execution_count": 182,
   "id": "6b53aa51",
   "metadata": {},
   "outputs": [],
   "source": [
    "ids = pd.read_parquet(f'../../data/03-experiment/{country}/survey/0-open_dms/open_dms_batch2.parquet')"
   ]
  },
  {
   "cell_type": "code",
   "execution_count": 13,
   "id": "e7baf4de",
   "metadata": {},
   "outputs": [],
   "source": [
    "survey.rename(columns={'First Name':\"username\"}, inplace=True)"
   ]
  },
  {
   "cell_type": "code",
   "execution_count": 140,
   "id": "28794947",
   "metadata": {},
   "outputs": [],
   "source": [
    "survey['username'] = (np.where(survey['Email Address'].str.contains('@'),\n",
    "                  survey['Email Address'].str.split('@').str[0],\n",
    "                  np.nan))\n"
   ]
  },
  {
   "cell_type": "code",
   "execution_count": 60,
   "id": "3d662703",
   "metadata": {},
   "outputs": [],
   "source": [
    "### correr esto cuando se quiera revisar quienes tienen dms abiertos usando la lista total de followers"
   ]
  },
  {
   "cell_type": "code",
   "execution_count": 18,
   "id": "06ba5e64",
   "metadata": {},
   "outputs": [
    {
     "name": "stderr",
     "output_type": "stream",
     "text": [
      "100%|██████████| 27/27 [00:10<00:00,  2.60it/s]\n"
     ]
    }
   ],
   "source": [
    "## revisar cuentas que tienen abiertos sus dms\n",
    "followers = list(ids.follower_id)\n",
    "can_dm = []\n",
    "error2 = []\n",
    "for i in tqdm(error):\n",
    "    try:\n",
    "        allowed = api.get_friendship(source_id = 183708767, target_id= i )[0].can_dm\n",
    "        if allowed == True:\n",
    "            can_dm.append(i)\n",
    "    except tweepy.TweepyException as e:\n",
    "        if e.args[0].split(' ')[0] == '429':\n",
    "            sleep(15*60)\n",
    "            error2.append(i)\n",
    "            print(i)"
   ]
  },
  {
   "cell_type": "code",
   "execution_count": 2,
   "id": "80a416a9",
   "metadata": {
    "collapsed": true
   },
   "outputs": [
    {
     "ename": "NameError",
     "evalue": "name 'ids' is not defined",
     "output_type": "error",
     "traceback": [
      "\u001b[0;31m---------------------------------------------------------------------------\u001b[0m",
      "\u001b[0;31mNameError\u001b[0m                                 Traceback (most recent call last)",
      "Input \u001b[0;32mIn [2]\u001b[0m, in \u001b[0;36m<cell line: 1>\u001b[0;34m()\u001b[0m\n\u001b[0;32m----> 1\u001b[0m can_dms \u001b[38;5;241m=\u001b[39m \u001b[43mids\u001b[49m[ids[\u001b[38;5;124m'\u001b[39m\u001b[38;5;124mfollower_id\u001b[39m\u001b[38;5;124m'\u001b[39m]\u001b[38;5;241m.\u001b[39misin(can_dm)]\u001b[38;5;241m.\u001b[39mreset_index(drop\u001b[38;5;241m=\u001b[39m\u001b[38;5;28;01mTrue\u001b[39;00m)\n\u001b[1;32m      2\u001b[0m can_dms_old \u001b[38;5;241m=\u001b[39m pd\u001b[38;5;241m.\u001b[39mread_parquet(\u001b[38;5;124mf\u001b[39m\u001b[38;5;124m'\u001b[39m\u001b[38;5;124m../../data/03-experiment/\u001b[39m\u001b[38;5;132;01m{\u001b[39;00mcountry\u001b[38;5;132;01m}\u001b[39;00m\u001b[38;5;124m/survey/0-open_dms/open_dms.parquet\u001b[39m\u001b[38;5;124m'\u001b[39m)\n\u001b[1;32m      3\u001b[0m can_dms \u001b[38;5;241m=\u001b[39m pd\u001b[38;5;241m.\u001b[39mconcat([can_dms, can_dms_old], axis\u001b[38;5;241m=\u001b[39m\u001b[38;5;241m0\u001b[39m)\u001b[38;5;241m.\u001b[39mdrop_duplicates(\u001b[38;5;124m'\u001b[39m\u001b[38;5;124mfollower_id\u001b[39m\u001b[38;5;124m'\u001b[39m)\u001b[38;5;241m.\u001b[39mreset_index(drop\u001b[38;5;241m=\u001b[39m\u001b[38;5;28;01mTrue\u001b[39;00m)\n",
      "\u001b[0;31mNameError\u001b[0m: name 'ids' is not defined"
     ]
    }
   ],
   "source": [
    "can_dms = ids[ids['follower_id'].isin(can_dm)].reset_index(drop=True)\n",
    "can_dms_old = pd.read_parquet(f'../../data/03-experiment/{country}/survey/0-open_dms/open_dms.parquet')\n",
    "can_dms = pd.concat([can_dms, can_dms_old], axis=0).drop_duplicates('follower_id').reset_index(drop=True)\n",
    "can_dms.to_parquet(f'../../data/03-experiment/{country}/survey/0-open_dms/open_dms.parquet')"
   ]
  },
  {
   "cell_type": "code",
   "execution_count": 184,
   "id": "abd21eae",
   "metadata": {},
   "outputs": [],
   "source": [
    "## hacer merge con links survey\n",
    "survey = pd.merge(survey,ids,on='username',how='left')"
   ]
  },
  {
   "cell_type": "code",
   "execution_count": 185,
   "id": "f9b113cb",
   "metadata": {},
   "outputs": [],
   "source": [
    "successes_old = pd.read_parquet(f'../../data/03-experiment/{country}/survey/2-successes/successes_b2.parquet')\n",
    "no_dms_old = pd.read_parquet(f'../../data/03-experiment/{country}/survey/3-no_dms/no_dm_b2.parquet')\n",
    "can_dms_old = pd.read_parquet(f'../../data/03-experiment/{country}/survey/0-open_dms/open_dms_batch2.parquet')\n",
    "successes_pilot = pd.read_parquet(f'../../../social-media-influencers-africa/data/03-experiment/{country}/survey/1-successes/successes.parquet')\n",
    "successes_b1 = pd.read_parquet(f'../../data/03-experiment/{country}/survey/2-successes/successes.parquet')"
   ]
  },
  {
   "cell_type": "code",
   "execution_count": 186,
   "id": "232288d0",
   "metadata": {},
   "outputs": [],
   "source": [
    "tries = list(successes_old.follower_id)+list(no_dms_old.follower_id)+list(successes_pilot.follower_id)+list(successes_b1.follower_id)"
   ]
  },
  {
   "cell_type": "code",
   "execution_count": 187,
   "id": "8688696d",
   "metadata": {},
   "outputs": [],
   "source": [
    "#quedarnos con usuarios a los que no les hemos mandando survey y tienen abiertos sus dms\n",
    "\n",
    "survey = survey[~survey['follower_id'].isin(tries)].reset_index(drop=True)\n",
    "survey = survey[survey['follower_id'].isin(can_dms_old.follower_id)].reset_index(drop=True)"
   ]
  },
  {
   "cell_type": "code",
   "execution_count": 188,
   "id": "28b07830",
   "metadata": {},
   "outputs": [],
   "source": [
    "links = list(survey.Link)\n",
    "ids = list(survey.follower_id)\n",
    "names = list(survey['username'])"
   ]
  },
  {
   "cell_type": "code",
   "execution_count": 189,
   "id": "5418f5a4",
   "metadata": {},
   "outputs": [
    {
     "data": {
      "text/plain": [
       "683"
      ]
     },
     "execution_count": 189,
     "metadata": {},
     "output_type": "execute_result"
    }
   ],
   "source": [
    "len(survey)"
   ]
  },
  {
   "cell_type": "code",
   "execution_count": 190,
   "id": "b0afef17",
   "metadata": {},
   "outputs": [
    {
     "name": "stderr",
     "output_type": "stream",
     "text": [
      "1it [00:00,  3.74it/s]"
     ]
    },
    {
     "name": "stdout",
     "output_type": "stream",
     "text": [
      "403 Forbidden\n",
      "453 - You currently have access to a subset of Twitter API v2 endpoints and limited v1.1 endpoints (e.g. media post, oauth) only. If you need access to this endpoint, you may need a different access level. You can learn more here: https://developer.twitter.com/en/portal/product\n"
     ]
    },
    {
     "name": "stderr",
     "output_type": "stream",
     "text": [
      "\r",
      "2it [00:00,  4.18it/s]"
     ]
    },
    {
     "name": "stdout",
     "output_type": "stream",
     "text": [
      "403 Forbidden\n",
      "453 - You currently have access to a subset of Twitter API v2 endpoints and limited v1.1 endpoints (e.g. media post, oauth) only. If you need access to this endpoint, you may need a different access level. You can learn more here: https://developer.twitter.com/en/portal/product\n"
     ]
    },
    {
     "name": "stderr",
     "output_type": "stream",
     "text": [
      "\r",
      "3it [00:00,  4.42it/s]"
     ]
    },
    {
     "name": "stdout",
     "output_type": "stream",
     "text": [
      "403 Forbidden\n",
      "453 - You currently have access to a subset of Twitter API v2 endpoints and limited v1.1 endpoints (e.g. media post, oauth) only. If you need access to this endpoint, you may need a different access level. You can learn more here: https://developer.twitter.com/en/portal/product\n"
     ]
    },
    {
     "name": "stderr",
     "output_type": "stream",
     "text": [
      "\r",
      "4it [00:00,  4.54it/s]"
     ]
    },
    {
     "name": "stdout",
     "output_type": "stream",
     "text": [
      "403 Forbidden\n",
      "453 - You currently have access to a subset of Twitter API v2 endpoints and limited v1.1 endpoints (e.g. media post, oauth) only. If you need access to this endpoint, you may need a different access level. You can learn more here: https://developer.twitter.com/en/portal/product\n"
     ]
    },
    {
     "name": "stderr",
     "output_type": "stream",
     "text": [
      "\r",
      "5it [00:01,  4.54it/s]"
     ]
    },
    {
     "name": "stdout",
     "output_type": "stream",
     "text": [
      "403 Forbidden\n",
      "453 - You currently have access to a subset of Twitter API v2 endpoints and limited v1.1 endpoints (e.g. media post, oauth) only. If you need access to this endpoint, you may need a different access level. You can learn more here: https://developer.twitter.com/en/portal/product\n"
     ]
    },
    {
     "name": "stderr",
     "output_type": "stream",
     "text": [
      "\r",
      "6it [00:01,  4.54it/s]"
     ]
    },
    {
     "name": "stdout",
     "output_type": "stream",
     "text": [
      "403 Forbidden\n",
      "453 - You currently have access to a subset of Twitter API v2 endpoints and limited v1.1 endpoints (e.g. media post, oauth) only. If you need access to this endpoint, you may need a different access level. You can learn more here: https://developer.twitter.com/en/portal/product\n"
     ]
    },
    {
     "name": "stderr",
     "output_type": "stream",
     "text": [
      "\r",
      "7it [00:01,  4.56it/s]"
     ]
    },
    {
     "name": "stdout",
     "output_type": "stream",
     "text": [
      "403 Forbidden\n",
      "453 - You currently have access to a subset of Twitter API v2 endpoints and limited v1.1 endpoints (e.g. media post, oauth) only. If you need access to this endpoint, you may need a different access level. You can learn more here: https://developer.twitter.com/en/portal/product\n"
     ]
    },
    {
     "name": "stderr",
     "output_type": "stream",
     "text": [
      "\r",
      "8it [00:01,  4.61it/s]"
     ]
    },
    {
     "name": "stdout",
     "output_type": "stream",
     "text": [
      "403 Forbidden\n",
      "453 - You currently have access to a subset of Twitter API v2 endpoints and limited v1.1 endpoints (e.g. media post, oauth) only. If you need access to this endpoint, you may need a different access level. You can learn more here: https://developer.twitter.com/en/portal/product\n"
     ]
    },
    {
     "name": "stderr",
     "output_type": "stream",
     "text": [
      "\r",
      "9it [00:01,  4.61it/s]"
     ]
    },
    {
     "name": "stdout",
     "output_type": "stream",
     "text": [
      "403 Forbidden\n",
      "453 - You currently have access to a subset of Twitter API v2 endpoints and limited v1.1 endpoints (e.g. media post, oauth) only. If you need access to this endpoint, you may need a different access level. You can learn more here: https://developer.twitter.com/en/portal/product\n"
     ]
    },
    {
     "name": "stderr",
     "output_type": "stream",
     "text": [
      "\r",
      "10it [00:02,  4.62it/s]"
     ]
    },
    {
     "name": "stdout",
     "output_type": "stream",
     "text": [
      "403 Forbidden\n",
      "453 - You currently have access to a subset of Twitter API v2 endpoints and limited v1.1 endpoints (e.g. media post, oauth) only. If you need access to this endpoint, you may need a different access level. You can learn more here: https://developer.twitter.com/en/portal/product\n"
     ]
    },
    {
     "name": "stderr",
     "output_type": "stream",
     "text": [
      "\r",
      "11it [00:02,  4.62it/s]"
     ]
    },
    {
     "name": "stdout",
     "output_type": "stream",
     "text": [
      "403 Forbidden\n",
      "453 - You currently have access to a subset of Twitter API v2 endpoints and limited v1.1 endpoints (e.g. media post, oauth) only. If you need access to this endpoint, you may need a different access level. You can learn more here: https://developer.twitter.com/en/portal/product\n"
     ]
    },
    {
     "name": "stderr",
     "output_type": "stream",
     "text": [
      "\r",
      "12it [00:02,  4.53it/s]"
     ]
    },
    {
     "name": "stdout",
     "output_type": "stream",
     "text": [
      "403 Forbidden\n",
      "453 - You currently have access to a subset of Twitter API v2 endpoints and limited v1.1 endpoints (e.g. media post, oauth) only. If you need access to this endpoint, you may need a different access level. You can learn more here: https://developer.twitter.com/en/portal/product\n"
     ]
    },
    {
     "name": "stderr",
     "output_type": "stream",
     "text": [
      "\r",
      "13it [00:02,  4.54it/s]"
     ]
    },
    {
     "name": "stdout",
     "output_type": "stream",
     "text": [
      "403 Forbidden\n",
      "453 - You currently have access to a subset of Twitter API v2 endpoints and limited v1.1 endpoints (e.g. media post, oauth) only. If you need access to this endpoint, you may need a different access level. You can learn more here: https://developer.twitter.com/en/portal/product\n"
     ]
    },
    {
     "name": "stderr",
     "output_type": "stream",
     "text": [
      "\r",
      "14it [00:03,  4.57it/s]"
     ]
    },
    {
     "name": "stdout",
     "output_type": "stream",
     "text": [
      "403 Forbidden\n",
      "453 - You currently have access to a subset of Twitter API v2 endpoints and limited v1.1 endpoints (e.g. media post, oauth) only. If you need access to this endpoint, you may need a different access level. You can learn more here: https://developer.twitter.com/en/portal/product\n"
     ]
    },
    {
     "name": "stderr",
     "output_type": "stream",
     "text": [
      "\r",
      "15it [00:03,  4.57it/s]"
     ]
    },
    {
     "name": "stdout",
     "output_type": "stream",
     "text": [
      "403 Forbidden\n",
      "453 - You currently have access to a subset of Twitter API v2 endpoints and limited v1.1 endpoints (e.g. media post, oauth) only. If you need access to this endpoint, you may need a different access level. You can learn more here: https://developer.twitter.com/en/portal/product\n"
     ]
    },
    {
     "name": "stderr",
     "output_type": "stream",
     "text": [
      "\r",
      "16it [00:03,  4.56it/s]"
     ]
    },
    {
     "name": "stdout",
     "output_type": "stream",
     "text": [
      "403 Forbidden\n",
      "453 - You currently have access to a subset of Twitter API v2 endpoints and limited v1.1 endpoints (e.g. media post, oauth) only. If you need access to this endpoint, you may need a different access level. You can learn more here: https://developer.twitter.com/en/portal/product\n"
     ]
    },
    {
     "name": "stderr",
     "output_type": "stream",
     "text": [
      "\r",
      "17it [00:03,  4.58it/s]"
     ]
    },
    {
     "name": "stdout",
     "output_type": "stream",
     "text": [
      "403 Forbidden\n",
      "453 - You currently have access to a subset of Twitter API v2 endpoints and limited v1.1 endpoints (e.g. media post, oauth) only. If you need access to this endpoint, you may need a different access level. You can learn more here: https://developer.twitter.com/en/portal/product\n"
     ]
    },
    {
     "name": "stderr",
     "output_type": "stream",
     "text": [
      "\r",
      "18it [00:03,  4.58it/s]"
     ]
    },
    {
     "name": "stdout",
     "output_type": "stream",
     "text": [
      "403 Forbidden\n",
      "453 - You currently have access to a subset of Twitter API v2 endpoints and limited v1.1 endpoints (e.g. media post, oauth) only. If you need access to this endpoint, you may need a different access level. You can learn more here: https://developer.twitter.com/en/portal/product\n"
     ]
    },
    {
     "name": "stderr",
     "output_type": "stream",
     "text": [
      "\r",
      "19it [00:04,  4.64it/s]"
     ]
    },
    {
     "name": "stdout",
     "output_type": "stream",
     "text": [
      "403 Forbidden\n",
      "453 - You currently have access to a subset of Twitter API v2 endpoints and limited v1.1 endpoints (e.g. media post, oauth) only. If you need access to this endpoint, you may need a different access level. You can learn more here: https://developer.twitter.com/en/portal/product\n"
     ]
    },
    {
     "name": "stderr",
     "output_type": "stream",
     "text": [
      "\r",
      "20it [00:04,  4.64it/s]"
     ]
    },
    {
     "name": "stdout",
     "output_type": "stream",
     "text": [
      "403 Forbidden\n",
      "453 - You currently have access to a subset of Twitter API v2 endpoints and limited v1.1 endpoints (e.g. media post, oauth) only. If you need access to this endpoint, you may need a different access level. You can learn more here: https://developer.twitter.com/en/portal/product\n"
     ]
    },
    {
     "name": "stderr",
     "output_type": "stream",
     "text": [
      "\r",
      "21it [00:04,  4.60it/s]"
     ]
    },
    {
     "name": "stdout",
     "output_type": "stream",
     "text": [
      "403 Forbidden\n",
      "453 - You currently have access to a subset of Twitter API v2 endpoints and limited v1.1 endpoints (e.g. media post, oauth) only. If you need access to this endpoint, you may need a different access level. You can learn more here: https://developer.twitter.com/en/portal/product\n"
     ]
    },
    {
     "name": "stderr",
     "output_type": "stream",
     "text": [
      "\r",
      "22it [00:04,  4.60it/s]"
     ]
    },
    {
     "name": "stdout",
     "output_type": "stream",
     "text": [
      "403 Forbidden\n",
      "453 - You currently have access to a subset of Twitter API v2 endpoints and limited v1.1 endpoints (e.g. media post, oauth) only. If you need access to this endpoint, you may need a different access level. You can learn more here: https://developer.twitter.com/en/portal/product\n"
     ]
    },
    {
     "name": "stderr",
     "output_type": "stream",
     "text": [
      "23it [00:05,  4.53it/s]"
     ]
    },
    {
     "name": "stdout",
     "output_type": "stream",
     "text": [
      "403 Forbidden\n",
      "453 - You currently have access to a subset of Twitter API v2 endpoints and limited v1.1 endpoints (e.g. media post, oauth) only. If you need access to this endpoint, you may need a different access level. You can learn more here: https://developer.twitter.com/en/portal/product\n"
     ]
    },
    {
     "name": "stderr",
     "output_type": "stream",
     "text": [
      "\n"
     ]
    },
    {
     "ename": "KeyboardInterrupt",
     "evalue": "",
     "output_type": "error",
     "traceback": [
      "\u001b[0;31m---------------------------------------------------------------------------\u001b[0m",
      "\u001b[0;31mKeyboardInterrupt\u001b[0m                         Traceback (most recent call last)",
      "Input \u001b[0;32mIn [190]\u001b[0m, in \u001b[0;36m<cell line: 4>\u001b[0;34m()\u001b[0m\n\u001b[1;32m      7\u001b[0m \u001b[38;5;66;03m# send the dm\u001b[39;00m\n\u001b[1;32m      8\u001b[0m \u001b[38;5;28;01mtry\u001b[39;00m:\n\u001b[1;32m      9\u001b[0m     \u001b[38;5;66;03m#sleep(randint(30,120))\u001b[39;00m\n\u001b[0;32m---> 10\u001b[0m     \u001b[43mapi\u001b[49m\u001b[38;5;241;43m.\u001b[39;49m\u001b[43msend_direct_message\u001b[49m\u001b[43m(\u001b[49m\u001b[43mi\u001b[49m\u001b[43m,\u001b[49m\u001b[43m \u001b[49m\u001b[43mtext\u001b[49m\u001b[43m)\u001b[49m\n\u001b[1;32m     11\u001b[0m     success\u001b[38;5;241m.\u001b[39mappend(i)\n\u001b[1;32m     12\u001b[0m \u001b[38;5;28;01mexcept\u001b[39;00m tweepy\u001b[38;5;241m.\u001b[39mTweepyException \u001b[38;5;28;01mas\u001b[39;00m e:\n",
      "File \u001b[0;32m~/miniforge3/envs/env_tf/lib/python3.9/site-packages/tweepy/api.py:46\u001b[0m, in \u001b[0;36mpayload.<locals>.decorator.<locals>.wrapper\u001b[0;34m(*args, **kwargs)\u001b[0m\n\u001b[1;32m     44\u001b[0m kwargs[\u001b[38;5;124m'\u001b[39m\u001b[38;5;124mpayload_list\u001b[39m\u001b[38;5;124m'\u001b[39m] \u001b[38;5;241m=\u001b[39m payload_list\n\u001b[1;32m     45\u001b[0m kwargs[\u001b[38;5;124m'\u001b[39m\u001b[38;5;124mpayload_type\u001b[39m\u001b[38;5;124m'\u001b[39m] \u001b[38;5;241m=\u001b[39m payload_type\n\u001b[0;32m---> 46\u001b[0m \u001b[38;5;28;01mreturn\u001b[39;00m \u001b[43mmethod\u001b[49m\u001b[43m(\u001b[49m\u001b[38;5;241;43m*\u001b[39;49m\u001b[43margs\u001b[49m\u001b[43m,\u001b[49m\u001b[43m \u001b[49m\u001b[38;5;241;43m*\u001b[39;49m\u001b[38;5;241;43m*\u001b[39;49m\u001b[43mkwargs\u001b[49m\u001b[43m)\u001b[49m\n",
      "File \u001b[0;32m~/miniforge3/envs/env_tf/lib/python3.9/site-packages/tweepy/api.py:3393\u001b[0m, in \u001b[0;36mAPI.send_direct_message\u001b[0;34m(self, recipient_id, text, quick_reply_options, attachment_type, attachment_media_id, ctas, **kwargs)\u001b[0m\n\u001b[1;32m   3391\u001b[0m \u001b[38;5;28;01mif\u001b[39;00m ctas \u001b[38;5;129;01mis\u001b[39;00m \u001b[38;5;129;01mnot\u001b[39;00m \u001b[38;5;28;01mNone\u001b[39;00m:\n\u001b[1;32m   3392\u001b[0m     message_data[\u001b[38;5;124m'\u001b[39m\u001b[38;5;124mctas\u001b[39m\u001b[38;5;124m'\u001b[39m] \u001b[38;5;241m=\u001b[39m ctas\n\u001b[0;32m-> 3393\u001b[0m \u001b[38;5;28;01mreturn\u001b[39;00m \u001b[38;5;28;43mself\u001b[39;49m\u001b[38;5;241;43m.\u001b[39;49m\u001b[43mrequest\u001b[49m\u001b[43m(\u001b[49m\n\u001b[1;32m   3394\u001b[0m \u001b[43m    \u001b[49m\u001b[38;5;124;43m'\u001b[39;49m\u001b[38;5;124;43mPOST\u001b[39;49m\u001b[38;5;124;43m'\u001b[39;49m\u001b[43m,\u001b[49m\u001b[43m \u001b[49m\u001b[38;5;124;43m'\u001b[39;49m\u001b[38;5;124;43mdirect_messages/events/new\u001b[39;49m\u001b[38;5;124;43m'\u001b[39;49m\u001b[43m,\u001b[49m\n\u001b[1;32m   3395\u001b[0m \u001b[43m    \u001b[49m\u001b[43mjson_payload\u001b[49m\u001b[38;5;241;43m=\u001b[39;49m\u001b[43mjson_payload\u001b[49m\u001b[43m,\u001b[49m\u001b[43m \u001b[49m\u001b[38;5;241;43m*\u001b[39;49m\u001b[38;5;241;43m*\u001b[39;49m\u001b[43mkwargs\u001b[49m\n\u001b[1;32m   3396\u001b[0m \u001b[43m\u001b[49m\u001b[43m)\u001b[49m\n",
      "File \u001b[0;32m~/miniforge3/envs/env_tf/lib/python3.9/site-packages/tweepy/api.py:216\u001b[0m, in \u001b[0;36mAPI.request\u001b[0;34m(self, method, endpoint, endpoint_parameters, params, headers, json_payload, parser, payload_list, payload_type, post_data, files, require_auth, return_cursors, upload_api, use_cache, **kwargs)\u001b[0m\n\u001b[1;32m    214\u001b[0m \u001b[38;5;66;03m# Execute request\u001b[39;00m\n\u001b[1;32m    215\u001b[0m \u001b[38;5;28;01mtry\u001b[39;00m:\n\u001b[0;32m--> 216\u001b[0m     resp \u001b[38;5;241m=\u001b[39m \u001b[38;5;28;43mself\u001b[39;49m\u001b[38;5;241;43m.\u001b[39;49m\u001b[43msession\u001b[49m\u001b[38;5;241;43m.\u001b[39;49m\u001b[43mrequest\u001b[49m\u001b[43m(\u001b[49m\n\u001b[1;32m    217\u001b[0m \u001b[43m        \u001b[49m\u001b[43mmethod\u001b[49m\u001b[43m,\u001b[49m\u001b[43m \u001b[49m\u001b[43murl\u001b[49m\u001b[43m,\u001b[49m\u001b[43m \u001b[49m\u001b[43mparams\u001b[49m\u001b[38;5;241;43m=\u001b[39;49m\u001b[43mparams\u001b[49m\u001b[43m,\u001b[49m\u001b[43m \u001b[49m\u001b[43mheaders\u001b[49m\u001b[38;5;241;43m=\u001b[39;49m\u001b[43mheaders\u001b[49m\u001b[43m,\u001b[49m\n\u001b[1;32m    218\u001b[0m \u001b[43m        \u001b[49m\u001b[43mdata\u001b[49m\u001b[38;5;241;43m=\u001b[39;49m\u001b[43mpost_data\u001b[49m\u001b[43m,\u001b[49m\u001b[43m \u001b[49m\u001b[43mfiles\u001b[49m\u001b[38;5;241;43m=\u001b[39;49m\u001b[43mfiles\u001b[49m\u001b[43m,\u001b[49m\u001b[43m \u001b[49m\u001b[43mjson\u001b[49m\u001b[38;5;241;43m=\u001b[39;49m\u001b[43mjson_payload\u001b[49m\u001b[43m,\u001b[49m\n\u001b[1;32m    219\u001b[0m \u001b[43m        \u001b[49m\u001b[43mtimeout\u001b[49m\u001b[38;5;241;43m=\u001b[39;49m\u001b[38;5;28;43mself\u001b[39;49m\u001b[38;5;241;43m.\u001b[39;49m\u001b[43mtimeout\u001b[49m\u001b[43m,\u001b[49m\u001b[43m \u001b[49m\u001b[43mauth\u001b[49m\u001b[38;5;241;43m=\u001b[39;49m\u001b[43mauth\u001b[49m\u001b[43m,\u001b[49m\u001b[43m \u001b[49m\u001b[43mproxies\u001b[49m\u001b[38;5;241;43m=\u001b[39;49m\u001b[38;5;28;43mself\u001b[39;49m\u001b[38;5;241;43m.\u001b[39;49m\u001b[43mproxy\u001b[49m\n\u001b[1;32m    220\u001b[0m \u001b[43m    \u001b[49m\u001b[43m)\u001b[49m\n\u001b[1;32m    221\u001b[0m \u001b[38;5;28;01mexcept\u001b[39;00m \u001b[38;5;167;01mException\u001b[39;00m \u001b[38;5;28;01mas\u001b[39;00m e:\n\u001b[1;32m    222\u001b[0m     \u001b[38;5;28;01mraise\u001b[39;00m TweepyException(\u001b[38;5;124mf\u001b[39m\u001b[38;5;124m'\u001b[39m\u001b[38;5;124mFailed to send request: \u001b[39m\u001b[38;5;132;01m{\u001b[39;00me\u001b[38;5;132;01m}\u001b[39;00m\u001b[38;5;124m'\u001b[39m)\u001b[38;5;241m.\u001b[39mwith_traceback(sys\u001b[38;5;241m.\u001b[39mexc_info()[\u001b[38;5;241m2\u001b[39m])\n",
      "File \u001b[0;32m~/miniforge3/envs/env_tf/lib/python3.9/site-packages/requests/sessions.py:587\u001b[0m, in \u001b[0;36mSession.request\u001b[0;34m(self, method, url, params, data, headers, cookies, files, auth, timeout, allow_redirects, proxies, hooks, stream, verify, cert, json)\u001b[0m\n\u001b[1;32m    582\u001b[0m send_kwargs \u001b[38;5;241m=\u001b[39m {\n\u001b[1;32m    583\u001b[0m     \u001b[38;5;124m\"\u001b[39m\u001b[38;5;124mtimeout\u001b[39m\u001b[38;5;124m\"\u001b[39m: timeout,\n\u001b[1;32m    584\u001b[0m     \u001b[38;5;124m\"\u001b[39m\u001b[38;5;124mallow_redirects\u001b[39m\u001b[38;5;124m\"\u001b[39m: allow_redirects,\n\u001b[1;32m    585\u001b[0m }\n\u001b[1;32m    586\u001b[0m send_kwargs\u001b[38;5;241m.\u001b[39mupdate(settings)\n\u001b[0;32m--> 587\u001b[0m resp \u001b[38;5;241m=\u001b[39m \u001b[38;5;28;43mself\u001b[39;49m\u001b[38;5;241;43m.\u001b[39;49m\u001b[43msend\u001b[49m\u001b[43m(\u001b[49m\u001b[43mprep\u001b[49m\u001b[43m,\u001b[49m\u001b[43m \u001b[49m\u001b[38;5;241;43m*\u001b[39;49m\u001b[38;5;241;43m*\u001b[39;49m\u001b[43msend_kwargs\u001b[49m\u001b[43m)\u001b[49m\n\u001b[1;32m    589\u001b[0m \u001b[38;5;28;01mreturn\u001b[39;00m resp\n",
      "File \u001b[0;32m~/miniforge3/envs/env_tf/lib/python3.9/site-packages/requests/sessions.py:701\u001b[0m, in \u001b[0;36mSession.send\u001b[0;34m(self, request, **kwargs)\u001b[0m\n\u001b[1;32m    698\u001b[0m start \u001b[38;5;241m=\u001b[39m preferred_clock()\n\u001b[1;32m    700\u001b[0m \u001b[38;5;66;03m# Send the request\u001b[39;00m\n\u001b[0;32m--> 701\u001b[0m r \u001b[38;5;241m=\u001b[39m \u001b[43madapter\u001b[49m\u001b[38;5;241;43m.\u001b[39;49m\u001b[43msend\u001b[49m\u001b[43m(\u001b[49m\u001b[43mrequest\u001b[49m\u001b[43m,\u001b[49m\u001b[43m \u001b[49m\u001b[38;5;241;43m*\u001b[39;49m\u001b[38;5;241;43m*\u001b[39;49m\u001b[43mkwargs\u001b[49m\u001b[43m)\u001b[49m\n\u001b[1;32m    703\u001b[0m \u001b[38;5;66;03m# Total elapsed time of the request (approximately)\u001b[39;00m\n\u001b[1;32m    704\u001b[0m elapsed \u001b[38;5;241m=\u001b[39m preferred_clock() \u001b[38;5;241m-\u001b[39m start\n",
      "File \u001b[0;32m~/miniforge3/envs/env_tf/lib/python3.9/site-packages/requests/adapters.py:489\u001b[0m, in \u001b[0;36mHTTPAdapter.send\u001b[0;34m(self, request, stream, timeout, verify, cert, proxies)\u001b[0m\n\u001b[1;32m    487\u001b[0m \u001b[38;5;28;01mtry\u001b[39;00m:\n\u001b[1;32m    488\u001b[0m     \u001b[38;5;28;01mif\u001b[39;00m \u001b[38;5;129;01mnot\u001b[39;00m chunked:\n\u001b[0;32m--> 489\u001b[0m         resp \u001b[38;5;241m=\u001b[39m \u001b[43mconn\u001b[49m\u001b[38;5;241;43m.\u001b[39;49m\u001b[43murlopen\u001b[49m\u001b[43m(\u001b[49m\n\u001b[1;32m    490\u001b[0m \u001b[43m            \u001b[49m\u001b[43mmethod\u001b[49m\u001b[38;5;241;43m=\u001b[39;49m\u001b[43mrequest\u001b[49m\u001b[38;5;241;43m.\u001b[39;49m\u001b[43mmethod\u001b[49m\u001b[43m,\u001b[49m\n\u001b[1;32m    491\u001b[0m \u001b[43m            \u001b[49m\u001b[43murl\u001b[49m\u001b[38;5;241;43m=\u001b[39;49m\u001b[43murl\u001b[49m\u001b[43m,\u001b[49m\n\u001b[1;32m    492\u001b[0m \u001b[43m            \u001b[49m\u001b[43mbody\u001b[49m\u001b[38;5;241;43m=\u001b[39;49m\u001b[43mrequest\u001b[49m\u001b[38;5;241;43m.\u001b[39;49m\u001b[43mbody\u001b[49m\u001b[43m,\u001b[49m\n\u001b[1;32m    493\u001b[0m \u001b[43m            \u001b[49m\u001b[43mheaders\u001b[49m\u001b[38;5;241;43m=\u001b[39;49m\u001b[43mrequest\u001b[49m\u001b[38;5;241;43m.\u001b[39;49m\u001b[43mheaders\u001b[49m\u001b[43m,\u001b[49m\n\u001b[1;32m    494\u001b[0m \u001b[43m            \u001b[49m\u001b[43mredirect\u001b[49m\u001b[38;5;241;43m=\u001b[39;49m\u001b[38;5;28;43;01mFalse\u001b[39;49;00m\u001b[43m,\u001b[49m\n\u001b[1;32m    495\u001b[0m \u001b[43m            \u001b[49m\u001b[43massert_same_host\u001b[49m\u001b[38;5;241;43m=\u001b[39;49m\u001b[38;5;28;43;01mFalse\u001b[39;49;00m\u001b[43m,\u001b[49m\n\u001b[1;32m    496\u001b[0m \u001b[43m            \u001b[49m\u001b[43mpreload_content\u001b[49m\u001b[38;5;241;43m=\u001b[39;49m\u001b[38;5;28;43;01mFalse\u001b[39;49;00m\u001b[43m,\u001b[49m\n\u001b[1;32m    497\u001b[0m \u001b[43m            \u001b[49m\u001b[43mdecode_content\u001b[49m\u001b[38;5;241;43m=\u001b[39;49m\u001b[38;5;28;43;01mFalse\u001b[39;49;00m\u001b[43m,\u001b[49m\n\u001b[1;32m    498\u001b[0m \u001b[43m            \u001b[49m\u001b[43mretries\u001b[49m\u001b[38;5;241;43m=\u001b[39;49m\u001b[38;5;28;43mself\u001b[39;49m\u001b[38;5;241;43m.\u001b[39;49m\u001b[43mmax_retries\u001b[49m\u001b[43m,\u001b[49m\n\u001b[1;32m    499\u001b[0m \u001b[43m            \u001b[49m\u001b[43mtimeout\u001b[49m\u001b[38;5;241;43m=\u001b[39;49m\u001b[43mtimeout\u001b[49m\u001b[43m,\u001b[49m\n\u001b[1;32m    500\u001b[0m \u001b[43m        \u001b[49m\u001b[43m)\u001b[49m\n\u001b[1;32m    502\u001b[0m     \u001b[38;5;66;03m# Send the request.\u001b[39;00m\n\u001b[1;32m    503\u001b[0m     \u001b[38;5;28;01melse\u001b[39;00m:\n\u001b[1;32m    504\u001b[0m         \u001b[38;5;28;01mif\u001b[39;00m \u001b[38;5;28mhasattr\u001b[39m(conn, \u001b[38;5;124m\"\u001b[39m\u001b[38;5;124mproxy_pool\u001b[39m\u001b[38;5;124m\"\u001b[39m):\n",
      "File \u001b[0;32m~/miniforge3/envs/env_tf/lib/python3.9/site-packages/urllib3/connectionpool.py:703\u001b[0m, in \u001b[0;36mHTTPConnectionPool.urlopen\u001b[0;34m(self, method, url, body, headers, retries, redirect, assert_same_host, timeout, pool_timeout, release_conn, chunked, body_pos, **response_kw)\u001b[0m\n\u001b[1;32m    700\u001b[0m     \u001b[38;5;28mself\u001b[39m\u001b[38;5;241m.\u001b[39m_prepare_proxy(conn)\n\u001b[1;32m    702\u001b[0m \u001b[38;5;66;03m# Make the request on the httplib connection object.\u001b[39;00m\n\u001b[0;32m--> 703\u001b[0m httplib_response \u001b[38;5;241m=\u001b[39m \u001b[38;5;28;43mself\u001b[39;49m\u001b[38;5;241;43m.\u001b[39;49m\u001b[43m_make_request\u001b[49m\u001b[43m(\u001b[49m\n\u001b[1;32m    704\u001b[0m \u001b[43m    \u001b[49m\u001b[43mconn\u001b[49m\u001b[43m,\u001b[49m\n\u001b[1;32m    705\u001b[0m \u001b[43m    \u001b[49m\u001b[43mmethod\u001b[49m\u001b[43m,\u001b[49m\n\u001b[1;32m    706\u001b[0m \u001b[43m    \u001b[49m\u001b[43murl\u001b[49m\u001b[43m,\u001b[49m\n\u001b[1;32m    707\u001b[0m \u001b[43m    \u001b[49m\u001b[43mtimeout\u001b[49m\u001b[38;5;241;43m=\u001b[39;49m\u001b[43mtimeout_obj\u001b[49m\u001b[43m,\u001b[49m\n\u001b[1;32m    708\u001b[0m \u001b[43m    \u001b[49m\u001b[43mbody\u001b[49m\u001b[38;5;241;43m=\u001b[39;49m\u001b[43mbody\u001b[49m\u001b[43m,\u001b[49m\n\u001b[1;32m    709\u001b[0m \u001b[43m    \u001b[49m\u001b[43mheaders\u001b[49m\u001b[38;5;241;43m=\u001b[39;49m\u001b[43mheaders\u001b[49m\u001b[43m,\u001b[49m\n\u001b[1;32m    710\u001b[0m \u001b[43m    \u001b[49m\u001b[43mchunked\u001b[49m\u001b[38;5;241;43m=\u001b[39;49m\u001b[43mchunked\u001b[49m\u001b[43m,\u001b[49m\n\u001b[1;32m    711\u001b[0m \u001b[43m\u001b[49m\u001b[43m)\u001b[49m\n\u001b[1;32m    713\u001b[0m \u001b[38;5;66;03m# If we're going to release the connection in ``finally:``, then\u001b[39;00m\n\u001b[1;32m    714\u001b[0m \u001b[38;5;66;03m# the response doesn't need to know about the connection. Otherwise\u001b[39;00m\n\u001b[1;32m    715\u001b[0m \u001b[38;5;66;03m# it will also try to release it and we'll have a double-release\u001b[39;00m\n\u001b[1;32m    716\u001b[0m \u001b[38;5;66;03m# mess.\u001b[39;00m\n\u001b[1;32m    717\u001b[0m response_conn \u001b[38;5;241m=\u001b[39m conn \u001b[38;5;28;01mif\u001b[39;00m \u001b[38;5;129;01mnot\u001b[39;00m release_conn \u001b[38;5;28;01melse\u001b[39;00m \u001b[38;5;28;01mNone\u001b[39;00m\n",
      "File \u001b[0;32m~/miniforge3/envs/env_tf/lib/python3.9/site-packages/urllib3/connectionpool.py:386\u001b[0m, in \u001b[0;36mHTTPConnectionPool._make_request\u001b[0;34m(self, conn, method, url, timeout, chunked, **httplib_request_kw)\u001b[0m\n\u001b[1;32m    384\u001b[0m \u001b[38;5;66;03m# Trigger any extra validation we need to do.\u001b[39;00m\n\u001b[1;32m    385\u001b[0m \u001b[38;5;28;01mtry\u001b[39;00m:\n\u001b[0;32m--> 386\u001b[0m     \u001b[38;5;28;43mself\u001b[39;49m\u001b[38;5;241;43m.\u001b[39;49m\u001b[43m_validate_conn\u001b[49m\u001b[43m(\u001b[49m\u001b[43mconn\u001b[49m\u001b[43m)\u001b[49m\n\u001b[1;32m    387\u001b[0m \u001b[38;5;28;01mexcept\u001b[39;00m (SocketTimeout, BaseSSLError) \u001b[38;5;28;01mas\u001b[39;00m e:\n\u001b[1;32m    388\u001b[0m     \u001b[38;5;66;03m# Py2 raises this as a BaseSSLError, Py3 raises it as socket timeout.\u001b[39;00m\n\u001b[1;32m    389\u001b[0m     \u001b[38;5;28mself\u001b[39m\u001b[38;5;241m.\u001b[39m_raise_timeout(err\u001b[38;5;241m=\u001b[39me, url\u001b[38;5;241m=\u001b[39murl, timeout_value\u001b[38;5;241m=\u001b[39mconn\u001b[38;5;241m.\u001b[39mtimeout)\n",
      "File \u001b[0;32m~/miniforge3/envs/env_tf/lib/python3.9/site-packages/urllib3/connectionpool.py:1040\u001b[0m, in \u001b[0;36mHTTPSConnectionPool._validate_conn\u001b[0;34m(self, conn)\u001b[0m\n\u001b[1;32m   1038\u001b[0m \u001b[38;5;66;03m# Force connect early to allow us to validate the connection.\u001b[39;00m\n\u001b[1;32m   1039\u001b[0m \u001b[38;5;28;01mif\u001b[39;00m \u001b[38;5;129;01mnot\u001b[39;00m \u001b[38;5;28mgetattr\u001b[39m(conn, \u001b[38;5;124m\"\u001b[39m\u001b[38;5;124msock\u001b[39m\u001b[38;5;124m\"\u001b[39m, \u001b[38;5;28;01mNone\u001b[39;00m):  \u001b[38;5;66;03m# AppEngine might not have  `.sock`\u001b[39;00m\n\u001b[0;32m-> 1040\u001b[0m     \u001b[43mconn\u001b[49m\u001b[38;5;241;43m.\u001b[39;49m\u001b[43mconnect\u001b[49m\u001b[43m(\u001b[49m\u001b[43m)\u001b[49m\n\u001b[1;32m   1042\u001b[0m \u001b[38;5;28;01mif\u001b[39;00m \u001b[38;5;129;01mnot\u001b[39;00m conn\u001b[38;5;241m.\u001b[39mis_verified:\n\u001b[1;32m   1043\u001b[0m     warnings\u001b[38;5;241m.\u001b[39mwarn(\n\u001b[1;32m   1044\u001b[0m         (\n\u001b[1;32m   1045\u001b[0m             \u001b[38;5;124m\"\u001b[39m\u001b[38;5;124mUnverified HTTPS request is being made to host \u001b[39m\u001b[38;5;124m'\u001b[39m\u001b[38;5;132;01m%s\u001b[39;00m\u001b[38;5;124m'\u001b[39m\u001b[38;5;124m. \u001b[39m\u001b[38;5;124m\"\u001b[39m\n\u001b[0;32m   (...)\u001b[0m\n\u001b[1;32m   1050\u001b[0m         InsecureRequestWarning,\n\u001b[1;32m   1051\u001b[0m     )\n",
      "File \u001b[0;32m~/miniforge3/envs/env_tf/lib/python3.9/site-packages/urllib3/connection.py:358\u001b[0m, in \u001b[0;36mHTTPSConnection.connect\u001b[0;34m(self)\u001b[0m\n\u001b[1;32m    356\u001b[0m \u001b[38;5;28;01mdef\u001b[39;00m \u001b[38;5;21mconnect\u001b[39m(\u001b[38;5;28mself\u001b[39m):\n\u001b[1;32m    357\u001b[0m     \u001b[38;5;66;03m# Add certificate verification\u001b[39;00m\n\u001b[0;32m--> 358\u001b[0m     \u001b[38;5;28mself\u001b[39m\u001b[38;5;241m.\u001b[39msock \u001b[38;5;241m=\u001b[39m conn \u001b[38;5;241m=\u001b[39m \u001b[38;5;28;43mself\u001b[39;49m\u001b[38;5;241;43m.\u001b[39;49m\u001b[43m_new_conn\u001b[49m\u001b[43m(\u001b[49m\u001b[43m)\u001b[49m\n\u001b[1;32m    359\u001b[0m     hostname \u001b[38;5;241m=\u001b[39m \u001b[38;5;28mself\u001b[39m\u001b[38;5;241m.\u001b[39mhost\n\u001b[1;32m    360\u001b[0m     tls_in_tls \u001b[38;5;241m=\u001b[39m \u001b[38;5;28;01mFalse\u001b[39;00m\n",
      "File \u001b[0;32m~/miniforge3/envs/env_tf/lib/python3.9/site-packages/urllib3/connection.py:174\u001b[0m, in \u001b[0;36mHTTPConnection._new_conn\u001b[0;34m(self)\u001b[0m\n\u001b[1;32m    171\u001b[0m     extra_kw[\u001b[38;5;124m\"\u001b[39m\u001b[38;5;124msocket_options\u001b[39m\u001b[38;5;124m\"\u001b[39m] \u001b[38;5;241m=\u001b[39m \u001b[38;5;28mself\u001b[39m\u001b[38;5;241m.\u001b[39msocket_options\n\u001b[1;32m    173\u001b[0m \u001b[38;5;28;01mtry\u001b[39;00m:\n\u001b[0;32m--> 174\u001b[0m     conn \u001b[38;5;241m=\u001b[39m \u001b[43mconnection\u001b[49m\u001b[38;5;241;43m.\u001b[39;49m\u001b[43mcreate_connection\u001b[49m\u001b[43m(\u001b[49m\n\u001b[1;32m    175\u001b[0m \u001b[43m        \u001b[49m\u001b[43m(\u001b[49m\u001b[38;5;28;43mself\u001b[39;49m\u001b[38;5;241;43m.\u001b[39;49m\u001b[43m_dns_host\u001b[49m\u001b[43m,\u001b[49m\u001b[43m \u001b[49m\u001b[38;5;28;43mself\u001b[39;49m\u001b[38;5;241;43m.\u001b[39;49m\u001b[43mport\u001b[49m\u001b[43m)\u001b[49m\u001b[43m,\u001b[49m\u001b[43m \u001b[49m\u001b[38;5;28;43mself\u001b[39;49m\u001b[38;5;241;43m.\u001b[39;49m\u001b[43mtimeout\u001b[49m\u001b[43m,\u001b[49m\u001b[43m \u001b[49m\u001b[38;5;241;43m*\u001b[39;49m\u001b[38;5;241;43m*\u001b[39;49m\u001b[43mextra_kw\u001b[49m\n\u001b[1;32m    176\u001b[0m \u001b[43m    \u001b[49m\u001b[43m)\u001b[49m\n\u001b[1;32m    178\u001b[0m \u001b[38;5;28;01mexcept\u001b[39;00m SocketTimeout:\n\u001b[1;32m    179\u001b[0m     \u001b[38;5;28;01mraise\u001b[39;00m ConnectTimeoutError(\n\u001b[1;32m    180\u001b[0m         \u001b[38;5;28mself\u001b[39m,\n\u001b[1;32m    181\u001b[0m         \u001b[38;5;124m\"\u001b[39m\u001b[38;5;124mConnection to \u001b[39m\u001b[38;5;132;01m%s\u001b[39;00m\u001b[38;5;124m timed out. (connect timeout=\u001b[39m\u001b[38;5;132;01m%s\u001b[39;00m\u001b[38;5;124m)\u001b[39m\u001b[38;5;124m\"\u001b[39m\n\u001b[1;32m    182\u001b[0m         \u001b[38;5;241m%\u001b[39m (\u001b[38;5;28mself\u001b[39m\u001b[38;5;241m.\u001b[39mhost, \u001b[38;5;28mself\u001b[39m\u001b[38;5;241m.\u001b[39mtimeout),\n\u001b[1;32m    183\u001b[0m     )\n",
      "File \u001b[0;32m~/miniforge3/envs/env_tf/lib/python3.9/site-packages/urllib3/util/connection.py:85\u001b[0m, in \u001b[0;36mcreate_connection\u001b[0;34m(address, timeout, source_address, socket_options)\u001b[0m\n\u001b[1;32m     83\u001b[0m     \u001b[38;5;28;01mif\u001b[39;00m source_address:\n\u001b[1;32m     84\u001b[0m         sock\u001b[38;5;241m.\u001b[39mbind(source_address)\n\u001b[0;32m---> 85\u001b[0m     \u001b[43msock\u001b[49m\u001b[38;5;241;43m.\u001b[39;49m\u001b[43mconnect\u001b[49m\u001b[43m(\u001b[49m\u001b[43msa\u001b[49m\u001b[43m)\u001b[49m\n\u001b[1;32m     86\u001b[0m     \u001b[38;5;28;01mreturn\u001b[39;00m sock\n\u001b[1;32m     88\u001b[0m \u001b[38;5;28;01mexcept\u001b[39;00m socket\u001b[38;5;241m.\u001b[39merror \u001b[38;5;28;01mas\u001b[39;00m e:\n",
      "\u001b[0;31mKeyboardInterrupt\u001b[0m: "
     ]
    }
   ],
   "source": [
    "success = []\n",
    "no_dm = []\n",
    "errores = []\n",
    "for i,j in tqdm(zip(ids[150:400],names[150:400])):\n",
    "    # the text to be tweeted\n",
    "    text = f\"Hello @{j} ! We are researchers from several North American universities conducting a short survey of {citizen} residents’ consumption and trust of different media sources, knowledge and views about the COVID-19 vaccine and misinformation. Your opinion is very valuable. If you complete the survey, you will enter a lottery to win 1 of 10 prizes worth 50 USD. \\n If you want to participate send us your email address and we will send you the link to the survey. \\n For any inquires please contact @HLarreguy, Principal Investigator.\"\n",
    "    # send the dm\n",
    "    try:\n",
    "        #sleep(randint(30,120))\n",
    "        api.send_direct_message(i, text)\n",
    "        success.append(i)\n",
    "    except tweepy.TweepyException as e:\n",
    "        if e.args[0].split(' ')[0] == '420':\n",
    "            errores.append(i)\n",
    "            sleep(15*60)\n",
    "        elif 'cannot send messages' in e.args[0]:\n",
    "            print(e.args[0])\n",
    "            no_dm.append(i)\n",
    "        elif 'automated' in e.args[0]:\n",
    "            print(e.args[0])\n",
    "            errores.append(i)\n",
    "            sleep(120)\n",
    "        else:\n",
    "            errores.append(i)\n",
    "            print(e.args[0])\n",
    "#successes = survey[survey['follower_id'].isin(success)].reset_index(drop=True)\n",
    "#successes_old = pd.read_parquet(f'../../data/03-experiment/{country}/survey/1-successes/successes.parquet')\n",
    "#successes = pd.concat([successes, successes_old], axis=0)\n",
    "#successes.to_parquet(f'../../data/03-experiment/{country}/survey/1-successes/successes.parquet')"
   ]
  },
  {
   "cell_type": "code",
   "execution_count": 33,
   "id": "17ff6df1",
   "metadata": {},
   "outputs": [],
   "source": [
    "successes = survey[survey['follower_id'].isin(success)].reset_index(drop=True)\n",
    "successes_old = pd.read_parquet(f'../../data/03-experiment/{country}/survey/2-successes/successes_b2.parquet')\n",
    "successes = pd.concat([successes, successes_old], axis=0).drop_duplicates('follower_id').reset_index(drop=True)\n",
    "successes.to_parquet(f'../../data/03-experiment/{country}/survey/2-successes/successes_b2.parquet')"
   ]
  },
  {
   "cell_type": "code",
   "execution_count": 34,
   "id": "43222e63",
   "metadata": {},
   "outputs": [],
   "source": [
    "no_dms_1 = survey[survey['follower_id'].isin(no_dm)].reset_index(drop=True)\n",
    "no_dms_2 = pd.read_parquet(f'../../data/03-experiment/{country}/survey/3-no_dms/no_dm_b2.parquet')\n",
    "no_dms = pd.concat([no_dms_1, no_dms_2], axis=0).drop_duplicates('follower_id').reset_index(drop=True)\n",
    "no_dms.to_parquet(f'../../data/03-experiment/{country}/survey/3-no_dms/no_dm_b2.parquet')"
   ]
  },
  {
   "cell_type": "code",
   "execution_count": 42,
   "id": "184016e3",
   "metadata": {},
   "outputs": [
    {
     "data": {
      "text/html": [
       "<div>\n",
       "<style scoped>\n",
       "    .dataframe tbody tr th:only-of-type {\n",
       "        vertical-align: middle;\n",
       "    }\n",
       "\n",
       "    .dataframe tbody tr th {\n",
       "        vertical-align: top;\n",
       "    }\n",
       "\n",
       "    .dataframe thead th {\n",
       "        text-align: right;\n",
       "    }\n",
       "</style>\n",
       "<table border=\"1\" class=\"dataframe\">\n",
       "  <thead>\n",
       "    <tr style=\"text-align: right;\">\n",
       "      <th></th>\n",
       "      <th>Response Id</th>\n",
       "      <th>Last Name</th>\n",
       "      <th>First Name</th>\n",
       "      <th>Contact Id</th>\n",
       "      <th>Lookup Id</th>\n",
       "      <th>Transaction Id</th>\n",
       "      <th>External Data Reference</th>\n",
       "      <th>Email Address</th>\n",
       "      <th>Channel</th>\n",
       "      <th>Status</th>\n",
       "      <th>Bounce Reason</th>\n",
       "      <th>Sent to</th>\n",
       "      <th>Contact Frequency Rule Id</th>\n",
       "      <th>Exceeded Contact Frequency</th>\n",
       "      <th>End Date</th>\n",
       "      <th>Link</th>\n",
       "      <th>Link Expiration</th>\n",
       "      <th>follower_id</th>\n",
       "    </tr>\n",
       "  </thead>\n",
       "  <tbody>\n",
       "    <tr>\n",
       "      <th>16969</th>\n",
       "      <td>NaN</td>\n",
       "      <td>367021816</td>\n",
       "      <td>WillyLusige</td>\n",
       "      <td>CID_7WLguFH8UO01ptk</td>\n",
       "      <td>CGC_j1Oxl5XRvo8LeDC</td>\n",
       "      <td>NaN</td>\n",
       "      <td>NaN</td>\n",
       "      <td>WillyLusige@mail.com</td>\n",
       "      <td>Email</td>\n",
       "      <td>Email Not Sent</td>\n",
       "      <td>NaN</td>\n",
       "      <td>WillyLusige@mail.com</td>\n",
       "      <td>NaN</td>\n",
       "      <td>False</td>\n",
       "      <td>NaN</td>\n",
       "      <td>https://itamnegocios.qualtrics.com/jfe/form/SV...</td>\n",
       "      <td>2023-04-13T05:52:42.174Z</td>\n",
       "      <td>367021816</td>\n",
       "    </tr>\n",
       "  </tbody>\n",
       "</table>\n",
       "</div>"
      ],
      "text/plain": [
       "       Response Id  Last Name   First Name           Contact Id  \\\n",
       "16969          NaN  367021816  WillyLusige  CID_7WLguFH8UO01ptk   \n",
       "\n",
       "                 Lookup Id  Transaction Id  External Data Reference  \\\n",
       "16969  CGC_j1Oxl5XRvo8LeDC             NaN                      NaN   \n",
       "\n",
       "              Email Address Channel          Status  Bounce Reason  \\\n",
       "16969  WillyLusige@mail.com   Email  Email Not Sent            NaN   \n",
       "\n",
       "                    Sent to  Contact Frequency Rule Id  \\\n",
       "16969  WillyLusige@mail.com                        NaN   \n",
       "\n",
       "       Exceeded Contact Frequency  End Date  \\\n",
       "16969                       False       NaN   \n",
       "\n",
       "                                                    Link  \\\n",
       "16969  https://itamnegocios.qualtrics.com/jfe/form/SV...   \n",
       "\n",
       "                Link Expiration follower_id  \n",
       "16969  2023-04-13T05:52:42.174Z   367021816  "
      ]
     },
     "execution_count": 42,
     "metadata": {},
     "output_type": "execute_result"
    }
   ],
   "source": [
    "survey[survey['follower_id']=='367021816']"
   ]
  },
  {
   "cell_type": "code",
   "execution_count": 14,
   "id": "a59b9d64",
   "metadata": {},
   "outputs": [
    {
     "data": {
      "text/plain": [
       "'https://itamnegocios.qualtrics.com/jfe/form/SV_cZNSlf89nxm87wG?Q_CHL=gl&Q_DL=EMD_Xc04kcnn1kx6sm2_cZNSlf89nxm87wG_CGC_D2DGGl3bf0FQOMC&_g_=g'"
      ]
     },
     "execution_count": 14,
     "metadata": {},
     "output_type": "execute_result"
    }
   ],
   "source": [
    "list(survey[survey['username']=='Alberto234K']['Link'])[0]"
   ]
  },
  {
   "cell_type": "code",
   "execution_count": 38,
   "id": "40bfe9df",
   "metadata": {},
   "outputs": [],
   "source": [
    "successes.to_parquet(f'../../data/03-experiment/{country}/survey/1-successes/successes.parquet')"
   ]
  },
  {
   "cell_type": "code",
   "execution_count": 118,
   "id": "239f6315",
   "metadata": {},
   "outputs": [
    {
     "ename": "IndexError",
     "evalue": "list index out of range",
     "output_type": "error",
     "traceback": [
      "\u001b[0;31m---------------------------------------------------------------------------\u001b[0m",
      "\u001b[0;31mIndexError\u001b[0m                                Traceback (most recent call last)",
      "Input \u001b[0;32mIn [118]\u001b[0m, in \u001b[0;36m<cell line: 1>\u001b[0;34m()\u001b[0m\n\u001b[0;32m----> 1\u001b[0m \u001b[38;5;28;43mlist\u001b[39;49m\u001b[43m(\u001b[49m\u001b[43msurvey\u001b[49m\u001b[43m[\u001b[49m\u001b[43msurvey\u001b[49m\u001b[43m[\u001b[49m\u001b[38;5;124;43m'\u001b[39;49m\u001b[38;5;124;43mfollower_id\u001b[39;49m\u001b[38;5;124;43m'\u001b[39;49m\u001b[43m]\u001b[49m\u001b[38;5;241;43m==\u001b[39;49m\u001b[38;5;124;43m'\u001b[39;49m\u001b[38;5;124;43m770716060114882560\u001b[39;49m\u001b[38;5;124;43m'\u001b[39;49m\u001b[43m]\u001b[49m\u001b[43m[\u001b[49m\u001b[38;5;124;43m'\u001b[39;49m\u001b[38;5;124;43mLink\u001b[39;49m\u001b[38;5;124;43m'\u001b[39;49m\u001b[43m]\u001b[49m\u001b[43m)\u001b[49m\u001b[43m[\u001b[49m\u001b[38;5;241;43m0\u001b[39;49m\u001b[43m]\u001b[49m\n",
      "\u001b[0;31mIndexError\u001b[0m: list index out of range"
     ]
    }
   ],
   "source": [
    "list(survey[survey['follower_id']=='770716060114882560']['Link'])[0]"
   ]
  },
  {
   "cell_type": "markdown",
   "id": "0d4ccdf4",
   "metadata": {},
   "source": [
    "### Covid Certificates"
   ]
  },
  {
   "cell_type": "code",
   "execution_count": 2,
   "id": "a54967eb",
   "metadata": {},
   "outputs": [],
   "source": [
    "from collections import defaultdict\n",
    "\n",
    "types = {'mobile_number_1': 'str'}\n",
    "types2 = {'phone_number': 'str'}"
   ]
  },
  {
   "cell_type": "code",
   "execution_count": 3,
   "id": "1b74a46e",
   "metadata": {},
   "outputs": [],
   "source": [
    "##Survey responses\n",
    "country='KE'\n",
    "citizen = 'Kenyan'\n",
    "\n",
    "survey_ke_0 = pd.read_csv(f'../../../social-media-influencers-africa/data/04-analysis/{country}/1-survey/survey.csv',dtype=types)\n",
    "survey_ke_2 = pd.read_csv(f'../../data/04-analysis/{country}/1-survey/survey_2.csv', dtype=types)\n",
    "survey_ke_1 = pd.read_csv(f'../../data/04-analysis/{country}/1-survey/survey.csv', dtype=types)\n",
    "\n",
    "covid_ke_0 = pd.read_excel(f'../../../social-media-influencers-africa/data/06-others/{country}/covid_certificate.xlsx', dtype=types2)\n",
    "covid_ke_1 = pd.read_excel(f'../../data/06-other/{country}/covid_certificate.xlsx', dtype=types2)"
   ]
  },
  {
   "cell_type": "code",
   "execution_count": 4,
   "id": "4a9a5469",
   "metadata": {},
   "outputs": [],
   "source": [
    "country='SA'\n",
    "citizen = 'South African'\n",
    "\n",
    "survey_sa_0 = pd.read_csv(f'../../../social-media-influencers-africa/data/04-analysis/{country}/1-survey/survey.csv', dtype=types)\n",
    "survey_sa_2 = pd.read_csv(f'../../data/04-analysis/{country}/1-survey/survey_2.csv', dtype=types)\n",
    "survey_sa_1 = pd.read_csv(f'../../data/04-analysis/{country}/1-survey/survey.csv', dtype=types)\n",
    "\n",
    "\n",
    "covid_sa_0 = pd.read_excel(f'../../../social-media-influencers-africa/data/06-others/{country}/covid_certificate.xlsx', dtype=types2)\n",
    "covid_sa_1 = pd.read_excel(f'../../data/06-other/{country}/covid_certificate.xlsx', dtype=types2)"
   ]
  },
  {
   "cell_type": "code",
   "execution_count": 5,
   "id": "2e032e88",
   "metadata": {},
   "outputs": [],
   "source": [
    "survey_ke_1['RecipientFirstName'] = (np.where(survey_ke_1['RecipientEmail'].str.contains('@'),\n",
    "                  survey_ke_1['RecipientEmail'].str.split('@').str[0],\n",
    "                  np.nan))\n",
    "\n",
    "\n",
    "survey_sa_1['RecipientFirstName'] = (np.where(survey_sa_1['RecipientEmail'].str.contains('@'),\n",
    "                  survey_sa_1['RecipientEmail'].str.split('@').str[0],\n",
    "                  np.nan))"
   ]
  },
  {
   "cell_type": "code",
   "execution_count": 6,
   "id": "55d24fa2",
   "metadata": {},
   "outputs": [],
   "source": [
    "survey_ke = pd.concat([survey_ke_0[['RecipientFirstName', 'mobile_number_1']],\n",
    "           survey_ke_1[['RecipientFirstName', 'mobile_number_1']],\n",
    "           survey_ke_2[['RecipientFirstName', 'mobile_number_1']]], axis=0).reset_index(drop=True)\n",
    "\n",
    "covid_ke = pd.concat([covid_ke_0, covid_ke_1], axis=0).reset_index(drop=True)"
   ]
  },
  {
   "cell_type": "code",
   "execution_count": 7,
   "id": "8d137a8c",
   "metadata": {},
   "outputs": [],
   "source": [
    "survey_sa = pd.concat([survey_sa_0[['RecipientFirstName', 'mobile_number_1']],\n",
    "           survey_sa_1[['RecipientFirstName', 'mobile_number_1']],\n",
    "           survey_sa_2[['RecipientFirstName', 'mobile_number_1']]], axis=0).reset_index(drop=True)\n",
    "\n",
    "covid_sa = pd.concat([covid_sa_0, covid_sa_1], axis=0).reset_index(drop=True)"
   ]
  },
  {
   "cell_type": "code",
   "execution_count": 8,
   "id": "72232b97",
   "metadata": {},
   "outputs": [],
   "source": [
    "survey_ke['country'] = 'KE'\n",
    "survey_sa['country'] = 'SA'"
   ]
  },
  {
   "cell_type": "code",
   "execution_count": 9,
   "id": "18e17f5b",
   "metadata": {},
   "outputs": [],
   "source": [
    "survey = pd.concat([survey_ke, survey_sa], axis=0).reset_index(drop=True)\n",
    "covid = pd.concat([covid_ke, covid_sa], axis=0).reset_index(drop=True)"
   ]
  },
  {
   "cell_type": "code",
   "execution_count": 287,
   "id": "f1908150",
   "metadata": {},
   "outputs": [
    {
     "data": {
      "text/plain": [
       "326"
      ]
     },
     "execution_count": 287,
     "metadata": {},
     "output_type": "execute_result"
    }
   ],
   "source": [
    "len(covid)"
   ]
  },
  {
   "cell_type": "code",
   "execution_count": 10,
   "id": "6d4bbdce",
   "metadata": {},
   "outputs": [],
   "source": [
    "covid_survey = pd.merge(covid, survey, left_on = 'phone_number', right_on = 'mobile_number_1',how='left')"
   ]
  },
  {
   "cell_type": "code",
   "execution_count": 11,
   "id": "9c4614ad",
   "metadata": {},
   "outputs": [
    {
     "data": {
      "text/html": [
       "<div>\n",
       "<style scoped>\n",
       "    .dataframe tbody tr th:only-of-type {\n",
       "        vertical-align: middle;\n",
       "    }\n",
       "\n",
       "    .dataframe tbody tr th {\n",
       "        vertical-align: top;\n",
       "    }\n",
       "\n",
       "    .dataframe thead th {\n",
       "        text-align: right;\n",
       "    }\n",
       "</style>\n",
       "<table border=\"1\" class=\"dataframe\">\n",
       "  <thead>\n",
       "    <tr style=\"text-align: right;\">\n",
       "      <th></th>\n",
       "      <th>phone_number</th>\n",
       "      <th>correct_phone</th>\n",
       "      <th>covid_certificate</th>\n",
       "      <th>vaccine_type_1</th>\n",
       "      <th>vaccine_type_2</th>\n",
       "      <th>vaccine_type_3</th>\n",
       "      <th>vaccine_type_4</th>\n",
       "      <th>dose_1</th>\n",
       "      <th>dose_2</th>\n",
       "      <th>dose_3</th>\n",
       "      <th>dose_4</th>\n",
       "      <th>notes</th>\n",
       "      <th>RecipientFirstName</th>\n",
       "      <th>mobile_number_1</th>\n",
       "      <th>country</th>\n",
       "    </tr>\n",
       "  </thead>\n",
       "  <tbody>\n",
       "    <tr>\n",
       "      <th>144</th>\n",
       "      <td>701404815</td>\n",
       "      <td>1</td>\n",
       "      <td>1.0</td>\n",
       "      <td>AstraZeneca</td>\n",
       "      <td>AstraZeneca</td>\n",
       "      <td>Pfizer</td>\n",
       "      <td>NaN</td>\n",
       "      <td>2021-04-01</td>\n",
       "      <td>2021-07-27</td>\n",
       "      <td>2022-03-18</td>\n",
       "      <td>NaT</td>\n",
       "      <td>NaN</td>\n",
       "      <td>colinskip</td>\n",
       "      <td>701404815</td>\n",
       "      <td>KE</td>\n",
       "    </tr>\n",
       "    <tr>\n",
       "      <th>244</th>\n",
       "      <td>71552474</td>\n",
       "      <td>0</td>\n",
       "      <td>NaN</td>\n",
       "      <td>NaN</td>\n",
       "      <td>NaN</td>\n",
       "      <td>NaN</td>\n",
       "      <td>NaN</td>\n",
       "      <td>NaT</td>\n",
       "      <td>NaT</td>\n",
       "      <td>NaT</td>\n",
       "      <td>NaT</td>\n",
       "      <td>NaN</td>\n",
       "      <td>SolaniTanjo</td>\n",
       "      <td>71552474</td>\n",
       "      <td>SA</td>\n",
       "    </tr>\n",
       "  </tbody>\n",
       "</table>\n",
       "</div>"
      ],
      "text/plain": [
       "    phone_number  correct_phone  covid_certificate vaccine_type_1  \\\n",
       "144    701404815              1                1.0    AstraZeneca   \n",
       "244     71552474              0                NaN            NaN   \n",
       "\n",
       "    vaccine_type_2 vaccine_type_3 vaccine_type_4     dose_1     dose_2  \\\n",
       "144    AstraZeneca         Pfizer            NaN 2021-04-01 2021-07-27   \n",
       "244            NaN            NaN            NaN        NaT        NaT   \n",
       "\n",
       "        dose_3 dose_4 notes RecipientFirstName mobile_number_1 country  \n",
       "144 2022-03-18    NaT   NaN          colinskip       701404815      KE  \n",
       "244        NaT    NaT   NaN        SolaniTanjo        71552474      SA  "
      ]
     },
     "execution_count": 11,
     "metadata": {},
     "output_type": "execute_result"
    }
   ],
   "source": [
    "covid_survey[covid_survey.duplicated(['phone_number'])]"
   ]
  },
  {
   "cell_type": "code",
   "execution_count": 12,
   "id": "9a19a4d5",
   "metadata": {},
   "outputs": [],
   "source": [
    "covid_survey = covid_survey.drop_duplicates('phone_number').reset_index(drop=True)"
   ]
  },
  {
   "cell_type": "code",
   "execution_count": 13,
   "id": "dddb9b05",
   "metadata": {},
   "outputs": [
    {
     "data": {
      "text/html": [
       "<div>\n",
       "<style scoped>\n",
       "    .dataframe tbody tr th:only-of-type {\n",
       "        vertical-align: middle;\n",
       "    }\n",
       "\n",
       "    .dataframe tbody tr th {\n",
       "        vertical-align: top;\n",
       "    }\n",
       "\n",
       "    .dataframe thead th {\n",
       "        text-align: right;\n",
       "    }\n",
       "</style>\n",
       "<table border=\"1\" class=\"dataframe\">\n",
       "  <thead>\n",
       "    <tr style=\"text-align: right;\">\n",
       "      <th></th>\n",
       "      <th>phone_number</th>\n",
       "      <th>correct_phone</th>\n",
       "      <th>covid_certificate</th>\n",
       "      <th>vaccine_type_1</th>\n",
       "      <th>vaccine_type_2</th>\n",
       "      <th>vaccine_type_3</th>\n",
       "      <th>vaccine_type_4</th>\n",
       "      <th>dose_1</th>\n",
       "      <th>dose_2</th>\n",
       "      <th>dose_3</th>\n",
       "      <th>dose_4</th>\n",
       "      <th>notes</th>\n",
       "      <th>RecipientFirstName</th>\n",
       "      <th>mobile_number_1</th>\n",
       "      <th>country</th>\n",
       "    </tr>\n",
       "  </thead>\n",
       "  <tbody>\n",
       "    <tr>\n",
       "      <th>18</th>\n",
       "      <td>07560341</td>\n",
       "      <td>0</td>\n",
       "      <td>NaN</td>\n",
       "      <td>NaN</td>\n",
       "      <td>NaN</td>\n",
       "      <td>NaN</td>\n",
       "      <td>NaN</td>\n",
       "      <td>NaT</td>\n",
       "      <td>NaT</td>\n",
       "      <td>NaT</td>\n",
       "      <td>NaT</td>\n",
       "      <td>NaN</td>\n",
       "      <td>NaN</td>\n",
       "      <td>NaN</td>\n",
       "      <td>NaN</td>\n",
       "    </tr>\n",
       "    <tr>\n",
       "      <th>23</th>\n",
       "      <td>07171434</td>\n",
       "      <td>0</td>\n",
       "      <td>NaN</td>\n",
       "      <td>NaN</td>\n",
       "      <td>NaN</td>\n",
       "      <td>NaN</td>\n",
       "      <td>NaN</td>\n",
       "      <td>NaT</td>\n",
       "      <td>NaT</td>\n",
       "      <td>NaT</td>\n",
       "      <td>NaT</td>\n",
       "      <td>NaN</td>\n",
       "      <td>NaN</td>\n",
       "      <td>NaN</td>\n",
       "      <td>NaN</td>\n",
       "    </tr>\n",
       "    <tr>\n",
       "      <th>33</th>\n",
       "      <td>05890488</td>\n",
       "      <td>0</td>\n",
       "      <td>NaN</td>\n",
       "      <td>NaN</td>\n",
       "      <td>NaN</td>\n",
       "      <td>NaN</td>\n",
       "      <td>NaN</td>\n",
       "      <td>NaT</td>\n",
       "      <td>NaT</td>\n",
       "      <td>NaT</td>\n",
       "      <td>NaT</td>\n",
       "      <td>NaN</td>\n",
       "      <td>NaN</td>\n",
       "      <td>NaN</td>\n",
       "      <td>NaN</td>\n",
       "    </tr>\n",
       "    <tr>\n",
       "      <th>44</th>\n",
       "      <td>01446655</td>\n",
       "      <td>0</td>\n",
       "      <td>NaN</td>\n",
       "      <td>NaN</td>\n",
       "      <td>NaN</td>\n",
       "      <td>NaN</td>\n",
       "      <td>NaN</td>\n",
       "      <td>NaT</td>\n",
       "      <td>NaT</td>\n",
       "      <td>NaT</td>\n",
       "      <td>NaT</td>\n",
       "      <td>NaN</td>\n",
       "      <td>NaN</td>\n",
       "      <td>NaN</td>\n",
       "      <td>NaN</td>\n",
       "    </tr>\n",
       "    <tr>\n",
       "      <th>65</th>\n",
       "      <td>08710316</td>\n",
       "      <td>0</td>\n",
       "      <td>NaN</td>\n",
       "      <td>NaN</td>\n",
       "      <td>NaN</td>\n",
       "      <td>NaN</td>\n",
       "      <td>NaN</td>\n",
       "      <td>NaT</td>\n",
       "      <td>NaT</td>\n",
       "      <td>NaT</td>\n",
       "      <td>NaT</td>\n",
       "      <td>NaN</td>\n",
       "      <td>NaN</td>\n",
       "      <td>NaN</td>\n",
       "      <td>NaN</td>\n",
       "    </tr>\n",
       "    <tr>\n",
       "      <th>73</th>\n",
       "      <td>0704617209</td>\n",
       "      <td>1</td>\n",
       "      <td>1.0</td>\n",
       "      <td>Moderna</td>\n",
       "      <td>Moderna</td>\n",
       "      <td>NaN</td>\n",
       "      <td>NaN</td>\n",
       "      <td>2021-10-06</td>\n",
       "      <td>2021-11-03</td>\n",
       "      <td>NaT</td>\n",
       "      <td>NaT</td>\n",
       "      <td>NaN</td>\n",
       "      <td>NaN</td>\n",
       "      <td>NaN</td>\n",
       "      <td>NaN</td>\n",
       "    </tr>\n",
       "    <tr>\n",
       "      <th>79</th>\n",
       "      <td>00098805</td>\n",
       "      <td>0</td>\n",
       "      <td>NaN</td>\n",
       "      <td>NaN</td>\n",
       "      <td>NaN</td>\n",
       "      <td>NaN</td>\n",
       "      <td>NaN</td>\n",
       "      <td>NaT</td>\n",
       "      <td>NaT</td>\n",
       "      <td>NaT</td>\n",
       "      <td>NaT</td>\n",
       "      <td>NaN</td>\n",
       "      <td>NaN</td>\n",
       "      <td>NaN</td>\n",
       "      <td>NaN</td>\n",
       "    </tr>\n",
       "    <tr>\n",
       "      <th>81</th>\n",
       "      <td>0704969893</td>\n",
       "      <td>1</td>\n",
       "      <td>NaN</td>\n",
       "      <td>NaN</td>\n",
       "      <td>NaN</td>\n",
       "      <td>NaN</td>\n",
       "      <td>NaN</td>\n",
       "      <td>NaT</td>\n",
       "      <td>NaT</td>\n",
       "      <td>NaT</td>\n",
       "      <td>NaT</td>\n",
       "      <td>NaN</td>\n",
       "      <td>NaN</td>\n",
       "      <td>NaN</td>\n",
       "      <td>NaN</td>\n",
       "    </tr>\n",
       "    <tr>\n",
       "      <th>82</th>\n",
       "      <td>0723558064</td>\n",
       "      <td>1</td>\n",
       "      <td>1.0</td>\n",
       "      <td>Pfizer</td>\n",
       "      <td>Pfizer</td>\n",
       "      <td>NaN</td>\n",
       "      <td>NaN</td>\n",
       "      <td>2021-12-31</td>\n",
       "      <td>2022-01-29</td>\n",
       "      <td>NaT</td>\n",
       "      <td>NaT</td>\n",
       "      <td>NaN</td>\n",
       "      <td>NaN</td>\n",
       "      <td>NaN</td>\n",
       "      <td>NaN</td>\n",
       "    </tr>\n",
       "    <tr>\n",
       "      <th>88</th>\n",
       "      <td>07603071</td>\n",
       "      <td>0</td>\n",
       "      <td>NaN</td>\n",
       "      <td>NaN</td>\n",
       "      <td>NaN</td>\n",
       "      <td>NaN</td>\n",
       "      <td>NaN</td>\n",
       "      <td>NaT</td>\n",
       "      <td>NaT</td>\n",
       "      <td>NaT</td>\n",
       "      <td>NaT</td>\n",
       "      <td>NaN</td>\n",
       "      <td>NaN</td>\n",
       "      <td>NaN</td>\n",
       "      <td>NaN</td>\n",
       "    </tr>\n",
       "    <tr>\n",
       "      <th>92</th>\n",
       "      <td>0713395861</td>\n",
       "      <td>1</td>\n",
       "      <td>1.0</td>\n",
       "      <td>Janssen</td>\n",
       "      <td>NaN</td>\n",
       "      <td>NaN</td>\n",
       "      <td>NaN</td>\n",
       "      <td>2021-12-16</td>\n",
       "      <td>NaT</td>\n",
       "      <td>NaT</td>\n",
       "      <td>NaT</td>\n",
       "      <td>NaN</td>\n",
       "      <td>NaN</td>\n",
       "      <td>NaN</td>\n",
       "      <td>NaN</td>\n",
       "    </tr>\n",
       "    <tr>\n",
       "      <th>107</th>\n",
       "      <td>701831522</td>\n",
       "      <td>1</td>\n",
       "      <td>1.0</td>\n",
       "      <td>AstraZeneca</td>\n",
       "      <td>AstraZeneca</td>\n",
       "      <td>AstraZeneca</td>\n",
       "      <td>NaN</td>\n",
       "      <td>2021-08-19</td>\n",
       "      <td>2021-12-08</td>\n",
       "      <td>2022-07-28</td>\n",
       "      <td>NaT</td>\n",
       "      <td>NaN</td>\n",
       "      <td>NaN</td>\n",
       "      <td>NaN</td>\n",
       "      <td>NaN</td>\n",
       "    </tr>\n",
       "    <tr>\n",
       "      <th>122</th>\n",
       "      <td>727831228</td>\n",
       "      <td>1</td>\n",
       "      <td>1.0</td>\n",
       "      <td>AstraZeneca</td>\n",
       "      <td>AstraZeneca</td>\n",
       "      <td>NaN</td>\n",
       "      <td>NaN</td>\n",
       "      <td>2021-10-20</td>\n",
       "      <td>2022-01-03</td>\n",
       "      <td>NaT</td>\n",
       "      <td>NaT</td>\n",
       "      <td>NaN</td>\n",
       "      <td>NaN</td>\n",
       "      <td>NaN</td>\n",
       "      <td>NaN</td>\n",
       "    </tr>\n",
       "    <tr>\n",
       "      <th>123</th>\n",
       "      <td>716156584</td>\n",
       "      <td>1</td>\n",
       "      <td>1.0</td>\n",
       "      <td>Janssen</td>\n",
       "      <td>NaN</td>\n",
       "      <td>NaN</td>\n",
       "      <td>NaN</td>\n",
       "      <td>2022-03-09</td>\n",
       "      <td>NaT</td>\n",
       "      <td>NaT</td>\n",
       "      <td>NaT</td>\n",
       "      <td>NaN</td>\n",
       "      <td>NaN</td>\n",
       "      <td>NaN</td>\n",
       "      <td>NaN</td>\n",
       "    </tr>\n",
       "    <tr>\n",
       "      <th>140</th>\n",
       "      <td>777200035</td>\n",
       "      <td>1</td>\n",
       "      <td>1.0</td>\n",
       "      <td>NaN</td>\n",
       "      <td>NaN</td>\n",
       "      <td>NaN</td>\n",
       "      <td>NaN</td>\n",
       "      <td>NaT</td>\n",
       "      <td>NaT</td>\n",
       "      <td>NaT</td>\n",
       "      <td>NaT</td>\n",
       "      <td>NaN</td>\n",
       "      <td>NaN</td>\n",
       "      <td>NaN</td>\n",
       "      <td>NaN</td>\n",
       "    </tr>\n",
       "    <tr>\n",
       "      <th>143</th>\n",
       "      <td>743240213</td>\n",
       "      <td>1</td>\n",
       "      <td>1.0</td>\n",
       "      <td>AstraZeneca</td>\n",
       "      <td>AstraZeneca</td>\n",
       "      <td>NaN</td>\n",
       "      <td>NaN</td>\n",
       "      <td>2021-09-29</td>\n",
       "      <td>2021-11-24</td>\n",
       "      <td>NaT</td>\n",
       "      <td>NaT</td>\n",
       "      <td>NaN</td>\n",
       "      <td>NaN</td>\n",
       "      <td>NaN</td>\n",
       "      <td>NaN</td>\n",
       "    </tr>\n",
       "    <tr>\n",
       "      <th>153</th>\n",
       "      <td>740378709</td>\n",
       "      <td>1</td>\n",
       "      <td>1.0</td>\n",
       "      <td>Pfizer</td>\n",
       "      <td>NaN</td>\n",
       "      <td>NaN</td>\n",
       "      <td>NaN</td>\n",
       "      <td>2022-04-08</td>\n",
       "      <td>NaT</td>\n",
       "      <td>NaT</td>\n",
       "      <td>NaT</td>\n",
       "      <td>NaN</td>\n",
       "      <td>NaN</td>\n",
       "      <td>NaN</td>\n",
       "      <td>NaN</td>\n",
       "    </tr>\n",
       "    <tr>\n",
       "      <th>160</th>\n",
       "      <td>790052040</td>\n",
       "      <td>1</td>\n",
       "      <td>1.0</td>\n",
       "      <td>AstraZeneca</td>\n",
       "      <td>AstraZeneca</td>\n",
       "      <td>NaN</td>\n",
       "      <td>NaN</td>\n",
       "      <td>2021-03-22</td>\n",
       "      <td>2021-09-29</td>\n",
       "      <td>NaT</td>\n",
       "      <td>NaT</td>\n",
       "      <td>NaN</td>\n",
       "      <td>NaN</td>\n",
       "      <td>NaN</td>\n",
       "      <td>NaN</td>\n",
       "    </tr>\n",
       "    <tr>\n",
       "      <th>161</th>\n",
       "      <td>714004128</td>\n",
       "      <td>1</td>\n",
       "      <td>1.0</td>\n",
       "      <td>Janssen</td>\n",
       "      <td>NaN</td>\n",
       "      <td>NaN</td>\n",
       "      <td>NaN</td>\n",
       "      <td>2022-06-16</td>\n",
       "      <td>NaT</td>\n",
       "      <td>NaT</td>\n",
       "      <td>NaT</td>\n",
       "      <td>NaN</td>\n",
       "      <td>NaN</td>\n",
       "      <td>NaN</td>\n",
       "      <td>NaN</td>\n",
       "    </tr>\n",
       "    <tr>\n",
       "      <th>162</th>\n",
       "      <td>716665998</td>\n",
       "      <td>1</td>\n",
       "      <td>1.0</td>\n",
       "      <td>Janssen</td>\n",
       "      <td>NaN</td>\n",
       "      <td>NaN</td>\n",
       "      <td>NaN</td>\n",
       "      <td>2022-06-22</td>\n",
       "      <td>NaT</td>\n",
       "      <td>NaT</td>\n",
       "      <td>NaT</td>\n",
       "      <td>NaN</td>\n",
       "      <td>NaN</td>\n",
       "      <td>NaN</td>\n",
       "      <td>NaN</td>\n",
       "    </tr>\n",
       "    <tr>\n",
       "      <th>163</th>\n",
       "      <td>769665513</td>\n",
       "      <td>1</td>\n",
       "      <td>1.0</td>\n",
       "      <td>Janssen</td>\n",
       "      <td>NaN</td>\n",
       "      <td>NaN</td>\n",
       "      <td>NaN</td>\n",
       "      <td>2022-02-16</td>\n",
       "      <td>NaT</td>\n",
       "      <td>NaT</td>\n",
       "      <td>NaT</td>\n",
       "      <td>NaN</td>\n",
       "      <td>NaN</td>\n",
       "      <td>NaN</td>\n",
       "      <td>NaN</td>\n",
       "    </tr>\n",
       "    <tr>\n",
       "      <th>165</th>\n",
       "      <td>588924899</td>\n",
       "      <td>1</td>\n",
       "      <td>1.0</td>\n",
       "      <td>AstraZeneca</td>\n",
       "      <td>Pfizer</td>\n",
       "      <td>NaN</td>\n",
       "      <td>NaN</td>\n",
       "      <td>2021-08-25</td>\n",
       "      <td>2021-08-25</td>\n",
       "      <td>NaT</td>\n",
       "      <td>NaT</td>\n",
       "      <td>Same as 727961206 but UAE phone</td>\n",
       "      <td>NaN</td>\n",
       "      <td>NaN</td>\n",
       "      <td>NaN</td>\n",
       "    </tr>\n",
       "    <tr>\n",
       "      <th>167</th>\n",
       "      <td>711611347</td>\n",
       "      <td>1</td>\n",
       "      <td>1.0</td>\n",
       "      <td>NaN</td>\n",
       "      <td>AstraZeneca</td>\n",
       "      <td>NaN</td>\n",
       "      <td>NaN</td>\n",
       "      <td>NaT</td>\n",
       "      <td>2021-11-24</td>\n",
       "      <td>NaT</td>\n",
       "      <td>NaT</td>\n",
       "      <td>NaN</td>\n",
       "      <td>NaN</td>\n",
       "      <td>NaN</td>\n",
       "      <td>NaN</td>\n",
       "    </tr>\n",
       "    <tr>\n",
       "      <th>171</th>\n",
       "      <td>733928747</td>\n",
       "      <td>1</td>\n",
       "      <td>1.0</td>\n",
       "      <td>AstraZeneca</td>\n",
       "      <td>AstraZeneca</td>\n",
       "      <td>NaN</td>\n",
       "      <td>NaN</td>\n",
       "      <td>2021-11-01</td>\n",
       "      <td>2022-01-18</td>\n",
       "      <td>NaT</td>\n",
       "      <td>NaT</td>\n",
       "      <td>NaN</td>\n",
       "      <td>NaN</td>\n",
       "      <td>NaN</td>\n",
       "      <td>NaN</td>\n",
       "    </tr>\n",
       "    <tr>\n",
       "      <th>184</th>\n",
       "      <td>759118128</td>\n",
       "      <td>1</td>\n",
       "      <td>1.0</td>\n",
       "      <td>AstraZeneca</td>\n",
       "      <td>AstraZeneca</td>\n",
       "      <td>NaN</td>\n",
       "      <td>NaN</td>\n",
       "      <td>2021-04-12</td>\n",
       "      <td>2021-06-29</td>\n",
       "      <td>NaT</td>\n",
       "      <td>NaT</td>\n",
       "      <td>NaN</td>\n",
       "      <td>NaN</td>\n",
       "      <td>NaN</td>\n",
       "      <td>NaN</td>\n",
       "    </tr>\n",
       "    <tr>\n",
       "      <th>189</th>\n",
       "      <td>711434032</td>\n",
       "      <td>1</td>\n",
       "      <td>1.0</td>\n",
       "      <td>Pfizer</td>\n",
       "      <td>Pfizer</td>\n",
       "      <td>AstraZeneca</td>\n",
       "      <td>NaN</td>\n",
       "      <td>2021-10-14</td>\n",
       "      <td>2021-11-16</td>\n",
       "      <td>2022-07-15</td>\n",
       "      <td>NaT</td>\n",
       "      <td>NaN</td>\n",
       "      <td>NaN</td>\n",
       "      <td>NaN</td>\n",
       "      <td>NaN</td>\n",
       "    </tr>\n",
       "    <tr>\n",
       "      <th>194</th>\n",
       "      <td>777864780</td>\n",
       "      <td>1</td>\n",
       "      <td>1.0</td>\n",
       "      <td>Pfizer</td>\n",
       "      <td>Pfizer</td>\n",
       "      <td>Pfizer</td>\n",
       "      <td>Moderna</td>\n",
       "      <td>2021-10-25</td>\n",
       "      <td>2021-12-02</td>\n",
       "      <td>2022-06-20</td>\n",
       "      <td>2022-12-06</td>\n",
       "      <td>NaN</td>\n",
       "      <td>NaN</td>\n",
       "      <td>NaN</td>\n",
       "      <td>NaN</td>\n",
       "    </tr>\n",
       "    <tr>\n",
       "      <th>201</th>\n",
       "      <td>725025496</td>\n",
       "      <td>1</td>\n",
       "      <td>1.0</td>\n",
       "      <td>AstraZeneca</td>\n",
       "      <td>AstraZeneca</td>\n",
       "      <td>Pfizer</td>\n",
       "      <td>NaN</td>\n",
       "      <td>2021-03-26</td>\n",
       "      <td>2021-08-11</td>\n",
       "      <td>2022-09-09</td>\n",
       "      <td>NaT</td>\n",
       "      <td>NaN</td>\n",
       "      <td>NaN</td>\n",
       "      <td>NaN</td>\n",
       "      <td>NaN</td>\n",
       "    </tr>\n",
       "    <tr>\n",
       "      <th>206</th>\n",
       "      <td>706389392</td>\n",
       "      <td>1</td>\n",
       "      <td>1.0</td>\n",
       "      <td>Moderna</td>\n",
       "      <td>AstraZeneca</td>\n",
       "      <td>NaN</td>\n",
       "      <td>NaN</td>\n",
       "      <td>2021-10-09</td>\n",
       "      <td>2022-02-08</td>\n",
       "      <td>NaT</td>\n",
       "      <td>NaT</td>\n",
       "      <td>NaN</td>\n",
       "      <td>NaN</td>\n",
       "      <td>NaN</td>\n",
       "      <td>NaN</td>\n",
       "    </tr>\n",
       "    <tr>\n",
       "      <th>207</th>\n",
       "      <td>768922684</td>\n",
       "      <td>1</td>\n",
       "      <td>1.0</td>\n",
       "      <td>AstraZeneca</td>\n",
       "      <td>AstraZeneca</td>\n",
       "      <td>NaN</td>\n",
       "      <td>NaN</td>\n",
       "      <td>2021-04-10</td>\n",
       "      <td>2021-07-14</td>\n",
       "      <td>NaT</td>\n",
       "      <td>NaT</td>\n",
       "      <td>NaN</td>\n",
       "      <td>NaN</td>\n",
       "      <td>NaN</td>\n",
       "      <td>NaN</td>\n",
       "    </tr>\n",
       "    <tr>\n",
       "      <th>211</th>\n",
       "      <td>799660190</td>\n",
       "      <td>1</td>\n",
       "      <td>1.0</td>\n",
       "      <td>Moderna</td>\n",
       "      <td>Moderna</td>\n",
       "      <td>NaN</td>\n",
       "      <td>NaN</td>\n",
       "      <td>2021-11-29</td>\n",
       "      <td>2021-12-28</td>\n",
       "      <td>NaT</td>\n",
       "      <td>NaT</td>\n",
       "      <td>NaN</td>\n",
       "      <td>NaN</td>\n",
       "      <td>NaN</td>\n",
       "      <td>NaN</td>\n",
       "    </tr>\n",
       "    <tr>\n",
       "      <th>215</th>\n",
       "      <td>721554884</td>\n",
       "      <td>1</td>\n",
       "      <td>1.0</td>\n",
       "      <td>AstraZeneca</td>\n",
       "      <td>AstraZeneca</td>\n",
       "      <td>NaN</td>\n",
       "      <td>NaN</td>\n",
       "      <td>2021-04-08</td>\n",
       "      <td>2021-07-25</td>\n",
       "      <td>NaT</td>\n",
       "      <td>NaT</td>\n",
       "      <td>NaN</td>\n",
       "      <td>NaN</td>\n",
       "      <td>NaN</td>\n",
       "      <td>NaN</td>\n",
       "    </tr>\n",
       "    <tr>\n",
       "      <th>217</th>\n",
       "      <td>30542878</td>\n",
       "      <td>1</td>\n",
       "      <td>1.0</td>\n",
       "      <td>Janssen</td>\n",
       "      <td>NaN</td>\n",
       "      <td>NaN</td>\n",
       "      <td>NaN</td>\n",
       "      <td>2022-09-20</td>\n",
       "      <td>NaT</td>\n",
       "      <td>NaT</td>\n",
       "      <td>NaT</td>\n",
       "      <td>NaN</td>\n",
       "      <td>NaN</td>\n",
       "      <td>NaN</td>\n",
       "      <td>NaN</td>\n",
       "    </tr>\n",
       "    <tr>\n",
       "      <th>218</th>\n",
       "      <td>715950908</td>\n",
       "      <td>1</td>\n",
       "      <td>1.0</td>\n",
       "      <td>Moderna</td>\n",
       "      <td>Moderna</td>\n",
       "      <td>Moderna</td>\n",
       "      <td>NaN</td>\n",
       "      <td>2022-09-29</td>\n",
       "      <td>2021-10-27</td>\n",
       "      <td>2022-10-01</td>\n",
       "      <td>NaT</td>\n",
       "      <td>NaN</td>\n",
       "      <td>NaN</td>\n",
       "      <td>NaN</td>\n",
       "      <td>NaN</td>\n",
       "    </tr>\n",
       "    <tr>\n",
       "      <th>305</th>\n",
       "      <td>971586569237</td>\n",
       "      <td>0</td>\n",
       "      <td>NaN</td>\n",
       "      <td>NaN</td>\n",
       "      <td>NaN</td>\n",
       "      <td>NaN</td>\n",
       "      <td>NaN</td>\n",
       "      <td>NaT</td>\n",
       "      <td>NaT</td>\n",
       "      <td>NaT</td>\n",
       "      <td>NaT</td>\n",
       "      <td>NaN</td>\n",
       "      <td>NaN</td>\n",
       "      <td>NaN</td>\n",
       "      <td>NaN</td>\n",
       "    </tr>\n",
       "    <tr>\n",
       "      <th>324</th>\n",
       "      <td>694907628</td>\n",
       "      <td>1</td>\n",
       "      <td>1.0</td>\n",
       "      <td>Janssen</td>\n",
       "      <td>Janssen</td>\n",
       "      <td>NaN</td>\n",
       "      <td>NaN</td>\n",
       "      <td>2022-06-23</td>\n",
       "      <td>2022-10-30</td>\n",
       "      <td>NaT</td>\n",
       "      <td>NaT</td>\n",
       "      <td>NaN</td>\n",
       "      <td>NaN</td>\n",
       "      <td>NaN</td>\n",
       "      <td>NaN</td>\n",
       "    </tr>\n",
       "  </tbody>\n",
       "</table>\n",
       "</div>"
      ],
      "text/plain": [
       "     phone_number  correct_phone  covid_certificate vaccine_type_1  \\\n",
       "18       07560341              0                NaN            NaN   \n",
       "23       07171434              0                NaN            NaN   \n",
       "33       05890488              0                NaN            NaN   \n",
       "44       01446655              0                NaN            NaN   \n",
       "65       08710316              0                NaN            NaN   \n",
       "73     0704617209              1                1.0        Moderna   \n",
       "79       00098805              0                NaN            NaN   \n",
       "81     0704969893              1                NaN            NaN   \n",
       "82     0723558064              1                1.0         Pfizer   \n",
       "88       07603071              0                NaN            NaN   \n",
       "92     0713395861              1                1.0        Janssen   \n",
       "107     701831522              1                1.0    AstraZeneca   \n",
       "122     727831228              1                1.0    AstraZeneca   \n",
       "123     716156584              1                1.0        Janssen   \n",
       "140     777200035              1                1.0            NaN   \n",
       "143     743240213              1                1.0    AstraZeneca   \n",
       "153     740378709              1                1.0         Pfizer   \n",
       "160     790052040              1                1.0    AstraZeneca   \n",
       "161     714004128              1                1.0        Janssen   \n",
       "162     716665998              1                1.0        Janssen   \n",
       "163     769665513              1                1.0        Janssen   \n",
       "165     588924899              1                1.0    AstraZeneca   \n",
       "167     711611347              1                1.0            NaN   \n",
       "171     733928747              1                1.0    AstraZeneca   \n",
       "184     759118128              1                1.0    AstraZeneca   \n",
       "189     711434032              1                1.0         Pfizer   \n",
       "194     777864780              1                1.0         Pfizer   \n",
       "201     725025496              1                1.0    AstraZeneca   \n",
       "206     706389392              1                1.0        Moderna   \n",
       "207     768922684              1                1.0    AstraZeneca   \n",
       "211     799660190              1                1.0        Moderna   \n",
       "215     721554884              1                1.0    AstraZeneca   \n",
       "217      30542878              1                1.0        Janssen   \n",
       "218     715950908              1                1.0        Moderna   \n",
       "305  971586569237              0                NaN            NaN   \n",
       "324     694907628              1                1.0        Janssen   \n",
       "\n",
       "    vaccine_type_2 vaccine_type_3 vaccine_type_4     dose_1     dose_2  \\\n",
       "18             NaN            NaN            NaN        NaT        NaT   \n",
       "23             NaN            NaN            NaN        NaT        NaT   \n",
       "33             NaN            NaN            NaN        NaT        NaT   \n",
       "44             NaN            NaN            NaN        NaT        NaT   \n",
       "65             NaN            NaN            NaN        NaT        NaT   \n",
       "73         Moderna            NaN            NaN 2021-10-06 2021-11-03   \n",
       "79             NaN            NaN            NaN        NaT        NaT   \n",
       "81             NaN            NaN            NaN        NaT        NaT   \n",
       "82          Pfizer            NaN            NaN 2021-12-31 2022-01-29   \n",
       "88             NaN            NaN            NaN        NaT        NaT   \n",
       "92             NaN            NaN            NaN 2021-12-16        NaT   \n",
       "107    AstraZeneca    AstraZeneca            NaN 2021-08-19 2021-12-08   \n",
       "122    AstraZeneca            NaN            NaN 2021-10-20 2022-01-03   \n",
       "123            NaN            NaN            NaN 2022-03-09        NaT   \n",
       "140            NaN            NaN            NaN        NaT        NaT   \n",
       "143    AstraZeneca            NaN            NaN 2021-09-29 2021-11-24   \n",
       "153            NaN            NaN            NaN 2022-04-08        NaT   \n",
       "160    AstraZeneca            NaN            NaN 2021-03-22 2021-09-29   \n",
       "161            NaN            NaN            NaN 2022-06-16        NaT   \n",
       "162            NaN            NaN            NaN 2022-06-22        NaT   \n",
       "163            NaN            NaN            NaN 2022-02-16        NaT   \n",
       "165         Pfizer            NaN            NaN 2021-08-25 2021-08-25   \n",
       "167    AstraZeneca            NaN            NaN        NaT 2021-11-24   \n",
       "171    AstraZeneca            NaN            NaN 2021-11-01 2022-01-18   \n",
       "184    AstraZeneca            NaN            NaN 2021-04-12 2021-06-29   \n",
       "189         Pfizer    AstraZeneca            NaN 2021-10-14 2021-11-16   \n",
       "194         Pfizer         Pfizer        Moderna 2021-10-25 2021-12-02   \n",
       "201    AstraZeneca         Pfizer            NaN 2021-03-26 2021-08-11   \n",
       "206    AstraZeneca            NaN            NaN 2021-10-09 2022-02-08   \n",
       "207    AstraZeneca            NaN            NaN 2021-04-10 2021-07-14   \n",
       "211        Moderna            NaN            NaN 2021-11-29 2021-12-28   \n",
       "215    AstraZeneca            NaN            NaN 2021-04-08 2021-07-25   \n",
       "217            NaN            NaN            NaN 2022-09-20        NaT   \n",
       "218        Moderna        Moderna            NaN 2022-09-29 2021-10-27   \n",
       "305            NaN            NaN            NaN        NaT        NaT   \n",
       "324        Janssen            NaN            NaN 2022-06-23 2022-10-30   \n",
       "\n",
       "        dose_3     dose_4                            notes RecipientFirstName  \\\n",
       "18         NaT        NaT                              NaN                NaN   \n",
       "23         NaT        NaT                              NaN                NaN   \n",
       "33         NaT        NaT                              NaN                NaN   \n",
       "44         NaT        NaT                              NaN                NaN   \n",
       "65         NaT        NaT                              NaN                NaN   \n",
       "73         NaT        NaT                              NaN                NaN   \n",
       "79         NaT        NaT                              NaN                NaN   \n",
       "81         NaT        NaT                              NaN                NaN   \n",
       "82         NaT        NaT                              NaN                NaN   \n",
       "88         NaT        NaT                              NaN                NaN   \n",
       "92         NaT        NaT                              NaN                NaN   \n",
       "107 2022-07-28        NaT                              NaN                NaN   \n",
       "122        NaT        NaT                              NaN                NaN   \n",
       "123        NaT        NaT                              NaN                NaN   \n",
       "140        NaT        NaT                              NaN                NaN   \n",
       "143        NaT        NaT                              NaN                NaN   \n",
       "153        NaT        NaT                              NaN                NaN   \n",
       "160        NaT        NaT                              NaN                NaN   \n",
       "161        NaT        NaT                              NaN                NaN   \n",
       "162        NaT        NaT                              NaN                NaN   \n",
       "163        NaT        NaT                              NaN                NaN   \n",
       "165        NaT        NaT  Same as 727961206 but UAE phone                NaN   \n",
       "167        NaT        NaT                              NaN                NaN   \n",
       "171        NaT        NaT                              NaN                NaN   \n",
       "184        NaT        NaT                              NaN                NaN   \n",
       "189 2022-07-15        NaT                              NaN                NaN   \n",
       "194 2022-06-20 2022-12-06                              NaN                NaN   \n",
       "201 2022-09-09        NaT                              NaN                NaN   \n",
       "206        NaT        NaT                              NaN                NaN   \n",
       "207        NaT        NaT                              NaN                NaN   \n",
       "211        NaT        NaT                              NaN                NaN   \n",
       "215        NaT        NaT                              NaN                NaN   \n",
       "217        NaT        NaT                              NaN                NaN   \n",
       "218 2022-10-01        NaT                              NaN                NaN   \n",
       "305        NaT        NaT                              NaN                NaN   \n",
       "324        NaT        NaT                              NaN                NaN   \n",
       "\n",
       "    mobile_number_1 country  \n",
       "18              NaN     NaN  \n",
       "23              NaN     NaN  \n",
       "33              NaN     NaN  \n",
       "44              NaN     NaN  \n",
       "65              NaN     NaN  \n",
       "73              NaN     NaN  \n",
       "79              NaN     NaN  \n",
       "81              NaN     NaN  \n",
       "82              NaN     NaN  \n",
       "88              NaN     NaN  \n",
       "92              NaN     NaN  \n",
       "107             NaN     NaN  \n",
       "122             NaN     NaN  \n",
       "123             NaN     NaN  \n",
       "140             NaN     NaN  \n",
       "143             NaN     NaN  \n",
       "153             NaN     NaN  \n",
       "160             NaN     NaN  \n",
       "161             NaN     NaN  \n",
       "162             NaN     NaN  \n",
       "163             NaN     NaN  \n",
       "165             NaN     NaN  \n",
       "167             NaN     NaN  \n",
       "171             NaN     NaN  \n",
       "184             NaN     NaN  \n",
       "189             NaN     NaN  \n",
       "194             NaN     NaN  \n",
       "201             NaN     NaN  \n",
       "206             NaN     NaN  \n",
       "207             NaN     NaN  \n",
       "211             NaN     NaN  \n",
       "215             NaN     NaN  \n",
       "217             NaN     NaN  \n",
       "218             NaN     NaN  \n",
       "305             NaN     NaN  \n",
       "324             NaN     NaN  "
      ]
     },
     "execution_count": 13,
     "metadata": {},
     "output_type": "execute_result"
    }
   ],
   "source": [
    "covid_survey[covid_survey['mobile_number_1'].isnull()]"
   ]
  },
  {
   "cell_type": "code",
   "execution_count": 14,
   "id": "8f1ba2f4",
   "metadata": {},
   "outputs": [],
   "source": [
    "covid_survey.rename(columns={'RecipientFirstName':'username'}, inplace=True)"
   ]
  },
  {
   "cell_type": "code",
   "execution_count": 307,
   "id": "71cc0a4b",
   "metadata": {},
   "outputs": [],
   "source": [
    "covid_survey.to_excel(f'../../data/06-other/covid_certificates_merged.xlsx')"
   ]
  },
  {
   "cell_type": "code",
   "execution_count": 15,
   "id": "545cd8f0",
   "metadata": {},
   "outputs": [
    {
     "data": {
      "text/html": [
       "<div>\n",
       "<style scoped>\n",
       "    .dataframe tbody tr th:only-of-type {\n",
       "        vertical-align: middle;\n",
       "    }\n",
       "\n",
       "    .dataframe tbody tr th {\n",
       "        vertical-align: top;\n",
       "    }\n",
       "\n",
       "    .dataframe thead th {\n",
       "        text-align: right;\n",
       "    }\n",
       "</style>\n",
       "<table border=\"1\" class=\"dataframe\">\n",
       "  <thead>\n",
       "    <tr style=\"text-align: right;\">\n",
       "      <th></th>\n",
       "      <th>RecipientFirstName</th>\n",
       "      <th>mobile_number_1</th>\n",
       "      <th>country</th>\n",
       "    </tr>\n",
       "  </thead>\n",
       "  <tbody>\n",
       "    <tr>\n",
       "      <th>0</th>\n",
       "      <td>ZakaKamau</td>\n",
       "      <td>713780418</td>\n",
       "      <td>KE</td>\n",
       "    </tr>\n",
       "    <tr>\n",
       "      <th>1</th>\n",
       "      <td>jaykashed</td>\n",
       "      <td>727530089</td>\n",
       "      <td>KE</td>\n",
       "    </tr>\n",
       "    <tr>\n",
       "      <th>2</th>\n",
       "      <td>CycloneKenya1</td>\n",
       "      <td>8710316</td>\n",
       "      <td>KE</td>\n",
       "    </tr>\n",
       "    <tr>\n",
       "      <th>3</th>\n",
       "      <td>Qinuthia</td>\n",
       "      <td>726849098</td>\n",
       "      <td>KE</td>\n",
       "    </tr>\n",
       "    <tr>\n",
       "      <th>4</th>\n",
       "      <td>mwadzitso</td>\n",
       "      <td>34400156</td>\n",
       "      <td>KE</td>\n",
       "    </tr>\n",
       "    <tr>\n",
       "      <th>...</th>\n",
       "      <td>...</td>\n",
       "      <td>...</td>\n",
       "      <td>...</td>\n",
       "    </tr>\n",
       "    <tr>\n",
       "      <th>1112</th>\n",
       "      <td>Makwenkwe_Saul</td>\n",
       "      <td>683705025</td>\n",
       "      <td>SA</td>\n",
       "    </tr>\n",
       "    <tr>\n",
       "      <th>1113</th>\n",
       "      <td>MadamStha</td>\n",
       "      <td>823106533</td>\n",
       "      <td>SA</td>\n",
       "    </tr>\n",
       "    <tr>\n",
       "      <th>1114</th>\n",
       "      <td>MoosaMalinga</td>\n",
       "      <td>633878874</td>\n",
       "      <td>SA</td>\n",
       "    </tr>\n",
       "    <tr>\n",
       "      <th>1115</th>\n",
       "      <td>ThulaG_</td>\n",
       "      <td>8147733598</td>\n",
       "      <td>SA</td>\n",
       "    </tr>\n",
       "    <tr>\n",
       "      <th>1116</th>\n",
       "      <td>pumzile_</td>\n",
       "      <td>613838898</td>\n",
       "      <td>SA</td>\n",
       "    </tr>\n",
       "  </tbody>\n",
       "</table>\n",
       "<p>1117 rows × 3 columns</p>\n",
       "</div>"
      ],
      "text/plain": [
       "     RecipientFirstName mobile_number_1 country\n",
       "0             ZakaKamau       713780418      KE\n",
       "1             jaykashed       727530089      KE\n",
       "2         CycloneKenya1         8710316      KE\n",
       "3              Qinuthia       726849098      KE\n",
       "4             mwadzitso        34400156      KE\n",
       "...                 ...             ...     ...\n",
       "1112     Makwenkwe_Saul       683705025      SA\n",
       "1113          MadamStha       823106533      SA\n",
       "1114       MoosaMalinga       633878874      SA\n",
       "1115            ThulaG_      8147733598      SA\n",
       "1116           pumzile_       613838898      SA\n",
       "\n",
       "[1117 rows x 3 columns]"
      ]
     },
     "execution_count": 15,
     "metadata": {},
     "output_type": "execute_result"
    }
   ],
   "source": [
    "survey"
   ]
  },
  {
   "cell_type": "code",
   "execution_count": 452,
   "id": "d34607d4",
   "metadata": {},
   "outputs": [
    {
     "data": {
      "text/html": [
       "<div>\n",
       "<style scoped>\n",
       "    .dataframe tbody tr th:only-of-type {\n",
       "        vertical-align: middle;\n",
       "    }\n",
       "\n",
       "    .dataframe tbody tr th {\n",
       "        vertical-align: top;\n",
       "    }\n",
       "\n",
       "    .dataframe thead th {\n",
       "        text-align: right;\n",
       "    }\n",
       "</style>\n",
       "<table border=\"1\" class=\"dataframe\">\n",
       "  <thead>\n",
       "    <tr style=\"text-align: right;\">\n",
       "      <th></th>\n",
       "      <th>RecipientFirstName</th>\n",
       "      <th>mobile_number_1</th>\n",
       "      <th>country</th>\n",
       "    </tr>\n",
       "  </thead>\n",
       "  <tbody>\n",
       "    <tr>\n",
       "      <th>806</th>\n",
       "      <td>Kwach001_</td>\n",
       "      <td>724574994</td>\n",
       "      <td>KE</td>\n",
       "    </tr>\n",
       "  </tbody>\n",
       "</table>\n",
       "</div>"
      ],
      "text/plain": [
       "    RecipientFirstName mobile_number_1 country\n",
       "806          Kwach001_       724574994      KE"
      ]
     },
     "execution_count": 452,
     "metadata": {},
     "output_type": "execute_result"
    }
   ],
   "source": [
    "survey[survey['RecipientFirstName']=='Kwach001_']"
   ]
  },
  {
   "cell_type": "code",
   "execution_count": 16,
   "id": "bf89523c",
   "metadata": {},
   "outputs": [
    {
     "data": {
      "text/html": [
       "<div>\n",
       "<style scoped>\n",
       "    .dataframe tbody tr th:only-of-type {\n",
       "        vertical-align: middle;\n",
       "    }\n",
       "\n",
       "    .dataframe tbody tr th {\n",
       "        vertical-align: top;\n",
       "    }\n",
       "\n",
       "    .dataframe thead th {\n",
       "        text-align: right;\n",
       "    }\n",
       "</style>\n",
       "<table border=\"1\" class=\"dataframe\">\n",
       "  <thead>\n",
       "    <tr style=\"text-align: right;\">\n",
       "      <th></th>\n",
       "      <th>RecipientFirstName</th>\n",
       "      <th>mobile_number_1</th>\n",
       "      <th>country</th>\n",
       "    </tr>\n",
       "  </thead>\n",
       "  <tbody>\n",
       "    <tr>\n",
       "      <th>0</th>\n",
       "      <td>ZakaKamau</td>\n",
       "      <td>713780418</td>\n",
       "      <td>KE</td>\n",
       "    </tr>\n",
       "    <tr>\n",
       "      <th>1</th>\n",
       "      <td>jaykashed</td>\n",
       "      <td>727530089</td>\n",
       "      <td>KE</td>\n",
       "    </tr>\n",
       "    <tr>\n",
       "      <th>2</th>\n",
       "      <td>CycloneKenya1</td>\n",
       "      <td>8710316</td>\n",
       "      <td>KE</td>\n",
       "    </tr>\n",
       "    <tr>\n",
       "      <th>3</th>\n",
       "      <td>Qinuthia</td>\n",
       "      <td>726849098</td>\n",
       "      <td>KE</td>\n",
       "    </tr>\n",
       "    <tr>\n",
       "      <th>4</th>\n",
       "      <td>mwadzitso</td>\n",
       "      <td>34400156</td>\n",
       "      <td>KE</td>\n",
       "    </tr>\n",
       "    <tr>\n",
       "      <th>...</th>\n",
       "      <td>...</td>\n",
       "      <td>...</td>\n",
       "      <td>...</td>\n",
       "    </tr>\n",
       "    <tr>\n",
       "      <th>1112</th>\n",
       "      <td>Makwenkwe_Saul</td>\n",
       "      <td>683705025</td>\n",
       "      <td>SA</td>\n",
       "    </tr>\n",
       "    <tr>\n",
       "      <th>1113</th>\n",
       "      <td>MadamStha</td>\n",
       "      <td>823106533</td>\n",
       "      <td>SA</td>\n",
       "    </tr>\n",
       "    <tr>\n",
       "      <th>1114</th>\n",
       "      <td>MoosaMalinga</td>\n",
       "      <td>633878874</td>\n",
       "      <td>SA</td>\n",
       "    </tr>\n",
       "    <tr>\n",
       "      <th>1115</th>\n",
       "      <td>ThulaG_</td>\n",
       "      <td>8147733598</td>\n",
       "      <td>SA</td>\n",
       "    </tr>\n",
       "    <tr>\n",
       "      <th>1116</th>\n",
       "      <td>pumzile_</td>\n",
       "      <td>613838898</td>\n",
       "      <td>SA</td>\n",
       "    </tr>\n",
       "  </tbody>\n",
       "</table>\n",
       "<p>1117 rows × 3 columns</p>\n",
       "</div>"
      ],
      "text/plain": [
       "     RecipientFirstName mobile_number_1 country\n",
       "0             ZakaKamau       713780418      KE\n",
       "1             jaykashed       727530089      KE\n",
       "2         CycloneKenya1         8710316      KE\n",
       "3              Qinuthia       726849098      KE\n",
       "4             mwadzitso        34400156      KE\n",
       "...                 ...             ...     ...\n",
       "1112     Makwenkwe_Saul       683705025      SA\n",
       "1113          MadamStha       823106533      SA\n",
       "1114       MoosaMalinga       633878874      SA\n",
       "1115            ThulaG_      8147733598      SA\n",
       "1116           pumzile_       613838898      SA\n",
       "\n",
       "[1117 rows x 3 columns]"
      ]
     },
     "execution_count": 16,
     "metadata": {},
     "output_type": "execute_result"
    }
   ],
   "source": [
    "survey"
   ]
  },
  {
   "cell_type": "code",
   "execution_count": 440,
   "id": "4e78e6a1",
   "metadata": {},
   "outputs": [
    {
     "data": {
      "text/html": [
       "<div>\n",
       "<style scoped>\n",
       "    .dataframe tbody tr th:only-of-type {\n",
       "        vertical-align: middle;\n",
       "    }\n",
       "\n",
       "    .dataframe tbody tr th {\n",
       "        vertical-align: top;\n",
       "    }\n",
       "\n",
       "    .dataframe thead th {\n",
       "        text-align: right;\n",
       "    }\n",
       "</style>\n",
       "<table border=\"1\" class=\"dataframe\">\n",
       "  <thead>\n",
       "    <tr style=\"text-align: right;\">\n",
       "      <th></th>\n",
       "      <th>RecipientFirstName</th>\n",
       "      <th>mobile_number_1</th>\n",
       "      <th>country</th>\n",
       "    </tr>\n",
       "  </thead>\n",
       "  <tbody>\n",
       "  </tbody>\n",
       "</table>\n",
       "</div>"
      ],
      "text/plain": [
       "Empty DataFrame\n",
       "Columns: [RecipientFirstName, mobile_number_1, country]\n",
       "Index: []"
      ]
     },
     "execution_count": 440,
     "metadata": {},
     "output_type": "execute_result"
    }
   ],
   "source": [
    "survey[survey['mobile_number_1']=='94907628']"
   ]
  },
  {
   "cell_type": "markdown",
   "id": "7a28e068",
   "metadata": {},
   "source": [
    "### Tweet something from the API"
   ]
  },
  {
   "cell_type": "code",
   "execution_count": 29,
   "id": "94905700",
   "metadata": {},
   "outputs": [
    {
     "data": {
      "text/plain": [
       "Status(_api=<tweepy.api.API object at 0x127433130>, _json={'created_at': 'Mon May 08 16:36:21 +0000 2023', 'id': 1655612612510375938, 'id_str': '1655612612510375938', 'text': 'This is a tweet.', 'truncated': False, 'entities': {'hashtags': [], 'symbols': [], 'user_mentions': [], 'urls': []}, 'source': '<a href=\"http://cie.itam.mx/\" rel=\"nofollow\">quinoba</a>', 'in_reply_to_status_id': None, 'in_reply_to_status_id_str': None, 'in_reply_to_user_id': None, 'in_reply_to_user_id_str': None, 'in_reply_to_screen_name': None, 'user': {'id': 183708767, 'id_str': '183708767', 'name': 'Quino', 'screen_name': 'j_barrutia', 'location': 'México', 'description': '', 'url': 'https://t.co/wSSsSqGWbz', 'entities': {'url': {'urls': [{'url': 'https://t.co/wSSsSqGWbz', 'expanded_url': 'https://github.com/quinoba', 'display_url': 'github.com/quinoba', 'indices': [0, 23]}]}, 'description': {'urls': []}}, 'protected': False, 'followers_count': 163, 'friends_count': 356, 'listed_count': 0, 'created_at': 'Fri Aug 27 18:02:45 +0000 2010', 'favourites_count': 1943, 'utc_offset': None, 'time_zone': None, 'geo_enabled': True, 'verified': False, 'statuses_count': 1476, 'lang': None, 'contributors_enabled': False, 'is_translator': False, 'is_translation_enabled': False, 'profile_background_color': 'C0DEED', 'profile_background_image_url': 'http://abs.twimg.com/images/themes/theme1/bg.png', 'profile_background_image_url_https': 'https://abs.twimg.com/images/themes/theme1/bg.png', 'profile_background_tile': False, 'profile_image_url': 'http://pbs.twimg.com/profile_images/1473831298963812356/6SiLiv9k_normal.jpg', 'profile_image_url_https': 'https://pbs.twimg.com/profile_images/1473831298963812356/6SiLiv9k_normal.jpg', 'profile_banner_url': 'https://pbs.twimg.com/profile_banners/183708767/1622598566', 'profile_link_color': '1DA1F2', 'profile_sidebar_border_color': 'C0DEED', 'profile_sidebar_fill_color': 'DDEEF6', 'profile_text_color': '333333', 'profile_use_background_image': True, 'has_extended_profile': True, 'default_profile': True, 'default_profile_image': False, 'following': False, 'follow_request_sent': False, 'notifications': False, 'translator_type': 'none', 'withheld_in_countries': []}, 'geo': None, 'coordinates': None, 'place': None, 'contributors': None, 'is_quote_status': False, 'retweet_count': 0, 'favorite_count': 0, 'favorited': False, 'retweeted': False, 'lang': 'en'}, created_at=datetime.datetime(2023, 5, 8, 16, 36, 21, tzinfo=datetime.timezone.utc), id=1655612612510375938, id_str='1655612612510375938', text='This is a tweet.', truncated=False, entities={'hashtags': [], 'symbols': [], 'user_mentions': [], 'urls': []}, source='quinoba', source_url='http://cie.itam.mx/', in_reply_to_status_id=None, in_reply_to_status_id_str=None, in_reply_to_user_id=None, in_reply_to_user_id_str=None, in_reply_to_screen_name=None, author=User(_api=<tweepy.api.API object at 0x127433130>, _json={'id': 183708767, 'id_str': '183708767', 'name': 'Quino', 'screen_name': 'j_barrutia', 'location': 'México', 'description': '', 'url': 'https://t.co/wSSsSqGWbz', 'entities': {'url': {'urls': [{'url': 'https://t.co/wSSsSqGWbz', 'expanded_url': 'https://github.com/quinoba', 'display_url': 'github.com/quinoba', 'indices': [0, 23]}]}, 'description': {'urls': []}}, 'protected': False, 'followers_count': 163, 'friends_count': 356, 'listed_count': 0, 'created_at': 'Fri Aug 27 18:02:45 +0000 2010', 'favourites_count': 1943, 'utc_offset': None, 'time_zone': None, 'geo_enabled': True, 'verified': False, 'statuses_count': 1476, 'lang': None, 'contributors_enabled': False, 'is_translator': False, 'is_translation_enabled': False, 'profile_background_color': 'C0DEED', 'profile_background_image_url': 'http://abs.twimg.com/images/themes/theme1/bg.png', 'profile_background_image_url_https': 'https://abs.twimg.com/images/themes/theme1/bg.png', 'profile_background_tile': False, 'profile_image_url': 'http://pbs.twimg.com/profile_images/1473831298963812356/6SiLiv9k_normal.jpg', 'profile_image_url_https': 'https://pbs.twimg.com/profile_images/1473831298963812356/6SiLiv9k_normal.jpg', 'profile_banner_url': 'https://pbs.twimg.com/profile_banners/183708767/1622598566', 'profile_link_color': '1DA1F2', 'profile_sidebar_border_color': 'C0DEED', 'profile_sidebar_fill_color': 'DDEEF6', 'profile_text_color': '333333', 'profile_use_background_image': True, 'has_extended_profile': True, 'default_profile': True, 'default_profile_image': False, 'following': False, 'follow_request_sent': False, 'notifications': False, 'translator_type': 'none', 'withheld_in_countries': []}, id=183708767, id_str='183708767', name='Quino', screen_name='j_barrutia', location='México', description='', url='https://t.co/wSSsSqGWbz', entities={'url': {'urls': [{'url': 'https://t.co/wSSsSqGWbz', 'expanded_url': 'https://github.com/quinoba', 'display_url': 'github.com/quinoba', 'indices': [0, 23]}]}, 'description': {'urls': []}}, protected=False, followers_count=163, friends_count=356, listed_count=0, created_at=datetime.datetime(2010, 8, 27, 18, 2, 45, tzinfo=datetime.timezone.utc), favourites_count=1943, utc_offset=None, time_zone=None, geo_enabled=True, verified=False, statuses_count=1476, lang=None, contributors_enabled=False, is_translator=False, is_translation_enabled=False, profile_background_color='C0DEED', profile_background_image_url='http://abs.twimg.com/images/themes/theme1/bg.png', profile_background_image_url_https='https://abs.twimg.com/images/themes/theme1/bg.png', profile_background_tile=False, profile_image_url='http://pbs.twimg.com/profile_images/1473831298963812356/6SiLiv9k_normal.jpg', profile_image_url_https='https://pbs.twimg.com/profile_images/1473831298963812356/6SiLiv9k_normal.jpg', profile_banner_url='https://pbs.twimg.com/profile_banners/183708767/1622598566', profile_link_color='1DA1F2', profile_sidebar_border_color='C0DEED', profile_sidebar_fill_color='DDEEF6', profile_text_color='333333', profile_use_background_image=True, has_extended_profile=True, default_profile=True, default_profile_image=False, following=False, follow_request_sent=False, notifications=False, translator_type='none', withheld_in_countries=[]), user=User(_api=<tweepy.api.API object at 0x127433130>, _json={'id': 183708767, 'id_str': '183708767', 'name': 'Quino', 'screen_name': 'j_barrutia', 'location': 'México', 'description': '', 'url': 'https://t.co/wSSsSqGWbz', 'entities': {'url': {'urls': [{'url': 'https://t.co/wSSsSqGWbz', 'expanded_url': 'https://github.com/quinoba', 'display_url': 'github.com/quinoba', 'indices': [0, 23]}]}, 'description': {'urls': []}}, 'protected': False, 'followers_count': 163, 'friends_count': 356, 'listed_count': 0, 'created_at': 'Fri Aug 27 18:02:45 +0000 2010', 'favourites_count': 1943, 'utc_offset': None, 'time_zone': None, 'geo_enabled': True, 'verified': False, 'statuses_count': 1476, 'lang': None, 'contributors_enabled': False, 'is_translator': False, 'is_translation_enabled': False, 'profile_background_color': 'C0DEED', 'profile_background_image_url': 'http://abs.twimg.com/images/themes/theme1/bg.png', 'profile_background_image_url_https': 'https://abs.twimg.com/images/themes/theme1/bg.png', 'profile_background_tile': False, 'profile_image_url': 'http://pbs.twimg.com/profile_images/1473831298963812356/6SiLiv9k_normal.jpg', 'profile_image_url_https': 'https://pbs.twimg.com/profile_images/1473831298963812356/6SiLiv9k_normal.jpg', 'profile_banner_url': 'https://pbs.twimg.com/profile_banners/183708767/1622598566', 'profile_link_color': '1DA1F2', 'profile_sidebar_border_color': 'C0DEED', 'profile_sidebar_fill_color': 'DDEEF6', 'profile_text_color': '333333', 'profile_use_background_image': True, 'has_extended_profile': True, 'default_profile': True, 'default_profile_image': False, 'following': False, 'follow_request_sent': False, 'notifications': False, 'translator_type': 'none', 'withheld_in_countries': []}, id=183708767, id_str='183708767', name='Quino', screen_name='j_barrutia', location='México', description='', url='https://t.co/wSSsSqGWbz', entities={'url': {'urls': [{'url': 'https://t.co/wSSsSqGWbz', 'expanded_url': 'https://github.com/quinoba', 'display_url': 'github.com/quinoba', 'indices': [0, 23]}]}, 'description': {'urls': []}}, protected=False, followers_count=163, friends_count=356, listed_count=0, created_at=datetime.datetime(2010, 8, 27, 18, 2, 45, tzinfo=datetime.timezone.utc), favourites_count=1943, utc_offset=None, time_zone=None, geo_enabled=True, verified=False, statuses_count=1476, lang=None, contributors_enabled=False, is_translator=False, is_translation_enabled=False, profile_background_color='C0DEED', profile_background_image_url='http://abs.twimg.com/images/themes/theme1/bg.png', profile_background_image_url_https='https://abs.twimg.com/images/themes/theme1/bg.png', profile_background_tile=False, profile_image_url='http://pbs.twimg.com/profile_images/1473831298963812356/6SiLiv9k_normal.jpg', profile_image_url_https='https://pbs.twimg.com/profile_images/1473831298963812356/6SiLiv9k_normal.jpg', profile_banner_url='https://pbs.twimg.com/profile_banners/183708767/1622598566', profile_link_color='1DA1F2', profile_sidebar_border_color='C0DEED', profile_sidebar_fill_color='DDEEF6', profile_text_color='333333', profile_use_background_image=True, has_extended_profile=True, default_profile=True, default_profile_image=False, following=False, follow_request_sent=False, notifications=False, translator_type='none', withheld_in_countries=[]), geo=None, coordinates=None, place=None, contributors=None, is_quote_status=False, retweet_count=0, favorite_count=0, favorited=False, retweeted=False, lang='en')"
      ]
     },
     "execution_count": 29,
     "metadata": {},
     "output_type": "execute_result"
    }
   ],
   "source": [
    "# assign tokens\n",
    "consumer_key = '3AGiDL5LlPfWSNpp5Tf8SvGCX'\n",
    "consumer_secret = 'd2PTRlyo4kx8FbApzciNISegodocr6uTZaHdPRKqoAgfo7EFZU'\n",
    "access_token = '183708767-AFZJfTQMS6jhzAVi0qkyVlXRusyzoxElpnpO6cgK'\n",
    "access_token_secret = 'Tq9iqQr61rLp8N7q29FlCeUIsKveDCdyDBX4TNwvQTqkv'\n",
    "  \n",
    "# authorization of consumer key and consumer secret\n",
    "auth = tweepy.OAuthHandler(consumer_key, consumer_secret)\n",
    "  \n",
    "# set access to user's access key and access secret \n",
    "auth.set_access_token(access_token, access_token_secret)\n",
    "  \n",
    "# calling the api \n",
    "api = tweepy.API(auth)\n",
    "  \n",
    "# the text to be tweeted\n",
    "status = \"This is a tweet.\"\n",
    "  \n",
    "# posting the tweet\n",
    "\n",
    "api.update_status(status)"
   ]
  }
 ],
 "metadata": {
  "kernelspec": {
   "display_name": "Python 3",
   "language": "python",
   "name": "python3"
  },
  "language_info": {
   "codemirror_mode": {
    "name": "ipython",
    "version": 3
   },
   "file_extension": ".py",
   "mimetype": "text/x-python",
   "name": "python",
   "nbconvert_exporter": "python",
   "pygments_lexer": "ipython3",
   "version": "3.9.11"
  }
 },
 "nbformat": 4,
 "nbformat_minor": 5
}
