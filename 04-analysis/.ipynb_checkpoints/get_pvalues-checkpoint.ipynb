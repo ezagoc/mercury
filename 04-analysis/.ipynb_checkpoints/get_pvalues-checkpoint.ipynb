{
 "cells": [
  {
   "cell_type": "code",
   "execution_count": 1,
   "id": "379f309c",
   "metadata": {},
   "outputs": [],
   "source": [
    "import pandas as pd\n",
    "\n",
    "\n",
    "def p_values(data0, data1, cols_order):\n",
    "    \"\"\"Get p_values\n",
    "    :param data0: DataFrame with original regression estimates\n",
    "    :type data0: DataFrame\n",
    "    :param data1: DataFrame with estimates from permutation\n",
    "    :type data1: DataFrame\n",
    "    :param cols_order: List of ordering of columns\n",
    "    :type cols_order: List\n",
    "    :return: DataFrame with p-values\n",
    "    :rtype: DataFrame\n",
    "    \"\"\"\n",
    "    columns = data0.columns\n",
    "    pos = data0[(data0[columns] > 0)]\n",
    "    pos = pos.loc[:, ~pos.isnull().any()]\n",
    "    neg = data0[(data0[columns] < 0)]\n",
    "    neg = neg.loc[:, ~neg.isnull().any()]\n",
    "    val_pos = [\n",
    "        data1[data1[var] > pos[var].values[0]].count()[var] / 1000\n",
    "        for var in pos.columns\n",
    "    ]\n",
    "    coe_pos = pos.columns\n",
    "    cols = [\"coefficients\", \"p-value\"]\n",
    "    b_pos = pd.DataFrame(list(zip(coe_pos, val_pos)), columns=cols)\n",
    "    val_neg = [\n",
    "        data1[data1[var] < neg[var].values[0]].count()[var] / 1000\n",
    "        for var in neg.columns\n",
    "    ]\n",
    "    coe_neg = neg.columns\n",
    "    b_neg = pd.DataFrame(list(zip(coe_neg, val_neg)), columns=cols)\n",
    "    b = b_pos.append(b_neg).reset_index(drop=True).reset_index()\n",
    "    b = b.set_index(\"index\").stack().unstack(0).reset_index().rename_axis(None, axis=1)\n",
    "    headers = b.iloc[0]\n",
    "    b = pd.DataFrame(b.values[1:], columns=headers)\n",
    "    b = b.iloc[:, 1:]\n",
    "    b = b[cols_order]\n",
    "    return b"
   ]
  },
  {
   "cell_type": "code",
   "execution_count": 8,
   "id": "cbc51277",
   "metadata": {},
   "outputs": [
    {
     "name": "stderr",
     "output_type": "stream",
     "text": [
      "C:\\Users\\Dell\\AppData\\Local\\Temp\\ipykernel_17088\\2735045837.py:33: FutureWarning: The frame.append method is deprecated and will be removed from pandas in a future version. Use pandas.concat instead.\n",
      "  b = b_pos.append(b_neg).reset_index(drop=True).reset_index()\n"
     ]
    }
   ],
   "source": [
    "# SA Joint\n",
    "\n",
    "country = 'SA'\n",
    "p = f\"../../data/04-analysis/{country}/\"\n",
    "perm = pd.DataFrame()\n",
    "for i in range(0, 4):\n",
    "    df = pd.read_excel(f\"{p}pestimates_joint_balance{i}.xlsx\")\n",
    "    perm = pd.concat([perm, df])\n",
    "\n",
    "perm = perm.reset_index(drop=True)\n",
    "orig = pd.read_excel(f\"{p}pestimates_joint_balance_original.xlsx\")\n",
    "order = [\"strong_share_base\", \"strong_reac_base\", \"strong_com_base\",\n",
    "        \"strong_int_base\", \"strong_ver_base\", stro \"strong_n_base\",\n",
    "        \"weak_share_base\", \"weak_reac_base\", \"weak_com_base\",\n",
    "        \"weak_int_base\", \"weak_ver_base\", \"weak_n_base\", \n",
    "        \"neither_share_base\", \"neither_reac_base\", \"neither_com_base\",\n",
    "        \"neither_int_base\", \"neither_ver_base\", \"neither_n_base\"]\n",
    "df = p_values(orig, perm, order)\n",
    "df.to_excel(f\"{p}agg_pvalues_joint_balance.xlsx\", index=False)"
   ]
  }
 ],
 "metadata": {
  "kernelspec": {
   "display_name": "Python 3 (ipykernel)",
   "language": "python",
   "name": "python3"
  },
  "language_info": {
   "codemirror_mode": {
    "name": "ipython",
    "version": 3
   },
   "file_extension": ".py",
   "mimetype": "text/x-python",
   "name": "python",
   "nbconvert_exporter": "python",
   "pygments_lexer": "ipython3",
   "version": "3.9.12"
  },
  "vscode": {
   "interpreter": {
    "hash": "76d7c06053c3456e5600312cec90888656fc0ed30c03d8425b9dac6e4fc8e014"
   }
  }
 },
 "nbformat": 4,
 "nbformat_minor": 5
}
