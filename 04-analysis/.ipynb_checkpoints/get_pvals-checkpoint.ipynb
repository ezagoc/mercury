{
 "cells": [
  {
   "cell_type": "code",
   "execution_count": null,
   "id": "88441696",
   "metadata": {},
   "outputs": [],
   "source": [
    "import pandas as pd\n",
    "\n",
    "\n",
    "def p_values(data0, data1, cols_order):\n",
    "    \"\"\"Get p_values\n",
    "    :param data0: DataFrame with original regression estimates\n",
    "    :type data0: DataFrame\n",
    "    :param data1: DataFrame with estimates from permutation\n",
    "    :type data1: DataFrame\n",
    "    :param cols_order: List of ordering of columns\n",
    "    :type cols_order: List\n",
    "    :return: DataFrame with p-values\n",
    "    :rtype: DataFrame\n",
    "    \"\"\"\n",
    "    columns = data0.columns\n",
    "    pos = data0[(data0[columns] > 0)]\n",
    "    pos = pos.loc[:, ~pos.isnull().any()]\n",
    "    neg = data0[(data0[columns] < 0)]\n",
    "    neg = neg.loc[:, ~neg.isnull().any()]\n",
    "    val_pos = [\n",
    "        data1[data1[var] > pos[var].values[0]].count()[var] / 1000\n",
    "        for var in pos.columns\n",
    "    ]\n",
    "    coe_pos = pos.columns\n",
    "    cols = [\"coefficients\", \"p-value\"]\n",
    "    b_pos = pd.DataFrame(list(zip(coe_pos, val_pos)), columns=cols)\n",
    "    val_neg = [\n",
    "        data1[data1[var] < neg[var].values[0]].count()[var] / 1000\n",
    "        for var in neg.columns\n",
    "    ]\n",
    "    coe_neg = neg.columns\n",
    "    b_neg = pd.DataFrame(list(zip(coe_neg, val_neg)), columns=cols)\n",
    "    b = b_pos.append(b_neg).reset_index(drop=True).reset_index()\n",
    "    b = b.set_index(\"index\").stack().unstack(0).reset_index().rename_axis(None, axis=1)\n",
    "    headers = b.iloc[0]\n",
    "    b = pd.DataFrame(b.values[1:], columns=headers)\n",
    "    b = b.iloc[:, 1:]\n",
    "    b = b[cols_order]\n",
    "    return b"
   ]
  },
  {
   "cell_type": "code",
   "execution_count": null,
   "id": "743c97f8",
   "metadata": {},
   "outputs": [],
   "source": []
  },
  {
   "cell_type": "code",
   "execution_count": 3,
   "id": "24c4e60a",
   "metadata": {},
   "outputs": [
    {
     "name": "stderr",
     "output_type": "stream",
     "text": [
      "C:\\Users\\Dell\\AppData\\Local\\Temp\\ipykernel_19332\\2735045837.py:33: FutureWarning: The frame.append method is deprecated and will be removed from pandas in a future version. Use pandas.concat instead.\n",
      "  b = b_pos.append(b_neg).reset_index(drop=True).reset_index()\n",
      "C:\\Users\\Dell\\AppData\\Local\\Temp\\ipykernel_19332\\2735045837.py:33: FutureWarning: The frame.append method is deprecated and will be removed from pandas in a future version. Use pandas.concat instead.\n",
      "  b = b_pos.append(b_neg).reset_index(drop=True).reset_index()\n"
     ]
    }
   ],
   "source": [
    "for country in ['joint']:\n",
    "    for stage in ['stage1_2']:\n",
    "        p = f\"../../data/04-analysis/{country}/\"\n",
    "        perm = pd.DataFrame()\n",
    "        for i in range(1, 1001):\n",
    "            df = pd.read_excel(f\"{p}{stage}/pestimates_ver/country_b1b2_{i}.xlsx\")\n",
    "            perm = pd.concat([perm, df])\n",
    "    \n",
    "        cols_strong = ([col for col in perm.columns if 'strong_' in col] + \n",
    "                       [col for col in perm.columns if 'weak_' in col])\n",
    "        cols_neither = ([col for col in perm.columns if 'neither_' in col])\n",
    "        perm_strong = perm[cols_strong]\n",
    "        perm_neither = perm[cols_neither]\n",
    "    \n",
    "        perm = perm.reset_index(drop=True)\n",
    "        orig = pd.read_excel(f\"{p}{stage}/pestimates_b1_b2_fake.xlsx\")\n",
    "        orig_strong = orig[cols_strong]\n",
    "        orig_neither = orig[cols_neither]\n",
    "\n",
    "        df_strong = p_values(orig_strong, perm_strong, cols_strong)\n",
    "        df_neither = p_values(orig_neither, perm_neither, cols_neither)\n",
    "        df = pd.concat([df_strong, df_neither], axis = 1)\n",
    "        df.to_excel(f\"{p}{stage}/agg_pvalues_fake_b1_b2.xlsx\", index=False)"
   ]
  },
  {
   "cell_type": "code",
   "execution_count": 3,
   "id": "15e4d682",
   "metadata": {},
   "outputs": [
    {
     "name": "stderr",
     "output_type": "stream",
     "text": [
      "C:\\Users\\Dell\\AppData\\Local\\Temp\\ipykernel_11108\\2735045837.py:33: FutureWarning: The frame.append method is deprecated and will be removed from pandas in a future version. Use pandas.concat instead.\n",
      "  b = b_pos.append(b_neg).reset_index(drop=True).reset_index()\n",
      "C:\\Users\\Dell\\AppData\\Local\\Temp\\ipykernel_11108\\2735045837.py:33: FutureWarning: The frame.append method is deprecated and will be removed from pandas in a future version. Use pandas.concat instead.\n",
      "  b = b_pos.append(b_neg).reset_index(drop=True).reset_index()\n",
      "C:\\Users\\Dell\\AppData\\Local\\Temp\\ipykernel_11108\\2735045837.py:33: FutureWarning: The frame.append method is deprecated and will be removed from pandas in a future version. Use pandas.concat instead.\n",
      "  b = b_pos.append(b_neg).reset_index(drop=True).reset_index()\n",
      "C:\\Users\\Dell\\AppData\\Local\\Temp\\ipykernel_11108\\2735045837.py:33: FutureWarning: The frame.append method is deprecated and will be removed from pandas in a future version. Use pandas.concat instead.\n",
      "  b = b_pos.append(b_neg).reset_index(drop=True).reset_index()\n"
     ]
    }
   ],
   "source": [
    "for country in ['KE', 'SA']:\n",
    "    for stage in ['stage1_2']:\n",
    "        p = f\"../../data/04-analysis/{country}/\"\n",
    "        perm = pd.DataFrame()\n",
    "        for i in range(0, 4):\n",
    "            df = pd.read_excel(f\"{p}{stage}/pestimates_b1_b2_fake{i}.xlsx\")\n",
    "            perm = pd.concat([perm, df])\n",
    "    \n",
    "        cols_strong = ([col for col in perm.columns if 'strong_' in col] + \n",
    "                       [col for col in perm.columns if 'weak_' in col])\n",
    "        cols_neither = ([col for col in perm.columns if 'neither_' in col])\n",
    "        perm_strong = perm[cols_strong]\n",
    "        perm_neither = perm[cols_neither]\n",
    "    \n",
    "        perm = perm.reset_index(drop=True)\n",
    "        orig = pd.read_excel(f\"{p}{stage}/pestimates_b1_b2_fake.xlsx\")\n",
    "        orig_strong = orig[cols_strong]\n",
    "        orig_neither = orig[cols_neither]\n",
    "\n",
    "        df_strong = p_values(orig_strong, perm_strong, cols_strong)\n",
    "        df_neither = p_values(orig_neither, perm_neither, cols_neither)\n",
    "        df = pd.concat([df_strong, df_neither], axis = 1)\n",
    "        df.to_excel(f\"{p}{stage}/agg_pvalues_fake_b1_b2.xlsx\", index=False)"
   ]
  },
  {
   "cell_type": "code",
   "execution_count": 2,
   "id": "d5e382fc",
   "metadata": {},
   "outputs": [
    {
     "name": "stderr",
     "output_type": "stream",
     "text": [
      "C:\\Users\\Dell\\AppData\\Local\\Temp\\ipykernel_7972\\2735045837.py:33: FutureWarning: The frame.append method is deprecated and will be removed from pandas in a future version. Use pandas.concat instead.\n",
      "  b = b_pos.append(b_neg).reset_index(drop=True).reset_index()\n",
      "C:\\Users\\Dell\\AppData\\Local\\Temp\\ipykernel_7972\\2735045837.py:33: FutureWarning: The frame.append method is deprecated and will be removed from pandas in a future version. Use pandas.concat instead.\n",
      "  b = b_pos.append(b_neg).reset_index(drop=True).reset_index()\n",
      "C:\\Users\\Dell\\AppData\\Local\\Temp\\ipykernel_7972\\2735045837.py:33: FutureWarning: The frame.append method is deprecated and will be removed from pandas in a future version. Use pandas.concat instead.\n",
      "  b = b_pos.append(b_neg).reset_index(drop=True).reset_index()\n",
      "C:\\Users\\Dell\\AppData\\Local\\Temp\\ipykernel_7972\\2735045837.py:33: FutureWarning: The frame.append method is deprecated and will be removed from pandas in a future version. Use pandas.concat instead.\n",
      "  b = b_pos.append(b_neg).reset_index(drop=True).reset_index()\n",
      "C:\\Users\\Dell\\AppData\\Local\\Temp\\ipykernel_7972\\2735045837.py:33: FutureWarning: The frame.append method is deprecated and will be removed from pandas in a future version. Use pandas.concat instead.\n",
      "  b = b_pos.append(b_neg).reset_index(drop=True).reset_index()\n",
      "C:\\Users\\Dell\\AppData\\Local\\Temp\\ipykernel_7972\\2735045837.py:33: FutureWarning: The frame.append method is deprecated and will be removed from pandas in a future version. Use pandas.concat instead.\n",
      "  b = b_pos.append(b_neg).reset_index(drop=True).reset_index()\n",
      "C:\\Users\\Dell\\AppData\\Local\\Temp\\ipykernel_7972\\2735045837.py:33: FutureWarning: The frame.append method is deprecated and will be removed from pandas in a future version. Use pandas.concat instead.\n",
      "  b = b_pos.append(b_neg).reset_index(drop=True).reset_index()\n",
      "C:\\Users\\Dell\\AppData\\Local\\Temp\\ipykernel_7972\\2735045837.py:33: FutureWarning: The frame.append method is deprecated and will be removed from pandas in a future version. Use pandas.concat instead.\n",
      "  b = b_pos.append(b_neg).reset_index(drop=True).reset_index()\n",
      "C:\\Users\\Dell\\AppData\\Local\\Temp\\ipykernel_7972\\2735045837.py:33: FutureWarning: The frame.append method is deprecated and will be removed from pandas in a future version. Use pandas.concat instead.\n",
      "  b = b_pos.append(b_neg).reset_index(drop=True).reset_index()\n",
      "C:\\Users\\Dell\\AppData\\Local\\Temp\\ipykernel_7972\\2735045837.py:33: FutureWarning: The frame.append method is deprecated and will be removed from pandas in a future version. Use pandas.concat instead.\n",
      "  b = b_pos.append(b_neg).reset_index(drop=True).reset_index()\n",
      "C:\\Users\\Dell\\AppData\\Local\\Temp\\ipykernel_7972\\2735045837.py:33: FutureWarning: The frame.append method is deprecated and will be removed from pandas in a future version. Use pandas.concat instead.\n",
      "  b = b_pos.append(b_neg).reset_index(drop=True).reset_index()\n",
      "C:\\Users\\Dell\\AppData\\Local\\Temp\\ipykernel_7972\\2735045837.py:33: FutureWarning: The frame.append method is deprecated and will be removed from pandas in a future version. Use pandas.concat instead.\n",
      "  b = b_pos.append(b_neg).reset_index(drop=True).reset_index()\n"
     ]
    }
   ],
   "source": [
    "for country in ['KE', 'SA']:\n",
    "    for stage in ['stage1_2', 'stage3_4', 'stage5_6']:\n",
    "        p = f\"../../data/04-analysis/{country}/\"\n",
    "        perm = pd.DataFrame()\n",
    "        for i in range(0, 4):\n",
    "            df = pd.read_excel(f\"{p}{stage}/pestimates_b1_fake_{i}.xlsx\")\n",
    "            perm = pd.concat([perm, df])\n",
    "    \n",
    "        cols_strong = ([col for col in perm.columns if 'strong_' in col] + \n",
    "                       [col for col in perm.columns if 'weak_' in col])\n",
    "        cols_neither = ([col for col in perm.columns if 'neither_' in col])\n",
    "        perm_strong = perm[cols_strong]\n",
    "        perm_neither = perm[cols_neither]\n",
    "    \n",
    "        perm = perm.reset_index(drop=True)\n",
    "        orig = pd.read_excel(f\"{p}{stage}/pestimates_fake_b1.xlsx\")\n",
    "        orig_strong = orig[cols_strong]\n",
    "        orig_neither = orig[cols_neither]\n",
    "\n",
    "        df_strong = p_values(orig_strong, perm_strong, cols_strong)\n",
    "        df_neither = p_values(orig_neither, perm_neither, cols_neither)\n",
    "        df = pd.concat([df_strong, df_neither], axis = 1)\n",
    "        df.to_excel(f\"{p}{stage}/agg_pvalues_fake_b1.xlsx\", index=False)"
   ]
  },
  {
   "cell_type": "code",
   "execution_count": 6,
   "id": "ddf180b0",
   "metadata": {},
   "outputs": [
    {
     "name": "stderr",
     "output_type": "stream",
     "text": [
      "C:\\Users\\Dell\\AppData\\Local\\Temp\\ipykernel_21104\\2735045837.py:33: FutureWarning: The frame.append method is deprecated and will be removed from pandas in a future version. Use pandas.concat instead.\n",
      "  b = b_pos.append(b_neg).reset_index(drop=True).reset_index()\n",
      "C:\\Users\\Dell\\AppData\\Local\\Temp\\ipykernel_21104\\2735045837.py:33: FutureWarning: The frame.append method is deprecated and will be removed from pandas in a future version. Use pandas.concat instead.\n",
      "  b = b_pos.append(b_neg).reset_index(drop=True).reset_index()\n",
      "C:\\Users\\Dell\\AppData\\Local\\Temp\\ipykernel_21104\\2735045837.py:33: FutureWarning: The frame.append method is deprecated and will be removed from pandas in a future version. Use pandas.concat instead.\n",
      "  b = b_pos.append(b_neg).reset_index(drop=True).reset_index()\n",
      "C:\\Users\\Dell\\AppData\\Local\\Temp\\ipykernel_21104\\2735045837.py:33: FutureWarning: The frame.append method is deprecated and will be removed from pandas in a future version. Use pandas.concat instead.\n",
      "  b = b_pos.append(b_neg).reset_index(drop=True).reset_index()\n",
      "C:\\Users\\Dell\\AppData\\Local\\Temp\\ipykernel_21104\\2735045837.py:33: FutureWarning: The frame.append method is deprecated and will be removed from pandas in a future version. Use pandas.concat instead.\n",
      "  b = b_pos.append(b_neg).reset_index(drop=True).reset_index()\n",
      "C:\\Users\\Dell\\AppData\\Local\\Temp\\ipykernel_21104\\2735045837.py:33: FutureWarning: The frame.append method is deprecated and will be removed from pandas in a future version. Use pandas.concat instead.\n",
      "  b = b_pos.append(b_neg).reset_index(drop=True).reset_index()\n"
     ]
    }
   ],
   "source": [
    "### B1 ALL FAKE\n",
    "for country in ['SA', 'KE']:\n",
    "    for stage in ['stage1_2', 'stage3_4', 'stage5_6']:\n",
    "        p = f\"../../data/04-analysis/{country}/\"\n",
    "        perm = pd.DataFrame()\n",
    "        for i in range(0, 4):\n",
    "            df = pd.read_excel(f\"{p}{stage}/pestimates_b1_fake_all{i}.xlsx\")\n",
    "            perm = pd.concat([perm, df])\n",
    "    \n",
    "        cols = [col for col in perm.columns]\n",
    "    \n",
    "        perm = perm.reset_index(drop=True)\n",
    "        orig = pd.read_excel(f\"{p}{stage}/pestimates_b1_fake_all.xlsx\")\n",
    "\n",
    "        df = p_values(orig, perm, cols)\n",
    "\n",
    "        df.to_excel(f\"{p}{stage}/agg_pvalues_b1_fake_all.xlsx\", index=False)"
   ]
  },
  {
   "cell_type": "code",
   "execution_count": 8,
   "id": "0190dfbb",
   "metadata": {},
   "outputs": [
    {
     "name": "stderr",
     "output_type": "stream",
     "text": [
      "C:\\Users\\Dell\\AppData\\Local\\Temp\\ipykernel_21104\\2735045837.py:33: FutureWarning: The frame.append method is deprecated and will be removed from pandas in a future version. Use pandas.concat instead.\n",
      "  b = b_pos.append(b_neg).reset_index(drop=True).reset_index()\n",
      "C:\\Users\\Dell\\AppData\\Local\\Temp\\ipykernel_21104\\2735045837.py:33: FutureWarning: The frame.append method is deprecated and will be removed from pandas in a future version. Use pandas.concat instead.\n",
      "  b = b_pos.append(b_neg).reset_index(drop=True).reset_index()\n",
      "C:\\Users\\Dell\\AppData\\Local\\Temp\\ipykernel_21104\\2735045837.py:33: FutureWarning: The frame.append method is deprecated and will be removed from pandas in a future version. Use pandas.concat instead.\n",
      "  b = b_pos.append(b_neg).reset_index(drop=True).reset_index()\n"
     ]
    }
   ],
   "source": [
    "### B1 JOINT ALL FAKE\n",
    "for country in ['joint']:\n",
    "    for stage in ['stage1_2', 'stage3_4', 'stage5_6']:\n",
    "        p = f\"../../data/04-analysis/{country}/\"\n",
    "        perm = pd.DataFrame()\n",
    "        for i in range(1, 1001):\n",
    "            df = pd.read_excel(f\"{p}{stage}/pestimates_ver/b1_fake_all{i}.xlsx\")\n",
    "            perm = pd.concat([perm, df])\n",
    "    \n",
    "        cols = [col for col in perm.columns]\n",
    "    \n",
    "        perm = perm.reset_index(drop=True)\n",
    "        orig = pd.read_excel(f\"{p}{stage}/pestimates_b1_fake_all.xlsx\")\n",
    "\n",
    "        df = p_values(orig, perm, cols)\n",
    "\n",
    "        df.to_excel(f\"{p}{stage}/agg_pvalues_b1_fake_all.xlsx\", index=False)"
   ]
  },
  {
   "cell_type": "code",
   "execution_count": 7,
   "id": "99113f8c",
   "metadata": {},
   "outputs": [
    {
     "name": "stderr",
     "output_type": "stream",
     "text": [
      "C:\\Users\\Dell\\AppData\\Local\\Temp\\ipykernel_21104\\2735045837.py:33: FutureWarning: The frame.append method is deprecated and will be removed from pandas in a future version. Use pandas.concat instead.\n",
      "  b = b_pos.append(b_neg).reset_index(drop=True).reset_index()\n",
      "C:\\Users\\Dell\\AppData\\Local\\Temp\\ipykernel_21104\\2735045837.py:33: FutureWarning: The frame.append method is deprecated and will be removed from pandas in a future version. Use pandas.concat instead.\n",
      "  b = b_pos.append(b_neg).reset_index(drop=True).reset_index()\n",
      "C:\\Users\\Dell\\AppData\\Local\\Temp\\ipykernel_21104\\2735045837.py:33: FutureWarning: The frame.append method is deprecated and will be removed from pandas in a future version. Use pandas.concat instead.\n",
      "  b = b_pos.append(b_neg).reset_index(drop=True).reset_index()\n",
      "C:\\Users\\Dell\\AppData\\Local\\Temp\\ipykernel_21104\\2735045837.py:33: FutureWarning: The frame.append method is deprecated and will be removed from pandas in a future version. Use pandas.concat instead.\n",
      "  b = b_pos.append(b_neg).reset_index(drop=True).reset_index()\n",
      "C:\\Users\\Dell\\AppData\\Local\\Temp\\ipykernel_21104\\2735045837.py:33: FutureWarning: The frame.append method is deprecated and will be removed from pandas in a future version. Use pandas.concat instead.\n",
      "  b = b_pos.append(b_neg).reset_index(drop=True).reset_index()\n",
      "C:\\Users\\Dell\\AppData\\Local\\Temp\\ipykernel_21104\\2735045837.py:33: FutureWarning: The frame.append method is deprecated and will be removed from pandas in a future version. Use pandas.concat instead.\n",
      "  b = b_pos.append(b_neg).reset_index(drop=True).reset_index()\n"
     ]
    }
   ],
   "source": [
    "### JOINT B1 FAKE\n",
    "country = 'joint'\n",
    "\n",
    "for stage in ['stage1_2', 'stage3_4', 'stage5_6']:\n",
    "    p = f\"../../data/04-analysis/{country}/\"\n",
    "    perm = pd.DataFrame()\n",
    "    for i in range(1, 1001):\n",
    "        df = pd.read_excel(f\"{p}{stage}/pestimates_ver/b1_fake_{i}.xlsx\")\n",
    "        perm = pd.concat([perm, df])\n",
    "    \n",
    "    cols_strong = ([col for col in perm.columns if 'strong_' in col] + \n",
    "                   [col for col in perm.columns if 'weak_' in col])\n",
    "    cols_neither = ([col for col in perm.columns if 'neither_' in col])\n",
    "    perm_strong = perm[cols_strong]\n",
    "    perm_neither = perm[cols_neither]\n",
    "    \n",
    "    perm = perm.reset_index(drop=True)\n",
    "    orig = pd.read_excel(f\"{p}{stage}/pestimates_b1_fake.xlsx\")\n",
    "    orig_strong = orig[cols_strong]\n",
    "    orig_neither = orig[cols_neither]\n",
    "\n",
    "    df_strong = p_values(orig_strong, perm_strong, cols_strong)\n",
    "    df_neither = p_values(orig_neither, perm_neither, cols_neither)\n",
    "    df = pd.concat([df_strong, df_neither], axis = 1)\n",
    "    df.to_excel(f\"{p}{stage}/agg_pvalues_b1_fake.xlsx\", index=False)"
   ]
  },
  {
   "cell_type": "code",
   "execution_count": 3,
   "id": "5b149a29",
   "metadata": {},
   "outputs": [
    {
     "name": "stderr",
     "output_type": "stream",
     "text": [
      "C:\\Users\\Dell\\AppData\\Local\\Temp\\ipykernel_38336\\2735045837.py:33: FutureWarning: The frame.append method is deprecated and will be removed from pandas in a future version. Use pandas.concat instead.\n",
      "  b = b_pos.append(b_neg).reset_index(drop=True).reset_index()\n",
      "C:\\Users\\Dell\\AppData\\Local\\Temp\\ipykernel_38336\\2735045837.py:33: FutureWarning: The frame.append method is deprecated and will be removed from pandas in a future version. Use pandas.concat instead.\n",
      "  b = b_pos.append(b_neg).reset_index(drop=True).reset_index()\n"
     ]
    }
   ],
   "source": [
    "country = 'joint'\n",
    "stage = 'stage1_2'\n",
    "p = f\"../../data/04-analysis/{country}/\"\n",
    "perm = pd.DataFrame()\n",
    "for i in range(1, 1001):\n",
    "    df = pd.read_excel(f\"{p}{stage}/pestimates/country_b1b2p_{i}.xlsx\")\n",
    "    perm = pd.concat([perm, df])\n",
    "    \n",
    "cols_strong = ([col for col in perm.columns if 'strong_' in col] + \n",
    "               [col for col in perm.columns if 'weak_' in col])\n",
    "cols_neither = ([col for col in perm.columns if 'neither_' in col])\n",
    "perm_strong = perm[cols_strong]\n",
    "perm_neither = perm[cols_neither]\n",
    "    \n",
    "perm = perm.reset_index(drop=True)\n",
    "orig = pd.read_excel(f\"{p}{stage}/pestimates_sentiment_b1b2p_country.xlsx\")\n",
    "orig_strong = orig[cols_strong]\n",
    "orig_neither = orig[cols_neither]\n",
    "\n",
    "df_strong = p_values(orig_strong, perm_strong, cols_strong)\n",
    "df_neither = p_values(orig_neither, perm_neither, cols_neither)\n",
    "df = pd.concat([df_strong, df_neither], axis = 1)\n",
    "df.to_excel(f\"{p}{stage}/agg_pvalues_sentiments_b1b2p.xlsx\", index=False)"
   ]
  },
  {
   "cell_type": "code",
   "execution_count": 5,
   "id": "0c21d40b",
   "metadata": {},
   "outputs": [
    {
     "name": "stderr",
     "output_type": "stream",
     "text": [
      "C:\\Users\\Dell\\AppData\\Local\\Temp\\ipykernel_38336\\2735045837.py:33: FutureWarning: The frame.append method is deprecated and will be removed from pandas in a future version. Use pandas.concat instead.\n",
      "  b = b_pos.append(b_neg).reset_index(drop=True).reset_index()\n"
     ]
    }
   ],
   "source": [
    "country = 'joint'\n",
    "stage = 'stage1_2'\n",
    "p = f\"../../data/04-analysis/{country}/\"\n",
    "perm = pd.DataFrame()\n",
    "for i in range(1, 1001):\n",
    "    df = pd.read_excel(f\"{p}{stage}/pestimates/all_country_b1b2_{i}.xlsx\")\n",
    "    perm = pd.concat([perm, df])\n",
    "    \n",
    "cols = [col for col in perm.columns]\n",
    "    \n",
    "perm = perm.reset_index(drop=True)\n",
    "orig = pd.read_excel(f\"{p}{stage}/pestimates_sentiment_b1b2_all_country.xlsx\")\n",
    "\n",
    "df = p_values(orig, perm, cols)\n",
    "\n",
    "df.to_excel(f\"{p}{stage}/agg_pvalues_sentiment_b1b2_all.xlsx\", index=False)"
   ]
  },
  {
   "cell_type": "code",
   "execution_count": 15,
   "id": "b78dabed",
   "metadata": {},
   "outputs": [
    {
     "name": "stderr",
     "output_type": "stream",
     "text": [
      "C:\\Users\\Dell\\AppData\\Local\\Temp\\ipykernel_15092\\2735045837.py:33: FutureWarning: The frame.append method is deprecated and will be removed from pandas in a future version. Use pandas.concat instead.\n",
      "  b = b_pos.append(b_neg).reset_index(drop=True).reset_index()\n"
     ]
    }
   ],
   "source": [
    "country = 'KE'\n",
    "stage = 'stage1_2'\n",
    "p = f\"../../data/04-analysis/{country}/\"\n",
    "perm = pd.DataFrame()\n",
    "for i in range(0, 4):\n",
    "    df = pd.read_excel(f\"{p}{stage}/pestimates_sentiment_b1_all_{i}.xlsx\")\n",
    "    perm = pd.concat([perm, df])\n",
    "    \n",
    "cols = [col for col in perm.columns]\n",
    "    \n",
    "perm = perm.reset_index(drop=True)\n",
    "orig = pd.read_excel(f\"{p}{stage}/pestimates_sentiment_b1_all.xlsx\")\n",
    "\n",
    "df = p_values(orig, perm, cols)\n",
    "\n",
    "df.to_excel(f\"{p}{stage}/agg_pvalues_sentiment_all.xlsx\", index=False)"
   ]
  },
  {
   "cell_type": "code",
   "execution_count": 9,
   "id": "3b2a0657",
   "metadata": {},
   "outputs": [
    {
     "name": "stderr",
     "output_type": "stream",
     "text": [
      "C:\\Users\\Dell\\AppData\\Local\\Temp\\ipykernel_15092\\2735045837.py:33: FutureWarning: The frame.append method is deprecated and will be removed from pandas in a future version. Use pandas.concat instead.\n",
      "  b = b_pos.append(b_neg).reset_index(drop=True).reset_index()\n"
     ]
    }
   ],
   "source": [
    "country = 'joint'\n",
    "stage = 'stage5_6'\n",
    "p = f\"../../data/04-analysis/{country}/\"\n",
    "perm = pd.DataFrame()\n",
    "for i in range(1, 1001):\n",
    "    df = pd.read_excel(f\"{p}{stage}/pestimates/all_country_{i}.xlsx\")\n",
    "    perm = pd.concat([perm, df])\n",
    "    \n",
    "cols = [col for col in perm.columns]\n",
    "    \n",
    "perm = perm.reset_index(drop=True)\n",
    "orig = pd.read_excel(f\"{p}{stage}/pestimates_sentiment_b1_all_country.xlsx\")\n",
    "\n",
    "df = p_values(orig, perm, cols)\n",
    "\n",
    "df.to_excel(f\"{p}{stage}/agg_pvalues_sentiment_all.xlsx\", index=False)"
   ]
  },
  {
   "cell_type": "code",
   "execution_count": 6,
   "id": "249717ea",
   "metadata": {},
   "outputs": [
    {
     "name": "stderr",
     "output_type": "stream",
     "text": [
      "C:\\Users\\Dell\\AppData\\Local\\Temp\\ipykernel_15092\\2735045837.py:33: FutureWarning: The frame.append method is deprecated and will be removed from pandas in a future version. Use pandas.concat instead.\n",
      "  b = b_pos.append(b_neg).reset_index(drop=True).reset_index()\n",
      "C:\\Users\\Dell\\AppData\\Local\\Temp\\ipykernel_15092\\2735045837.py:33: FutureWarning: The frame.append method is deprecated and will be removed from pandas in a future version. Use pandas.concat instead.\n",
      "  b = b_pos.append(b_neg).reset_index(drop=True).reset_index()\n"
     ]
    }
   ],
   "source": [
    "country = 'joint'\n",
    "stage = 'stage5_6'\n",
    "p = f\"../../data/04-analysis/{country}/\"\n",
    "perm = pd.DataFrame()\n",
    "for i in range(1, 1001):\n",
    "    df = pd.read_excel(f\"{p}{stage}/pestimates/country_{i}.xlsx\")\n",
    "    perm = pd.concat([perm, df])\n",
    "    \n",
    "cols_strong = ([col for col in perm.columns if 'strong_' in col] + \n",
    "               [col for col in perm.columns if 'weak_' in col])\n",
    "cols_neither = ([col for col in perm.columns if 'neither_' in col])\n",
    "perm_strong = perm[cols_strong]\n",
    "perm_neither = perm[cols_neither]\n",
    "    \n",
    "perm = perm.reset_index(drop=True)\n",
    "orig = pd.read_excel(f\"{p}{stage}/pestimates_sentiment_b1_country.xlsx\")\n",
    "orig_strong = orig[cols_strong]\n",
    "orig_neither = orig[cols_neither]\n",
    "\n",
    "df_strong = p_values(orig_strong, perm_strong, cols_strong)\n",
    "df_neither = p_values(orig_neither, perm_neither, cols_neither)\n",
    "df = pd.concat([df_strong, df_neither], axis = 1)\n",
    "df.to_excel(f\"{p}{stage}/agg_pvalues_sentiments_b1.xlsx\", index=False)"
   ]
  },
  {
   "cell_type": "code",
   "execution_count": 7,
   "id": "8045002f",
   "metadata": {},
   "outputs": [
    {
     "name": "stderr",
     "output_type": "stream",
     "text": [
      "C:\\Users\\Dell\\AppData\\Local\\Temp\\ipykernel_18872\\2735045837.py:33: FutureWarning: The frame.append method is deprecated and will be removed from pandas in a future version. Use pandas.concat instead.\n",
      "  b = b_pos.append(b_neg).reset_index(drop=True).reset_index()\n",
      "C:\\Users\\Dell\\AppData\\Local\\Temp\\ipykernel_18872\\2735045837.py:33: FutureWarning: The frame.append method is deprecated and will be removed from pandas in a future version. Use pandas.concat instead.\n",
      "  b = b_pos.append(b_neg).reset_index(drop=True).reset_index()\n"
     ]
    }
   ],
   "source": [
    "country = 'KE'\n",
    "stage = 'stage5_6'\n",
    "p = f\"../../data/04-analysis/{country}/\"\n",
    "perm = pd.DataFrame()\n",
    "for i in range(0, 4):\n",
    "    df = pd.read_excel(f\"{p}{stage}/pestimates_sentiment_b1_{i}.xlsx\")\n",
    "    perm = pd.concat([perm, df])\n",
    "    \n",
    "cols_strong = ([col for col in perm.columns if 'strong_' in col] + \n",
    "               [col for col in perm.columns if 'weak_' in col])\n",
    "cols_neither = ([col for col in perm.columns if 'neither_' in col])\n",
    "perm_strong = perm[cols_strong]\n",
    "perm_neither = perm[cols_neither]\n",
    "    \n",
    "perm = perm.reset_index(drop=True)\n",
    "orig = pd.read_excel(f\"{p}{stage}/pestimates_sentiment_b1.xlsx\")\n",
    "orig_strong = orig[cols_strong]\n",
    "orig_neither = orig[cols_neither]\n",
    "\n",
    "df_strong = p_values(orig_strong, perm_strong, cols_strong)\n",
    "df_neither = p_values(orig_neither, perm_neither, cols_neither)\n",
    "df = pd.concat([df_strong, df_neither], axis = 1)\n",
    "df.to_excel(f\"{p}{stage}/agg_pvalues_sentiments_b1.xlsx\", index=False)"
   ]
  },
  {
   "cell_type": "code",
   "execution_count": 5,
   "id": "11c6d97d",
   "metadata": {},
   "outputs": [
    {
     "name": "stderr",
     "output_type": "stream",
     "text": [
      "C:\\Users\\Dell\\AppData\\Local\\Temp\\ipykernel_19600\\2735045837.py:33: FutureWarning: The frame.append method is deprecated and will be removed from pandas in a future version. Use pandas.concat instead.\n",
      "  b = b_pos.append(b_neg).reset_index(drop=True).reset_index()\n",
      "C:\\Users\\Dell\\AppData\\Local\\Temp\\ipykernel_19600\\2735045837.py:33: FutureWarning: The frame.append method is deprecated and will be removed from pandas in a future version. Use pandas.concat instead.\n",
      "  b = b_pos.append(b_neg).reset_index(drop=True).reset_index()\n"
     ]
    }
   ],
   "source": [
    "country = 'KE'\n",
    "stage = 'stage1_2'\n",
    "p = f\"../../data/04-analysis/{country}/\"\n",
    "perm = pd.DataFrame()\n",
    "for i in range(0, 4):\n",
    "    df = pd.read_excel(f\"{p}{stage}/pestimates_b1_b2_p{i}.xlsx\")\n",
    "    perm = pd.concat([perm, df])\n",
    "    \n",
    "cols_strong = ([col for col in perm.columns if 'strong_' in col] + \n",
    "               [col for col in perm.columns if 'weak_' in col])\n",
    "cols_neither = ([col for col in perm.columns if 'neither_' in col])\n",
    "perm_strong = perm[cols_strong]\n",
    "perm_neither = perm[cols_neither]\n",
    "    \n",
    "perm = perm.reset_index(drop=True)\n",
    "orig = pd.read_excel(f\"{p}{stage}/pestimates_b1_b2_p.xlsx\")\n",
    "orig_strong = orig[cols_strong]\n",
    "orig_neither = orig[cols_neither]\n",
    "\n",
    "df_strong = p_values(orig_strong, perm_strong, cols_strong)\n",
    "df_neither = p_values(orig_neither, perm_neither, cols_neither)\n",
    "df = pd.concat([df_strong, df_neither], axis = 1)\n",
    "df.to_excel(f\"{p}{stage}/agg_pvalues_b1_b2_p.xlsx\", index=False)"
   ]
  },
  {
   "cell_type": "code",
   "execution_count": 4,
   "id": "7e602225",
   "metadata": {},
   "outputs": [
    {
     "name": "stderr",
     "output_type": "stream",
     "text": [
      "C:\\Users\\Dell\\AppData\\Local\\Temp\\ipykernel_19600\\2735045837.py:33: FutureWarning: The frame.append method is deprecated and will be removed from pandas in a future version. Use pandas.concat instead.\n",
      "  b = b_pos.append(b_neg).reset_index(drop=True).reset_index()\n"
     ]
    }
   ],
   "source": [
    "country = 'SA'\n",
    "stage = 'stage1_2'\n",
    "p = f\"../../data/04-analysis/{country}/\"\n",
    "perm = pd.DataFrame()\n",
    "for i in range(0, 4):\n",
    "    df = pd.read_excel(f\"{p}{stage}/pestimates_b1_b2_p_all{i}.xlsx\")\n",
    "    perm = pd.concat([perm, df])\n",
    "    \n",
    "cols = [col for col in perm.columns]\n",
    "    \n",
    "perm = perm.reset_index(drop=True)\n",
    "orig = pd.read_excel(f\"{p}{stage}/pestimates_b1_b2_p_all.xlsx\")\n",
    "\n",
    "df = p_values(orig, perm, cols)\n",
    "\n",
    "df.to_excel(f\"{p}{stage}/agg_pvalues_b1_b2_p_all.xlsx\", index=False)"
   ]
  },
  {
   "cell_type": "code",
   "execution_count": 22,
   "id": "d8e5fe46",
   "metadata": {},
   "outputs": [
    {
     "name": "stderr",
     "output_type": "stream",
     "text": [
      "C:\\Users\\Dell\\AppData\\Local\\Temp\\ipykernel_25112\\2735045837.py:33: FutureWarning: The frame.append method is deprecated and will be removed from pandas in a future version. Use pandas.concat instead.\n",
      "  b = b_pos.append(b_neg).reset_index(drop=True).reset_index()\n",
      "C:\\Users\\Dell\\AppData\\Local\\Temp\\ipykernel_25112\\2735045837.py:33: FutureWarning: The frame.append method is deprecated and will be removed from pandas in a future version. Use pandas.concat instead.\n",
      "  b = b_pos.append(b_neg).reset_index(drop=True).reset_index()\n"
     ]
    }
   ],
   "source": [
    "country = 'KE'\n",
    "stage = 'stage5_6'\n",
    "p = f\"../../data/04-analysis/{country}/\"\n",
    "perm = pd.DataFrame()\n",
    "for i in range(0, 4):\n",
    "    df = pd.read_excel(f\"{p}{stage}/pestimates_b1_{i}.xlsx\")\n",
    "    perm = pd.concat([perm, df])\n",
    "    \n",
    "cols_strong = ([col for col in perm.columns if 'strong_' in col] + \n",
    "               [col for col in perm.columns if 'weak_' in col])\n",
    "cols_neither = ([col for col in perm.columns if 'neither_' in col])\n",
    "perm_strong = perm[cols_strong]\n",
    "perm_neither = perm[cols_neither]\n",
    "    \n",
    "perm = perm.reset_index(drop=True)\n",
    "orig = pd.read_excel(f\"{p}{stage}/pestimates_b1.xlsx\")\n",
    "orig_strong = orig[cols_strong]\n",
    "orig_neither = orig[cols_neither]\n",
    "\n",
    "df_strong = p_values(orig_strong, perm_strong, cols_strong)\n",
    "df_neither = p_values(orig_neither, perm_neither, cols_neither)\n",
    "df = pd.concat([df_strong, df_neither], axis = 1)\n",
    "df.to_excel(f\"{p}{stage}/agg_pvalues_b1.xlsx\", index=False)"
   ]
  },
  {
   "cell_type": "code",
   "execution_count": 20,
   "id": "8a5ded27",
   "metadata": {},
   "outputs": [
    {
     "name": "stderr",
     "output_type": "stream",
     "text": [
      "C:\\Users\\Dell\\AppData\\Local\\Temp\\ipykernel_25112\\2735045837.py:33: FutureWarning: The frame.append method is deprecated and will be removed from pandas in a future version. Use pandas.concat instead.\n",
      "  b = b_pos.append(b_neg).reset_index(drop=True).reset_index()\n"
     ]
    }
   ],
   "source": [
    "country = 'KE'\n",
    "stage = 'stage5_6'\n",
    "p = f\"../../data/04-analysis/{country}/\"\n",
    "perm = pd.DataFrame()\n",
    "for i in range(0, 4):\n",
    "    df = pd.read_excel(f\"{p}{stage}/pestimates_b1_all{i}.xlsx\")\n",
    "    perm = pd.concat([perm, df])\n",
    "    \n",
    "cols = [col for col in perm.columns]\n",
    "    \n",
    "perm = perm.reset_index(drop=True)\n",
    "orig = pd.read_excel(f\"{p}{stage}/pestimates_b1_all.xlsx\")\n",
    "\n",
    "df = p_values(orig, perm, cols)\n",
    "\n",
    "df.to_excel(f\"{p}{stage}/agg_pvalues_b1_all.xlsx\", index=False)"
   ]
  },
  {
   "cell_type": "code",
   "execution_count": 5,
   "id": "0f8dc3be",
   "metadata": {},
   "outputs": [
    {
     "data": {
      "text/html": [
       "<div>\n",
       "<style scoped>\n",
       "    .dataframe tbody tr th:only-of-type {\n",
       "        vertical-align: middle;\n",
       "    }\n",
       "\n",
       "    .dataframe tbody tr th {\n",
       "        vertical-align: top;\n",
       "    }\n",
       "\n",
       "    .dataframe thead th {\n",
       "        text-align: right;\n",
       "    }\n",
       "</style>\n",
       "<table border=\"1\" class=\"dataframe\">\n",
       "  <thead>\n",
       "    <tr style=\"text-align: right;\">\n",
       "      <th></th>\n",
       "      <th>strong_ver_rt</th>\n",
       "      <th>strong_ver_rt_f</th>\n",
       "      <th>strong_true_rt</th>\n",
       "      <th>strong_true_rt_f</th>\n",
       "      <th>strong_n_posts_rt</th>\n",
       "      <th>strong_n_posts_rt_f</th>\n",
       "      <th>strong_ver_no_rt</th>\n",
       "      <th>strong_ver_no_rt_f</th>\n",
       "      <th>strong_true_no_rt</th>\n",
       "      <th>strong_true_no_rt_f</th>\n",
       "      <th>...</th>\n",
       "      <th>neither_true_rt</th>\n",
       "      <th>neither_true_rt_f</th>\n",
       "      <th>neither_n_posts_rt</th>\n",
       "      <th>neither_n_posts_rt_f</th>\n",
       "      <th>neither_ver_no_rt</th>\n",
       "      <th>neither_ver_no_rt_f</th>\n",
       "      <th>neither_true_no_rt</th>\n",
       "      <th>neither_true_no_rt_f</th>\n",
       "      <th>neither_n_posts_no_rt</th>\n",
       "      <th>neither_n_posts_no_rt_f</th>\n",
       "    </tr>\n",
       "  </thead>\n",
       "  <tbody>\n",
       "    <tr>\n",
       "      <th>0</th>\n",
       "      <td>0.558</td>\n",
       "      <td>0.499</td>\n",
       "      <td>0.516</td>\n",
       "      <td>0.533</td>\n",
       "      <td>0.315</td>\n",
       "      <td>0.37</td>\n",
       "      <td>0.281</td>\n",
       "      <td>0.463</td>\n",
       "      <td>0.436</td>\n",
       "      <td>0.389</td>\n",
       "      <td>...</td>\n",
       "      <td>0.023</td>\n",
       "      <td>0.005</td>\n",
       "      <td>0.217</td>\n",
       "      <td>0.127</td>\n",
       "      <td>0.626</td>\n",
       "      <td>0.218</td>\n",
       "      <td>0.197</td>\n",
       "      <td>0.605</td>\n",
       "      <td>0.393</td>\n",
       "      <td>0.611</td>\n",
       "    </tr>\n",
       "  </tbody>\n",
       "</table>\n",
       "<p>1 rows × 36 columns</p>\n",
       "</div>"
      ],
      "text/plain": [
       "0 strong_ver_rt strong_ver_rt_f strong_true_rt strong_true_rt_f  \\\n",
       "0         0.558           0.499          0.516            0.533   \n",
       "\n",
       "0 strong_n_posts_rt strong_n_posts_rt_f strong_ver_no_rt strong_ver_no_rt_f  \\\n",
       "0             0.315                0.37            0.281              0.463   \n",
       "\n",
       "0 strong_true_no_rt strong_true_no_rt_f  ... neither_true_rt  \\\n",
       "0             0.436               0.389  ...           0.023   \n",
       "\n",
       "0 neither_true_rt_f neither_n_posts_rt neither_n_posts_rt_f neither_ver_no_rt  \\\n",
       "0             0.005              0.217                0.127             0.626   \n",
       "\n",
       "0 neither_ver_no_rt_f neither_true_no_rt neither_true_no_rt_f  \\\n",
       "0               0.218              0.197                0.605   \n",
       "\n",
       "0 neither_n_posts_no_rt neither_n_posts_no_rt_f  \n",
       "0                 0.393                   0.611  \n",
       "\n",
       "[1 rows x 36 columns]"
      ]
     },
     "execution_count": 5,
     "metadata": {},
     "output_type": "execute_result"
    }
   ],
   "source": [
    "df"
   ]
  },
  {
   "cell_type": "code",
   "execution_count": 9,
   "id": "2c3298da",
   "metadata": {},
   "outputs": [
    {
     "name": "stderr",
     "output_type": "stream",
     "text": [
      "C:\\Users\\Dell\\AppData\\Local\\Temp\\ipykernel_20544\\2735045837.py:33: FutureWarning: The frame.append method is deprecated and will be removed from pandas in a future version. Use pandas.concat instead.\n",
      "  b = b_pos.append(b_neg).reset_index(drop=True).reset_index()\n",
      "C:\\Users\\Dell\\AppData\\Local\\Temp\\ipykernel_20544\\2735045837.py:33: FutureWarning: The frame.append method is deprecated and will be removed from pandas in a future version. Use pandas.concat instead.\n",
      "  b = b_pos.append(b_neg).reset_index(drop=True).reset_index()\n"
     ]
    }
   ],
   "source": [
    "country = 'SA'\n",
    "stage = 'stage1_2'\n",
    "p = f\"../../data/04-analysis/{country}/\"\n",
    "perm = pd.DataFrame()\n",
    "for i in range(0, 4):\n",
    "    df = pd.read_excel(f\"{p}{stage}/pestimates_b1_b2_{i}.xlsx\")\n",
    "    perm = pd.concat([perm, df])\n",
    "    \n",
    "cols_strong = ([col for col in perm.columns if 'strong_' in col] + \n",
    "               [col for col in perm.columns if 'weak_' in col])\n",
    "cols_neither = ([col for col in perm.columns if 'neither_' in col])\n",
    "perm_strong = perm[cols_strong]\n",
    "perm_neither = perm[cols_neither]\n",
    "    \n",
    "perm = perm.reset_index(drop=True)\n",
    "orig = pd.read_excel(f\"{p}{stage}/pestimates_b1_b2.xlsx\")\n",
    "orig_strong = orig[cols_strong]\n",
    "orig_neither = orig[cols_neither]\n",
    "\n",
    "df_strong = p_values(orig_strong, perm_strong, cols_strong)\n",
    "df_neither = p_values(orig_neither, perm_neither, cols_neither)\n",
    "df = pd.concat([df_strong, df_neither], axis = 1)\n",
    "df.to_excel(f\"{p}{stage}/agg_pvalues_b1_b2.xlsx\", index=False)"
   ]
  },
  {
   "cell_type": "code",
   "execution_count": 10,
   "id": "f90930a6",
   "metadata": {},
   "outputs": [
    {
     "data": {
      "text/html": [
       "<div>\n",
       "<style scoped>\n",
       "    .dataframe tbody tr th:only-of-type {\n",
       "        vertical-align: middle;\n",
       "    }\n",
       "\n",
       "    .dataframe tbody tr th {\n",
       "        vertical-align: top;\n",
       "    }\n",
       "\n",
       "    .dataframe thead th {\n",
       "        text-align: right;\n",
       "    }\n",
       "</style>\n",
       "<table border=\"1\" class=\"dataframe\">\n",
       "  <thead>\n",
       "    <tr style=\"text-align: right;\">\n",
       "      <th></th>\n",
       "      <th>strong_ver_rt</th>\n",
       "      <th>strong_ver_rt_f</th>\n",
       "      <th>strong_true_rt</th>\n",
       "      <th>strong_true_rt_f</th>\n",
       "      <th>strong_n_posts_rt</th>\n",
       "      <th>strong_n_posts_rt_f</th>\n",
       "      <th>strong_ver_no_rt</th>\n",
       "      <th>strong_ver_no_rt_f</th>\n",
       "      <th>strong_true_no_rt</th>\n",
       "      <th>strong_true_no_rt_f</th>\n",
       "      <th>...</th>\n",
       "      <th>neither_true_rt</th>\n",
       "      <th>neither_true_rt_f</th>\n",
       "      <th>neither_n_posts_rt</th>\n",
       "      <th>neither_n_posts_rt_f</th>\n",
       "      <th>neither_ver_no_rt</th>\n",
       "      <th>neither_ver_no_rt_f</th>\n",
       "      <th>neither_true_no_rt</th>\n",
       "      <th>neither_true_no_rt_f</th>\n",
       "      <th>neither_n_posts_no_rt</th>\n",
       "      <th>neither_n_posts_no_rt_f</th>\n",
       "    </tr>\n",
       "  </thead>\n",
       "  <tbody>\n",
       "    <tr>\n",
       "      <th>0</th>\n",
       "      <td>0.998</td>\n",
       "      <td>1.0</td>\n",
       "      <td>1.0</td>\n",
       "      <td>1.0</td>\n",
       "      <td>0.997</td>\n",
       "      <td>1.0</td>\n",
       "      <td>0.021</td>\n",
       "      <td>0.998</td>\n",
       "      <td>0.005</td>\n",
       "      <td>0.001</td>\n",
       "      <td>...</td>\n",
       "      <td>0.005</td>\n",
       "      <td>0.009</td>\n",
       "      <td>0.717</td>\n",
       "      <td>0.714</td>\n",
       "      <td>0.203</td>\n",
       "      <td>0.306</td>\n",
       "      <td>0.159</td>\n",
       "      <td>0.313</td>\n",
       "      <td>0.124</td>\n",
       "      <td>0.117</td>\n",
       "    </tr>\n",
       "  </tbody>\n",
       "</table>\n",
       "<p>1 rows × 36 columns</p>\n",
       "</div>"
      ],
      "text/plain": [
       "0 strong_ver_rt strong_ver_rt_f strong_true_rt strong_true_rt_f  \\\n",
       "0         0.998             1.0            1.0              1.0   \n",
       "\n",
       "0 strong_n_posts_rt strong_n_posts_rt_f strong_ver_no_rt strong_ver_no_rt_f  \\\n",
       "0             0.997                 1.0            0.021              0.998   \n",
       "\n",
       "0 strong_true_no_rt strong_true_no_rt_f  ... neither_true_rt  \\\n",
       "0             0.005               0.001  ...           0.005   \n",
       "\n",
       "0 neither_true_rt_f neither_n_posts_rt neither_n_posts_rt_f neither_ver_no_rt  \\\n",
       "0             0.009              0.717                0.714             0.203   \n",
       "\n",
       "0 neither_ver_no_rt_f neither_true_no_rt neither_true_no_rt_f  \\\n",
       "0               0.306              0.159                0.313   \n",
       "\n",
       "0 neither_n_posts_no_rt neither_n_posts_no_rt_f  \n",
       "0                 0.124                   0.117  \n",
       "\n",
       "[1 rows x 36 columns]"
      ]
     },
     "execution_count": 10,
     "metadata": {},
     "output_type": "execute_result"
    }
   ],
   "source": [
    "df"
   ]
  },
  {
   "cell_type": "code",
   "execution_count": 11,
   "id": "6dd3e47b",
   "metadata": {},
   "outputs": [
    {
     "name": "stderr",
     "output_type": "stream",
     "text": [
      "C:\\Users\\Dell\\AppData\\Local\\Temp\\ipykernel_20544\\2735045837.py:33: FutureWarning: The frame.append method is deprecated and will be removed from pandas in a future version. Use pandas.concat instead.\n",
      "  b = b_pos.append(b_neg).reset_index(drop=True).reset_index()\n"
     ]
    }
   ],
   "source": [
    "country = 'KE'\n",
    "stage = 'stage1_2'\n",
    "p = f\"../../data/04-analysis/{country}/\"\n",
    "perm = pd.DataFrame()\n",
    "for i in range(0, 4):\n",
    "    df = pd.read_excel(f\"{p}{stage}/pestimates_b1_b2_all{i}.xlsx\")\n",
    "    perm = pd.concat([perm, df])\n",
    "    \n",
    "cols = [col for col in perm.columns]\n",
    "    \n",
    "perm = perm.reset_index(drop=True)\n",
    "orig = pd.read_excel(f\"{p}{stage}/pestimates_b1_b2_all.xlsx\")\n",
    "\n",
    "df = p_values(orig, perm, cols)\n",
    "\n",
    "df.to_excel(f\"{p}{stage}/agg_pvalues_b1_b2_all.xlsx\", index=False)"
   ]
  },
  {
   "cell_type": "code",
   "execution_count": 9,
   "id": "f7fd6370",
   "metadata": {},
   "outputs": [
    {
     "name": "stderr",
     "output_type": "stream",
     "text": [
      "C:\\Users\\Dell\\AppData\\Local\\Temp\\ipykernel_28352\\2735045837.py:33: FutureWarning: The frame.append method is deprecated and will be removed from pandas in a future version. Use pandas.concat instead.\n",
      "  b = b_pos.append(b_neg).reset_index(drop=True).reset_index()\n",
      "C:\\Users\\Dell\\AppData\\Local\\Temp\\ipykernel_28352\\2735045837.py:33: FutureWarning: The frame.append method is deprecated and will be removed from pandas in a future version. Use pandas.concat instead.\n",
      "  b = b_pos.append(b_neg).reset_index(drop=True).reset_index()\n"
     ]
    }
   ],
   "source": [
    "country = 'KE'\n",
    "stage = 'stage6'\n",
    "p = f\"../../data/04-analysis/{country}/\"\n",
    "perm = pd.DataFrame()\n",
    "for i in range(0, 4):\n",
    "    df = pd.read_excel(f\"{p}{stage}/pestimates_sentiment{i}.xlsx\")\n",
    "    perm = pd.concat([perm, df])\n",
    "    \n",
    "cols_strong = ([col for col in perm.columns if 'strong_' in col] + \n",
    "               [col for col in perm.columns if 'weak_' in col])\n",
    "cols_neither = ([col for col in perm.columns if 'neither_' in col])\n",
    "perm_strong = perm[cols_strong]\n",
    "perm_neither = perm[cols_neither]\n",
    "    \n",
    "perm = perm.reset_index(drop=True)\n",
    "orig = pd.read_excel(f\"{p}{stage}/pestimates_sentiment.xlsx\")\n",
    "orig_strong = orig[cols_strong]\n",
    "orig_neither = orig[cols_neither]\n",
    "\n",
    "df_strong = p_values(orig_strong, perm_strong, cols_strong)\n",
    "df_neither = p_values(orig_neither, perm_neither, cols_neither)\n",
    "df = pd.concat([df_strong, df_neither], axis = 1)\n",
    "df.to_excel(f\"{p}{stage}/agg_pvalues_sentiment.xlsx\", index=False)"
   ]
  },
  {
   "cell_type": "code",
   "execution_count": 11,
   "id": "e08f8a1a",
   "metadata": {},
   "outputs": [
    {
     "name": "stderr",
     "output_type": "stream",
     "text": [
      "C:\\Users\\Dell\\AppData\\Local\\Temp\\ipykernel_24172\\2735045837.py:33: FutureWarning: The frame.append method is deprecated and will be removed from pandas in a future version. Use pandas.concat instead.\n",
      "  b = b_pos.append(b_neg).reset_index(drop=True).reset_index()\n",
      "C:\\Users\\Dell\\AppData\\Local\\Temp\\ipykernel_24172\\2735045837.py:33: FutureWarning: The frame.append method is deprecated and will be removed from pandas in a future version. Use pandas.concat instead.\n",
      "  b = b_pos.append(b_neg).reset_index(drop=True).reset_index()\n"
     ]
    }
   ],
   "source": [
    "country = 'SA'\n",
    "stage = 'stage1'\n",
    "p = f\"../../data/04-analysis/{country}/\"\n",
    "perm = pd.DataFrame()\n",
    "for i in range(0, 4):\n",
    "    df = pd.read_excel(f\"{p}{stage}/pestimates_batch2_{i}.xlsx\")\n",
    "    perm = pd.concat([perm, df])\n",
    "    \n",
    "cols_strong = ([col for col in perm.columns if 'strong_' in col] + \n",
    "               [col for col in perm.columns if 'weak_' in col])\n",
    "cols_neither = ([col for col in perm.columns if 'neither_' in col])\n",
    "perm_strong = perm[cols_strong]\n",
    "perm_neither = perm[cols_neither]\n",
    "    \n",
    "perm = perm.reset_index(drop=True)\n",
    "orig = pd.read_excel(f\"{p}{stage}/pestimates_batch2.xlsx\")\n",
    "orig_strong = orig[cols_strong]\n",
    "orig_neither = orig[cols_neither]\n",
    "\n",
    "df_strong = p_values(orig_strong, perm_strong, cols_strong)\n",
    "df_neither = p_values(orig_neither, perm_neither, cols_neither)\n",
    "df = pd.concat([df_strong, df_neither], axis = 1)\n",
    "df.to_excel(f\"{p}{stage}/agg_pvalues_batch2.xlsx\", index=False)"
   ]
  },
  {
   "cell_type": "code",
   "execution_count": 5,
   "id": "c86def33",
   "metadata": {},
   "outputs": [
    {
     "name": "stderr",
     "output_type": "stream",
     "text": [
      "C:\\Users\\Dell\\AppData\\Local\\Temp\\ipykernel_21448\\2735045837.py:33: FutureWarning: The frame.append method is deprecated and will be removed from pandas in a future version. Use pandas.concat instead.\n",
      "  b = b_pos.append(b_neg).reset_index(drop=True).reset_index()\n",
      "C:\\Users\\Dell\\AppData\\Local\\Temp\\ipykernel_21448\\2735045837.py:33: FutureWarning: The frame.append method is deprecated and will be removed from pandas in a future version. Use pandas.concat instead.\n",
      "  b = b_pos.append(b_neg).reset_index(drop=True).reset_index()\n"
     ]
    }
   ],
   "source": [
    "country = 'KE'\n",
    "stage = 'stage6'\n",
    "p = f\"../../data/04-analysis/{country}/\"\n",
    "perm = pd.DataFrame()\n",
    "for i in range(0, 4):\n",
    "    df = pd.read_excel(f\"{p}{stage}/pestimates_endline{i}.xlsx\")\n",
    "    perm = pd.concat([perm, df])\n",
    "    \n",
    "cols_strong = ([col for col in perm.columns if 'strong_' in col] + \n",
    "               [col for col in perm.columns if 'weak_' in col])\n",
    "cols_neither = ([col for col in perm.columns if 'neither_' in col])\n",
    "perm_strong = perm[cols_strong]\n",
    "perm_neither = perm[cols_neither]\n",
    "    \n",
    "perm = perm.reset_index(drop=True)\n",
    "orig = pd.read_excel(f\"{p}{stage}/pestimates_endline.xlsx\")\n",
    "orig_strong = orig[cols_strong]\n",
    "orig_neither = orig[cols_neither]\n",
    "\n",
    "df_strong = p_values(orig_strong, perm_strong, cols_strong)\n",
    "df_neither = p_values(orig_neither, perm_neither, cols_neither)\n",
    "df = pd.concat([df_strong, df_neither], axis = 1)\n",
    "df.to_excel(f\"{p}{stage}/agg_pvalues_endline.xlsx\", index=False)"
   ]
  },
  {
   "cell_type": "code",
   "execution_count": 8,
   "id": "9cc5eeac",
   "metadata": {},
   "outputs": [
    {
     "name": "stderr",
     "output_type": "stream",
     "text": [
      "C:\\Users\\Dell\\AppData\\Local\\Temp\\ipykernel_21448\\2735045837.py:33: FutureWarning: The frame.append method is deprecated and will be removed from pandas in a future version. Use pandas.concat instead.\n",
      "  b = b_pos.append(b_neg).reset_index(drop=True).reset_index()\n",
      "C:\\Users\\Dell\\AppData\\Local\\Temp\\ipykernel_21448\\2735045837.py:33: FutureWarning: The frame.append method is deprecated and will be removed from pandas in a future version. Use pandas.concat instead.\n",
      "  b = b_pos.append(b_neg).reset_index(drop=True).reset_index()\n"
     ]
    }
   ],
   "source": [
    "country = 'SA'\n",
    "stage = 'baseline'\n",
    "p = f\"../../data/04-analysis/{country}/\"\n",
    "perm = pd.DataFrame()\n",
    "for i in range(0, 4):\n",
    "    df = pd.read_excel(f\"{p}{stage}/pestimates_{i}.xlsx\")\n",
    "    perm = pd.concat([perm, df])\n",
    "    \n",
    "cols_strong = ([col for col in perm.columns if 'strong_' in col] + \n",
    "               [col for col in perm.columns if 'weak_' in col])\n",
    "cols_neither = ([col for col in perm.columns if 'neither_' in col])\n",
    "perm_strong = perm[cols_strong]\n",
    "perm_neither = perm[cols_neither]\n",
    "    \n",
    "perm = perm.reset_index(drop=True)\n",
    "orig = pd.read_excel(f\"{p}{stage}/pestimates.xlsx\")\n",
    "orig_strong = orig[cols_strong]\n",
    "orig_neither = orig[cols_neither]\n",
    "\n",
    "df_strong = p_values(orig_strong, perm_strong, cols_strong)\n",
    "df_neither = p_values(orig_neither, perm_neither, cols_neither)\n",
    "df = pd.concat([df_strong, df_neither], axis = 1)\n",
    "df.to_excel(f\"{p}{stage}/agg_pvalues_endline.xlsx\", index=False)"
   ]
  },
  {
   "cell_type": "code",
   "execution_count": 12,
   "id": "f3f54f56",
   "metadata": {},
   "outputs": [
    {
     "name": "stderr",
     "output_type": "stream",
     "text": [
      "C:\\Users\\Dell\\AppData\\Local\\Temp\\ipykernel_21448\\2735045837.py:33: FutureWarning: The frame.append method is deprecated and will be removed from pandas in a future version. Use pandas.concat instead.\n",
      "  b = b_pos.append(b_neg).reset_index(drop=True).reset_index()\n",
      "C:\\Users\\Dell\\AppData\\Local\\Temp\\ipykernel_21448\\2735045837.py:33: FutureWarning: The frame.append method is deprecated and will be removed from pandas in a future version. Use pandas.concat instead.\n",
      "  b = b_pos.append(b_neg).reset_index(drop=True).reset_index()\n"
     ]
    }
   ],
   "source": [
    "country = 'KE'\n",
    "stage = 'AC'\n",
    "p = f\"../../data/04-analysis/{country}/\"\n",
    "perm = pd.DataFrame()\n",
    "for i in range(0, 4):\n",
    "    df = pd.read_excel(f\"{p}{stage}/pestimates_{i}.xlsx\")\n",
    "    perm = pd.concat([perm, df])\n",
    "    \n",
    "cols_strong = ([col for col in perm.columns if 'strong_' in col] + \n",
    "               [col for col in perm.columns if 'weak_' in col])\n",
    "cols_neither = ([col for col in perm.columns if 'neither_' in col])\n",
    "perm_strong = perm[cols_strong]\n",
    "perm_neither = perm[cols_neither]\n",
    "    \n",
    "perm = perm.reset_index(drop=True)\n",
    "orig = pd.read_excel(f\"{p}{stage}/pestimates.xlsx\")\n",
    "orig_strong = orig[cols_strong]\n",
    "orig_neither = orig[cols_neither]\n",
    "\n",
    "df_strong = p_values(orig_strong, perm_strong, cols_strong)\n",
    "df_neither = p_values(orig_neither, perm_neither, cols_neither)\n",
    "df = pd.concat([df_strong, df_neither], axis = 1)\n",
    "df.to_excel(f\"{p}{stage}/agg_pvalues_endline.xlsx\", index=False)"
   ]
  },
  {
   "cell_type": "code",
   "execution_count": 13,
   "id": "277d4238",
   "metadata": {},
   "outputs": [
    {
     "data": {
      "text/html": [
       "<div>\n",
       "<style scoped>\n",
       "    .dataframe tbody tr th:only-of-type {\n",
       "        vertical-align: middle;\n",
       "    }\n",
       "\n",
       "    .dataframe tbody tr th {\n",
       "        vertical-align: top;\n",
       "    }\n",
       "\n",
       "    .dataframe thead th {\n",
       "        text-align: right;\n",
       "    }\n",
       "</style>\n",
       "<table border=\"1\" class=\"dataframe\">\n",
       "  <thead>\n",
       "    <tr style=\"text-align: right;\">\n",
       "      <th></th>\n",
       "      <th>strong_AC</th>\n",
       "      <th>weak_AC</th>\n",
       "      <th>neither_AC</th>\n",
       "    </tr>\n",
       "  </thead>\n",
       "  <tbody>\n",
       "    <tr>\n",
       "      <th>0</th>\n",
       "      <td>0.25</td>\n",
       "      <td>0.348</td>\n",
       "      <td>0.041</td>\n",
       "    </tr>\n",
       "  </tbody>\n",
       "</table>\n",
       "</div>"
      ],
      "text/plain": [
       "0 strong_AC weak_AC neither_AC\n",
       "0      0.25   0.348      0.041"
      ]
     },
     "execution_count": 13,
     "metadata": {},
     "output_type": "execute_result"
    }
   ],
   "source": [
    "df"
   ]
  },
  {
   "cell_type": "code",
   "execution_count": 4,
   "id": "41c9009a",
   "metadata": {},
   "outputs": [
    {
     "name": "stderr",
     "output_type": "stream",
     "text": [
      "C:\\Users\\Dell\\AppData\\Local\\Temp\\ipykernel_6700\\2735045837.py:33: FutureWarning: The frame.append method is deprecated and will be removed from pandas in a future version. Use pandas.concat instead.\n",
      "  b = b_pos.append(b_neg).reset_index(drop=True).reset_index()\n",
      "C:\\Users\\Dell\\AppData\\Local\\Temp\\ipykernel_6700\\2735045837.py:33: FutureWarning: The frame.append method is deprecated and will be removed from pandas in a future version. Use pandas.concat instead.\n",
      "  b = b_pos.append(b_neg).reset_index(drop=True).reset_index()\n"
     ]
    }
   ],
   "source": [
    "country = 'SA'\n",
    "stage = 'SMIs'\n",
    "p = f\"../../data/04-analysis/{country}/\"\n",
    "perm = pd.DataFrame()\n",
    "for i in range(0, 4):\n",
    "    df = pd.read_excel(f\"{p}{stage}/pestimates_{i}.xlsx\")\n",
    "    perm = pd.concat([perm, df])\n",
    "    \n",
    "cols_strong = ([col for col in perm.columns if 'strong_' in col] + \n",
    "               [col for col in perm.columns if 'weak_' in col])\n",
    "cols_neither = ([col for col in perm.columns if 'neither_' in col])\n",
    "perm_strong = perm[cols_strong]\n",
    "perm_neither = perm[cols_neither]\n",
    "    \n",
    "perm = perm.reset_index(drop=True)\n",
    "orig = pd.read_excel(f\"{p}{stage}/pestimates.xlsx\")\n",
    "orig_strong = orig[cols_strong]\n",
    "orig_neither = orig[cols_neither]\n",
    "\n",
    "df_strong = p_values(orig_strong, perm_strong, cols_strong)\n",
    "df_neither = p_values(orig_neither, perm_neither, cols_neither)\n",
    "df = pd.concat([df_strong, df_neither], axis = 1)\n",
    "df.to_excel(f\"{p}{stage}/agg_pvalues_endline.xlsx\", index=False)"
   ]
  },
  {
   "cell_type": "code",
   "execution_count": 5,
   "id": "bcf578ad",
   "metadata": {},
   "outputs": [
    {
     "data": {
      "text/html": [
       "<div>\n",
       "<style scoped>\n",
       "    .dataframe tbody tr th:only-of-type {\n",
       "        vertical-align: middle;\n",
       "    }\n",
       "\n",
       "    .dataframe tbody tr th {\n",
       "        vertical-align: top;\n",
       "    }\n",
       "\n",
       "    .dataframe thead th {\n",
       "        text-align: right;\n",
       "    }\n",
       "</style>\n",
       "<table border=\"1\" class=\"dataframe\">\n",
       "  <thead>\n",
       "    <tr style=\"text-align: right;\">\n",
       "      <th></th>\n",
       "      <th>strong_smi</th>\n",
       "      <th>weak_smi</th>\n",
       "      <th>neither_smi</th>\n",
       "    </tr>\n",
       "  </thead>\n",
       "  <tbody>\n",
       "    <tr>\n",
       "      <th>0</th>\n",
       "      <td>0.2</td>\n",
       "      <td>0.435</td>\n",
       "      <td>0.263</td>\n",
       "    </tr>\n",
       "  </tbody>\n",
       "</table>\n",
       "</div>"
      ],
      "text/plain": [
       "0 strong_smi weak_smi neither_smi\n",
       "0        0.2    0.435       0.263"
      ]
     },
     "execution_count": 5,
     "metadata": {},
     "output_type": "execute_result"
    }
   ],
   "source": [
    "df"
   ]
  },
  {
   "cell_type": "code",
   "execution_count": 4,
   "id": "4a162635",
   "metadata": {},
   "outputs": [
    {
     "name": "stderr",
     "output_type": "stream",
     "text": [
      "C:\\Users\\Dell\\AppData\\Local\\Temp\\ipykernel_26900\\2735045837.py:33: FutureWarning: The frame.append method is deprecated and will be removed from pandas in a future version. Use pandas.concat instead.\n",
      "  b = b_pos.append(b_neg).reset_index(drop=True).reset_index()\n",
      "C:\\Users\\Dell\\AppData\\Local\\Temp\\ipykernel_26900\\2735045837.py:33: FutureWarning: The frame.append method is deprecated and will be removed from pandas in a future version. Use pandas.concat instead.\n",
      "  b = b_pos.append(b_neg).reset_index(drop=True).reset_index()\n"
     ]
    }
   ],
   "source": [
    "country = 'KE'\n",
    "stage = 'BalanceVer'\n",
    "p = f\"../../data/04-analysis/{country}/\"\n",
    "perm = pd.DataFrame()\n",
    "for i in range(0, 4):\n",
    "    df = pd.read_excel(f\"{p}{stage}/pestimates_{i}.xlsx\")\n",
    "    perm = pd.concat([perm, df])\n",
    "    \n",
    "cols_strong = ([col for col in perm.columns if 'strong_' in col] + \n",
    "               [col for col in perm.columns if 'weak_' in col])\n",
    "cols_neither = ([col for col in perm.columns if 'neither_' in col])\n",
    "perm_strong = perm[cols_strong]\n",
    "perm_neither = perm[cols_neither]\n",
    "    \n",
    "perm = perm.reset_index(drop=True)\n",
    "orig = pd.read_excel(f\"{p}{stage}/pestimates.xlsx\")\n",
    "orig_strong = orig[cols_strong]\n",
    "orig_neither = orig[cols_neither]\n",
    "\n",
    "df_strong = p_values(orig_strong, perm_strong, cols_strong)\n",
    "df_neither = p_values(orig_neither, perm_neither, cols_neither)\n",
    "df = pd.concat([df_strong, df_neither], axis = 1)\n",
    "df.to_excel(f\"{p}{stage}/agg_pvalues_endline.xlsx\", index=False)"
   ]
  },
  {
   "cell_type": "code",
   "execution_count": 5,
   "id": "13dc2800",
   "metadata": {},
   "outputs": [
    {
     "name": "stderr",
     "output_type": "stream",
     "text": [
      "C:\\Users\\Dell\\AppData\\Local\\Temp\\ipykernel_20428\\2735045837.py:33: FutureWarning: The frame.append method is deprecated and will be removed from pandas in a future version. Use pandas.concat instead.\n",
      "  b = b_pos.append(b_neg).reset_index(drop=True).reset_index()\n",
      "C:\\Users\\Dell\\AppData\\Local\\Temp\\ipykernel_20428\\2735045837.py:33: FutureWarning: The frame.append method is deprecated and will be removed from pandas in a future version. Use pandas.concat instead.\n",
      "  b = b_pos.append(b_neg).reset_index(drop=True).reset_index()\n"
     ]
    }
   ],
   "source": [
    "country = 'SA'\n",
    "stage = 'stage5'\n",
    "p = f\"../../data/04-analysis/{country}/\"\n",
    "perm = pd.DataFrame()\n",
    "for i in range(0, 4):\n",
    "    df = pd.read_excel(f\"{p}{stage}/pestimates_endline_filter_{i}.xlsx\")\n",
    "    perm = pd.concat([perm, df])\n",
    "    \n",
    "cols_strong = ([col for col in perm.columns if 'strong_' in col] + \n",
    "               [col for col in perm.columns if 'weak_' in col])\n",
    "cols_neither = ([col for col in perm.columns if 'neither_' in col])\n",
    "perm_strong = perm[cols_strong]\n",
    "perm_neither = perm[cols_neither]\n",
    "    \n",
    "perm = perm.reset_index(drop=True)\n",
    "orig = pd.read_excel(f\"{p}{stage}/pestimates_endline_filter.xlsx\")\n",
    "orig_strong = orig[cols_strong]\n",
    "orig_neither = orig[cols_neither]\n",
    "\n",
    "df_strong = p_values(orig_strong, perm_strong, cols_strong)\n",
    "df_neither = p_values(orig_neither, perm_neither, cols_neither)\n",
    "df = pd.concat([df_strong, df_neither], axis = 1)\n",
    "df.rename(columns = \n",
    "        {col: col + '_filter' for col in df.columns}, \n",
    "        inplace=True)\n",
    "\n",
    "agg_pvals_normal = pd.read_excel(f\"{p}{stage}/agg_pvalues_endline.xlsx\")\n",
    "df = pd.concat([df, agg_pvals_normal], axis = 1)\n",
    "\n",
    "order2 = ['strong_ver_rt', 'strong_ver_rt_filter', 'strong_true_rt', 'strong_true_rt_filter',\n",
    "          'strong_n_posts_rt', 'strong_n_posts_rt_filter', 'strong_ver_no_rt', 'strong_ver_no_rt_filter', \n",
    "          'strong_true_no_rt', 'strong_true_no_rt_filter', 'strong_n_posts_no_rt', 'strong_n_posts_no_rt_filter', \n",
    "          'weak_ver_rt', 'weak_ver_rt_filter', 'weak_true_rt', 'weak_true_rt_filter',\n",
    "          'weak_n_posts_rt', 'weak_n_posts_rt_filter', 'weak_ver_no_rt', 'weak_ver_no_rt_filter', \n",
    "          'weak_true_no_rt', 'weak_true_no_rt_filter', 'weak_n_posts_no_rt', 'weak_n_posts_no_rt_filter',\n",
    "          'neither_ver_rt', 'neither_ver_rt_filter', 'neither_true_rt', 'neither_true_rt_filter',\n",
    "          'neither_n_posts_rt', 'neither_n_posts_rt_filter', 'neither_ver_no_rt', 'neither_ver_no_rt_filter', \n",
    "          'neither_true_no_rt', 'neither_true_no_rt_filter', 'neither_n_posts_no_rt', \n",
    "          'neither_n_posts_no_rt_filter']\n",
    "\n",
    "df = df[order2]\n",
    "\n",
    "df.to_excel(f\"{p}{stage}/agg_pvalues_endline_filter.xlsx\", index=False)"
   ]
  },
  {
   "cell_type": "code",
   "execution_count": null,
   "id": "77895c71",
   "metadata": {},
   "outputs": [],
   "source": []
  }
 ],
 "metadata": {
  "kernelspec": {
   "display_name": "Python 3 (ipykernel)",
   "language": "python",
   "name": "python3"
  },
  "language_info": {
   "codemirror_mode": {
    "name": "ipython",
    "version": 3
   },
   "file_extension": ".py",
   "mimetype": "text/x-python",
   "name": "python",
   "nbconvert_exporter": "python",
   "pygments_lexer": "ipython3",
   "version": "3.9.12"
  }
 },
 "nbformat": 4,
 "nbformat_minor": 5
}
