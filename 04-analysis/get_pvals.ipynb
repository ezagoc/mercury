{
 "cells": [
  {
   "cell_type": "code",
   "execution_count": 1,
   "id": "c2bf15e3",
   "metadata": {},
   "outputs": [],
   "source": [
    "import pandas as pd\n",
    "\n",
    "\n",
    "def p_values(data0, data1, cols_order):\n",
    "    \"\"\"Get p_values\n",
    "    :param data0: DataFrame with original regression estimates\n",
    "    :type data0: DataFrame\n",
    "    :param data1: DataFrame with estimates from permutation\n",
    "    :type data1: DataFrame\n",
    "    :param cols_order: List of ordering of columns\n",
    "    :type cols_order: List\n",
    "    :return: DataFrame with p-values\n",
    "    :rtype: DataFrame\n",
    "    \"\"\"\n",
    "    columns = data0.columns\n",
    "    pos = data0[(data0[columns] > 0)]\n",
    "    pos = pos.loc[:, ~pos.isnull().any()]\n",
    "    neg = data0[(data0[columns] < 0)]\n",
    "    neg = neg.loc[:, ~neg.isnull().any()]\n",
    "    val_pos = [\n",
    "        data1[data1[var] > pos[var].values[0]].count()[var] / 1000\n",
    "        for var in pos.columns\n",
    "    ]\n",
    "    coe_pos = pos.columns\n",
    "    cols = [\"coefficients\", \"p-value\"]\n",
    "    b_pos = pd.DataFrame(list(zip(coe_pos, val_pos)), columns=cols)\n",
    "    val_neg = [\n",
    "        data1[data1[var] < neg[var].values[0]].count()[var] / 1000\n",
    "        for var in neg.columns\n",
    "    ]\n",
    "    coe_neg = neg.columns\n",
    "    b_neg = pd.DataFrame(list(zip(coe_neg, val_neg)), columns=cols)\n",
    "    b = b_pos.append(b_neg).reset_index(drop=True).reset_index()\n",
    "    b = b.set_index(\"index\").stack().unstack(0).reset_index().rename_axis(None, axis=1)\n",
    "    headers = b.iloc[0]\n",
    "    b = pd.DataFrame(b.values[1:], columns=headers)\n",
    "    b = b.iloc[:, 1:]\n",
    "    b = b[cols_order]\n",
    "    return b"
   ]
  },
  {
   "cell_type": "code",
   "execution_count": 2,
   "id": "d870f4d7",
   "metadata": {},
   "outputs": [
    {
     "name": "stderr",
     "output_type": "stream",
     "text": [
      "C:\\Users\\Dell\\AppData\\Local\\Temp\\ipykernel_7788\\2735045837.py:33: FutureWarning: The frame.append method is deprecated and will be removed from pandas in a future version. Use pandas.concat instead.\n",
      "  b = b_pos.append(b_neg).reset_index(drop=True).reset_index()\n",
      "C:\\Users\\Dell\\AppData\\Local\\Temp\\ipykernel_7788\\2735045837.py:33: FutureWarning: The frame.append method is deprecated and will be removed from pandas in a future version. Use pandas.concat instead.\n",
      "  b = b_pos.append(b_neg).reset_index(drop=True).reset_index()\n"
     ]
    }
   ],
   "source": [
    "country = 'KE'\n",
    "stage = 'baseline'\n",
    "p = f\"../../data/04-analysis/{country}/\"\n",
    "perm = pd.DataFrame()\n",
    "for i in range(0, 4):\n",
    "    df = pd.read_excel(f\"{p}{stage}/pestimates_b2_april{i}.xlsx\")\n",
    "    perm = pd.concat([perm, df])\n",
    "    \n",
    "cols_strong = ([col for col in perm.columns if 'strong_' in col] + \n",
    "               [col for col in perm.columns if 'weak_' in col])\n",
    "cols_neither = ([col for col in perm.columns if 'neither_' in col])\n",
    "perm_strong = perm[cols_strong]\n",
    "perm_neither = perm[cols_neither]\n",
    "    \n",
    "perm = perm.reset_index(drop=True)\n",
    "orig = pd.read_excel(f\"{p}{stage}/pestimates_prueba_april.xlsx\")\n",
    "orig_strong = orig[cols_strong]\n",
    "orig_neither = orig[cols_neither]\n",
    "\n",
    "df_strong = p_values(orig_strong, perm_strong, cols_strong)\n",
    "df_neither = p_values(orig_neither, perm_neither, cols_neither)\n",
    "df = pd.concat([df_strong, df_neither], axis = 1)\n",
    "df.to_excel(f\"{p}{stage}/agg_pvalues_prueba_april.xlsx\", index=False)"
   ]
  },
  {
   "cell_type": "code",
   "execution_count": 3,
   "id": "ce8b75d0",
   "metadata": {},
   "outputs": [
    {
     "name": "stderr",
     "output_type": "stream",
     "text": [
      "C:\\Users\\Dell\\AppData\\Local\\Temp\\ipykernel_7788\\2735045837.py:33: FutureWarning: The frame.append method is deprecated and will be removed from pandas in a future version. Use pandas.concat instead.\n",
      "  b = b_pos.append(b_neg).reset_index(drop=True).reset_index()\n",
      "C:\\Users\\Dell\\AppData\\Local\\Temp\\ipykernel_7788\\2735045837.py:33: FutureWarning: The frame.append method is deprecated and will be removed from pandas in a future version. Use pandas.concat instead.\n",
      "  b = b_pos.append(b_neg).reset_index(drop=True).reset_index()\n"
     ]
    }
   ],
   "source": [
    "country = 'KE'\n",
    "stage = 'baseline'\n",
    "p = f\"../../data/04-analysis/{country}/\"\n",
    "perm = pd.DataFrame()\n",
    "for i in range(0, 4):\n",
    "    df = pd.read_excel(f\"{p}{stage}/pestimates_b2_all{i}.xlsx\")\n",
    "    perm = pd.concat([perm, df])\n",
    "    \n",
    "cols_strong = ([col for col in perm.columns if 'strong_' in col] + \n",
    "               [col for col in perm.columns if 'weak_' in col])\n",
    "cols_neither = ([col for col in perm.columns if 'neither_' in col])\n",
    "perm_strong = perm[cols_strong]\n",
    "perm_neither = perm[cols_neither]\n",
    "    \n",
    "perm = perm.reset_index(drop=True)\n",
    "orig = pd.read_excel(f\"{p}{stage}/pestimates_prueba.xlsx\")\n",
    "orig_strong = orig[cols_strong]\n",
    "orig_neither = orig[cols_neither]\n",
    "\n",
    "df_strong = p_values(orig_strong, perm_strong, cols_strong)\n",
    "df_neither = p_values(orig_neither, perm_neither, cols_neither)\n",
    "df = pd.concat([df_strong, df_neither], axis = 1)\n",
    "df.to_excel(f\"{p}{stage}/agg_pvalues_prueba.xlsx\", index=False)"
   ]
  },
  {
   "cell_type": "code",
   "execution_count": 7,
   "id": "4a321acb",
   "metadata": {},
   "outputs": [
    {
     "name": "stderr",
     "output_type": "stream",
     "text": [
      "C:\\Users\\Dell\\AppData\\Local\\Temp\\ipykernel_16964\\2735045837.py:33: FutureWarning: The frame.append method is deprecated and will be removed from pandas in a future version. Use pandas.concat instead.\n",
      "  b = b_pos.append(b_neg).reset_index(drop=True).reset_index()\n"
     ]
    }
   ],
   "source": [
    "for country in ['joint']:\n",
    "    for stage in ['stage1_2']:\n",
    "        p = f\"../../data/04-analysis/{country}/\"\n",
    "        perm = pd.DataFrame()\n",
    "        for i in range(1, 1001):\n",
    "            df = pd.read_excel(f\"{p}{stage}/pestimates_ver/b1_b2_p_fake_all{i}.xlsx\")\n",
    "            perm = pd.concat([perm, df])\n",
    "    \n",
    "        cols = [col for col in perm.columns]\n",
    "    \n",
    "        perm = perm.reset_index(drop=True)\n",
    "        orig = pd.read_excel(f\"{p}{stage}/pestimates_b1_b2_p_fake_all.xlsx\")\n",
    "\n",
    "        df = p_values(orig, perm, cols)\n",
    "\n",
    "        df.to_excel(f\"{p}{stage}/agg_pvalues_b1_b2_p_fake_all.xlsx\", index=False)"
   ]
  },
  {
   "cell_type": "code",
   "execution_count": 6,
   "id": "7e6170d0",
   "metadata": {},
   "outputs": [
    {
     "name": "stderr",
     "output_type": "stream",
     "text": [
      "C:\\Users\\Dell\\AppData\\Local\\Temp\\ipykernel_16964\\2735045837.py:33: FutureWarning: The frame.append method is deprecated and will be removed from pandas in a future version. Use pandas.concat instead.\n",
      "  b = b_pos.append(b_neg).reset_index(drop=True).reset_index()\n",
      "C:\\Users\\Dell\\AppData\\Local\\Temp\\ipykernel_16964\\2735045837.py:33: FutureWarning: The frame.append method is deprecated and will be removed from pandas in a future version. Use pandas.concat instead.\n",
      "  b = b_pos.append(b_neg).reset_index(drop=True).reset_index()\n"
     ]
    }
   ],
   "source": [
    "for country in ['joint']:\n",
    "    for stage in ['stage1_2']:\n",
    "        p = f\"../../data/04-analysis/{country}/\"\n",
    "        perm = pd.DataFrame()\n",
    "        for i in range(1, 1001):\n",
    "            df = pd.read_excel(f\"{p}{stage}/pestimates_ver/country_b1b2p_{i}.xlsx\")\n",
    "            perm = pd.concat([perm, df])\n",
    "    \n",
    "        cols_strong = ([col for col in perm.columns if 'strong_' in col] + \n",
    "                       [col for col in perm.columns if 'weak_' in col])\n",
    "        cols_neither = ([col for col in perm.columns if 'neither_' in col])\n",
    "        perm_strong = perm[cols_strong]\n",
    "        perm_neither = perm[cols_neither]\n",
    "    \n",
    "        perm = perm.reset_index(drop=True)\n",
    "        orig = pd.read_excel(f\"{p}{stage}/pestimates_b1_b2_p_fake.xlsx\")\n",
    "        orig_strong = orig[cols_strong]\n",
    "        orig_neither = orig[cols_neither]\n",
    "\n",
    "        df_strong = p_values(orig_strong, perm_strong, cols_strong)\n",
    "        df_neither = p_values(orig_neither, perm_neither, cols_neither)\n",
    "        df = pd.concat([df_strong, df_neither], axis = 1)\n",
    "        df.to_excel(f\"{p}{stage}/agg_pvalues_fake_b1_b2_p.xlsx\", index=False)"
   ]
  },
  {
   "cell_type": "code",
   "execution_count": 3,
   "id": "143d922f",
   "metadata": {},
   "outputs": [
    {
     "name": "stderr",
     "output_type": "stream",
     "text": [
      "C:\\Users\\Dell\\AppData\\Local\\Temp\\ipykernel_16964\\2735045837.py:33: FutureWarning: The frame.append method is deprecated and will be removed from pandas in a future version. Use pandas.concat instead.\n",
      "  b = b_pos.append(b_neg).reset_index(drop=True).reset_index()\n",
      "C:\\Users\\Dell\\AppData\\Local\\Temp\\ipykernel_16964\\2735045837.py:33: FutureWarning: The frame.append method is deprecated and will be removed from pandas in a future version. Use pandas.concat instead.\n",
      "  b = b_pos.append(b_neg).reset_index(drop=True).reset_index()\n",
      "C:\\Users\\Dell\\AppData\\Local\\Temp\\ipykernel_16964\\2735045837.py:33: FutureWarning: The frame.append method is deprecated and will be removed from pandas in a future version. Use pandas.concat instead.\n",
      "  b = b_pos.append(b_neg).reset_index(drop=True).reset_index()\n",
      "C:\\Users\\Dell\\AppData\\Local\\Temp\\ipykernel_16964\\2735045837.py:33: FutureWarning: The frame.append method is deprecated and will be removed from pandas in a future version. Use pandas.concat instead.\n",
      "  b = b_pos.append(b_neg).reset_index(drop=True).reset_index()\n"
     ]
    }
   ],
   "source": [
    "for country in ['KE', 'SA']:\n",
    "    for stage in ['stage1_2']:\n",
    "        p = f\"../../data/04-analysis/{country}/\"\n",
    "        perm = pd.DataFrame()\n",
    "        for i in range(0, 4):\n",
    "            df = pd.read_excel(f\"{p}{stage}/pestimates_b1_b2_p_fake{i}.xlsx\")\n",
    "            perm = pd.concat([perm, df])\n",
    "    \n",
    "        cols_strong = ([col for col in perm.columns if 'strong_' in col] + \n",
    "                       [col for col in perm.columns if 'weak_' in col])\n",
    "        cols_neither = ([col for col in perm.columns if 'neither_' in col])\n",
    "        perm_strong = perm[cols_strong]\n",
    "        perm_neither = perm[cols_neither]\n",
    "    \n",
    "        perm = perm.reset_index(drop=True)\n",
    "        orig = pd.read_excel(f\"{p}{stage}/pestimates_b1_b2_p.xlsx\")\n",
    "        orig_strong = orig[cols_strong]\n",
    "        orig_neither = orig[cols_neither]\n",
    "\n",
    "        df_strong = p_values(orig_strong, perm_strong, cols_strong)\n",
    "        df_neither = p_values(orig_neither, perm_neither, cols_neither)\n",
    "        df = pd.concat([df_strong, df_neither], axis = 1)\n",
    "        df.to_excel(f\"{p}{stage}/agg_pvalues_b1_b2_p.xlsx\", index=False)"
   ]
  },
  {
   "cell_type": "code",
   "execution_count": 4,
   "id": "2bd5f0b4",
   "metadata": {},
   "outputs": [
    {
     "data": {
      "text/html": [
       "<div>\n",
       "<style scoped>\n",
       "    .dataframe tbody tr th:only-of-type {\n",
       "        vertical-align: middle;\n",
       "    }\n",
       "\n",
       "    .dataframe tbody tr th {\n",
       "        vertical-align: top;\n",
       "    }\n",
       "\n",
       "    .dataframe thead th {\n",
       "        text-align: right;\n",
       "    }\n",
       "</style>\n",
       "<table border=\"1\" class=\"dataframe\">\n",
       "  <thead>\n",
       "    <tr style=\"text-align: right;\">\n",
       "      <th></th>\n",
       "      <th>strong_ver_rt</th>\n",
       "      <th>strong_ver_rt_f</th>\n",
       "      <th>strong_true_rt</th>\n",
       "      <th>strong_true_rt_f</th>\n",
       "      <th>strong_fake_rt</th>\n",
       "      <th>strong_fake_rt_f</th>\n",
       "      <th>strong_n_posts_rt</th>\n",
       "      <th>strong_n_posts_rt_f</th>\n",
       "      <th>strong_ver_no_rt</th>\n",
       "      <th>strong_ver_no_rt_f</th>\n",
       "      <th>...</th>\n",
       "      <th>neither_n_posts_rt</th>\n",
       "      <th>neither_n_posts_rt_f</th>\n",
       "      <th>neither_ver_no_rt</th>\n",
       "      <th>neither_ver_no_rt_f</th>\n",
       "      <th>neither_true_no_rt</th>\n",
       "      <th>neither_true_no_rt_f</th>\n",
       "      <th>neither_fake_no_rt</th>\n",
       "      <th>neither_fake_no_rt_f</th>\n",
       "      <th>neither_n_posts_no_rt</th>\n",
       "      <th>neither_n_posts_no_rt_f</th>\n",
       "    </tr>\n",
       "  </thead>\n",
       "  <tbody>\n",
       "    <tr>\n",
       "      <th>0</th>\n",
       "      <td>0.034</td>\n",
       "      <td>0.021</td>\n",
       "      <td>0.016</td>\n",
       "      <td>0.011</td>\n",
       "      <td>0.035</td>\n",
       "      <td>0.023</td>\n",
       "      <td>0.024</td>\n",
       "      <td>0.016</td>\n",
       "      <td>0.14</td>\n",
       "      <td>0.46</td>\n",
       "      <td>...</td>\n",
       "      <td>0.335</td>\n",
       "      <td>0.307</td>\n",
       "      <td>0.198</td>\n",
       "      <td>0.121</td>\n",
       "      <td>0.105</td>\n",
       "      <td>0.1</td>\n",
       "      <td>0.297</td>\n",
       "      <td>0.144</td>\n",
       "      <td>0.024</td>\n",
       "      <td>0.001</td>\n",
       "    </tr>\n",
       "  </tbody>\n",
       "</table>\n",
       "<p>1 rows × 48 columns</p>\n",
       "</div>"
      ],
      "text/plain": [
       "0 strong_ver_rt strong_ver_rt_f strong_true_rt strong_true_rt_f  \\\n",
       "0         0.034           0.021          0.016            0.011   \n",
       "\n",
       "0 strong_fake_rt strong_fake_rt_f strong_n_posts_rt strong_n_posts_rt_f  \\\n",
       "0          0.035            0.023             0.024               0.016   \n",
       "\n",
       "0 strong_ver_no_rt strong_ver_no_rt_f  ... neither_n_posts_rt  \\\n",
       "0             0.14               0.46  ...              0.335   \n",
       "\n",
       "0 neither_n_posts_rt_f neither_ver_no_rt neither_ver_no_rt_f  \\\n",
       "0                0.307             0.198               0.121   \n",
       "\n",
       "0 neither_true_no_rt neither_true_no_rt_f neither_fake_no_rt  \\\n",
       "0              0.105                  0.1              0.297   \n",
       "\n",
       "0 neither_fake_no_rt_f neither_n_posts_no_rt neither_n_posts_no_rt_f  \n",
       "0                0.144                 0.024                   0.001  \n",
       "\n",
       "[1 rows x 48 columns]"
      ]
     },
     "execution_count": 4,
     "metadata": {},
     "output_type": "execute_result"
    }
   ],
   "source": [
    "df"
   ]
  },
  {
   "cell_type": "code",
   "execution_count": 2,
   "id": "61fcec1c",
   "metadata": {},
   "outputs": [
    {
     "name": "stderr",
     "output_type": "stream",
     "text": [
      "C:\\Users\\Dell\\AppData\\Local\\Temp\\ipykernel_16964\\2735045837.py:33: FutureWarning: The frame.append method is deprecated and will be removed from pandas in a future version. Use pandas.concat instead.\n",
      "  b = b_pos.append(b_neg).reset_index(drop=True).reset_index()\n",
      "C:\\Users\\Dell\\AppData\\Local\\Temp\\ipykernel_16964\\2735045837.py:33: FutureWarning: The frame.append method is deprecated and will be removed from pandas in a future version. Use pandas.concat instead.\n",
      "  b = b_pos.append(b_neg).reset_index(drop=True).reset_index()\n"
     ]
    }
   ],
   "source": [
    "### B1 JOINT ALL FAKE\n",
    "for country in ['KE', 'SA']:\n",
    "    for stage in ['stage1_2']:\n",
    "        p = f\"../../data/04-analysis/{country}/\"\n",
    "        perm = pd.DataFrame()\n",
    "        for i in range(0, 4):\n",
    "            df = pd.read_excel(f\"{p}{stage}/pestimates_b1_b2_p_all{i}.xlsx\")\n",
    "            perm = pd.concat([perm, df])\n",
    "    \n",
    "        cols = [col for col in perm.columns]\n",
    "    \n",
    "        perm = perm.reset_index(drop=True)\n",
    "        orig = pd.read_excel(f\"{p}{stage}/pestimates_b1_b2_p_all.xlsx\")\n",
    "\n",
    "        df = p_values(orig, perm, cols)\n",
    "\n",
    "        df.to_excel(f\"{p}{stage}/agg_pvalues_b1_b2_p_all.xlsx\", index=False)"
   ]
  },
  {
   "cell_type": "code",
   "execution_count": 7,
   "id": "3d655232",
   "metadata": {},
   "outputs": [
    {
     "ename": "FileNotFoundError",
     "evalue": "[Errno 2] No such file or directory: '../../data/04-analysis/KE/stage1_2/pestimates_b1_b2_fake_all.xlsx'",
     "output_type": "error",
     "traceback": [
      "\u001b[1;31m---------------------------------------------------------------------------\u001b[0m",
      "\u001b[1;31mFileNotFoundError\u001b[0m                         Traceback (most recent call last)",
      "Input \u001b[1;32mIn [7]\u001b[0m, in \u001b[0;36m<cell line: 2>\u001b[1;34m()\u001b[0m\n\u001b[0;32m     10\u001b[0m cols \u001b[38;5;241m=\u001b[39m [col \u001b[38;5;28;01mfor\u001b[39;00m col \u001b[38;5;129;01min\u001b[39;00m perm\u001b[38;5;241m.\u001b[39mcolumns]\n\u001b[0;32m     12\u001b[0m perm \u001b[38;5;241m=\u001b[39m perm\u001b[38;5;241m.\u001b[39mreset_index(drop\u001b[38;5;241m=\u001b[39m\u001b[38;5;28;01mTrue\u001b[39;00m)\n\u001b[1;32m---> 13\u001b[0m orig \u001b[38;5;241m=\u001b[39m \u001b[43mpd\u001b[49m\u001b[38;5;241;43m.\u001b[39;49m\u001b[43mread_excel\u001b[49m\u001b[43m(\u001b[49m\u001b[38;5;124;43mf\u001b[39;49m\u001b[38;5;124;43m\"\u001b[39;49m\u001b[38;5;132;43;01m{\u001b[39;49;00m\u001b[43mp\u001b[49m\u001b[38;5;132;43;01m}\u001b[39;49;00m\u001b[38;5;132;43;01m{\u001b[39;49;00m\u001b[43mstage\u001b[49m\u001b[38;5;132;43;01m}\u001b[39;49;00m\u001b[38;5;124;43m/pestimates_b1_b2_fake_all.xlsx\u001b[39;49m\u001b[38;5;124;43m\"\u001b[39;49m\u001b[43m)\u001b[49m\n\u001b[0;32m     15\u001b[0m df \u001b[38;5;241m=\u001b[39m p_values(orig, perm, cols)\n\u001b[0;32m     17\u001b[0m df\u001b[38;5;241m.\u001b[39mto_excel(\u001b[38;5;124mf\u001b[39m\u001b[38;5;124m\"\u001b[39m\u001b[38;5;132;01m{\u001b[39;00mp\u001b[38;5;132;01m}\u001b[39;00m\u001b[38;5;132;01m{\u001b[39;00mstage\u001b[38;5;132;01m}\u001b[39;00m\u001b[38;5;124m/agg_pvalues_b1_b2_fake_all.xlsx\u001b[39m\u001b[38;5;124m\"\u001b[39m, index\u001b[38;5;241m=\u001b[39m\u001b[38;5;28;01mFalse\u001b[39;00m)\n",
      "File \u001b[1;32m~\\miniconda3\\lib\\site-packages\\pandas\\util\\_decorators.py:211\u001b[0m, in \u001b[0;36mdeprecate_kwarg.<locals>._deprecate_kwarg.<locals>.wrapper\u001b[1;34m(*args, **kwargs)\u001b[0m\n\u001b[0;32m    209\u001b[0m     \u001b[38;5;28;01melse\u001b[39;00m:\n\u001b[0;32m    210\u001b[0m         kwargs[new_arg_name] \u001b[38;5;241m=\u001b[39m new_arg_value\n\u001b[1;32m--> 211\u001b[0m \u001b[38;5;28;01mreturn\u001b[39;00m func(\u001b[38;5;241m*\u001b[39margs, \u001b[38;5;241m*\u001b[39m\u001b[38;5;241m*\u001b[39mkwargs)\n",
      "File \u001b[1;32m~\\miniconda3\\lib\\site-packages\\pandas\\util\\_decorators.py:331\u001b[0m, in \u001b[0;36mdeprecate_nonkeyword_arguments.<locals>.decorate.<locals>.wrapper\u001b[1;34m(*args, **kwargs)\u001b[0m\n\u001b[0;32m    325\u001b[0m \u001b[38;5;28;01mif\u001b[39;00m \u001b[38;5;28mlen\u001b[39m(args) \u001b[38;5;241m>\u001b[39m num_allow_args:\n\u001b[0;32m    326\u001b[0m     warnings\u001b[38;5;241m.\u001b[39mwarn(\n\u001b[0;32m    327\u001b[0m         msg\u001b[38;5;241m.\u001b[39mformat(arguments\u001b[38;5;241m=\u001b[39m_format_argument_list(allow_args)),\n\u001b[0;32m    328\u001b[0m         \u001b[38;5;167;01mFutureWarning\u001b[39;00m,\n\u001b[0;32m    329\u001b[0m         stacklevel\u001b[38;5;241m=\u001b[39mfind_stack_level(),\n\u001b[0;32m    330\u001b[0m     )\n\u001b[1;32m--> 331\u001b[0m \u001b[38;5;28;01mreturn\u001b[39;00m func(\u001b[38;5;241m*\u001b[39margs, \u001b[38;5;241m*\u001b[39m\u001b[38;5;241m*\u001b[39mkwargs)\n",
      "File \u001b[1;32m~\\miniconda3\\lib\\site-packages\\pandas\\io\\excel\\_base.py:482\u001b[0m, in \u001b[0;36mread_excel\u001b[1;34m(io, sheet_name, header, names, index_col, usecols, squeeze, dtype, engine, converters, true_values, false_values, skiprows, nrows, na_values, keep_default_na, na_filter, verbose, parse_dates, date_parser, thousands, decimal, comment, skipfooter, convert_float, mangle_dupe_cols, storage_options)\u001b[0m\n\u001b[0;32m    480\u001b[0m \u001b[38;5;28;01mif\u001b[39;00m \u001b[38;5;129;01mnot\u001b[39;00m \u001b[38;5;28misinstance\u001b[39m(io, ExcelFile):\n\u001b[0;32m    481\u001b[0m     should_close \u001b[38;5;241m=\u001b[39m \u001b[38;5;28;01mTrue\u001b[39;00m\n\u001b[1;32m--> 482\u001b[0m     io \u001b[38;5;241m=\u001b[39m \u001b[43mExcelFile\u001b[49m\u001b[43m(\u001b[49m\u001b[43mio\u001b[49m\u001b[43m,\u001b[49m\u001b[43m \u001b[49m\u001b[43mstorage_options\u001b[49m\u001b[38;5;241;43m=\u001b[39;49m\u001b[43mstorage_options\u001b[49m\u001b[43m,\u001b[49m\u001b[43m \u001b[49m\u001b[43mengine\u001b[49m\u001b[38;5;241;43m=\u001b[39;49m\u001b[43mengine\u001b[49m\u001b[43m)\u001b[49m\n\u001b[0;32m    483\u001b[0m \u001b[38;5;28;01melif\u001b[39;00m engine \u001b[38;5;129;01mand\u001b[39;00m engine \u001b[38;5;241m!=\u001b[39m io\u001b[38;5;241m.\u001b[39mengine:\n\u001b[0;32m    484\u001b[0m     \u001b[38;5;28;01mraise\u001b[39;00m \u001b[38;5;167;01mValueError\u001b[39;00m(\n\u001b[0;32m    485\u001b[0m         \u001b[38;5;124m\"\u001b[39m\u001b[38;5;124mEngine should not be specified when passing \u001b[39m\u001b[38;5;124m\"\u001b[39m\n\u001b[0;32m    486\u001b[0m         \u001b[38;5;124m\"\u001b[39m\u001b[38;5;124man ExcelFile - ExcelFile already has the engine set\u001b[39m\u001b[38;5;124m\"\u001b[39m\n\u001b[0;32m    487\u001b[0m     )\n",
      "File \u001b[1;32m~\\miniconda3\\lib\\site-packages\\pandas\\io\\excel\\_base.py:1652\u001b[0m, in \u001b[0;36mExcelFile.__init__\u001b[1;34m(self, path_or_buffer, engine, storage_options)\u001b[0m\n\u001b[0;32m   1650\u001b[0m     ext \u001b[38;5;241m=\u001b[39m \u001b[38;5;124m\"\u001b[39m\u001b[38;5;124mxls\u001b[39m\u001b[38;5;124m\"\u001b[39m\n\u001b[0;32m   1651\u001b[0m \u001b[38;5;28;01melse\u001b[39;00m:\n\u001b[1;32m-> 1652\u001b[0m     ext \u001b[38;5;241m=\u001b[39m \u001b[43minspect_excel_format\u001b[49m\u001b[43m(\u001b[49m\n\u001b[0;32m   1653\u001b[0m \u001b[43m        \u001b[49m\u001b[43mcontent_or_path\u001b[49m\u001b[38;5;241;43m=\u001b[39;49m\u001b[43mpath_or_buffer\u001b[49m\u001b[43m,\u001b[49m\u001b[43m \u001b[49m\u001b[43mstorage_options\u001b[49m\u001b[38;5;241;43m=\u001b[39;49m\u001b[43mstorage_options\u001b[49m\n\u001b[0;32m   1654\u001b[0m \u001b[43m    \u001b[49m\u001b[43m)\u001b[49m\n\u001b[0;32m   1655\u001b[0m     \u001b[38;5;28;01mif\u001b[39;00m ext \u001b[38;5;129;01mis\u001b[39;00m \u001b[38;5;28;01mNone\u001b[39;00m:\n\u001b[0;32m   1656\u001b[0m         \u001b[38;5;28;01mraise\u001b[39;00m \u001b[38;5;167;01mValueError\u001b[39;00m(\n\u001b[0;32m   1657\u001b[0m             \u001b[38;5;124m\"\u001b[39m\u001b[38;5;124mExcel file format cannot be determined, you must specify \u001b[39m\u001b[38;5;124m\"\u001b[39m\n\u001b[0;32m   1658\u001b[0m             \u001b[38;5;124m\"\u001b[39m\u001b[38;5;124man engine manually.\u001b[39m\u001b[38;5;124m\"\u001b[39m\n\u001b[0;32m   1659\u001b[0m         )\n",
      "File \u001b[1;32m~\\miniconda3\\lib\\site-packages\\pandas\\io\\excel\\_base.py:1525\u001b[0m, in \u001b[0;36minspect_excel_format\u001b[1;34m(content_or_path, storage_options)\u001b[0m\n\u001b[0;32m   1522\u001b[0m \u001b[38;5;28;01mif\u001b[39;00m \u001b[38;5;28misinstance\u001b[39m(content_or_path, \u001b[38;5;28mbytes\u001b[39m):\n\u001b[0;32m   1523\u001b[0m     content_or_path \u001b[38;5;241m=\u001b[39m BytesIO(content_or_path)\n\u001b[1;32m-> 1525\u001b[0m \u001b[38;5;28;01mwith\u001b[39;00m \u001b[43mget_handle\u001b[49m\u001b[43m(\u001b[49m\n\u001b[0;32m   1526\u001b[0m \u001b[43m    \u001b[49m\u001b[43mcontent_or_path\u001b[49m\u001b[43m,\u001b[49m\u001b[43m \u001b[49m\u001b[38;5;124;43m\"\u001b[39;49m\u001b[38;5;124;43mrb\u001b[39;49m\u001b[38;5;124;43m\"\u001b[39;49m\u001b[43m,\u001b[49m\u001b[43m \u001b[49m\u001b[43mstorage_options\u001b[49m\u001b[38;5;241;43m=\u001b[39;49m\u001b[43mstorage_options\u001b[49m\u001b[43m,\u001b[49m\u001b[43m \u001b[49m\u001b[43mis_text\u001b[49m\u001b[38;5;241;43m=\u001b[39;49m\u001b[38;5;28;43;01mFalse\u001b[39;49;00m\n\u001b[0;32m   1527\u001b[0m \u001b[43m\u001b[49m\u001b[43m)\u001b[49m \u001b[38;5;28;01mas\u001b[39;00m handle:\n\u001b[0;32m   1528\u001b[0m     stream \u001b[38;5;241m=\u001b[39m handle\u001b[38;5;241m.\u001b[39mhandle\n\u001b[0;32m   1529\u001b[0m     stream\u001b[38;5;241m.\u001b[39mseek(\u001b[38;5;241m0\u001b[39m)\n",
      "File \u001b[1;32m~\\miniconda3\\lib\\site-packages\\pandas\\io\\common.py:865\u001b[0m, in \u001b[0;36mget_handle\u001b[1;34m(path_or_buf, mode, encoding, compression, memory_map, is_text, errors, storage_options)\u001b[0m\n\u001b[0;32m    856\u001b[0m         handle \u001b[38;5;241m=\u001b[39m \u001b[38;5;28mopen\u001b[39m(\n\u001b[0;32m    857\u001b[0m             handle,\n\u001b[0;32m    858\u001b[0m             ioargs\u001b[38;5;241m.\u001b[39mmode,\n\u001b[1;32m   (...)\u001b[0m\n\u001b[0;32m    861\u001b[0m             newline\u001b[38;5;241m=\u001b[39m\u001b[38;5;124m\"\u001b[39m\u001b[38;5;124m\"\u001b[39m,\n\u001b[0;32m    862\u001b[0m         )\n\u001b[0;32m    863\u001b[0m     \u001b[38;5;28;01melse\u001b[39;00m:\n\u001b[0;32m    864\u001b[0m         \u001b[38;5;66;03m# Binary mode\u001b[39;00m\n\u001b[1;32m--> 865\u001b[0m         handle \u001b[38;5;241m=\u001b[39m \u001b[38;5;28;43mopen\u001b[39;49m\u001b[43m(\u001b[49m\u001b[43mhandle\u001b[49m\u001b[43m,\u001b[49m\u001b[43m \u001b[49m\u001b[43mioargs\u001b[49m\u001b[38;5;241;43m.\u001b[39;49m\u001b[43mmode\u001b[49m\u001b[43m)\u001b[49m\n\u001b[0;32m    866\u001b[0m     handles\u001b[38;5;241m.\u001b[39mappend(handle)\n\u001b[0;32m    868\u001b[0m \u001b[38;5;66;03m# Convert BytesIO or file objects passed with an encoding\u001b[39;00m\n",
      "\u001b[1;31mFileNotFoundError\u001b[0m: [Errno 2] No such file or directory: '../../data/04-analysis/KE/stage1_2/pestimates_b1_b2_fake_all.xlsx'"
     ]
    }
   ],
   "source": [
    "### B1 JOINT ALL FAKE\n",
    "for country in ['KE', 'SA']:\n",
    "    for stage in ['stage1_2']:\n",
    "        p = f\"../../data/04-analysis/{country}/\"\n",
    "        perm = pd.DataFrame()\n",
    "        for i in range(0, 4):\n",
    "            df = pd.read_excel(f\"{p}{stage}/pestimates_b1_b2_fake_all{i}.xlsx\")\n",
    "            perm = pd.concat([perm, df])\n",
    "    \n",
    "        cols = [col for col in perm.columns]\n",
    "    \n",
    "        perm = perm.reset_index(drop=True)\n",
    "        orig = pd.read_excel(f\"{p}{stage}/pestimates_b1_b2_fake_all.xlsx\")\n",
    "\n",
    "        df = p_values(orig, perm, cols)\n",
    "\n",
    "        df.to_excel(f\"{p}{stage}/agg_pvalues_b1_b2_fake_all.xlsx\", index=False)"
   ]
  },
  {
   "cell_type": "code",
   "execution_count": 5,
   "id": "97f5dc4a",
   "metadata": {},
   "outputs": [
    {
     "name": "stderr",
     "output_type": "stream",
     "text": [
      "C:\\Users\\Dell\\AppData\\Local\\Temp\\ipykernel_19332\\2735045837.py:33: FutureWarning: The frame.append method is deprecated and will be removed from pandas in a future version. Use pandas.concat instead.\n",
      "  b = b_pos.append(b_neg).reset_index(drop=True).reset_index()\n"
     ]
    }
   ],
   "source": [
    "### B1 JOINT ALL FAKE\n",
    "for country in ['joint']:\n",
    "    for stage in ['stage1_2']:\n",
    "        p = f\"../../data/04-analysis/{country}/\"\n",
    "        perm = pd.DataFrame()\n",
    "        for i in range(1, 1001):\n",
    "            df = pd.read_excel(f\"{p}{stage}/pestimates_ver/b1_b2_fake_all{i}.xlsx\")\n",
    "            perm = pd.concat([perm, df])\n",
    "    \n",
    "        cols = [col for col in perm.columns]\n",
    "    \n",
    "        perm = perm.reset_index(drop=True)\n",
    "        orig = pd.read_excel(f\"{p}{stage}/pestimates_b1_b2_fake_all.xlsx\")\n",
    "\n",
    "        df = p_values(orig, perm, cols)\n",
    "\n",
    "        df.to_excel(f\"{p}{stage}/agg_pvalues_b1_b2_fake_all.xlsx\", index=False)"
   ]
  },
  {
   "cell_type": "code",
   "execution_count": 3,
   "id": "24c4e60a",
   "metadata": {},
   "outputs": [
    {
     "name": "stderr",
     "output_type": "stream",
     "text": [
      "C:\\Users\\Dell\\AppData\\Local\\Temp\\ipykernel_19332\\2735045837.py:33: FutureWarning: The frame.append method is deprecated and will be removed from pandas in a future version. Use pandas.concat instead.\n",
      "  b = b_pos.append(b_neg).reset_index(drop=True).reset_index()\n",
      "C:\\Users\\Dell\\AppData\\Local\\Temp\\ipykernel_19332\\2735045837.py:33: FutureWarning: The frame.append method is deprecated and will be removed from pandas in a future version. Use pandas.concat instead.\n",
      "  b = b_pos.append(b_neg).reset_index(drop=True).reset_index()\n"
     ]
    }
   ],
   "source": [
    "for country in ['joint']:\n",
    "    for stage in ['stage1_2']:\n",
    "        p = f\"../../data/04-analysis/{country}/\"\n",
    "        perm = pd.DataFrame()\n",
    "        for i in range(1, 1001):\n",
    "            df = pd.read_excel(f\"{p}{stage}/pestimates_ver/country_b1b2_{i}.xlsx\")\n",
    "            perm = pd.concat([perm, df])\n",
    "    \n",
    "        cols_strong = ([col for col in perm.columns if 'strong_' in col] + \n",
    "                       [col for col in perm.columns if 'weak_' in col])\n",
    "        cols_neither = ([col for col in perm.columns if 'neither_' in col])\n",
    "        perm_strong = perm[cols_strong]\n",
    "        perm_neither = perm[cols_neither]\n",
    "    \n",
    "        perm = perm.reset_index(drop=True)\n",
    "        orig = pd.read_excel(f\"{p}{stage}/pestimates_b1_b2_fake.xlsx\")\n",
    "        orig_strong = orig[cols_strong]\n",
    "        orig_neither = orig[cols_neither]\n",
    "\n",
    "        df_strong = p_values(orig_strong, perm_strong, cols_strong)\n",
    "        df_neither = p_values(orig_neither, perm_neither, cols_neither)\n",
    "        df = pd.concat([df_strong, df_neither], axis = 1)\n",
    "        df.to_excel(f\"{p}{stage}/agg_pvalues_fake_b1_b2.xlsx\", index=False)"
   ]
  },
  {
   "cell_type": "code",
   "execution_count": 3,
   "id": "15e4d682",
   "metadata": {},
   "outputs": [
    {
     "name": "stderr",
     "output_type": "stream",
     "text": [
      "C:\\Users\\Dell\\AppData\\Local\\Temp\\ipykernel_11108\\2735045837.py:33: FutureWarning: The frame.append method is deprecated and will be removed from pandas in a future version. Use pandas.concat instead.\n",
      "  b = b_pos.append(b_neg).reset_index(drop=True).reset_index()\n",
      "C:\\Users\\Dell\\AppData\\Local\\Temp\\ipykernel_11108\\2735045837.py:33: FutureWarning: The frame.append method is deprecated and will be removed from pandas in a future version. Use pandas.concat instead.\n",
      "  b = b_pos.append(b_neg).reset_index(drop=True).reset_index()\n",
      "C:\\Users\\Dell\\AppData\\Local\\Temp\\ipykernel_11108\\2735045837.py:33: FutureWarning: The frame.append method is deprecated and will be removed from pandas in a future version. Use pandas.concat instead.\n",
      "  b = b_pos.append(b_neg).reset_index(drop=True).reset_index()\n",
      "C:\\Users\\Dell\\AppData\\Local\\Temp\\ipykernel_11108\\2735045837.py:33: FutureWarning: The frame.append method is deprecated and will be removed from pandas in a future version. Use pandas.concat instead.\n",
      "  b = b_pos.append(b_neg).reset_index(drop=True).reset_index()\n"
     ]
    }
   ],
   "source": [
    "for country in ['KE', 'SA']:\n",
    "    for stage in ['stage1_2']:\n",
    "        p = f\"../../data/04-analysis/{country}/\"\n",
    "        perm = pd.DataFrame()\n",
    "        for i in range(0, 4):\n",
    "            df = pd.read_excel(f\"{p}{stage}/pestimates_b1_b2_fake{i}.xlsx\")\n",
    "            perm = pd.concat([perm, df])\n",
    "    \n",
    "        cols_strong = ([col for col in perm.columns if 'strong_' in col] + \n",
    "                       [col for col in perm.columns if 'weak_' in col])\n",
    "        cols_neither = ([col for col in perm.columns if 'neither_' in col])\n",
    "        perm_strong = perm[cols_strong]\n",
    "        perm_neither = perm[cols_neither]\n",
    "    \n",
    "        perm = perm.reset_index(drop=True)\n",
    "        orig = pd.read_excel(f\"{p}{stage}/pestimates_b1_b2_fake.xlsx\")\n",
    "        orig_strong = orig[cols_strong]\n",
    "        orig_neither = orig[cols_neither]\n",
    "\n",
    "        df_strong = p_values(orig_strong, perm_strong, cols_strong)\n",
    "        df_neither = p_values(orig_neither, perm_neither, cols_neither)\n",
    "        df = pd.concat([df_strong, df_neither], axis = 1)\n",
    "        df.to_excel(f\"{p}{stage}/agg_pvalues_fake_b1_b2.xlsx\", index=False)"
   ]
  },
  {
   "cell_type": "code",
   "execution_count": 2,
   "id": "d5e382fc",
   "metadata": {},
   "outputs": [
    {
     "name": "stderr",
     "output_type": "stream",
     "text": [
      "C:\\Users\\Dell\\AppData\\Local\\Temp\\ipykernel_7972\\2735045837.py:33: FutureWarning: The frame.append method is deprecated and will be removed from pandas in a future version. Use pandas.concat instead.\n",
      "  b = b_pos.append(b_neg).reset_index(drop=True).reset_index()\n",
      "C:\\Users\\Dell\\AppData\\Local\\Temp\\ipykernel_7972\\2735045837.py:33: FutureWarning: The frame.append method is deprecated and will be removed from pandas in a future version. Use pandas.concat instead.\n",
      "  b = b_pos.append(b_neg).reset_index(drop=True).reset_index()\n",
      "C:\\Users\\Dell\\AppData\\Local\\Temp\\ipykernel_7972\\2735045837.py:33: FutureWarning: The frame.append method is deprecated and will be removed from pandas in a future version. Use pandas.concat instead.\n",
      "  b = b_pos.append(b_neg).reset_index(drop=True).reset_index()\n",
      "C:\\Users\\Dell\\AppData\\Local\\Temp\\ipykernel_7972\\2735045837.py:33: FutureWarning: The frame.append method is deprecated and will be removed from pandas in a future version. Use pandas.concat instead.\n",
      "  b = b_pos.append(b_neg).reset_index(drop=True).reset_index()\n",
      "C:\\Users\\Dell\\AppData\\Local\\Temp\\ipykernel_7972\\2735045837.py:33: FutureWarning: The frame.append method is deprecated and will be removed from pandas in a future version. Use pandas.concat instead.\n",
      "  b = b_pos.append(b_neg).reset_index(drop=True).reset_index()\n",
      "C:\\Users\\Dell\\AppData\\Local\\Temp\\ipykernel_7972\\2735045837.py:33: FutureWarning: The frame.append method is deprecated and will be removed from pandas in a future version. Use pandas.concat instead.\n",
      "  b = b_pos.append(b_neg).reset_index(drop=True).reset_index()\n",
      "C:\\Users\\Dell\\AppData\\Local\\Temp\\ipykernel_7972\\2735045837.py:33: FutureWarning: The frame.append method is deprecated and will be removed from pandas in a future version. Use pandas.concat instead.\n",
      "  b = b_pos.append(b_neg).reset_index(drop=True).reset_index()\n",
      "C:\\Users\\Dell\\AppData\\Local\\Temp\\ipykernel_7972\\2735045837.py:33: FutureWarning: The frame.append method is deprecated and will be removed from pandas in a future version. Use pandas.concat instead.\n",
      "  b = b_pos.append(b_neg).reset_index(drop=True).reset_index()\n",
      "C:\\Users\\Dell\\AppData\\Local\\Temp\\ipykernel_7972\\2735045837.py:33: FutureWarning: The frame.append method is deprecated and will be removed from pandas in a future version. Use pandas.concat instead.\n",
      "  b = b_pos.append(b_neg).reset_index(drop=True).reset_index()\n",
      "C:\\Users\\Dell\\AppData\\Local\\Temp\\ipykernel_7972\\2735045837.py:33: FutureWarning: The frame.append method is deprecated and will be removed from pandas in a future version. Use pandas.concat instead.\n",
      "  b = b_pos.append(b_neg).reset_index(drop=True).reset_index()\n",
      "C:\\Users\\Dell\\AppData\\Local\\Temp\\ipykernel_7972\\2735045837.py:33: FutureWarning: The frame.append method is deprecated and will be removed from pandas in a future version. Use pandas.concat instead.\n",
      "  b = b_pos.append(b_neg).reset_index(drop=True).reset_index()\n",
      "C:\\Users\\Dell\\AppData\\Local\\Temp\\ipykernel_7972\\2735045837.py:33: FutureWarning: The frame.append method is deprecated and will be removed from pandas in a future version. Use pandas.concat instead.\n",
      "  b = b_pos.append(b_neg).reset_index(drop=True).reset_index()\n"
     ]
    }
   ],
   "source": [
    "for country in ['KE', 'SA']:\n",
    "    for stage in ['stage1_2', 'stage3_4', 'stage5_6']:\n",
    "        p = f\"../../data/04-analysis/{country}/\"\n",
    "        perm = pd.DataFrame()\n",
    "        for i in range(0, 4):\n",
    "            df = pd.read_excel(f\"{p}{stage}/pestimates_b1_fake_{i}.xlsx\")\n",
    "            perm = pd.concat([perm, df])\n",
    "    \n",
    "        cols_strong = ([col for col in perm.columns if 'strong_' in col] + \n",
    "                       [col for col in perm.columns if 'weak_' in col])\n",
    "        cols_neither = ([col for col in perm.columns if 'neither_' in col])\n",
    "        perm_strong = perm[cols_strong]\n",
    "        perm_neither = perm[cols_neither]\n",
    "    \n",
    "        perm = perm.reset_index(drop=True)\n",
    "        orig = pd.read_excel(f\"{p}{stage}/pestimates_fake_b1.xlsx\")\n",
    "        orig_strong = orig[cols_strong]\n",
    "        orig_neither = orig[cols_neither]\n",
    "\n",
    "        df_strong = p_values(orig_strong, perm_strong, cols_strong)\n",
    "        df_neither = p_values(orig_neither, perm_neither, cols_neither)\n",
    "        df = pd.concat([df_strong, df_neither], axis = 1)\n",
    "        df.to_excel(f\"{p}{stage}/agg_pvalues_fake_b1.xlsx\", index=False)"
   ]
  },
  {
   "cell_type": "code",
   "execution_count": 6,
   "id": "ddf180b0",
   "metadata": {},
   "outputs": [
    {
     "name": "stderr",
     "output_type": "stream",
     "text": [
      "C:\\Users\\Dell\\AppData\\Local\\Temp\\ipykernel_21104\\2735045837.py:33: FutureWarning: The frame.append method is deprecated and will be removed from pandas in a future version. Use pandas.concat instead.\n",
      "  b = b_pos.append(b_neg).reset_index(drop=True).reset_index()\n",
      "C:\\Users\\Dell\\AppData\\Local\\Temp\\ipykernel_21104\\2735045837.py:33: FutureWarning: The frame.append method is deprecated and will be removed from pandas in a future version. Use pandas.concat instead.\n",
      "  b = b_pos.append(b_neg).reset_index(drop=True).reset_index()\n",
      "C:\\Users\\Dell\\AppData\\Local\\Temp\\ipykernel_21104\\2735045837.py:33: FutureWarning: The frame.append method is deprecated and will be removed from pandas in a future version. Use pandas.concat instead.\n",
      "  b = b_pos.append(b_neg).reset_index(drop=True).reset_index()\n",
      "C:\\Users\\Dell\\AppData\\Local\\Temp\\ipykernel_21104\\2735045837.py:33: FutureWarning: The frame.append method is deprecated and will be removed from pandas in a future version. Use pandas.concat instead.\n",
      "  b = b_pos.append(b_neg).reset_index(drop=True).reset_index()\n",
      "C:\\Users\\Dell\\AppData\\Local\\Temp\\ipykernel_21104\\2735045837.py:33: FutureWarning: The frame.append method is deprecated and will be removed from pandas in a future version. Use pandas.concat instead.\n",
      "  b = b_pos.append(b_neg).reset_index(drop=True).reset_index()\n",
      "C:\\Users\\Dell\\AppData\\Local\\Temp\\ipykernel_21104\\2735045837.py:33: FutureWarning: The frame.append method is deprecated and will be removed from pandas in a future version. Use pandas.concat instead.\n",
      "  b = b_pos.append(b_neg).reset_index(drop=True).reset_index()\n"
     ]
    }
   ],
   "source": [
    "### B1 ALL FAKE\n",
    "for country in ['SA', 'KE']:\n",
    "    for stage in ['stage1_2', 'stage3_4', 'stage5_6']:\n",
    "        p = f\"../../data/04-analysis/{country}/\"\n",
    "        perm = pd.DataFrame()\n",
    "        for i in range(0, 4):\n",
    "            df = pd.read_excel(f\"{p}{stage}/pestimates_b1_fake_all{i}.xlsx\")\n",
    "            perm = pd.concat([perm, df])\n",
    "    \n",
    "        cols = [col for col in perm.columns]\n",
    "    \n",
    "        perm = perm.reset_index(drop=True)\n",
    "        orig = pd.read_excel(f\"{p}{stage}/pestimates_b1_fake_all.xlsx\")\n",
    "\n",
    "        df = p_values(orig, perm, cols)\n",
    "\n",
    "        df.to_excel(f\"{p}{stage}/agg_pvalues_b1_fake_all.xlsx\", index=False)"
   ]
  },
  {
   "cell_type": "code",
   "execution_count": 8,
   "id": "0190dfbb",
   "metadata": {},
   "outputs": [
    {
     "name": "stderr",
     "output_type": "stream",
     "text": [
      "C:\\Users\\Dell\\AppData\\Local\\Temp\\ipykernel_21104\\2735045837.py:33: FutureWarning: The frame.append method is deprecated and will be removed from pandas in a future version. Use pandas.concat instead.\n",
      "  b = b_pos.append(b_neg).reset_index(drop=True).reset_index()\n",
      "C:\\Users\\Dell\\AppData\\Local\\Temp\\ipykernel_21104\\2735045837.py:33: FutureWarning: The frame.append method is deprecated and will be removed from pandas in a future version. Use pandas.concat instead.\n",
      "  b = b_pos.append(b_neg).reset_index(drop=True).reset_index()\n",
      "C:\\Users\\Dell\\AppData\\Local\\Temp\\ipykernel_21104\\2735045837.py:33: FutureWarning: The frame.append method is deprecated and will be removed from pandas in a future version. Use pandas.concat instead.\n",
      "  b = b_pos.append(b_neg).reset_index(drop=True).reset_index()\n"
     ]
    }
   ],
   "source": [
    "### B1 JOINT ALL FAKE\n",
    "for country in ['joint']:\n",
    "    for stage in ['stage1_2', 'stage3_4', 'stage5_6']:\n",
    "        p = f\"../../data/04-analysis/{country}/\"\n",
    "        perm = pd.DataFrame()\n",
    "        for i in range(1, 1001):\n",
    "            df = pd.read_excel(f\"{p}{stage}/pestimates_ver/b1_fake_all{i}.xlsx\")\n",
    "            perm = pd.concat([perm, df])\n",
    "    \n",
    "        cols = [col for col in perm.columns]\n",
    "    \n",
    "        perm = perm.reset_index(drop=True)\n",
    "        orig = pd.read_excel(f\"{p}{stage}/pestimates_b1_fake_all.xlsx\")\n",
    "\n",
    "        df = p_values(orig, perm, cols)\n",
    "\n",
    "        df.to_excel(f\"{p}{stage}/agg_pvalues_b1_fake_all.xlsx\", index=False)"
   ]
  },
  {
   "cell_type": "code",
   "execution_count": 7,
   "id": "99113f8c",
   "metadata": {},
   "outputs": [
    {
     "name": "stderr",
     "output_type": "stream",
     "text": [
      "C:\\Users\\Dell\\AppData\\Local\\Temp\\ipykernel_21104\\2735045837.py:33: FutureWarning: The frame.append method is deprecated and will be removed from pandas in a future version. Use pandas.concat instead.\n",
      "  b = b_pos.append(b_neg).reset_index(drop=True).reset_index()\n",
      "C:\\Users\\Dell\\AppData\\Local\\Temp\\ipykernel_21104\\2735045837.py:33: FutureWarning: The frame.append method is deprecated and will be removed from pandas in a future version. Use pandas.concat instead.\n",
      "  b = b_pos.append(b_neg).reset_index(drop=True).reset_index()\n",
      "C:\\Users\\Dell\\AppData\\Local\\Temp\\ipykernel_21104\\2735045837.py:33: FutureWarning: The frame.append method is deprecated and will be removed from pandas in a future version. Use pandas.concat instead.\n",
      "  b = b_pos.append(b_neg).reset_index(drop=True).reset_index()\n",
      "C:\\Users\\Dell\\AppData\\Local\\Temp\\ipykernel_21104\\2735045837.py:33: FutureWarning: The frame.append method is deprecated and will be removed from pandas in a future version. Use pandas.concat instead.\n",
      "  b = b_pos.append(b_neg).reset_index(drop=True).reset_index()\n",
      "C:\\Users\\Dell\\AppData\\Local\\Temp\\ipykernel_21104\\2735045837.py:33: FutureWarning: The frame.append method is deprecated and will be removed from pandas in a future version. Use pandas.concat instead.\n",
      "  b = b_pos.append(b_neg).reset_index(drop=True).reset_index()\n",
      "C:\\Users\\Dell\\AppData\\Local\\Temp\\ipykernel_21104\\2735045837.py:33: FutureWarning: The frame.append method is deprecated and will be removed from pandas in a future version. Use pandas.concat instead.\n",
      "  b = b_pos.append(b_neg).reset_index(drop=True).reset_index()\n"
     ]
    }
   ],
   "source": [
    "### JOINT B1 FAKE\n",
    "country = 'joint'\n",
    "\n",
    "for stage in ['stage1_2', 'stage3_4', 'stage5_6']:\n",
    "    p = f\"../../data/04-analysis/{country}/\"\n",
    "    perm = pd.DataFrame()\n",
    "    for i in range(1, 1001):\n",
    "        df = pd.read_excel(f\"{p}{stage}/pestimates_ver/b1_fake_{i}.xlsx\")\n",
    "        perm = pd.concat([perm, df])\n",
    "    \n",
    "    cols_strong = ([col for col in perm.columns if 'strong_' in col] + \n",
    "                   [col for col in perm.columns if 'weak_' in col])\n",
    "    cols_neither = ([col for col in perm.columns if 'neither_' in col])\n",
    "    perm_strong = perm[cols_strong]\n",
    "    perm_neither = perm[cols_neither]\n",
    "    \n",
    "    perm = perm.reset_index(drop=True)\n",
    "    orig = pd.read_excel(f\"{p}{stage}/pestimates_b1_fake.xlsx\")\n",
    "    orig_strong = orig[cols_strong]\n",
    "    orig_neither = orig[cols_neither]\n",
    "\n",
    "    df_strong = p_values(orig_strong, perm_strong, cols_strong)\n",
    "    df_neither = p_values(orig_neither, perm_neither, cols_neither)\n",
    "    df = pd.concat([df_strong, df_neither], axis = 1)\n",
    "    df.to_excel(f\"{p}{stage}/agg_pvalues_b1_fake.xlsx\", index=False)"
   ]
  },
  {
   "cell_type": "code",
   "execution_count": 3,
   "id": "5b149a29",
   "metadata": {},
   "outputs": [
    {
     "name": "stderr",
     "output_type": "stream",
     "text": [
      "C:\\Users\\Dell\\AppData\\Local\\Temp\\ipykernel_38336\\2735045837.py:33: FutureWarning: The frame.append method is deprecated and will be removed from pandas in a future version. Use pandas.concat instead.\n",
      "  b = b_pos.append(b_neg).reset_index(drop=True).reset_index()\n",
      "C:\\Users\\Dell\\AppData\\Local\\Temp\\ipykernel_38336\\2735045837.py:33: FutureWarning: The frame.append method is deprecated and will be removed from pandas in a future version. Use pandas.concat instead.\n",
      "  b = b_pos.append(b_neg).reset_index(drop=True).reset_index()\n"
     ]
    }
   ],
   "source": [
    "country = 'joint'\n",
    "stage = 'stage1_2'\n",
    "p = f\"../../data/04-analysis/{country}/\"\n",
    "perm = pd.DataFrame()\n",
    "for i in range(1, 1001):\n",
    "    df = pd.read_excel(f\"{p}{stage}/pestimates/country_b1b2p_{i}.xlsx\")\n",
    "    perm = pd.concat([perm, df])\n",
    "    \n",
    "cols_strong = ([col for col in perm.columns if 'strong_' in col] + \n",
    "               [col for col in perm.columns if 'weak_' in col])\n",
    "cols_neither = ([col for col in perm.columns if 'neither_' in col])\n",
    "perm_strong = perm[cols_strong]\n",
    "perm_neither = perm[cols_neither]\n",
    "    \n",
    "perm = perm.reset_index(drop=True)\n",
    "orig = pd.read_excel(f\"{p}{stage}/pestimates_sentiment_b1b2p_country.xlsx\")\n",
    "orig_strong = orig[cols_strong]\n",
    "orig_neither = orig[cols_neither]\n",
    "\n",
    "df_strong = p_values(orig_strong, perm_strong, cols_strong)\n",
    "df_neither = p_values(orig_neither, perm_neither, cols_neither)\n",
    "df = pd.concat([df_strong, df_neither], axis = 1)\n",
    "df.to_excel(f\"{p}{stage}/agg_pvalues_sentiments_b1b2p.xlsx\", index=False)"
   ]
  },
  {
   "cell_type": "code",
   "execution_count": 5,
   "id": "0c21d40b",
   "metadata": {},
   "outputs": [
    {
     "name": "stderr",
     "output_type": "stream",
     "text": [
      "C:\\Users\\Dell\\AppData\\Local\\Temp\\ipykernel_38336\\2735045837.py:33: FutureWarning: The frame.append method is deprecated and will be removed from pandas in a future version. Use pandas.concat instead.\n",
      "  b = b_pos.append(b_neg).reset_index(drop=True).reset_index()\n"
     ]
    }
   ],
   "source": [
    "country = 'joint'\n",
    "stage = 'stage1_2'\n",
    "p = f\"../../data/04-analysis/{country}/\"\n",
    "perm = pd.DataFrame()\n",
    "for i in range(1, 1001):\n",
    "    df = pd.read_excel(f\"{p}{stage}/pestimates/all_country_b1b2_{i}.xlsx\")\n",
    "    perm = pd.concat([perm, df])\n",
    "    \n",
    "cols = [col for col in perm.columns]\n",
    "    \n",
    "perm = perm.reset_index(drop=True)\n",
    "orig = pd.read_excel(f\"{p}{stage}/pestimates_sentiment_b1b2_all_country.xlsx\")\n",
    "\n",
    "df = p_values(orig, perm, cols)\n",
    "\n",
    "df.to_excel(f\"{p}{stage}/agg_pvalues_sentiment_b1b2_all.xlsx\", index=False)"
   ]
  },
  {
   "cell_type": "code",
   "execution_count": 15,
   "id": "b78dabed",
   "metadata": {},
   "outputs": [
    {
     "name": "stderr",
     "output_type": "stream",
     "text": [
      "C:\\Users\\Dell\\AppData\\Local\\Temp\\ipykernel_15092\\2735045837.py:33: FutureWarning: The frame.append method is deprecated and will be removed from pandas in a future version. Use pandas.concat instead.\n",
      "  b = b_pos.append(b_neg).reset_index(drop=True).reset_index()\n"
     ]
    }
   ],
   "source": [
    "country = 'KE'\n",
    "stage = 'stage1_2'\n",
    "p = f\"../../data/04-analysis/{country}/\"\n",
    "perm = pd.DataFrame()\n",
    "for i in range(0, 4):\n",
    "    df = pd.read_excel(f\"{p}{stage}/pestimates_sentiment_b1_all_{i}.xlsx\")\n",
    "    perm = pd.concat([perm, df])\n",
    "    \n",
    "cols = [col for col in perm.columns]\n",
    "    \n",
    "perm = perm.reset_index(drop=True)\n",
    "orig = pd.read_excel(f\"{p}{stage}/pestimates_sentiment_b1_all.xlsx\")\n",
    "\n",
    "df = p_values(orig, perm, cols)\n",
    "\n",
    "df.to_excel(f\"{p}{stage}/agg_pvalues_sentiment_all.xlsx\", index=False)"
   ]
  },
  {
   "cell_type": "code",
   "execution_count": 9,
   "id": "3b2a0657",
   "metadata": {},
   "outputs": [
    {
     "name": "stderr",
     "output_type": "stream",
     "text": [
      "C:\\Users\\Dell\\AppData\\Local\\Temp\\ipykernel_15092\\2735045837.py:33: FutureWarning: The frame.append method is deprecated and will be removed from pandas in a future version. Use pandas.concat instead.\n",
      "  b = b_pos.append(b_neg).reset_index(drop=True).reset_index()\n"
     ]
    }
   ],
   "source": [
    "country = 'joint'\n",
    "stage = 'stage5_6'\n",
    "p = f\"../../data/04-analysis/{country}/\"\n",
    "perm = pd.DataFrame()\n",
    "for i in range(1, 1001):\n",
    "    df = pd.read_excel(f\"{p}{stage}/pestimates/all_country_{i}.xlsx\")\n",
    "    perm = pd.concat([perm, df])\n",
    "    \n",
    "cols = [col for col in perm.columns]\n",
    "    \n",
    "perm = perm.reset_index(drop=True)\n",
    "orig = pd.read_excel(f\"{p}{stage}/pestimates_sentiment_b1_all_country.xlsx\")\n",
    "\n",
    "df = p_values(orig, perm, cols)\n",
    "\n",
    "df.to_excel(f\"{p}{stage}/agg_pvalues_sentiment_all.xlsx\", index=False)"
   ]
  },
  {
   "cell_type": "code",
   "execution_count": 6,
   "id": "249717ea",
   "metadata": {},
   "outputs": [
    {
     "name": "stderr",
     "output_type": "stream",
     "text": [
      "C:\\Users\\Dell\\AppData\\Local\\Temp\\ipykernel_15092\\2735045837.py:33: FutureWarning: The frame.append method is deprecated and will be removed from pandas in a future version. Use pandas.concat instead.\n",
      "  b = b_pos.append(b_neg).reset_index(drop=True).reset_index()\n",
      "C:\\Users\\Dell\\AppData\\Local\\Temp\\ipykernel_15092\\2735045837.py:33: FutureWarning: The frame.append method is deprecated and will be removed from pandas in a future version. Use pandas.concat instead.\n",
      "  b = b_pos.append(b_neg).reset_index(drop=True).reset_index()\n"
     ]
    }
   ],
   "source": [
    "country = 'joint'\n",
    "stage = 'stage5_6'\n",
    "p = f\"../../data/04-analysis/{country}/\"\n",
    "perm = pd.DataFrame()\n",
    "for i in range(1, 1001):\n",
    "    df = pd.read_excel(f\"{p}{stage}/pestimates/country_{i}.xlsx\")\n",
    "    perm = pd.concat([perm, df])\n",
    "    \n",
    "cols_strong = ([col for col in perm.columns if 'strong_' in col] + \n",
    "               [col for col in perm.columns if 'weak_' in col])\n",
    "cols_neither = ([col for col in perm.columns if 'neither_' in col])\n",
    "perm_strong = perm[cols_strong]\n",
    "perm_neither = perm[cols_neither]\n",
    "    \n",
    "perm = perm.reset_index(drop=True)\n",
    "orig = pd.read_excel(f\"{p}{stage}/pestimates_sentiment_b1_country.xlsx\")\n",
    "orig_strong = orig[cols_strong]\n",
    "orig_neither = orig[cols_neither]\n",
    "\n",
    "df_strong = p_values(orig_strong, perm_strong, cols_strong)\n",
    "df_neither = p_values(orig_neither, perm_neither, cols_neither)\n",
    "df = pd.concat([df_strong, df_neither], axis = 1)\n",
    "df.to_excel(f\"{p}{stage}/agg_pvalues_sentiments_b1.xlsx\", index=False)"
   ]
  },
  {
   "cell_type": "code",
   "execution_count": 7,
   "id": "8045002f",
   "metadata": {},
   "outputs": [
    {
     "name": "stderr",
     "output_type": "stream",
     "text": [
      "C:\\Users\\Dell\\AppData\\Local\\Temp\\ipykernel_18872\\2735045837.py:33: FutureWarning: The frame.append method is deprecated and will be removed from pandas in a future version. Use pandas.concat instead.\n",
      "  b = b_pos.append(b_neg).reset_index(drop=True).reset_index()\n",
      "C:\\Users\\Dell\\AppData\\Local\\Temp\\ipykernel_18872\\2735045837.py:33: FutureWarning: The frame.append method is deprecated and will be removed from pandas in a future version. Use pandas.concat instead.\n",
      "  b = b_pos.append(b_neg).reset_index(drop=True).reset_index()\n"
     ]
    }
   ],
   "source": [
    "country = 'KE'\n",
    "stage = 'stage5_6'\n",
    "p = f\"../../data/04-analysis/{country}/\"\n",
    "perm = pd.DataFrame()\n",
    "for i in range(0, 4):\n",
    "    df = pd.read_excel(f\"{p}{stage}/pestimates_sentiment_b1_{i}.xlsx\")\n",
    "    perm = pd.concat([perm, df])\n",
    "    \n",
    "cols_strong = ([col for col in perm.columns if 'strong_' in col] + \n",
    "               [col for col in perm.columns if 'weak_' in col])\n",
    "cols_neither = ([col for col in perm.columns if 'neither_' in col])\n",
    "perm_strong = perm[cols_strong]\n",
    "perm_neither = perm[cols_neither]\n",
    "    \n",
    "perm = perm.reset_index(drop=True)\n",
    "orig = pd.read_excel(f\"{p}{stage}/pestimates_sentiment_b1.xlsx\")\n",
    "orig_strong = orig[cols_strong]\n",
    "orig_neither = orig[cols_neither]\n",
    "\n",
    "df_strong = p_values(orig_strong, perm_strong, cols_strong)\n",
    "df_neither = p_values(orig_neither, perm_neither, cols_neither)\n",
    "df = pd.concat([df_strong, df_neither], axis = 1)\n",
    "df.to_excel(f\"{p}{stage}/agg_pvalues_sentiments_b1.xlsx\", index=False)"
   ]
  },
  {
   "cell_type": "code",
   "execution_count": 5,
   "id": "11c6d97d",
   "metadata": {},
   "outputs": [
    {
     "name": "stderr",
     "output_type": "stream",
     "text": [
      "C:\\Users\\Dell\\AppData\\Local\\Temp\\ipykernel_19600\\2735045837.py:33: FutureWarning: The frame.append method is deprecated and will be removed from pandas in a future version. Use pandas.concat instead.\n",
      "  b = b_pos.append(b_neg).reset_index(drop=True).reset_index()\n",
      "C:\\Users\\Dell\\AppData\\Local\\Temp\\ipykernel_19600\\2735045837.py:33: FutureWarning: The frame.append method is deprecated and will be removed from pandas in a future version. Use pandas.concat instead.\n",
      "  b = b_pos.append(b_neg).reset_index(drop=True).reset_index()\n"
     ]
    }
   ],
   "source": [
    "country = 'KE'\n",
    "stage = 'stage1_2'\n",
    "p = f\"../../data/04-analysis/{country}/\"\n",
    "perm = pd.DataFrame()\n",
    "for i in range(0, 4):\n",
    "    df = pd.read_excel(f\"{p}{stage}/pestimates_b1_b2_p{i}.xlsx\")\n",
    "    perm = pd.concat([perm, df])\n",
    "    \n",
    "cols_strong = ([col for col in perm.columns if 'strong_' in col] + \n",
    "               [col for col in perm.columns if 'weak_' in col])\n",
    "cols_neither = ([col for col in perm.columns if 'neither_' in col])\n",
    "perm_strong = perm[cols_strong]\n",
    "perm_neither = perm[cols_neither]\n",
    "    \n",
    "perm = perm.reset_index(drop=True)\n",
    "orig = pd.read_excel(f\"{p}{stage}/pestimates_b1_b2_p.xlsx\")\n",
    "orig_strong = orig[cols_strong]\n",
    "orig_neither = orig[cols_neither]\n",
    "\n",
    "df_strong = p_values(orig_strong, perm_strong, cols_strong)\n",
    "df_neither = p_values(orig_neither, perm_neither, cols_neither)\n",
    "df = pd.concat([df_strong, df_neither], axis = 1)\n",
    "df.to_excel(f\"{p}{stage}/agg_pvalues_b1_b2_p.xlsx\", index=False)"
   ]
  },
  {
   "cell_type": "code",
   "execution_count": 4,
   "id": "7e602225",
   "metadata": {},
   "outputs": [
    {
     "name": "stderr",
     "output_type": "stream",
     "text": [
      "C:\\Users\\Dell\\AppData\\Local\\Temp\\ipykernel_19600\\2735045837.py:33: FutureWarning: The frame.append method is deprecated and will be removed from pandas in a future version. Use pandas.concat instead.\n",
      "  b = b_pos.append(b_neg).reset_index(drop=True).reset_index()\n"
     ]
    }
   ],
   "source": [
    "country = 'SA'\n",
    "stage = 'stage1_2'\n",
    "p = f\"../../data/04-analysis/{country}/\"\n",
    "perm = pd.DataFrame()\n",
    "for i in range(0, 4):\n",
    "    df = pd.read_excel(f\"{p}{stage}/pestimates_b1_b2_p_all{i}.xlsx\")\n",
    "    perm = pd.concat([perm, df])\n",
    "    \n",
    "cols = [col for col in perm.columns]\n",
    "    \n",
    "perm = perm.reset_index(drop=True)\n",
    "orig = pd.read_excel(f\"{p}{stage}/pestimates_b1_b2_p_all.xlsx\")\n",
    "\n",
    "df = p_values(orig, perm, cols)\n",
    "\n",
    "df.to_excel(f\"{p}{stage}/agg_pvalues_b1_b2_p_all.xlsx\", index=False)"
   ]
  },
  {
   "cell_type": "code",
   "execution_count": 22,
   "id": "d8e5fe46",
   "metadata": {},
   "outputs": [
    {
     "name": "stderr",
     "output_type": "stream",
     "text": [
      "C:\\Users\\Dell\\AppData\\Local\\Temp\\ipykernel_25112\\2735045837.py:33: FutureWarning: The frame.append method is deprecated and will be removed from pandas in a future version. Use pandas.concat instead.\n",
      "  b = b_pos.append(b_neg).reset_index(drop=True).reset_index()\n",
      "C:\\Users\\Dell\\AppData\\Local\\Temp\\ipykernel_25112\\2735045837.py:33: FutureWarning: The frame.append method is deprecated and will be removed from pandas in a future version. Use pandas.concat instead.\n",
      "  b = b_pos.append(b_neg).reset_index(drop=True).reset_index()\n"
     ]
    }
   ],
   "source": [
    "country = 'KE'\n",
    "stage = 'stage5_6'\n",
    "p = f\"../../data/04-analysis/{country}/\"\n",
    "perm = pd.DataFrame()\n",
    "for i in range(0, 4):\n",
    "    df = pd.read_excel(f\"{p}{stage}/pestimates_b1_{i}.xlsx\")\n",
    "    perm = pd.concat([perm, df])\n",
    "    \n",
    "cols_strong = ([col for col in perm.columns if 'strong_' in col] + \n",
    "               [col for col in perm.columns if 'weak_' in col])\n",
    "cols_neither = ([col for col in perm.columns if 'neither_' in col])\n",
    "perm_strong = perm[cols_strong]\n",
    "perm_neither = perm[cols_neither]\n",
    "    \n",
    "perm = perm.reset_index(drop=True)\n",
    "orig = pd.read_excel(f\"{p}{stage}/pestimates_b1.xlsx\")\n",
    "orig_strong = orig[cols_strong]\n",
    "orig_neither = orig[cols_neither]\n",
    "\n",
    "df_strong = p_values(orig_strong, perm_strong, cols_strong)\n",
    "df_neither = p_values(orig_neither, perm_neither, cols_neither)\n",
    "df = pd.concat([df_strong, df_neither], axis = 1)\n",
    "df.to_excel(f\"{p}{stage}/agg_pvalues_b1.xlsx\", index=False)"
   ]
  },
  {
   "cell_type": "code",
   "execution_count": 20,
   "id": "8a5ded27",
   "metadata": {},
   "outputs": [
    {
     "name": "stderr",
     "output_type": "stream",
     "text": [
      "C:\\Users\\Dell\\AppData\\Local\\Temp\\ipykernel_25112\\2735045837.py:33: FutureWarning: The frame.append method is deprecated and will be removed from pandas in a future version. Use pandas.concat instead.\n",
      "  b = b_pos.append(b_neg).reset_index(drop=True).reset_index()\n"
     ]
    }
   ],
   "source": [
    "country = 'KE'\n",
    "stage = 'stage5_6'\n",
    "p = f\"../../data/04-analysis/{country}/\"\n",
    "perm = pd.DataFrame()\n",
    "for i in range(0, 4):\n",
    "    df = pd.read_excel(f\"{p}{stage}/pestimates_b1_all{i}.xlsx\")\n",
    "    perm = pd.concat([perm, df])\n",
    "    \n",
    "cols = [col for col in perm.columns]\n",
    "    \n",
    "perm = perm.reset_index(drop=True)\n",
    "orig = pd.read_excel(f\"{p}{stage}/pestimates_b1_all.xlsx\")\n",
    "\n",
    "df = p_values(orig, perm, cols)\n",
    "\n",
    "df.to_excel(f\"{p}{stage}/agg_pvalues_b1_all.xlsx\", index=False)"
   ]
  },
  {
   "cell_type": "code",
   "execution_count": 5,
   "id": "0f8dc3be",
   "metadata": {},
   "outputs": [
    {
     "data": {
      "text/html": [
       "<div>\n",
       "<style scoped>\n",
       "    .dataframe tbody tr th:only-of-type {\n",
       "        vertical-align: middle;\n",
       "    }\n",
       "\n",
       "    .dataframe tbody tr th {\n",
       "        vertical-align: top;\n",
       "    }\n",
       "\n",
       "    .dataframe thead th {\n",
       "        text-align: right;\n",
       "    }\n",
       "</style>\n",
       "<table border=\"1\" class=\"dataframe\">\n",
       "  <thead>\n",
       "    <tr style=\"text-align: right;\">\n",
       "      <th></th>\n",
       "      <th>strong_ver_rt</th>\n",
       "      <th>strong_ver_rt_f</th>\n",
       "      <th>strong_true_rt</th>\n",
       "      <th>strong_true_rt_f</th>\n",
       "      <th>strong_n_posts_rt</th>\n",
       "      <th>strong_n_posts_rt_f</th>\n",
       "      <th>strong_ver_no_rt</th>\n",
       "      <th>strong_ver_no_rt_f</th>\n",
       "      <th>strong_true_no_rt</th>\n",
       "      <th>strong_true_no_rt_f</th>\n",
       "      <th>...</th>\n",
       "      <th>neither_true_rt</th>\n",
       "      <th>neither_true_rt_f</th>\n",
       "      <th>neither_n_posts_rt</th>\n",
       "      <th>neither_n_posts_rt_f</th>\n",
       "      <th>neither_ver_no_rt</th>\n",
       "      <th>neither_ver_no_rt_f</th>\n",
       "      <th>neither_true_no_rt</th>\n",
       "      <th>neither_true_no_rt_f</th>\n",
       "      <th>neither_n_posts_no_rt</th>\n",
       "      <th>neither_n_posts_no_rt_f</th>\n",
       "    </tr>\n",
       "  </thead>\n",
       "  <tbody>\n",
       "    <tr>\n",
       "      <th>0</th>\n",
       "      <td>0.558</td>\n",
       "      <td>0.499</td>\n",
       "      <td>0.516</td>\n",
       "      <td>0.533</td>\n",
       "      <td>0.315</td>\n",
       "      <td>0.37</td>\n",
       "      <td>0.281</td>\n",
       "      <td>0.463</td>\n",
       "      <td>0.436</td>\n",
       "      <td>0.389</td>\n",
       "      <td>...</td>\n",
       "      <td>0.023</td>\n",
       "      <td>0.005</td>\n",
       "      <td>0.217</td>\n",
       "      <td>0.127</td>\n",
       "      <td>0.626</td>\n",
       "      <td>0.218</td>\n",
       "      <td>0.197</td>\n",
       "      <td>0.605</td>\n",
       "      <td>0.393</td>\n",
       "      <td>0.611</td>\n",
       "    </tr>\n",
       "  </tbody>\n",
       "</table>\n",
       "<p>1 rows × 36 columns</p>\n",
       "</div>"
      ],
      "text/plain": [
       "0 strong_ver_rt strong_ver_rt_f strong_true_rt strong_true_rt_f  \\\n",
       "0         0.558           0.499          0.516            0.533   \n",
       "\n",
       "0 strong_n_posts_rt strong_n_posts_rt_f strong_ver_no_rt strong_ver_no_rt_f  \\\n",
       "0             0.315                0.37            0.281              0.463   \n",
       "\n",
       "0 strong_true_no_rt strong_true_no_rt_f  ... neither_true_rt  \\\n",
       "0             0.436               0.389  ...           0.023   \n",
       "\n",
       "0 neither_true_rt_f neither_n_posts_rt neither_n_posts_rt_f neither_ver_no_rt  \\\n",
       "0             0.005              0.217                0.127             0.626   \n",
       "\n",
       "0 neither_ver_no_rt_f neither_true_no_rt neither_true_no_rt_f  \\\n",
       "0               0.218              0.197                0.605   \n",
       "\n",
       "0 neither_n_posts_no_rt neither_n_posts_no_rt_f  \n",
       "0                 0.393                   0.611  \n",
       "\n",
       "[1 rows x 36 columns]"
      ]
     },
     "execution_count": 5,
     "metadata": {},
     "output_type": "execute_result"
    }
   ],
   "source": [
    "df"
   ]
  },
  {
   "cell_type": "code",
   "execution_count": 9,
   "id": "2c3298da",
   "metadata": {},
   "outputs": [
    {
     "name": "stderr",
     "output_type": "stream",
     "text": [
      "C:\\Users\\Dell\\AppData\\Local\\Temp\\ipykernel_20544\\2735045837.py:33: FutureWarning: The frame.append method is deprecated and will be removed from pandas in a future version. Use pandas.concat instead.\n",
      "  b = b_pos.append(b_neg).reset_index(drop=True).reset_index()\n",
      "C:\\Users\\Dell\\AppData\\Local\\Temp\\ipykernel_20544\\2735045837.py:33: FutureWarning: The frame.append method is deprecated and will be removed from pandas in a future version. Use pandas.concat instead.\n",
      "  b = b_pos.append(b_neg).reset_index(drop=True).reset_index()\n"
     ]
    }
   ],
   "source": [
    "country = 'SA'\n",
    "stage = 'stage1_2'\n",
    "p = f\"../../data/04-analysis/{country}/\"\n",
    "perm = pd.DataFrame()\n",
    "for i in range(0, 4):\n",
    "    df = pd.read_excel(f\"{p}{stage}/pestimates_b1_b2_{i}.xlsx\")\n",
    "    perm = pd.concat([perm, df])\n",
    "    \n",
    "cols_strong = ([col for col in perm.columns if 'strong_' in col] + \n",
    "               [col for col in perm.columns if 'weak_' in col])\n",
    "cols_neither = ([col for col in perm.columns if 'neither_' in col])\n",
    "perm_strong = perm[cols_strong]\n",
    "perm_neither = perm[cols_neither]\n",
    "    \n",
    "perm = perm.reset_index(drop=True)\n",
    "orig = pd.read_excel(f\"{p}{stage}/pestimates_b1_b2.xlsx\")\n",
    "orig_strong = orig[cols_strong]\n",
    "orig_neither = orig[cols_neither]\n",
    "\n",
    "df_strong = p_values(orig_strong, perm_strong, cols_strong)\n",
    "df_neither = p_values(orig_neither, perm_neither, cols_neither)\n",
    "df = pd.concat([df_strong, df_neither], axis = 1)\n",
    "df.to_excel(f\"{p}{stage}/agg_pvalues_b1_b2.xlsx\", index=False)"
   ]
  },
  {
   "cell_type": "code",
   "execution_count": 10,
   "id": "f90930a6",
   "metadata": {},
   "outputs": [
    {
     "data": {
      "text/html": [
       "<div>\n",
       "<style scoped>\n",
       "    .dataframe tbody tr th:only-of-type {\n",
       "        vertical-align: middle;\n",
       "    }\n",
       "\n",
       "    .dataframe tbody tr th {\n",
       "        vertical-align: top;\n",
       "    }\n",
       "\n",
       "    .dataframe thead th {\n",
       "        text-align: right;\n",
       "    }\n",
       "</style>\n",
       "<table border=\"1\" class=\"dataframe\">\n",
       "  <thead>\n",
       "    <tr style=\"text-align: right;\">\n",
       "      <th></th>\n",
       "      <th>strong_ver_rt</th>\n",
       "      <th>strong_ver_rt_f</th>\n",
       "      <th>strong_true_rt</th>\n",
       "      <th>strong_true_rt_f</th>\n",
       "      <th>strong_n_posts_rt</th>\n",
       "      <th>strong_n_posts_rt_f</th>\n",
       "      <th>strong_ver_no_rt</th>\n",
       "      <th>strong_ver_no_rt_f</th>\n",
       "      <th>strong_true_no_rt</th>\n",
       "      <th>strong_true_no_rt_f</th>\n",
       "      <th>...</th>\n",
       "      <th>neither_true_rt</th>\n",
       "      <th>neither_true_rt_f</th>\n",
       "      <th>neither_n_posts_rt</th>\n",
       "      <th>neither_n_posts_rt_f</th>\n",
       "      <th>neither_ver_no_rt</th>\n",
       "      <th>neither_ver_no_rt_f</th>\n",
       "      <th>neither_true_no_rt</th>\n",
       "      <th>neither_true_no_rt_f</th>\n",
       "      <th>neither_n_posts_no_rt</th>\n",
       "      <th>neither_n_posts_no_rt_f</th>\n",
       "    </tr>\n",
       "  </thead>\n",
       "  <tbody>\n",
       "    <tr>\n",
       "      <th>0</th>\n",
       "      <td>0.998</td>\n",
       "      <td>1.0</td>\n",
       "      <td>1.0</td>\n",
       "      <td>1.0</td>\n",
       "      <td>0.997</td>\n",
       "      <td>1.0</td>\n",
       "      <td>0.021</td>\n",
       "      <td>0.998</td>\n",
       "      <td>0.005</td>\n",
       "      <td>0.001</td>\n",
       "      <td>...</td>\n",
       "      <td>0.005</td>\n",
       "      <td>0.009</td>\n",
       "      <td>0.717</td>\n",
       "      <td>0.714</td>\n",
       "      <td>0.203</td>\n",
       "      <td>0.306</td>\n",
       "      <td>0.159</td>\n",
       "      <td>0.313</td>\n",
       "      <td>0.124</td>\n",
       "      <td>0.117</td>\n",
       "    </tr>\n",
       "  </tbody>\n",
       "</table>\n",
       "<p>1 rows × 36 columns</p>\n",
       "</div>"
      ],
      "text/plain": [
       "0 strong_ver_rt strong_ver_rt_f strong_true_rt strong_true_rt_f  \\\n",
       "0         0.998             1.0            1.0              1.0   \n",
       "\n",
       "0 strong_n_posts_rt strong_n_posts_rt_f strong_ver_no_rt strong_ver_no_rt_f  \\\n",
       "0             0.997                 1.0            0.021              0.998   \n",
       "\n",
       "0 strong_true_no_rt strong_true_no_rt_f  ... neither_true_rt  \\\n",
       "0             0.005               0.001  ...           0.005   \n",
       "\n",
       "0 neither_true_rt_f neither_n_posts_rt neither_n_posts_rt_f neither_ver_no_rt  \\\n",
       "0             0.009              0.717                0.714             0.203   \n",
       "\n",
       "0 neither_ver_no_rt_f neither_true_no_rt neither_true_no_rt_f  \\\n",
       "0               0.306              0.159                0.313   \n",
       "\n",
       "0 neither_n_posts_no_rt neither_n_posts_no_rt_f  \n",
       "0                 0.124                   0.117  \n",
       "\n",
       "[1 rows x 36 columns]"
      ]
     },
     "execution_count": 10,
     "metadata": {},
     "output_type": "execute_result"
    }
   ],
   "source": [
    "df"
   ]
  },
  {
   "cell_type": "code",
   "execution_count": 11,
   "id": "6dd3e47b",
   "metadata": {},
   "outputs": [
    {
     "name": "stderr",
     "output_type": "stream",
     "text": [
      "C:\\Users\\Dell\\AppData\\Local\\Temp\\ipykernel_20544\\2735045837.py:33: FutureWarning: The frame.append method is deprecated and will be removed from pandas in a future version. Use pandas.concat instead.\n",
      "  b = b_pos.append(b_neg).reset_index(drop=True).reset_index()\n"
     ]
    }
   ],
   "source": [
    "country = 'KE'\n",
    "stage = 'stage1_2'\n",
    "p = f\"../../data/04-analysis/{country}/\"\n",
    "perm = pd.DataFrame()\n",
    "for i in range(0, 4):\n",
    "    df = pd.read_excel(f\"{p}{stage}/pestimates_b1_b2_all{i}.xlsx\")\n",
    "    perm = pd.concat([perm, df])\n",
    "    \n",
    "cols = [col for col in perm.columns]\n",
    "    \n",
    "perm = perm.reset_index(drop=True)\n",
    "orig = pd.read_excel(f\"{p}{stage}/pestimates_b1_b2_all.xlsx\")\n",
    "\n",
    "df = p_values(orig, perm, cols)\n",
    "\n",
    "df.to_excel(f\"{p}{stage}/agg_pvalues_b1_b2_all.xlsx\", index=False)"
   ]
  },
  {
   "cell_type": "code",
   "execution_count": 9,
   "id": "f7fd6370",
   "metadata": {},
   "outputs": [
    {
     "name": "stderr",
     "output_type": "stream",
     "text": [
      "C:\\Users\\Dell\\AppData\\Local\\Temp\\ipykernel_28352\\2735045837.py:33: FutureWarning: The frame.append method is deprecated and will be removed from pandas in a future version. Use pandas.concat instead.\n",
      "  b = b_pos.append(b_neg).reset_index(drop=True).reset_index()\n",
      "C:\\Users\\Dell\\AppData\\Local\\Temp\\ipykernel_28352\\2735045837.py:33: FutureWarning: The frame.append method is deprecated and will be removed from pandas in a future version. Use pandas.concat instead.\n",
      "  b = b_pos.append(b_neg).reset_index(drop=True).reset_index()\n"
     ]
    }
   ],
   "source": [
    "country = 'KE'\n",
    "stage = 'stage6'\n",
    "p = f\"../../data/04-analysis/{country}/\"\n",
    "perm = pd.DataFrame()\n",
    "for i in range(0, 4):\n",
    "    df = pd.read_excel(f\"{p}{stage}/pestimates_sentiment{i}.xlsx\")\n",
    "    perm = pd.concat([perm, df])\n",
    "    \n",
    "cols_strong = ([col for col in perm.columns if 'strong_' in col] + \n",
    "               [col for col in perm.columns if 'weak_' in col])\n",
    "cols_neither = ([col for col in perm.columns if 'neither_' in col])\n",
    "perm_strong = perm[cols_strong]\n",
    "perm_neither = perm[cols_neither]\n",
    "    \n",
    "perm = perm.reset_index(drop=True)\n",
    "orig = pd.read_excel(f\"{p}{stage}/pestimates_sentiment.xlsx\")\n",
    "orig_strong = orig[cols_strong]\n",
    "orig_neither = orig[cols_neither]\n",
    "\n",
    "df_strong = p_values(orig_strong, perm_strong, cols_strong)\n",
    "df_neither = p_values(orig_neither, perm_neither, cols_neither)\n",
    "df = pd.concat([df_strong, df_neither], axis = 1)\n",
    "df.to_excel(f\"{p}{stage}/agg_pvalues_sentiment.xlsx\", index=False)"
   ]
  },
  {
   "cell_type": "code",
   "execution_count": 11,
   "id": "e08f8a1a",
   "metadata": {},
   "outputs": [
    {
     "name": "stderr",
     "output_type": "stream",
     "text": [
      "C:\\Users\\Dell\\AppData\\Local\\Temp\\ipykernel_24172\\2735045837.py:33: FutureWarning: The frame.append method is deprecated and will be removed from pandas in a future version. Use pandas.concat instead.\n",
      "  b = b_pos.append(b_neg).reset_index(drop=True).reset_index()\n",
      "C:\\Users\\Dell\\AppData\\Local\\Temp\\ipykernel_24172\\2735045837.py:33: FutureWarning: The frame.append method is deprecated and will be removed from pandas in a future version. Use pandas.concat instead.\n",
      "  b = b_pos.append(b_neg).reset_index(drop=True).reset_index()\n"
     ]
    }
   ],
   "source": [
    "country = 'SA'\n",
    "stage = 'stage1'\n",
    "p = f\"../../data/04-analysis/{country}/\"\n",
    "perm = pd.DataFrame()\n",
    "for i in range(0, 4):\n",
    "    df = pd.read_excel(f\"{p}{stage}/pestimates_batch2_{i}.xlsx\")\n",
    "    perm = pd.concat([perm, df])\n",
    "    \n",
    "cols_strong = ([col for col in perm.columns if 'strong_' in col] + \n",
    "               [col for col in perm.columns if 'weak_' in col])\n",
    "cols_neither = ([col for col in perm.columns if 'neither_' in col])\n",
    "perm_strong = perm[cols_strong]\n",
    "perm_neither = perm[cols_neither]\n",
    "    \n",
    "perm = perm.reset_index(drop=True)\n",
    "orig = pd.read_excel(f\"{p}{stage}/pestimates_batch2.xlsx\")\n",
    "orig_strong = orig[cols_strong]\n",
    "orig_neither = orig[cols_neither]\n",
    "\n",
    "df_strong = p_values(orig_strong, perm_strong, cols_strong)\n",
    "df_neither = p_values(orig_neither, perm_neither, cols_neither)\n",
    "df = pd.concat([df_strong, df_neither], axis = 1)\n",
    "df.to_excel(f\"{p}{stage}/agg_pvalues_batch2.xlsx\", index=False)"
   ]
  },
  {
   "cell_type": "code",
   "execution_count": 5,
   "id": "c86def33",
   "metadata": {},
   "outputs": [
    {
     "name": "stderr",
     "output_type": "stream",
     "text": [
      "C:\\Users\\Dell\\AppData\\Local\\Temp\\ipykernel_21448\\2735045837.py:33: FutureWarning: The frame.append method is deprecated and will be removed from pandas in a future version. Use pandas.concat instead.\n",
      "  b = b_pos.append(b_neg).reset_index(drop=True).reset_index()\n",
      "C:\\Users\\Dell\\AppData\\Local\\Temp\\ipykernel_21448\\2735045837.py:33: FutureWarning: The frame.append method is deprecated and will be removed from pandas in a future version. Use pandas.concat instead.\n",
      "  b = b_pos.append(b_neg).reset_index(drop=True).reset_index()\n"
     ]
    }
   ],
   "source": [
    "country = 'KE'\n",
    "stage = 'stage6'\n",
    "p = f\"../../data/04-analysis/{country}/\"\n",
    "perm = pd.DataFrame()\n",
    "for i in range(0, 4):\n",
    "    df = pd.read_excel(f\"{p}{stage}/pestimates_endline{i}.xlsx\")\n",
    "    perm = pd.concat([perm, df])\n",
    "    \n",
    "cols_strong = ([col for col in perm.columns if 'strong_' in col] + \n",
    "               [col for col in perm.columns if 'weak_' in col])\n",
    "cols_neither = ([col for col in perm.columns if 'neither_' in col])\n",
    "perm_strong = perm[cols_strong]\n",
    "perm_neither = perm[cols_neither]\n",
    "    \n",
    "perm = perm.reset_index(drop=True)\n",
    "orig = pd.read_excel(f\"{p}{stage}/pestimates_endline.xlsx\")\n",
    "orig_strong = orig[cols_strong]\n",
    "orig_neither = orig[cols_neither]\n",
    "\n",
    "df_strong = p_values(orig_strong, perm_strong, cols_strong)\n",
    "df_neither = p_values(orig_neither, perm_neither, cols_neither)\n",
    "df = pd.concat([df_strong, df_neither], axis = 1)\n",
    "df.to_excel(f\"{p}{stage}/agg_pvalues_endline.xlsx\", index=False)"
   ]
  },
  {
   "cell_type": "code",
   "execution_count": 8,
   "id": "9cc5eeac",
   "metadata": {},
   "outputs": [
    {
     "name": "stderr",
     "output_type": "stream",
     "text": [
      "C:\\Users\\Dell\\AppData\\Local\\Temp\\ipykernel_21448\\2735045837.py:33: FutureWarning: The frame.append method is deprecated and will be removed from pandas in a future version. Use pandas.concat instead.\n",
      "  b = b_pos.append(b_neg).reset_index(drop=True).reset_index()\n",
      "C:\\Users\\Dell\\AppData\\Local\\Temp\\ipykernel_21448\\2735045837.py:33: FutureWarning: The frame.append method is deprecated and will be removed from pandas in a future version. Use pandas.concat instead.\n",
      "  b = b_pos.append(b_neg).reset_index(drop=True).reset_index()\n"
     ]
    }
   ],
   "source": [
    "country = 'SA'\n",
    "stage = 'baseline'\n",
    "p = f\"../../data/04-analysis/{country}/\"\n",
    "perm = pd.DataFrame()\n",
    "for i in range(0, 4):\n",
    "    df = pd.read_excel(f\"{p}{stage}/pestimates_{i}.xlsx\")\n",
    "    perm = pd.concat([perm, df])\n",
    "    \n",
    "cols_strong = ([col for col in perm.columns if 'strong_' in col] + \n",
    "               [col for col in perm.columns if 'weak_' in col])\n",
    "cols_neither = ([col for col in perm.columns if 'neither_' in col])\n",
    "perm_strong = perm[cols_strong]\n",
    "perm_neither = perm[cols_neither]\n",
    "    \n",
    "perm = perm.reset_index(drop=True)\n",
    "orig = pd.read_excel(f\"{p}{stage}/pestimates.xlsx\")\n",
    "orig_strong = orig[cols_strong]\n",
    "orig_neither = orig[cols_neither]\n",
    "\n",
    "df_strong = p_values(orig_strong, perm_strong, cols_strong)\n",
    "df_neither = p_values(orig_neither, perm_neither, cols_neither)\n",
    "df = pd.concat([df_strong, df_neither], axis = 1)\n",
    "df.to_excel(f\"{p}{stage}/agg_pvalues_endline.xlsx\", index=False)"
   ]
  },
  {
   "cell_type": "code",
   "execution_count": 12,
   "id": "f3f54f56",
   "metadata": {},
   "outputs": [
    {
     "name": "stderr",
     "output_type": "stream",
     "text": [
      "C:\\Users\\Dell\\AppData\\Local\\Temp\\ipykernel_21448\\2735045837.py:33: FutureWarning: The frame.append method is deprecated and will be removed from pandas in a future version. Use pandas.concat instead.\n",
      "  b = b_pos.append(b_neg).reset_index(drop=True).reset_index()\n",
      "C:\\Users\\Dell\\AppData\\Local\\Temp\\ipykernel_21448\\2735045837.py:33: FutureWarning: The frame.append method is deprecated and will be removed from pandas in a future version. Use pandas.concat instead.\n",
      "  b = b_pos.append(b_neg).reset_index(drop=True).reset_index()\n"
     ]
    }
   ],
   "source": [
    "country = 'KE'\n",
    "stage = 'AC'\n",
    "p = f\"../../data/04-analysis/{country}/\"\n",
    "perm = pd.DataFrame()\n",
    "for i in range(0, 4):\n",
    "    df = pd.read_excel(f\"{p}{stage}/pestimates_{i}.xlsx\")\n",
    "    perm = pd.concat([perm, df])\n",
    "    \n",
    "cols_strong = ([col for col in perm.columns if 'strong_' in col] + \n",
    "               [col for col in perm.columns if 'weak_' in col])\n",
    "cols_neither = ([col for col in perm.columns if 'neither_' in col])\n",
    "perm_strong = perm[cols_strong]\n",
    "perm_neither = perm[cols_neither]\n",
    "    \n",
    "perm = perm.reset_index(drop=True)\n",
    "orig = pd.read_excel(f\"{p}{stage}/pestimates.xlsx\")\n",
    "orig_strong = orig[cols_strong]\n",
    "orig_neither = orig[cols_neither]\n",
    "\n",
    "df_strong = p_values(orig_strong, perm_strong, cols_strong)\n",
    "df_neither = p_values(orig_neither, perm_neither, cols_neither)\n",
    "df = pd.concat([df_strong, df_neither], axis = 1)\n",
    "df.to_excel(f\"{p}{stage}/agg_pvalues_endline.xlsx\", index=False)"
   ]
  },
  {
   "cell_type": "code",
   "execution_count": 13,
   "id": "277d4238",
   "metadata": {},
   "outputs": [
    {
     "data": {
      "text/html": [
       "<div>\n",
       "<style scoped>\n",
       "    .dataframe tbody tr th:only-of-type {\n",
       "        vertical-align: middle;\n",
       "    }\n",
       "\n",
       "    .dataframe tbody tr th {\n",
       "        vertical-align: top;\n",
       "    }\n",
       "\n",
       "    .dataframe thead th {\n",
       "        text-align: right;\n",
       "    }\n",
       "</style>\n",
       "<table border=\"1\" class=\"dataframe\">\n",
       "  <thead>\n",
       "    <tr style=\"text-align: right;\">\n",
       "      <th></th>\n",
       "      <th>strong_AC</th>\n",
       "      <th>weak_AC</th>\n",
       "      <th>neither_AC</th>\n",
       "    </tr>\n",
       "  </thead>\n",
       "  <tbody>\n",
       "    <tr>\n",
       "      <th>0</th>\n",
       "      <td>0.25</td>\n",
       "      <td>0.348</td>\n",
       "      <td>0.041</td>\n",
       "    </tr>\n",
       "  </tbody>\n",
       "</table>\n",
       "</div>"
      ],
      "text/plain": [
       "0 strong_AC weak_AC neither_AC\n",
       "0      0.25   0.348      0.041"
      ]
     },
     "execution_count": 13,
     "metadata": {},
     "output_type": "execute_result"
    }
   ],
   "source": [
    "df"
   ]
  },
  {
   "cell_type": "code",
   "execution_count": 4,
   "id": "41c9009a",
   "metadata": {},
   "outputs": [
    {
     "name": "stderr",
     "output_type": "stream",
     "text": [
      "C:\\Users\\Dell\\AppData\\Local\\Temp\\ipykernel_6700\\2735045837.py:33: FutureWarning: The frame.append method is deprecated and will be removed from pandas in a future version. Use pandas.concat instead.\n",
      "  b = b_pos.append(b_neg).reset_index(drop=True).reset_index()\n",
      "C:\\Users\\Dell\\AppData\\Local\\Temp\\ipykernel_6700\\2735045837.py:33: FutureWarning: The frame.append method is deprecated and will be removed from pandas in a future version. Use pandas.concat instead.\n",
      "  b = b_pos.append(b_neg).reset_index(drop=True).reset_index()\n"
     ]
    }
   ],
   "source": [
    "country = 'SA'\n",
    "stage = 'SMIs'\n",
    "p = f\"../../data/04-analysis/{country}/\"\n",
    "perm = pd.DataFrame()\n",
    "for i in range(0, 4):\n",
    "    df = pd.read_excel(f\"{p}{stage}/pestimates_{i}.xlsx\")\n",
    "    perm = pd.concat([perm, df])\n",
    "    \n",
    "cols_strong = ([col for col in perm.columns if 'strong_' in col] + \n",
    "               [col for col in perm.columns if 'weak_' in col])\n",
    "cols_neither = ([col for col in perm.columns if 'neither_' in col])\n",
    "perm_strong = perm[cols_strong]\n",
    "perm_neither = perm[cols_neither]\n",
    "    \n",
    "perm = perm.reset_index(drop=True)\n",
    "orig = pd.read_excel(f\"{p}{stage}/pestimates.xlsx\")\n",
    "orig_strong = orig[cols_strong]\n",
    "orig_neither = orig[cols_neither]\n",
    "\n",
    "df_strong = p_values(orig_strong, perm_strong, cols_strong)\n",
    "df_neither = p_values(orig_neither, perm_neither, cols_neither)\n",
    "df = pd.concat([df_strong, df_neither], axis = 1)\n",
    "df.to_excel(f\"{p}{stage}/agg_pvalues_endline.xlsx\", index=False)"
   ]
  },
  {
   "cell_type": "code",
   "execution_count": 5,
   "id": "bcf578ad",
   "metadata": {},
   "outputs": [
    {
     "data": {
      "text/html": [
       "<div>\n",
       "<style scoped>\n",
       "    .dataframe tbody tr th:only-of-type {\n",
       "        vertical-align: middle;\n",
       "    }\n",
       "\n",
       "    .dataframe tbody tr th {\n",
       "        vertical-align: top;\n",
       "    }\n",
       "\n",
       "    .dataframe thead th {\n",
       "        text-align: right;\n",
       "    }\n",
       "</style>\n",
       "<table border=\"1\" class=\"dataframe\">\n",
       "  <thead>\n",
       "    <tr style=\"text-align: right;\">\n",
       "      <th></th>\n",
       "      <th>strong_smi</th>\n",
       "      <th>weak_smi</th>\n",
       "      <th>neither_smi</th>\n",
       "    </tr>\n",
       "  </thead>\n",
       "  <tbody>\n",
       "    <tr>\n",
       "      <th>0</th>\n",
       "      <td>0.2</td>\n",
       "      <td>0.435</td>\n",
       "      <td>0.263</td>\n",
       "    </tr>\n",
       "  </tbody>\n",
       "</table>\n",
       "</div>"
      ],
      "text/plain": [
       "0 strong_smi weak_smi neither_smi\n",
       "0        0.2    0.435       0.263"
      ]
     },
     "execution_count": 5,
     "metadata": {},
     "output_type": "execute_result"
    }
   ],
   "source": [
    "df"
   ]
  },
  {
   "cell_type": "code",
   "execution_count": 4,
   "id": "4a162635",
   "metadata": {},
   "outputs": [
    {
     "name": "stderr",
     "output_type": "stream",
     "text": [
      "C:\\Users\\Dell\\AppData\\Local\\Temp\\ipykernel_26900\\2735045837.py:33: FutureWarning: The frame.append method is deprecated and will be removed from pandas in a future version. Use pandas.concat instead.\n",
      "  b = b_pos.append(b_neg).reset_index(drop=True).reset_index()\n",
      "C:\\Users\\Dell\\AppData\\Local\\Temp\\ipykernel_26900\\2735045837.py:33: FutureWarning: The frame.append method is deprecated and will be removed from pandas in a future version. Use pandas.concat instead.\n",
      "  b = b_pos.append(b_neg).reset_index(drop=True).reset_index()\n"
     ]
    }
   ],
   "source": [
    "country = 'KE'\n",
    "stage = 'BalanceVer'\n",
    "p = f\"../../data/04-analysis/{country}/\"\n",
    "perm = pd.DataFrame()\n",
    "for i in range(0, 4):\n",
    "    df = pd.read_excel(f\"{p}{stage}/pestimates_{i}.xlsx\")\n",
    "    perm = pd.concat([perm, df])\n",
    "    \n",
    "cols_strong = ([col for col in perm.columns if 'strong_' in col] + \n",
    "               [col for col in perm.columns if 'weak_' in col])\n",
    "cols_neither = ([col for col in perm.columns if 'neither_' in col])\n",
    "perm_strong = perm[cols_strong]\n",
    "perm_neither = perm[cols_neither]\n",
    "    \n",
    "perm = perm.reset_index(drop=True)\n",
    "orig = pd.read_excel(f\"{p}{stage}/pestimates.xlsx\")\n",
    "orig_strong = orig[cols_strong]\n",
    "orig_neither = orig[cols_neither]\n",
    "\n",
    "df_strong = p_values(orig_strong, perm_strong, cols_strong)\n",
    "df_neither = p_values(orig_neither, perm_neither, cols_neither)\n",
    "df = pd.concat([df_strong, df_neither], axis = 1)\n",
    "df.to_excel(f\"{p}{stage}/agg_pvalues_endline.xlsx\", index=False)"
   ]
  },
  {
   "cell_type": "code",
   "execution_count": 5,
   "id": "13dc2800",
   "metadata": {},
   "outputs": [
    {
     "name": "stderr",
     "output_type": "stream",
     "text": [
      "C:\\Users\\Dell\\AppData\\Local\\Temp\\ipykernel_20428\\2735045837.py:33: FutureWarning: The frame.append method is deprecated and will be removed from pandas in a future version. Use pandas.concat instead.\n",
      "  b = b_pos.append(b_neg).reset_index(drop=True).reset_index()\n",
      "C:\\Users\\Dell\\AppData\\Local\\Temp\\ipykernel_20428\\2735045837.py:33: FutureWarning: The frame.append method is deprecated and will be removed from pandas in a future version. Use pandas.concat instead.\n",
      "  b = b_pos.append(b_neg).reset_index(drop=True).reset_index()\n"
     ]
    }
   ],
   "source": [
    "country = 'SA'\n",
    "stage = 'stage5'\n",
    "p = f\"../../data/04-analysis/{country}/\"\n",
    "perm = pd.DataFrame()\n",
    "for i in range(0, 4):\n",
    "    df = pd.read_excel(f\"{p}{stage}/pestimates_endline_filter_{i}.xlsx\")\n",
    "    perm = pd.concat([perm, df])\n",
    "    \n",
    "cols_strong = ([col for col in perm.columns if 'strong_' in col] + \n",
    "               [col for col in perm.columns if 'weak_' in col])\n",
    "cols_neither = ([col for col in perm.columns if 'neither_' in col])\n",
    "perm_strong = perm[cols_strong]\n",
    "perm_neither = perm[cols_neither]\n",
    "    \n",
    "perm = perm.reset_index(drop=True)\n",
    "orig = pd.read_excel(f\"{p}{stage}/pestimates_endline_filter.xlsx\")\n",
    "orig_strong = orig[cols_strong]\n",
    "orig_neither = orig[cols_neither]\n",
    "\n",
    "df_strong = p_values(orig_strong, perm_strong, cols_strong)\n",
    "df_neither = p_values(orig_neither, perm_neither, cols_neither)\n",
    "df = pd.concat([df_strong, df_neither], axis = 1)\n",
    "df.rename(columns = \n",
    "        {col: col + '_filter' for col in df.columns}, \n",
    "        inplace=True)\n",
    "\n",
    "agg_pvals_normal = pd.read_excel(f\"{p}{stage}/agg_pvalues_endline.xlsx\")\n",
    "df = pd.concat([df, agg_pvals_normal], axis = 1)\n",
    "\n",
    "order2 = ['strong_ver_rt', 'strong_ver_rt_filter', 'strong_true_rt', 'strong_true_rt_filter',\n",
    "          'strong_n_posts_rt', 'strong_n_posts_rt_filter', 'strong_ver_no_rt', 'strong_ver_no_rt_filter', \n",
    "          'strong_true_no_rt', 'strong_true_no_rt_filter', 'strong_n_posts_no_rt', 'strong_n_posts_no_rt_filter', \n",
    "          'weak_ver_rt', 'weak_ver_rt_filter', 'weak_true_rt', 'weak_true_rt_filter',\n",
    "          'weak_n_posts_rt', 'weak_n_posts_rt_filter', 'weak_ver_no_rt', 'weak_ver_no_rt_filter', \n",
    "          'weak_true_no_rt', 'weak_true_no_rt_filter', 'weak_n_posts_no_rt', 'weak_n_posts_no_rt_filter',\n",
    "          'neither_ver_rt', 'neither_ver_rt_filter', 'neither_true_rt', 'neither_true_rt_filter',\n",
    "          'neither_n_posts_rt', 'neither_n_posts_rt_filter', 'neither_ver_no_rt', 'neither_ver_no_rt_filter', \n",
    "          'neither_true_no_rt', 'neither_true_no_rt_filter', 'neither_n_posts_no_rt', \n",
    "          'neither_n_posts_no_rt_filter']\n",
    "\n",
    "df = df[order2]\n",
    "\n",
    "df.to_excel(f\"{p}{stage}/agg_pvalues_endline_filter.xlsx\", index=False)"
   ]
  },
  {
   "cell_type": "code",
   "execution_count": null,
   "id": "77895c71",
   "metadata": {},
   "outputs": [],
   "source": []
  }
 ],
 "metadata": {
  "kernelspec": {
   "display_name": "Python 3 (ipykernel)",
   "language": "python",
   "name": "python3"
  },
  "language_info": {
   "codemirror_mode": {
    "name": "ipython",
    "version": 3
   },
   "file_extension": ".py",
   "mimetype": "text/x-python",
   "name": "python",
   "nbconvert_exporter": "python",
   "pygments_lexer": "ipython3",
   "version": "3.9.12"
  }
 },
 "nbformat": 4,
 "nbformat_minor": 5
}
