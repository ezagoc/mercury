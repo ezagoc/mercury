{
 "cells": [
  {
   "cell_type": "code",
   "execution_count": 1,
   "id": "fc9ebdaf",
   "metadata": {},
   "outputs": [],
   "source": [
    "import pandas as pd\n",
    "\n",
    "\n",
    "def p_values(data0, data1, cols_order):\n",
    "    \"\"\"Get p_values\n",
    "    :param data0: DataFrame with original regression estimates\n",
    "    :type data0: DataFrame\n",
    "    :param data1: DataFrame with estimates from permutation\n",
    "    :type data1: DataFrame\n",
    "    :param cols_order: List of ordering of columns\n",
    "    :type cols_order: List\n",
    "    :return: DataFrame with p-values\n",
    "    :rtype: DataFrame\n",
    "    \"\"\"\n",
    "    columns = data0.columns\n",
    "    pos = data0[(data0[columns] > 0)]\n",
    "    pos = pos.loc[:, ~pos.isnull().any()]\n",
    "    neg = data0[(data0[columns] < 0)]\n",
    "    neg = neg.loc[:, ~neg.isnull().any()]\n",
    "    val_pos = [\n",
    "        data1[data1[var] > pos[var].values[0]].count()[var] / 1000\n",
    "        for var in pos.columns\n",
    "    ]\n",
    "    coe_pos = pos.columns\n",
    "    cols = [\"coefficients\", \"p-value\"]\n",
    "    b_pos = pd.DataFrame(list(zip(coe_pos, val_pos)), columns=cols)\n",
    "    val_neg = [\n",
    "        data1[data1[var] < neg[var].values[0]].count()[var] / 1000\n",
    "        for var in neg.columns\n",
    "    ]\n",
    "    coe_neg = neg.columns\n",
    "    b_neg = pd.DataFrame(list(zip(coe_neg, val_neg)), columns=cols)\n",
    "    b = b_pos.append(b_neg).reset_index(drop=True).reset_index()\n",
    "    b = b.set_index(\"index\").stack().unstack(0).reset_index().rename_axis(None, axis=1)\n",
    "    headers = b.iloc[0]\n",
    "    b = pd.DataFrame(b.values[1:], columns=headers)\n",
    "    b = b.iloc[:, 1:]\n",
    "    b = b[cols_order]\n",
    "    return b"
   ]
  },
  {
   "cell_type": "code",
   "execution_count": 4,
   "id": "befb8cac",
   "metadata": {},
   "outputs": [
    {
     "name": "stderr",
     "output_type": "stream",
     "text": [
      "C:\\Users\\Dell\\AppData\\Local\\Temp\\ipykernel_12672\\2735045837.py:33: FutureWarning: The frame.append method is deprecated and will be removed from pandas in a future version. Use pandas.concat instead.\n",
      "  b = b_pos.append(b_neg).reset_index(drop=True).reset_index()\n",
      "C:\\Users\\Dell\\AppData\\Local\\Temp\\ipykernel_12672\\2735045837.py:33: FutureWarning: The frame.append method is deprecated and will be removed from pandas in a future version. Use pandas.concat instead.\n",
      "  b = b_pos.append(b_neg).reset_index(drop=True).reset_index()\n",
      "C:\\Users\\Dell\\AppData\\Local\\Temp\\ipykernel_12672\\2735045837.py:33: FutureWarning: The frame.append method is deprecated and will be removed from pandas in a future version. Use pandas.concat instead.\n",
      "  b = b_pos.append(b_neg).reset_index(drop=True).reset_index()\n",
      "C:\\Users\\Dell\\AppData\\Local\\Temp\\ipykernel_12672\\2735045837.py:33: FutureWarning: The frame.append method is deprecated and will be removed from pandas in a future version. Use pandas.concat instead.\n",
      "  b = b_pos.append(b_neg).reset_index(drop=True).reset_index()\n",
      "C:\\Users\\Dell\\AppData\\Local\\Temp\\ipykernel_12672\\2735045837.py:33: FutureWarning: The frame.append method is deprecated and will be removed from pandas in a future version. Use pandas.concat instead.\n",
      "  b = b_pos.append(b_neg).reset_index(drop=True).reset_index()\n",
      "C:\\Users\\Dell\\AppData\\Local\\Temp\\ipykernel_12672\\2735045837.py:33: FutureWarning: The frame.append method is deprecated and will be removed from pandas in a future version. Use pandas.concat instead.\n",
      "  b = b_pos.append(b_neg).reset_index(drop=True).reset_index()\n",
      "C:\\Users\\Dell\\AppData\\Local\\Temp\\ipykernel_12672\\2735045837.py:33: FutureWarning: The frame.append method is deprecated and will be removed from pandas in a future version. Use pandas.concat instead.\n",
      "  b = b_pos.append(b_neg).reset_index(drop=True).reset_index()\n",
      "C:\\Users\\Dell\\AppData\\Local\\Temp\\ipykernel_12672\\2735045837.py:33: FutureWarning: The frame.append method is deprecated and will be removed from pandas in a future version. Use pandas.concat instead.\n",
      "  b = b_pos.append(b_neg).reset_index(drop=True).reset_index()\n",
      "C:\\Users\\Dell\\AppData\\Local\\Temp\\ipykernel_12672\\2735045837.py:33: FutureWarning: The frame.append method is deprecated and will be removed from pandas in a future version. Use pandas.concat instead.\n",
      "  b = b_pos.append(b_neg).reset_index(drop=True).reset_index()\n"
     ]
    }
   ],
   "source": [
    "# Verifiable\n",
    "country = 'joint'\n",
    "p = f\"../../data/04-analysis/{country}/\"\n",
    "\n",
    "for stage in ['stage1_2', 'stage3_4', 'stage5_6']:\n",
    "    for type1 in ['log_', 'arc_', '']:\n",
    "        perm = pd.DataFrame()\n",
    "        \n",
    "        df = pd.read_excel(f\"{p}{stage}/pestimates_extensive/{type1}extensive_b1b2p_all.xlsx\")\n",
    "        perm = pd.concat([perm, df])\n",
    "    \n",
    "        cols = [col for col in perm.columns]\n",
    "    \n",
    "        perm = perm.reset_index(drop=True)\n",
    "        orig = pd.read_excel(f\"{p}{stage}/{type1}pestimates_b1b2p_extensive.xlsx\")\n",
    "\n",
    "        df = p_values(orig, perm, cols)\n",
    "\n",
    "        df.to_excel(f\"{p}{stage}/{type1}agg_pvalues_b1b2p_extensive.xlsx\", index=False)"
   ]
  },
  {
   "cell_type": "code",
   "execution_count": 2,
   "id": "258cf1bf",
   "metadata": {},
   "outputs": [
    {
     "name": "stderr",
     "output_type": "stream",
     "text": [
      "C:\\Users\\Dell\\AppData\\Local\\Temp\\ipykernel_25992\\2735045837.py:33: FutureWarning: The frame.append method is deprecated and will be removed from pandas in a future version. Use pandas.concat instead.\n",
      "  b = b_pos.append(b_neg).reset_index(drop=True).reset_index()\n",
      "C:\\Users\\Dell\\AppData\\Local\\Temp\\ipykernel_25992\\2735045837.py:33: FutureWarning: The frame.append method is deprecated and will be removed from pandas in a future version. Use pandas.concat instead.\n",
      "  b = b_pos.append(b_neg).reset_index(drop=True).reset_index()\n",
      "C:\\Users\\Dell\\AppData\\Local\\Temp\\ipykernel_25992\\2735045837.py:33: FutureWarning: The frame.append method is deprecated and will be removed from pandas in a future version. Use pandas.concat instead.\n",
      "  b = b_pos.append(b_neg).reset_index(drop=True).reset_index()\n"
     ]
    }
   ],
   "source": [
    "# Verifiable\n",
    "country = 'joint'\n",
    "p = f\"../../data/04-analysis/{country}/\"\n",
    "\n",
    "for stage in ['baseline']:\n",
    "    for type1 in ['log_', 'arc_', '']:\n",
    "        perm = pd.DataFrame()\n",
    "        \n",
    "        df = pd.read_excel(f\"{p}{stage}/pestimates/{type1}b1b2p_extensive.xlsx\")\n",
    "        perm = pd.concat([perm, df])\n",
    "    \n",
    "        cols = [col for col in perm.columns]\n",
    "    \n",
    "        perm = perm.reset_index(drop=True)\n",
    "        orig = pd.read_excel(f\"{p}{stage}/{type1}pestimates_b1b2p_extensive.xlsx\")\n",
    "\n",
    "        df = p_values(orig, perm, cols)\n",
    "\n",
    "        df.to_excel(f\"{p}{stage}/{type1}agg_pvalues_b1b2p_extensive.xlsx\", index=False)"
   ]
  },
  {
   "cell_type": "code",
   "execution_count": 5,
   "id": "711ab592",
   "metadata": {},
   "outputs": [
    {
     "data": {
      "text/html": [
       "<div>\n",
       "<style scoped>\n",
       "    .dataframe tbody tr th:only-of-type {\n",
       "        vertical-align: middle;\n",
       "    }\n",
       "\n",
       "    .dataframe tbody tr th {\n",
       "        vertical-align: top;\n",
       "    }\n",
       "\n",
       "    .dataframe thead th {\n",
       "        text-align: right;\n",
       "    }\n",
       "</style>\n",
       "<table border=\"1\" class=\"dataframe\">\n",
       "  <thead>\n",
       "    <tr style=\"text-align: right;\">\n",
       "      <th></th>\n",
       "      <th>ver_rt</th>\n",
       "      <th>true_rt</th>\n",
       "      <th>fake_rt</th>\n",
       "      <th>n_posts_rt</th>\n",
       "      <th>ver_no_rt</th>\n",
       "      <th>true_no_rt</th>\n",
       "      <th>fake_no_rt</th>\n",
       "      <th>n_posts_no_rt</th>\n",
       "    </tr>\n",
       "  </thead>\n",
       "  <tbody>\n",
       "    <tr>\n",
       "      <th>0</th>\n",
       "      <td>0.071</td>\n",
       "      <td>0.049</td>\n",
       "      <td>0.084</td>\n",
       "      <td>0.054</td>\n",
       "      <td>0.488</td>\n",
       "      <td>0.358</td>\n",
       "      <td>0.351</td>\n",
       "      <td>0.189</td>\n",
       "    </tr>\n",
       "  </tbody>\n",
       "</table>\n",
       "</div>"
      ],
      "text/plain": [
       "0 ver_rt true_rt fake_rt n_posts_rt ver_no_rt true_no_rt fake_no_rt  \\\n",
       "0  0.071   0.049   0.084      0.054     0.488      0.358      0.351   \n",
       "\n",
       "0 n_posts_no_rt  \n",
       "0         0.189  "
      ]
     },
     "execution_count": 5,
     "metadata": {},
     "output_type": "execute_result"
    }
   ],
   "source": [
    "df"
   ]
  },
  {
   "cell_type": "code",
   "execution_count": 9,
   "id": "1ab71ef6",
   "metadata": {},
   "outputs": [
    {
     "name": "stderr",
     "output_type": "stream",
     "text": [
      "C:\\Users\\Dell\\AppData\\Local\\Temp\\ipykernel_33080\\2735045837.py:33: FutureWarning: The frame.append method is deprecated and will be removed from pandas in a future version. Use pandas.concat instead.\n",
      "  b = b_pos.append(b_neg).reset_index(drop=True).reset_index()\n",
      "C:\\Users\\Dell\\AppData\\Local\\Temp\\ipykernel_33080\\2735045837.py:33: FutureWarning: The frame.append method is deprecated and will be removed from pandas in a future version. Use pandas.concat instead.\n",
      "  b = b_pos.append(b_neg).reset_index(drop=True).reset_index()\n",
      "C:\\Users\\Dell\\AppData\\Local\\Temp\\ipykernel_33080\\2735045837.py:33: FutureWarning: The frame.append method is deprecated and will be removed from pandas in a future version. Use pandas.concat instead.\n",
      "  b = b_pos.append(b_neg).reset_index(drop=True).reset_index()\n",
      "C:\\Users\\Dell\\AppData\\Local\\Temp\\ipykernel_33080\\2735045837.py:33: FutureWarning: The frame.append method is deprecated and will be removed from pandas in a future version. Use pandas.concat instead.\n",
      "  b = b_pos.append(b_neg).reset_index(drop=True).reset_index()\n",
      "C:\\Users\\Dell\\AppData\\Local\\Temp\\ipykernel_33080\\2735045837.py:33: FutureWarning: The frame.append method is deprecated and will be removed from pandas in a future version. Use pandas.concat instead.\n",
      "  b = b_pos.append(b_neg).reset_index(drop=True).reset_index()\n",
      "C:\\Users\\Dell\\AppData\\Local\\Temp\\ipykernel_33080\\2735045837.py:33: FutureWarning: The frame.append method is deprecated and will be removed from pandas in a future version. Use pandas.concat instead.\n",
      "  b = b_pos.append(b_neg).reset_index(drop=True).reset_index()\n",
      "C:\\Users\\Dell\\AppData\\Local\\Temp\\ipykernel_33080\\2735045837.py:33: FutureWarning: The frame.append method is deprecated and will be removed from pandas in a future version. Use pandas.concat instead.\n",
      "  b = b_pos.append(b_neg).reset_index(drop=True).reset_index()\n",
      "C:\\Users\\Dell\\AppData\\Local\\Temp\\ipykernel_33080\\2735045837.py:33: FutureWarning: The frame.append method is deprecated and will be removed from pandas in a future version. Use pandas.concat instead.\n",
      "  b = b_pos.append(b_neg).reset_index(drop=True).reset_index()\n",
      "C:\\Users\\Dell\\AppData\\Local\\Temp\\ipykernel_33080\\2735045837.py:33: FutureWarning: The frame.append method is deprecated and will be removed from pandas in a future version. Use pandas.concat instead.\n",
      "  b = b_pos.append(b_neg).reset_index(drop=True).reset_index()\n"
     ]
    }
   ],
   "source": [
    "# Sentiment Analysis (BERT)\n",
    "country = 'joint'\n",
    "p = f\"../../data/04-analysis/{country}/\"\n",
    "\n",
    "for stage in ['stage1_2', 'stage3_4', 'stage5_6']:\n",
    "    for type1 in ['log_', 'arc_', '']:\n",
    "        perm = pd.DataFrame()\n",
    "        \n",
    "        df = pd.read_excel(f\"{p}{stage}/pestimates_extensive/{type1}extensive_b1b2p_sent_bert.xlsx\")\n",
    "        perm = pd.concat([perm, df])\n",
    "    \n",
    "        cols = [col for col in perm.columns]\n",
    "    \n",
    "        perm = perm.reset_index(drop=True)\n",
    "        orig = pd.read_excel(f\"{p}{stage}/{type1}pestimates_extensive_b1b2p_sent_bert.xlsx\")\n",
    "\n",
    "        df = p_values(orig, perm, cols)\n",
    "\n",
    "        df.to_excel(f\"{p}{stage}/{type1}agg_pvalues_b1b2p_extensive_sent_bert.xlsx\", index=False)"
   ]
  },
  {
   "cell_type": "code",
   "execution_count": 3,
   "id": "e5a58029",
   "metadata": {},
   "outputs": [
    {
     "name": "stderr",
     "output_type": "stream",
     "text": [
      "C:\\Users\\Dell\\AppData\\Local\\Temp\\ipykernel_25992\\2735045837.py:33: FutureWarning: The frame.append method is deprecated and will be removed from pandas in a future version. Use pandas.concat instead.\n",
      "  b = b_pos.append(b_neg).reset_index(drop=True).reset_index()\n",
      "C:\\Users\\Dell\\AppData\\Local\\Temp\\ipykernel_25992\\2735045837.py:33: FutureWarning: The frame.append method is deprecated and will be removed from pandas in a future version. Use pandas.concat instead.\n",
      "  b = b_pos.append(b_neg).reset_index(drop=True).reset_index()\n",
      "C:\\Users\\Dell\\AppData\\Local\\Temp\\ipykernel_25992\\2735045837.py:33: FutureWarning: The frame.append method is deprecated and will be removed from pandas in a future version. Use pandas.concat instead.\n",
      "  b = b_pos.append(b_neg).reset_index(drop=True).reset_index()\n"
     ]
    }
   ],
   "source": [
    "# Sentiment Analysis (BERT)\n",
    "country = 'joint'\n",
    "p = f\"../../data/04-analysis/{country}/\"\n",
    "\n",
    "for stage in ['baseline']:\n",
    "    for type1 in ['log_', 'arc_', '']:\n",
    "        perm = pd.DataFrame()\n",
    "        \n",
    "        df = pd.read_excel(f\"{p}{stage}/pestimates/{type1}extensive_b1b2p_sent_bert.xlsx\")\n",
    "        perm = pd.concat([perm, df])\n",
    "    \n",
    "        cols = [col for col in perm.columns]\n",
    "    \n",
    "        perm = perm.reset_index(drop=True)\n",
    "        orig = pd.read_excel(f\"{p}{stage}/{type1}pestimates_extensive_b1b2p_sent_bert.xlsx\")\n",
    "\n",
    "        df = p_values(orig, perm, cols)\n",
    "\n",
    "        df.to_excel(f\"{p}{stage}/{type1}agg_pvalues_b1b2p_extensive_sent_bert.xlsx\", index=False)"
   ]
  },
  {
   "cell_type": "code",
   "execution_count": null,
   "id": "37739bee",
   "metadata": {},
   "outputs": [],
   "source": [
    "# Sentiment (VADER)\n",
    "country = 'joint'\n",
    "p = f\"../../data/04-analysis/{country}/\"\n",
    "\n",
    "for stage in ['stage1_2', 'stage3_4', 'stage5_6']:\n",
    "    for type1 in ['log_', 'arc_', '']:\n",
    "        perm = pd.DataFrame()\n",
    "        \n",
    "        df = pd.read_excel(f\"{p}{stage}/pestimates_extensive/{type1}extensive_b1b2p_sent.xlsx\")\n",
    "        perm = pd.concat([perm, df])\n",
    "    \n",
    "        cols = [col for col in perm.columns]\n",
    "    \n",
    "        perm = perm.reset_index(drop=True)\n",
    "        orig = pd.read_excel(f\"{p}{stage}/{type1}pestimates_extensive_b1b2p_sent.xlsx\")\n",
    "\n",
    "        df = p_values(orig, perm, cols)\n",
    "\n",
    "        df.to_excel(f\"{p}{stage}/{type1}agg_pvalues_b1b2p_extensive_sent.xlsx\", index=False)"
   ]
  },
  {
   "cell_type": "code",
   "execution_count": 4,
   "id": "07f0117e",
   "metadata": {},
   "outputs": [
    {
     "name": "stderr",
     "output_type": "stream",
     "text": [
      "C:\\Users\\Dell\\AppData\\Local\\Temp\\ipykernel_25992\\2735045837.py:33: FutureWarning: The frame.append method is deprecated and will be removed from pandas in a future version. Use pandas.concat instead.\n",
      "  b = b_pos.append(b_neg).reset_index(drop=True).reset_index()\n",
      "C:\\Users\\Dell\\AppData\\Local\\Temp\\ipykernel_25992\\2735045837.py:33: FutureWarning: The frame.append method is deprecated and will be removed from pandas in a future version. Use pandas.concat instead.\n",
      "  b = b_pos.append(b_neg).reset_index(drop=True).reset_index()\n",
      "C:\\Users\\Dell\\AppData\\Local\\Temp\\ipykernel_25992\\2735045837.py:33: FutureWarning: The frame.append method is deprecated and will be removed from pandas in a future version. Use pandas.concat instead.\n",
      "  b = b_pos.append(b_neg).reset_index(drop=True).reset_index()\n"
     ]
    }
   ],
   "source": [
    "# Sentiment (VADER)\n",
    "country = 'joint'\n",
    "p = f\"../../data/04-analysis/{country}/\"\n",
    "\n",
    "for stage in ['baseline']:\n",
    "    for type1 in ['log_', 'arc_', '']:\n",
    "        perm = pd.DataFrame()\n",
    "        \n",
    "        df = pd.read_excel(f\"{p}{stage}/pestimates/{type1}sent_extensive_b1b2p.xlsx\")\n",
    "        perm = pd.concat([perm, df])\n",
    "    \n",
    "        cols = [col for col in perm.columns]\n",
    "    \n",
    "        perm = perm.reset_index(drop=True)\n",
    "        orig = pd.read_excel(f\"{p}{stage}/{type1}pestimates_sent_extensive_b1b2p.xlsx\")\n",
    "\n",
    "        df = p_values(orig, perm, cols)\n",
    "\n",
    "        df.to_excel(f\"{p}{stage}/{type1}agg_pvalues_b1b2p_extensive_sent.xlsx\", index=False)"
   ]
  }
 ],
 "metadata": {
  "kernelspec": {
   "display_name": "Python 3 (ipykernel)",
   "language": "python",
   "name": "python3"
  },
  "language_info": {
   "codemirror_mode": {
    "name": "ipython",
    "version": 3
   },
   "file_extension": ".py",
   "mimetype": "text/x-python",
   "name": "python",
   "nbconvert_exporter": "python",
   "pygments_lexer": "ipython3",
   "version": "3.9.12"
  }
 },
 "nbformat": 4,
 "nbformat_minor": 5
}
