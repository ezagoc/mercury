{
 "cells": [
  {
   "cell_type": "code",
   "execution_count": 1,
   "id": "ebf48f7c",
   "metadata": {},
   "outputs": [],
   "source": [
    "import pandas as pd\n",
    "import os\n",
    "from os import listdir\n",
    "from tqdm import tqdm\n",
    "import requests\n",
    "import re\n",
    "import json\n",
    "import numpy as np\n",
    "import uuid\n",
    "from datetime import timedelta\n",
    "from datetime import date\n",
    "import datetime\n",
    "import ast\n",
    "from time import sleep\n",
    "from random import randint\n",
    "tqdm.pandas()"
   ]
  },
  {
   "cell_type": "code",
   "execution_count": 2,
   "id": "13e9d077",
   "metadata": {},
   "outputs": [],
   "source": [
    "survey_0_ke = pd.read_csv(\"../../../social-media-influencers-africa/data/04-analysis/KE/1-survey/survey.csv\")\n",
    "survey_0_sa = pd.read_csv(\"../../../social-media-influencers-africa/data/04-analysis/SA/1-survey/survey.csv\")\n",
    "survey_1_ke = pd.read_csv(\"../../data/04-analysis/KE/1-survey/survey.csv\")\n",
    "survey_1_sa = pd.read_csv(\"../../data/04-analysis/SA/1-survey/survey.csv\")"
   ]
  },
  {
   "cell_type": "code",
   "execution_count": 3,
   "id": "c6ba2402",
   "metadata": {},
   "outputs": [],
   "source": [
    "survey_0_ke['country']=\"KE\"\n",
    "survey_0_sa['country']=\"SA\"\n",
    "survey_1_ke['country']=\"KE\"\n",
    "survey_1_sa['country']=\"SA\""
   ]
  },
  {
   "cell_type": "code",
   "execution_count": 4,
   "id": "655184d3",
   "metadata": {},
   "outputs": [],
   "source": [
    "survey = pd.concat([survey_0_ke, survey_0_sa, survey_1_ke, survey_1_sa]).reset_index(drop=True)"
   ]
  },
  {
   "cell_type": "code",
   "execution_count": 5,
   "id": "0a56800e",
   "metadata": {},
   "outputs": [],
   "source": [
    "survey['username'] = (np.where(survey['RecipientEmail'].str.contains('@'),\n",
    "                  survey['RecipientEmail'].str.split('@').str[0],\n",
    "                  np.nan))"
   ]
  },
  {
   "cell_type": "code",
   "execution_count": 13,
   "id": "72b7f09c",
   "metadata": {},
   "outputs": [
    {
     "data": {
      "text/html": [
       "<div>\n",
       "<style scoped>\n",
       "    .dataframe tbody tr th:only-of-type {\n",
       "        vertical-align: middle;\n",
       "    }\n",
       "\n",
       "    .dataframe tbody tr th {\n",
       "        vertical-align: top;\n",
       "    }\n",
       "\n",
       "    .dataframe thead th {\n",
       "        text-align: right;\n",
       "    }\n",
       "</style>\n",
       "<table border=\"1\" class=\"dataframe\">\n",
       "  <thead>\n",
       "    <tr style=\"text-align: right;\">\n",
       "      <th></th>\n",
       "      <th>StartDate</th>\n",
       "      <th>EndDate</th>\n",
       "      <th>Status</th>\n",
       "      <th>IPAddress</th>\n",
       "      <th>Progress</th>\n",
       "      <th>Duration (in seconds)</th>\n",
       "      <th>Finished</th>\n",
       "      <th>RecordedDate</th>\n",
       "      <th>ResponseId</th>\n",
       "      <th>RecipientLastName</th>\n",
       "      <th>...</th>\n",
       "      <th>COVID_Q7</th>\n",
       "      <th>Pol_q1</th>\n",
       "      <th>Pol_q2</th>\n",
       "      <th>Pol_q3</th>\n",
       "      <th>dem_Q4</th>\n",
       "      <th>mobile_number_1</th>\n",
       "      <th>covid_cert</th>\n",
       "      <th>batch</th>\n",
       "      <th>country</th>\n",
       "      <th>username</th>\n",
       "    </tr>\n",
       "  </thead>\n",
       "  <tbody>\n",
       "    <tr>\n",
       "      <th>946</th>\n",
       "      <td>31/07/23 4:25</td>\n",
       "      <td>31/07/23 11:25</td>\n",
       "      <td>0</td>\n",
       "      <td>154.153.160.244</td>\n",
       "      <td>100</td>\n",
       "      <td>25190</td>\n",
       "      <td>1</td>\n",
       "      <td>31/07/23 11:25</td>\n",
       "      <td>R_3KHDwKJV2ANdwDK</td>\n",
       "      <td>NaN</td>\n",
       "      <td>...</td>\n",
       "      <td>4.0</td>\n",
       "      <td>1.0</td>\n",
       "      <td>6.0</td>\n",
       "      <td>2.0</td>\n",
       "      <td>1.0</td>\n",
       "      <td>719618489.0</td>\n",
       "      <td>NaN</td>\n",
       "      <td>1</td>\n",
       "      <td>KE</td>\n",
       "      <td>mainandegwa232</td>\n",
       "    </tr>\n",
       "  </tbody>\n",
       "</table>\n",
       "<p>1 rows × 86 columns</p>\n",
       "</div>"
      ],
      "text/plain": [
       "         StartDate         EndDate  Status        IPAddress  Progress  \\\n",
       "946  31/07/23 4:25  31/07/23 11:25       0  154.153.160.244       100   \n",
       "\n",
       "     Duration (in seconds)  Finished    RecordedDate         ResponseId  \\\n",
       "946                  25190         1  31/07/23 11:25  R_3KHDwKJV2ANdwDK   \n",
       "\n",
       "     RecipientLastName  ... COVID_Q7 Pol_q1  Pol_q2  Pol_q3  dem_Q4  \\\n",
       "946                NaN  ...      4.0    1.0     6.0     2.0     1.0   \n",
       "\n",
       "    mobile_number_1 covid_cert batch  country        username  \n",
       "946     719618489.0        NaN     1       KE  mainandegwa232  \n",
       "\n",
       "[1 rows x 86 columns]"
      ]
     },
     "execution_count": 13,
     "metadata": {},
     "output_type": "execute_result"
    }
   ],
   "source": [
    "survey[survey['username']=='mainandegwa232']"
   ]
  },
  {
   "cell_type": "code",
   "execution_count": 49,
   "id": "e9d766bf",
   "metadata": {},
   "outputs": [],
   "source": [
    "survey = survey[survey['Finished']==1]"
   ]
  },
  {
   "cell_type": "code",
   "execution_count": 51,
   "id": "ba1bfa89",
   "metadata": {},
   "outputs": [],
   "source": [
    "batches = survey[['username', 'batch']].drop_duplicates('username').reset_index(drop=True)"
   ]
  },
  {
   "cell_type": "code",
   "execution_count": 33,
   "id": "68ecfba2",
   "metadata": {},
   "outputs": [],
   "source": [
    "survey = survey[['username', 'country']].drop_duplicates('username').reset_index(drop=True)"
   ]
  },
  {
   "cell_type": "code",
   "execution_count": 34,
   "id": "184417f4",
   "metadata": {},
   "outputs": [],
   "source": [
    "covid = pd.read_excel('../../data/06-other/covid_certificates_merged.xlsx')"
   ]
  },
  {
   "cell_type": "code",
   "execution_count": 35,
   "id": "c6b67180",
   "metadata": {},
   "outputs": [],
   "source": [
    "covid = covid[covid['covid_certificate']==1][['username', 'country']]"
   ]
  },
  {
   "cell_type": "code",
   "execution_count": 37,
   "id": "7659a224",
   "metadata": {},
   "outputs": [],
   "source": [
    "lottery = pd.concat([survey, covid]).reset_index(drop=True)"
   ]
  },
  {
   "cell_type": "code",
   "execution_count": 41,
   "id": "8cd0e4c0",
   "metadata": {},
   "outputs": [],
   "source": [
    "import random\n",
    "\n",
    "random.seed(57)  # Establecer la semilla para reproducibilidad\n",
    "\n",
    "\n",
    "random_numbers = [random.random() for _ in range(len(lottery))]\n",
    "lottery['random_number'] = random_numbers\n",
    "\n"
   ]
  },
  {
   "cell_type": "code",
   "execution_count": 53,
   "id": "5d0a3f86",
   "metadata": {},
   "outputs": [],
   "source": [
    "lottery_2 = pd.merge(lottery,batches,on='username',how='left')"
   ]
  },
  {
   "cell_type": "code",
   "execution_count": 55,
   "id": "4584162b",
   "metadata": {},
   "outputs": [
    {
     "data": {
      "text/html": [
       "<div>\n",
       "<style scoped>\n",
       "    .dataframe tbody tr th:only-of-type {\n",
       "        vertical-align: middle;\n",
       "    }\n",
       "\n",
       "    .dataframe tbody tr th {\n",
       "        vertical-align: top;\n",
       "    }\n",
       "\n",
       "    .dataframe thead th {\n",
       "        text-align: right;\n",
       "    }\n",
       "</style>\n",
       "<table border=\"1\" class=\"dataframe\">\n",
       "  <thead>\n",
       "    <tr style=\"text-align: right;\">\n",
       "      <th></th>\n",
       "      <th>username</th>\n",
       "      <th>country</th>\n",
       "      <th>random_number</th>\n",
       "      <th>batch</th>\n",
       "    </tr>\n",
       "  </thead>\n",
       "  <tbody>\n",
       "    <tr>\n",
       "      <th>0</th>\n",
       "      <td>ZakaKamau</td>\n",
       "      <td>KE</td>\n",
       "      <td>0.042566</td>\n",
       "      <td>0.0</td>\n",
       "    </tr>\n",
       "    <tr>\n",
       "      <th>1</th>\n",
       "      <td>jaykashed</td>\n",
       "      <td>KE</td>\n",
       "      <td>0.589686</td>\n",
       "      <td>0.0</td>\n",
       "    </tr>\n",
       "    <tr>\n",
       "      <th>2</th>\n",
       "      <td>CycloneKenya1</td>\n",
       "      <td>KE</td>\n",
       "      <td>0.019311</td>\n",
       "      <td>0.0</td>\n",
       "    </tr>\n",
       "    <tr>\n",
       "      <th>3</th>\n",
       "      <td>Qinuthia</td>\n",
       "      <td>KE</td>\n",
       "      <td>0.514126</td>\n",
       "      <td>0.0</td>\n",
       "    </tr>\n",
       "    <tr>\n",
       "      <th>4</th>\n",
       "      <td>mwadzitso</td>\n",
       "      <td>KE</td>\n",
       "      <td>0.976646</td>\n",
       "      <td>0.0</td>\n",
       "    </tr>\n",
       "    <tr>\n",
       "      <th>...</th>\n",
       "      <td>...</td>\n",
       "      <td>...</td>\n",
       "      <td>...</td>\n",
       "      <td>...</td>\n",
       "    </tr>\n",
       "    <tr>\n",
       "      <th>1292</th>\n",
       "      <td>AhmedKhalif47</td>\n",
       "      <td>KE</td>\n",
       "      <td>0.992124</td>\n",
       "      <td>2.0</td>\n",
       "    </tr>\n",
       "    <tr>\n",
       "      <th>1293</th>\n",
       "      <td>NdiZizi</td>\n",
       "      <td>SA</td>\n",
       "      <td>0.970923</td>\n",
       "      <td>2.0</td>\n",
       "    </tr>\n",
       "    <tr>\n",
       "      <th>1294</th>\n",
       "      <td>MarcusTanui</td>\n",
       "      <td>KE</td>\n",
       "      <td>0.304339</td>\n",
       "      <td>2.0</td>\n",
       "    </tr>\n",
       "    <tr>\n",
       "      <th>1295</th>\n",
       "      <td>MwangiKamauG</td>\n",
       "      <td>KE</td>\n",
       "      <td>0.544801</td>\n",
       "      <td>1.0</td>\n",
       "    </tr>\n",
       "    <tr>\n",
       "      <th>1296</th>\n",
       "      <td>ClintonMMwangi</td>\n",
       "      <td>KE</td>\n",
       "      <td>0.498762</td>\n",
       "      <td>2.0</td>\n",
       "    </tr>\n",
       "  </tbody>\n",
       "</table>\n",
       "<p>1297 rows × 4 columns</p>\n",
       "</div>"
      ],
      "text/plain": [
       "            username country  random_number  batch\n",
       "0          ZakaKamau      KE       0.042566    0.0\n",
       "1          jaykashed      KE       0.589686    0.0\n",
       "2      CycloneKenya1      KE       0.019311    0.0\n",
       "3           Qinuthia      KE       0.514126    0.0\n",
       "4          mwadzitso      KE       0.976646    0.0\n",
       "...              ...     ...            ...    ...\n",
       "1292   AhmedKhalif47      KE       0.992124    2.0\n",
       "1293         NdiZizi      SA       0.970923    2.0\n",
       "1294     MarcusTanui      KE       0.304339    2.0\n",
       "1295    MwangiKamauG      KE       0.544801    1.0\n",
       "1296  ClintonMMwangi      KE       0.498762    2.0\n",
       "\n",
       "[1297 rows x 4 columns]"
      ]
     },
     "execution_count": 55,
     "metadata": {},
     "output_type": "execute_result"
    }
   ],
   "source": [
    "lottery_2"
   ]
  },
  {
   "cell_type": "code",
   "execution_count": 56,
   "id": "49a55165",
   "metadata": {},
   "outputs": [],
   "source": [
    "lottery_2.to_excel('../../data/06-other/survey_lottery.xlsx')"
   ]
  }
 ],
 "metadata": {
  "kernelspec": {
   "display_name": "Python 3",
   "language": "python",
   "name": "python3"
  },
  "language_info": {
   "codemirror_mode": {
    "name": "ipython",
    "version": 3
   },
   "file_extension": ".py",
   "mimetype": "text/x-python",
   "name": "python",
   "nbconvert_exporter": "python",
   "pygments_lexer": "ipython3",
   "version": "3.9.11"
  }
 },
 "nbformat": 4,
 "nbformat_minor": 5
}
