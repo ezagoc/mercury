{
 "cells": [
  {
   "cell_type": "code",
   "execution_count": 1,
   "id": "b7be877a",
   "metadata": {},
   "outputs": [],
   "source": [
    "import pandas as pd\n",
    "import numpy as np\n",
    "import random\n",
    "\n",
    "from tweetple import TweetPle\n",
    "\n",
    "from datetime import date, timedelta\n",
    "from tqdm import tqdm\n",
    "tqdm.pandas()\n",
    "import time\n",
    "import requests\n",
    "import glob\n",
    "import os"
   ]
  },
  {
   "cell_type": "markdown",
   "id": "1abe758e",
   "metadata": {},
   "source": [
    "#### Limpiar datos de AfricaCheck"
   ]
  },
  {
   "cell_type": "code",
   "execution_count": 2,
   "id": "166f09b5",
   "metadata": {},
   "outputs": [],
   "source": [
    "country = 'KE'\n",
    "data = pd.read_excel(f'../../data/01-characterize/influencers/{country}/file_AfricaCheck.xlsx')"
   ]
  },
  {
   "cell_type": "code",
   "execution_count": 13,
   "id": "6cef1692",
   "metadata": {},
   "outputs": [],
   "source": [
    "data['URL'] = (np.where(data['URL'].str.contains('\\?'),\n",
    "                  data['URL'].str.split('\\?').str[0],\n",
    "                  data['URL']))"
   ]
  },
  {
   "cell_type": "code",
   "execution_count": 128,
   "id": "51335f9c",
   "metadata": {},
   "outputs": [],
   "source": [
    "data['handle'] = (np.where(data['URL'].str.contains('/'),\n",
    "                  data['URL'].str.split('/').str[-1],\n",
    "                  np.nan))"
   ]
  },
  {
   "cell_type": "code",
   "execution_count": 142,
   "id": "08c9b4fd",
   "metadata": {},
   "outputs": [],
   "source": [
    "data.to_excel(f'../../data/01-characterize/influencers/{country}/file_AfricaCheck.xlsx')"
   ]
  },
  {
   "cell_type": "markdown",
   "id": "66da28ac",
   "metadata": {},
   "source": [
    "#### descargar info cuentas"
   ]
  },
  {
   "cell_type": "code",
   "execution_count": 144,
   "id": "e4c4d021",
   "metadata": {},
   "outputs": [],
   "source": [
    "users_ke_1=pd.read_parquet('/Users/joaquinbarrutia/Dropbox/social_influencers_africa/data/twitter/1-candidates/possible_users/users_ke_filtered.parquet')\n",
    "\n",
    "users_ke_2=pd.read_parquet('/Users/joaquinbarrutia/Dropbox/social_influencers_africa/data/twitter/1-candidates/possible_users/users_ke_filtered_additional.parquet')\n",
    "users_ke = pd.concat([users_ke_1, users_ke_2], axis=0)"
   ]
  },
  {
   "cell_type": "code",
   "execution_count": 145,
   "id": "9eb8fd3e",
   "metadata": {},
   "outputs": [],
   "source": [
    "users_ke.drop_duplicates('id', inplace=True)"
   ]
  },
  {
   "cell_type": "code",
   "execution_count": 130,
   "id": "f15a20e6",
   "metadata": {},
   "outputs": [],
   "source": [
    "users_sa_1=pd.read_parquet('/Users/joaquinbarrutia/Dropbox/social_influencers_africa/data/twitter/1-candidates/possible_users/users_sa_filtered.parquet')\n",
    "\n",
    "users_sa_2=pd.read_parquet('/Users/joaquinbarrutia/Dropbox/social_influencers_africa/data/twitter/1-candidates/possible_users/users_sa_filtered_additional.parquet')\n",
    "users_sa = pd.concat([users_sa_1, users_sa_2], axis=0)"
   ]
  },
  {
   "cell_type": "code",
   "execution_count": 131,
   "id": "31004f14",
   "metadata": {},
   "outputs": [],
   "source": [
    "users_sa.drop_duplicates('id', inplace=True)"
   ]
  },
  {
   "cell_type": "code",
   "execution_count": 146,
   "id": "8843802c",
   "metadata": {},
   "outputs": [],
   "source": [
    "users_ke['id'] = users_ke['id'].astype(str)"
   ]
  },
  {
   "cell_type": "code",
   "execution_count": 133,
   "id": "19ddc2ff",
   "metadata": {},
   "outputs": [],
   "source": [
    "users_sa['id'] = users_sa['id'].astype(str)"
   ]
  },
  {
   "cell_type": "code",
   "execution_count": 147,
   "id": "bdb7be0b",
   "metadata": {},
   "outputs": [],
   "source": [
    "users_ke = users_ke[['username','id']]"
   ]
  },
  {
   "cell_type": "code",
   "execution_count": 148,
   "id": "be09fc06",
   "metadata": {},
   "outputs": [],
   "source": [
    "users_ke.rename(columns={'id':'author_id'}, inplace=True)"
   ]
  },
  {
   "cell_type": "code",
   "execution_count": 134,
   "id": "26c2e6e3",
   "metadata": {},
   "outputs": [],
   "source": [
    "users_sa = users_sa[['username','id']]"
   ]
  },
  {
   "cell_type": "code",
   "execution_count": 136,
   "id": "d3e04e0f",
   "metadata": {},
   "outputs": [
    {
     "name": "stderr",
     "output_type": "stream",
     "text": [
      "<ipython-input-136-341156e7dabb>:1: SettingWithCopyWarning: \n",
      "A value is trying to be set on a copy of a slice from a DataFrame\n",
      "\n",
      "See the caveats in the documentation: https://pandas.pydata.org/pandas-docs/stable/user_guide/indexing.html#returning-a-view-versus-a-copy\n",
      "  users_sa.rename(columns={'username':'handle', 'id':'author_id'}, inplace=True)\n"
     ]
    }
   ],
   "source": [
    "users_sa.rename(columns={'username':'handle', 'id':'author_id'}, inplace=True)"
   ]
  },
  {
   "cell_type": "code",
   "execution_count": 151,
   "id": "b9c6ff3c",
   "metadata": {},
   "outputs": [],
   "source": [
    "data = pd.merge(data,users_ke,on='author_id',how='left')"
   ]
  },
  {
   "cell_type": "code",
   "execution_count": 141,
   "id": "a19a7a4e",
   "metadata": {},
   "outputs": [],
   "source": [
    "m1 = data.duplicated(['author_id'], keep=False)\n",
    "\n",
    "data['dup'] = np.select([m1],['1'], default='0')"
   ]
  },
  {
   "cell_type": "code",
   "execution_count": 6,
   "id": "c40c4000",
   "metadata": {},
   "outputs": [],
   "source": [
    "country = 'KE'"
   ]
  },
  {
   "cell_type": "code",
   "execution_count": 7,
   "id": "e5cfda1e",
   "metadata": {},
   "outputs": [],
   "source": [
    "data = pd.read_excel(f'../../data/01-characterize/influencers/{country}/file_AfricaCheck.xlsx').drop('Unnamed: 0', axis=1)"
   ]
  },
  {
   "cell_type": "code",
   "execution_count": 8,
   "id": "a77e9e6c",
   "metadata": {},
   "outputs": [],
   "source": [
    "data.drop_duplicates('handle',inplace=True)"
   ]
  },
  {
   "cell_type": "code",
   "execution_count": 9,
   "id": "2c00a9b7",
   "metadata": {},
   "outputs": [],
   "source": [
    "data['author_id'] = data['author_id'].astype(str)"
   ]
  },
  {
   "cell_type": "code",
   "execution_count": 10,
   "id": "79fb9193",
   "metadata": {},
   "outputs": [],
   "source": [
    "list_ke = list(data.author_id)"
   ]
  },
  {
   "cell_type": "code",
   "execution_count": 11,
   "id": "0403284f",
   "metadata": {},
   "outputs": [
    {
     "data": {
      "text/plain": [
       "266"
      ]
     },
     "execution_count": 11,
     "metadata": {},
     "output_type": "execute_result"
    }
   ],
   "source": [
    "len(list_ke)"
   ]
  },
  {
   "cell_type": "code",
   "execution_count": 175,
   "id": "54a859d3",
   "metadata": {},
   "outputs": [
    {
     "data": {
      "text/plain": [
       "215"
      ]
     },
     "execution_count": 175,
     "metadata": {},
     "output_type": "execute_result"
    }
   ],
   "source": [
    "len(list_sa)"
   ]
  },
  {
   "cell_type": "code",
   "execution_count": 12,
   "id": "620fdbb5",
   "metadata": {},
   "outputs": [],
   "source": [
    "def get_path(country):\n",
    "    base = f'../../data/01-characterize/followers/{country}/'\n",
    "    path_save_c = base + '00-raw/collect/'\n",
    "    path_save_i = base + '00-raw/integrate/'\n",
    "\n",
    "    return path_save_c, path_save_i\n",
    "\n",
    "path_save_c, path_save_i = get_path('KE')"
   ]
  },
  {
   "cell_type": "code",
   "execution_count": 30,
   "id": "ec9f81cd",
   "metadata": {},
   "outputs": [
    {
     "name": "stderr",
     "output_type": "stream",
     "text": [
      "100%|██████████| 10/10 [10:02<00:00, 60.27s/it]\n"
     ]
    }
   ],
   "source": [
    "bearer_token = 'AAAAAAAAAAAAAAAAAAAAAFpgZAEAAAAAbJS59UWzipi32ixd7LHtXov9olo%3D7gxD8Afshgj4munMXHLU08jzRdTpsAh4RZqq7VBofq1wAvkx1T'\n",
    "\n",
    "TweetPle.TweepleStreamer(\n",
    "        ids[0:10], \n",
    "        bearer_token, \n",
    "        path_save=path_save_c\n",
    "    ).followers_lookup()\n"
   ]
  },
  {
   "cell_type": "code",
   "execution_count": 31,
   "id": "7ccd3ec6",
   "metadata": {},
   "outputs": [],
   "source": [
    "from os import listdir\n",
    "from os.path import isfile, join\n",
    "mypath = path_save_c\n",
    "\n",
    "onlyfiles = [f for f in listdir(mypath) if isfile(join(mypath, f))]\n",
    "onlyfiles = [f.replace('.parquet', '') for f in onlyfiles]"
   ]
  },
  {
   "cell_type": "code",
   "execution_count": 32,
   "id": "83fa5c57",
   "metadata": {},
   "outputs": [],
   "source": [
    "ids = list(set(list_ke).difference(onlyfiles))"
   ]
  },
  {
   "cell_type": "code",
   "execution_count": 34,
   "id": "f488af54",
   "metadata": {},
   "outputs": [
    {
     "data": {
      "text/plain": [
       "['828800473767481344',\n",
       " '1126820633244066048',\n",
       " '1123232969043382016',\n",
       " '1075003604279398016',\n",
       " '742783907343544320',\n",
       " '978994553221939200',\n",
       " '1360581211526230016',\n",
       " '1020272551824699008',\n",
       " '807236302408220672',\n",
       " '2748288857',\n",
       " '341959908',\n",
       " '550242318',\n",
       " '803874788347412480',\n",
       " '76594621',\n",
       " '17700414',\n",
       " '804572413618954240',\n",
       " '212651919',\n",
       " '498691115',\n",
       " '111289021',\n",
       " '1219862651548918016']"
      ]
     },
     "execution_count": 34,
     "metadata": {},
     "output_type": "execute_result"
    }
   ],
   "source": [
    "ids\n"
   ]
  }
 ],
 "metadata": {
  "kernelspec": {
   "display_name": "Python 3",
   "language": "python",
   "name": "python3"
  },
  "language_info": {
   "codemirror_mode": {
    "name": "ipython",
    "version": 3
   },
   "file_extension": ".py",
   "mimetype": "text/x-python",
   "name": "python",
   "nbconvert_exporter": "python",
   "pygments_lexer": "ipython3",
   "version": "3.9.11"
  }
 },
 "nbformat": 4,
 "nbformat_minor": 5
}
