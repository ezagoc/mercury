{
 "cells": [
  {
   "cell_type": "code",
   "execution_count": 1,
   "id": "9411eac9",
   "metadata": {},
   "outputs": [
    {
     "data": {
      "text/plain": [
       "19"
      ]
     },
     "execution_count": 1,
     "metadata": {},
     "output_type": "execute_result"
    }
   ],
   "source": [
    "import pandas as pd\n",
    "import numpy as np\n",
    "import random\n",
    "\n",
    "from tweetple import TweetPle\n",
    "\n",
    "from datetime import date, timedelta\n",
    "from tqdm import tqdm\n",
    "tqdm.pandas()\n",
    "import time\n",
    "import requests\n",
    "import glob\n",
    "import os\n",
    "\n",
    "bearer_1 = 'AAAAAAAAAAAAAAAAAAAAAKzClQEAAAAAiPTKroWBwDBgemt7kOC2cjh45GY%3DnHQ4aOfnY1mAhPY0Y40JQ9FjbO1Gwit2eh68u2tDTBYkACzkCF'\n",
    "bearer_2 = 'AAAAAAAAAAAAAAAAAAAAAAB8lgEAAAAAtHuFxjMbRwl7WNHEOpMvzf7%2BGrc%3DATF52dZ90jRf9u9qxVvuiC7WLYCte5c9U4HrWfsuz9RK59Girq'\n",
    "bearer_3 = 'AAAAAAAAAAAAAAAAAAAAADBllgEAAAAApipe6qOeDEIfw%2FTMfc2xW89ebl4%3DxNO1rdxbIui1egv8O2fHEFmFmFHykxraQyCeqfaa7vV3plAjI6'\n",
    "bearer_4 = 'AAAAAAAAAAAAAAAAAAAAAGfelQEAAAAAJnIyk0mYMHkSLSzjgcJPY9NdPgw%3D6RhIOrBneg0CHnqUoxTLrZGejUyVJm9AFFzvN44dLiRz35kBpp'\n",
    "\n",
    "country = 'SA'\n",
    "def get_path(country):\n",
    "    base = f'../../data/01-characterize/followers/{country}/'\n",
    "    path_save_c = base + '00-raw/collect/'\n",
    "    path_save_i = base + '00-raw/integrate/'\n",
    "\n",
    "    return path_save_c, path_save_i\n",
    "\n",
    "path_save_c, path_save_i = get_path(country)\n",
    "\n",
    "from os import listdir\n",
    "from os.path import isfile, join\n",
    "mypath = path_save_c\n",
    "\n",
    "# Run R Script get_users_info() to get the ids, import them:\n",
    "df = pd.read_parquet(f'../../data/01-characterize/influencers/{country}/ids2_AfricaCheck.parquet')\n",
    "ids = list(df['id'].astype(str))\n",
    "\n",
    "# Check which ones are repeated\n",
    "onlyfiles = [f for f in listdir(mypath) if isfile(join(mypath, f))]\n",
    "onlyfiles = [f.replace('.parquet', '') for f in onlyfiles]\n",
    "\n",
    "ids_batch2 = list(set(ids).difference(onlyfiles))\n",
    "ids_batch2.sort()\n",
    "len(ids_batch2)"
   ]
  },
  {
   "cell_type": "code",
   "execution_count": 2,
   "id": "afacf986",
   "metadata": {},
   "outputs": [
    {
     "name": "stderr",
     "output_type": "stream",
     "text": [
      "  0%|                                                                                            | 0/4 [00:00<?, ?it/s]C:\\Users\\Dell\\miniconda3\\lib\\site-packages\\tweetple\\TwitterFullArchive.py:319: FutureWarning: The frame.append method is deprecated and will be removed from pandas in a future version. Use pandas.concat instead.\n",
      "  df = df.append(pd.DataFrame(\n",
      "C:\\Users\\Dell\\miniconda3\\lib\\site-packages\\tweetple\\TwitterFullArchive.py:319: FutureWarning: The frame.append method is deprecated and will be removed from pandas in a future version. Use pandas.concat instead.\n",
      "  df = df.append(pd.DataFrame(\n",
      "C:\\Users\\Dell\\miniconda3\\lib\\site-packages\\tweetple\\TwitterFullArchive.py:319: FutureWarning: The frame.append method is deprecated and will be removed from pandas in a future version. Use pandas.concat instead.\n",
      "  df = df.append(pd.DataFrame(\n",
      "C:\\Users\\Dell\\miniconda3\\lib\\site-packages\\tweetple\\TwitterFullArchive.py:319: FutureWarning: The frame.append method is deprecated and will be removed from pandas in a future version. Use pandas.concat instead.\n",
      "  df = df.append(pd.DataFrame(\n",
      "C:\\Users\\Dell\\miniconda3\\lib\\site-packages\\tweetple\\TwitterFullArchive.py:319: FutureWarning: The frame.append method is deprecated and will be removed from pandas in a future version. Use pandas.concat instead.\n",
      "  df = df.append(pd.DataFrame(\n",
      "C:\\Users\\Dell\\miniconda3\\lib\\site-packages\\tweetple\\TwitterFullArchive.py:319: FutureWarning: The frame.append method is deprecated and will be removed from pandas in a future version. Use pandas.concat instead.\n",
      "  df = df.append(pd.DataFrame(\n",
      "C:\\Users\\Dell\\miniconda3\\lib\\site-packages\\tweetple\\TwitterFullArchive.py:319: FutureWarning: The frame.append method is deprecated and will be removed from pandas in a future version. Use pandas.concat instead.\n",
      "  df = df.append(pd.DataFrame(\n",
      "C:\\Users\\Dell\\miniconda3\\lib\\site-packages\\tweetple\\TwitterFullArchive.py:319: FutureWarning: The frame.append method is deprecated and will be removed from pandas in a future version. Use pandas.concat instead.\n",
      "  df = df.append(pd.DataFrame(\n",
      "C:\\Users\\Dell\\miniconda3\\lib\\site-packages\\tweetple\\TwitterFullArchive.py:319: FutureWarning: The frame.append method is deprecated and will be removed from pandas in a future version. Use pandas.concat instead.\n",
      "  df = df.append(pd.DataFrame(\n",
      " 25%|████████████████████▊                                                              | 1/4 [09:19<27:57, 559.21s/it]C:\\Users\\Dell\\miniconda3\\lib\\site-packages\\tweetple\\TwitterFullArchive.py:319: FutureWarning: The frame.append method is deprecated and will be removed from pandas in a future version. Use pandas.concat instead.\n",
      "  df = df.append(pd.DataFrame(\n",
      "C:\\Users\\Dell\\miniconda3\\lib\\site-packages\\tweetple\\TwitterFullArchive.py:319: FutureWarning: The frame.append method is deprecated and will be removed from pandas in a future version. Use pandas.concat instead.\n",
      "  df = df.append(pd.DataFrame(\n",
      "C:\\Users\\Dell\\miniconda3\\lib\\site-packages\\tweetple\\TwitterFullArchive.py:319: FutureWarning: The frame.append method is deprecated and will be removed from pandas in a future version. Use pandas.concat instead.\n",
      "  df = df.append(pd.DataFrame(\n",
      " 50%|█████████████████████████████████████████▌                                         | 2/4 [12:25<14:54, 447.46s/it]C:\\Users\\Dell\\miniconda3\\lib\\site-packages\\tweetple\\TwitterFullArchive.py:319: FutureWarning: The frame.append method is deprecated and will be removed from pandas in a future version. Use pandas.concat instead.\n",
      "  df = df.append(pd.DataFrame(\n",
      "C:\\Users\\Dell\\miniconda3\\lib\\site-packages\\tweetple\\TwitterFullArchive.py:319: FutureWarning: The frame.append method is deprecated and will be removed from pandas in a future version. Use pandas.concat instead.\n",
      "  df = df.append(pd.DataFrame(\n",
      "C:\\Users\\Dell\\miniconda3\\lib\\site-packages\\tweetple\\TwitterFullArchive.py:319: FutureWarning: The frame.append method is deprecated and will be removed from pandas in a future version. Use pandas.concat instead.\n",
      "  df = df.append(pd.DataFrame(\n",
      "C:\\Users\\Dell\\miniconda3\\lib\\site-packages\\tweetple\\TwitterFullArchive.py:319: FutureWarning: The frame.append method is deprecated and will be removed from pandas in a future version. Use pandas.concat instead.\n",
      "  df = df.append(pd.DataFrame(\n",
      "C:\\Users\\Dell\\miniconda3\\lib\\site-packages\\tweetple\\TwitterFullArchive.py:319: FutureWarning: The frame.append method is deprecated and will be removed from pandas in a future version. Use pandas.concat instead.\n",
      "  df = df.append(pd.DataFrame(\n",
      " 75%|██████████████████████████████████████████████████████████████▎                    | 3/4 [17:33<06:45, 405.63s/it]C:\\Users\\Dell\\miniconda3\\lib\\site-packages\\tweetple\\TwitterFullArchive.py:319: FutureWarning: The frame.append method is deprecated and will be removed from pandas in a future version. Use pandas.concat instead.\n",
      "  df = df.append(pd.DataFrame(\n",
      "C:\\Users\\Dell\\miniconda3\\lib\\site-packages\\tweetple\\TwitterFullArchive.py:319: FutureWarning: The frame.append method is deprecated and will be removed from pandas in a future version. Use pandas.concat instead.\n",
      "  df = df.append(pd.DataFrame(\n",
      "C:\\Users\\Dell\\miniconda3\\lib\\site-packages\\tweetple\\TwitterFullArchive.py:319: FutureWarning: The frame.append method is deprecated and will be removed from pandas in a future version. Use pandas.concat instead.\n",
      "  df = df.append(pd.DataFrame(\n",
      "C:\\Users\\Dell\\miniconda3\\lib\\site-packages\\tweetple\\TwitterFullArchive.py:319: FutureWarning: The frame.append method is deprecated and will be removed from pandas in a future version. Use pandas.concat instead.\n",
      "  df = df.append(pd.DataFrame(\n",
      "C:\\Users\\Dell\\miniconda3\\lib\\site-packages\\tweetple\\TwitterFullArchive.py:319: FutureWarning: The frame.append method is deprecated and will be removed from pandas in a future version. Use pandas.concat instead.\n",
      "  df = df.append(pd.DataFrame(\n",
      "100%|███████████████████████████████████████████████████████████████████████████████████| 4/4 [22:44<00:00, 341.12s/it]\n"
     ]
    }
   ],
   "source": [
    "bearer = 'AAAAAAAAAAAAAAAAAAAAAH9qNgEAAAAAXr8SR5%2F3V9MrGSaEjTtBejaxDe4%3DI7oR8Rl86ha1JpzHKTLXJjZmJhLIa1zuTErYRrJhWQ6wWcvAaU'\n",
    "\n",
    "TweetPle.TweepleStreamer(\n",
    "        ids_batch2[15:], \n",
    "        bearer_4, \n",
    "        path_save=path_save_c\n",
    "    ).followers_lookup()"
   ]
  },
  {
   "cell_type": "code",
   "execution_count": null,
   "id": "dfee4029",
   "metadata": {},
   "outputs": [],
   "source": []
  }
 ],
 "metadata": {
  "kernelspec": {
   "display_name": "Python 3 (ipykernel)",
   "language": "python",
   "name": "python3"
  },
  "language_info": {
   "codemirror_mode": {
    "name": "ipython",
    "version": 3
   },
   "file_extension": ".py",
   "mimetype": "text/x-python",
   "name": "python",
   "nbconvert_exporter": "python",
   "pygments_lexer": "ipython3",
   "version": "3.9.12"
  }
 },
 "nbformat": 4,
 "nbformat_minor": 5
}
