{
 "cells": [
  {
   "cell_type": "code",
   "execution_count": 1,
   "id": "dbfd8584",
   "metadata": {},
   "outputs": [
    {
     "data": {
      "text/plain": [
       "19"
      ]
     },
     "execution_count": 1,
     "metadata": {},
     "output_type": "execute_result"
    }
   ],
   "source": [
    "import pandas as pd\n",
    "import numpy as np\n",
    "import random\n",
    "\n",
    "from tweetple import TweetPle\n",
    "\n",
    "from datetime import date, timedelta\n",
    "from tqdm import tqdm\n",
    "tqdm.pandas()\n",
    "import time\n",
    "import requests\n",
    "import glob\n",
    "import os\n",
    "\n",
    "bearer_1 = 'AAAAAAAAAAAAAAAAAAAAAKzClQEAAAAAiPTKroWBwDBgemt7kOC2cjh45GY%3DnHQ4aOfnY1mAhPY0Y40JQ9FjbO1Gwit2eh68u2tDTBYkACzkCF'\n",
    "bearer_2 = 'AAAAAAAAAAAAAAAAAAAAAAB8lgEAAAAAtHuFxjMbRwl7WNHEOpMvzf7%2BGrc%3DATF52dZ90jRf9u9qxVvuiC7WLYCte5c9U4HrWfsuz9RK59Girq'\n",
    "bearer_3 = 'AAAAAAAAAAAAAAAAAAAAADBllgEAAAAApipe6qOeDEIfw%2FTMfc2xW89ebl4%3DxNO1rdxbIui1egv8O2fHEFmFmFHykxraQyCeqfaa7vV3plAjI6'\n",
    "bearer_4 = 'AAAAAAAAAAAAAAAAAAAAAGfelQEAAAAAJnIyk0mYMHkSLSzjgcJPY9NdPgw%3D6RhIOrBneg0CHnqUoxTLrZGejUyVJm9AFFzvN44dLiRz35kBpp'\n",
    "\n",
    "country = 'SA'\n",
    "def get_path(country):\n",
    "    base = f'../../data/01-characterize/followers/{country}/'\n",
    "    path_save_c = base + '00-raw/collect/'\n",
    "    path_save_i = base + '00-raw/integrate/'\n",
    "\n",
    "    return path_save_c, path_save_i\n",
    "\n",
    "path_save_c, path_save_i = get_path('SA')\n",
    "\n",
    "from os import listdir\n",
    "from os.path import isfile, join\n",
    "mypath = path_save_c\n",
    "\n",
    "# Run R Script get_users_info() to get the ids, import them:\n",
    "df = pd.read_parquet(f'../../data/01-characterize/influencers/{country}/ids2_AfricaCheck.parquet')\n",
    "ids = list(df['id'].astype(str))\n",
    "\n",
    "# Check which ones are repeated\n",
    "onlyfiles = [f for f in listdir(mypath) if isfile(join(mypath, f))]\n",
    "onlyfiles = [f.replace('.parquet', '') for f in onlyfiles]\n",
    "\n",
    "ids_batch2 = list(set(ids).difference(onlyfiles))\n",
    "ids_batch2.sort()\n",
    "len(ids_batch2)"
   ]
  },
  {
   "cell_type": "code",
   "execution_count": 2,
   "id": "8084baa3",
   "metadata": {},
   "outputs": [
    {
     "name": "stderr",
     "output_type": "stream",
     "text": [
      "  0%|                                                                                            | 0/5 [00:00<?, ?it/s]C:\\Users\\Dell\\miniconda3\\lib\\site-packages\\tweetple\\TwitterFullArchive.py:319: FutureWarning: The frame.append method is deprecated and will be removed from pandas in a future version. Use pandas.concat instead.\n",
      "  df = df.append(pd.DataFrame(\n",
      "C:\\Users\\Dell\\miniconda3\\lib\\site-packages\\tweetple\\TwitterFullArchive.py:319: FutureWarning: The frame.append method is deprecated and will be removed from pandas in a future version. Use pandas.concat instead.\n",
      "  df = df.append(pd.DataFrame(\n",
      "C:\\Users\\Dell\\miniconda3\\lib\\site-packages\\tweetple\\TwitterFullArchive.py:319: FutureWarning: The frame.append method is deprecated and will be removed from pandas in a future version. Use pandas.concat instead.\n",
      "  df = df.append(pd.DataFrame(\n",
      " 20%|████████████████▌                                                                  | 1/5 [03:07<12:29, 187.46s/it]C:\\Users\\Dell\\miniconda3\\lib\\site-packages\\tweetple\\TwitterFullArchive.py:319: FutureWarning: The frame.append method is deprecated and will be removed from pandas in a future version. Use pandas.concat instead.\n",
      "  df = df.append(pd.DataFrame(\n",
      "C:\\Users\\Dell\\miniconda3\\lib\\site-packages\\tweetple\\TwitterFullArchive.py:319: FutureWarning: The frame.append method is deprecated and will be removed from pandas in a future version. Use pandas.concat instead.\n",
      "  df = df.append(pd.DataFrame(\n",
      "C:\\Users\\Dell\\miniconda3\\lib\\site-packages\\tweetple\\TwitterFullArchive.py:319: FutureWarning: The frame.append method is deprecated and will be removed from pandas in a future version. Use pandas.concat instead.\n",
      "  df = df.append(pd.DataFrame(\n",
      "C:\\Users\\Dell\\miniconda3\\lib\\site-packages\\tweetple\\TwitterFullArchive.py:319: FutureWarning: The frame.append method is deprecated and will be removed from pandas in a future version. Use pandas.concat instead.\n",
      "  df = df.append(pd.DataFrame(\n",
      "C:\\Users\\Dell\\miniconda3\\lib\\site-packages\\tweetple\\TwitterFullArchive.py:319: FutureWarning: The frame.append method is deprecated and will be removed from pandas in a future version. Use pandas.concat instead.\n",
      "  df = df.append(pd.DataFrame(\n",
      "C:\\Users\\Dell\\miniconda3\\lib\\site-packages\\tweetple\\TwitterFullArchive.py:319: FutureWarning: The frame.append method is deprecated and will be removed from pandas in a future version. Use pandas.concat instead.\n",
      "  df = df.append(pd.DataFrame(\n",
      "C:\\Users\\Dell\\miniconda3\\lib\\site-packages\\tweetple\\TwitterFullArchive.py:319: FutureWarning: The frame.append method is deprecated and will be removed from pandas in a future version. Use pandas.concat instead.\n",
      "  df = df.append(pd.DataFrame(\n",
      " 40%|█████████████████████████████████▏                                                 | 2/5 [10:21<13:04, 261.49s/it]C:\\Users\\Dell\\miniconda3\\lib\\site-packages\\tweetple\\TwitterFullArchive.py:319: FutureWarning: The frame.append method is deprecated and will be removed from pandas in a future version. Use pandas.concat instead.\n",
      "  df = df.append(pd.DataFrame(\n",
      "C:\\Users\\Dell\\miniconda3\\lib\\site-packages\\tweetple\\TwitterFullArchive.py:319: FutureWarning: The frame.append method is deprecated and will be removed from pandas in a future version. Use pandas.concat instead.\n",
      "  df = df.append(pd.DataFrame(\n",
      "C:\\Users\\Dell\\miniconda3\\lib\\site-packages\\tweetple\\TwitterFullArchive.py:319: FutureWarning: The frame.append method is deprecated and will be removed from pandas in a future version. Use pandas.concat instead.\n",
      "  df = df.append(pd.DataFrame(\n",
      "C:\\Users\\Dell\\miniconda3\\lib\\site-packages\\tweetple\\TwitterFullArchive.py:319: FutureWarning: The frame.append method is deprecated and will be removed from pandas in a future version. Use pandas.concat instead.\n",
      "  df = df.append(pd.DataFrame(\n",
      "C:\\Users\\Dell\\miniconda3\\lib\\site-packages\\tweetple\\TwitterFullArchive.py:319: FutureWarning: The frame.append method is deprecated and will be removed from pandas in a future version. Use pandas.concat instead.\n",
      "  df = df.append(pd.DataFrame(\n",
      "C:\\Users\\Dell\\miniconda3\\lib\\site-packages\\tweetple\\TwitterFullArchive.py:319: FutureWarning: The frame.append method is deprecated and will be removed from pandas in a future version. Use pandas.concat instead.\n",
      "  df = df.append(pd.DataFrame(\n",
      "C:\\Users\\Dell\\miniconda3\\lib\\site-packages\\tweetple\\TwitterFullArchive.py:319: FutureWarning: The frame.append method is deprecated and will be removed from pandas in a future version. Use pandas.concat instead.\n",
      "  df = df.append(pd.DataFrame(\n",
      " 60%|█████████████████████████████████████████████████▊                                 | 3/5 [17:33<10:25, 312.59s/it]C:\\Users\\Dell\\miniconda3\\lib\\site-packages\\tweetple\\TwitterFullArchive.py:319: FutureWarning: The frame.append method is deprecated and will be removed from pandas in a future version. Use pandas.concat instead.\n",
      "  df = df.append(pd.DataFrame(\n",
      "C:\\Users\\Dell\\miniconda3\\lib\\site-packages\\tweetple\\TwitterFullArchive.py:319: FutureWarning: The frame.append method is deprecated and will be removed from pandas in a future version. Use pandas.concat instead.\n",
      "  df = df.append(pd.DataFrame(\n",
      "C:\\Users\\Dell\\miniconda3\\lib\\site-packages\\tweetple\\TwitterFullArchive.py:319: FutureWarning: The frame.append method is deprecated and will be removed from pandas in a future version. Use pandas.concat instead.\n",
      "  df = df.append(pd.DataFrame(\n",
      "C:\\Users\\Dell\\miniconda3\\lib\\site-packages\\tweetple\\TwitterFullArchive.py:319: FutureWarning: The frame.append method is deprecated and will be removed from pandas in a future version. Use pandas.concat instead.\n",
      "  df = df.append(pd.DataFrame(\n",
      " 80%|██████████████████████████████████████████████████████████████████▍                | 4/5 [21:42<04:53, 293.61s/it]C:\\Users\\Dell\\miniconda3\\lib\\site-packages\\tweetple\\TwitterFullArchive.py:319: FutureWarning: The frame.append method is deprecated and will be removed from pandas in a future version. Use pandas.concat instead.\n",
      "  df = df.append(pd.DataFrame(\n",
      "C:\\Users\\Dell\\miniconda3\\lib\\site-packages\\tweetple\\TwitterFullArchive.py:319: FutureWarning: The frame.append method is deprecated and will be removed from pandas in a future version. Use pandas.concat instead.\n",
      "  df = df.append(pd.DataFrame(\n",
      "C:\\Users\\Dell\\miniconda3\\lib\\site-packages\\tweetple\\TwitterFullArchive.py:319: FutureWarning: The frame.append method is deprecated and will be removed from pandas in a future version. Use pandas.concat instead.\n",
      "  df = df.append(pd.DataFrame(\n",
      "100%|███████████████████████████████████████████████████████████████████████████████████| 5/5 [24:49<00:00, 297.86s/it]\n"
     ]
    }
   ],
   "source": [
    "bearer = 'AAAAAAAAAAAAAAAAAAAAAPLTMQEAAAAACSsXWirDTJJ6LdSIWv2nIphsXBk%3D3jSj3V6PeCNcSKYQ54IK46adw1Q3m6AGvbllvkzwGbXZ6WD3Fh'\n",
    "\n",
    "TweetPle.TweepleStreamer(\n",
    "        ids_batch2[10:15], \n",
    "        bearer_3, \n",
    "        path_save=path_save_c\n",
    "    ).followers_lookup()"
   ]
  },
  {
   "cell_type": "code",
   "execution_count": null,
   "id": "b58d3755",
   "metadata": {},
   "outputs": [],
   "source": []
  }
 ],
 "metadata": {
  "kernelspec": {
   "display_name": "Python 3 (ipykernel)",
   "language": "python",
   "name": "python3"
  },
  "language_info": {
   "codemirror_mode": {
    "name": "ipython",
    "version": 3
   },
   "file_extension": ".py",
   "mimetype": "text/x-python",
   "name": "python",
   "nbconvert_exporter": "python",
   "pygments_lexer": "ipython3",
   "version": "3.9.12"
  }
 },
 "nbformat": 4,
 "nbformat_minor": 5
}
