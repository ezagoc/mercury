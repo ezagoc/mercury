{
 "cells": [
  {
   "cell_type": "code",
   "execution_count": null,
   "id": "9bfbaa39",
   "metadata": {},
   "outputs": [],
   "source": [
    "import pandas as pd\n",
    "\n",
    "# Get the Handles\n",
    "country = 'KE'\n",
    "data = pd.read_excel(f'../../data/01-characterize/influencers/{country}/file2_AfricaCheck.xlsx')\n",
    "data['URL'] = (np.where(data['URL'].str.contains('\\?'),\n",
    "                  data['URL'].str.split('\\?').str[0],\n",
    "                  data['URL']))\n",
    "\n",
    "data['handle'] = (np.where(data['URL'].str.contains('/'),\n",
    "                  data['URL'].str.split('/').str[-1],\n",
    "                  np.nan))\n",
    "\n",
    "data.to_excel(f'../../data/01-characterize/influencers/{country}/file2_AfricaCheck.xlsx')"
   ]
  }
 ],
 "metadata": {
  "kernelspec": {
   "display_name": "Python 3 (ipykernel)",
   "language": "python",
   "name": "python3"
  },
  "language_info": {
   "codemirror_mode": {
    "name": "ipython",
    "version": 3
   },
   "file_extension": ".py",
   "mimetype": "text/x-python",
   "name": "python",
   "nbconvert_exporter": "python",
   "pygments_lexer": "ipython3",
   "version": "3.9.12"
  }
 },
 "nbformat": 4,
 "nbformat_minor": 5
}
