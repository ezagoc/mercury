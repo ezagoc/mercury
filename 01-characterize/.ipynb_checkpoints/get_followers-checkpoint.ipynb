{
 "cells": [
  {
   "cell_type": "code",
   "execution_count": 2,
   "id": "6c34c12d",
   "metadata": {},
   "outputs": [],
   "source": [
    "import pandas as pd\n",
    "import numpy as np\n",
    "import random\n",
    "\n",
    "from tweetple import TweetPle\n",
    "\n",
    "from datetime import date, timedelta\n",
    "from tqdm import tqdm\n",
    "tqdm.pandas()\n",
    "import time\n",
    "import requests\n",
    "import glob\n",
    "import os"
   ]
  },
  {
   "cell_type": "markdown",
   "id": "85377cdb",
   "metadata": {},
   "source": [
    "#### Limpiar datos de AfricaCheck"
   ]
  },
  {
   "cell_type": "code",
   "execution_count": 143,
   "id": "ca0176bd",
   "metadata": {},
   "outputs": [],
   "source": [
    "country = 'KE'\n",
    "data = pd.read_excel(f'../../data/01-characterize/influencers/{country}/file_AfricaCheck.xlsx')"
   ]
  },
  {
   "cell_type": "code",
   "execution_count": 13,
   "id": "c53e7e9f",
   "metadata": {},
   "outputs": [],
   "source": [
    "data['URL'] = (np.where(data['URL'].str.contains('\\?'),\n",
    "                  data['URL'].str.split('\\?').str[0],\n",
    "                  data['URL']))"
   ]
  },
  {
   "cell_type": "code",
   "execution_count": 128,
   "id": "331c7285",
   "metadata": {},
   "outputs": [],
   "source": [
    "data['handle'] = (np.where(data['URL'].str.contains('/'),\n",
    "                  data['URL'].str.split('/').str[-1],\n",
    "                  np.nan))"
   ]
  },
  {
   "cell_type": "code",
   "execution_count": 142,
   "id": "7ca3c1fc",
   "metadata": {},
   "outputs": [],
   "source": [
    "data.to_excel(f'../../data/01-characterize/influencers/{country}/file_AfricaCheck.xlsx')"
   ]
  },
  {
   "cell_type": "markdown",
   "id": "69898dd6",
   "metadata": {},
   "source": [
    "#### descargar info cuentas"
   ]
  },
  {
   "cell_type": "code",
   "execution_count": 3,
   "id": "c2a36e85",
   "metadata": {},
   "outputs": [],
   "source": [
    "users_ke_1=pd.read_parquet('/Users/joaquinbarrutia/Dropbox/social_influencers_africa/data/twitter/1-candidates/possible_users/users_ke_filtered.parquet')\n",
    "\n",
    "users_ke_2=pd.read_parquet('/Users/joaquinbarrutia/Dropbox/social_influencers_africa/data/twitter/1-candidates/possible_users/users_ke_filtered_additional.parquet')\n",
    "users_ke = pd.concat([users_ke_1, users_ke_2], axis=0)"
   ]
  },
  {
   "cell_type": "code",
   "execution_count": 26,
   "id": "4dcf8ee7",
   "metadata": {},
   "outputs": [],
   "source": [
    "users_ke_1=pd.read_excel('/Users/joaquinbarrutia/Dropbox/social_influencers_africa/data/twitter/1-candidates/users/KE/agg/accounts.xlsx')\n",
    "\n",
    "users_ke_2=pd.read_excel('/Users/joaquinbarrutia/Dropbox/social_influencers_africa/data/twitter/1-candidates/users/KE/agg/accounts_new.xlsx')\n",
    "users_ke = pd.concat([users_ke_1, users_ke_2], axis=0)"
   ]
  },
  {
   "cell_type": "code",
   "execution_count": 28,
   "id": "f6d142e7",
   "metadata": {},
   "outputs": [],
   "source": [
    "users_ke.rename(columns={'author_id':'id'}, inplace=True)"
   ]
  },
  {
   "cell_type": "code",
   "execution_count": 29,
   "id": "dcb241be",
   "metadata": {},
   "outputs": [],
   "source": [
    "users_ke.drop_duplicates('id', inplace=True)"
   ]
  },
  {
   "cell_type": "code",
   "execution_count": 5,
   "id": "a6c26410",
   "metadata": {},
   "outputs": [],
   "source": [
    "users_sa_1=pd.read_parquet('/Users/joaquinbarrutia/Dropbox/social_influencers_africa/data/twitter/1-candidates/possible_users/users_sa_filtered.parquet')\n",
    "\n",
    "users_sa_2=pd.read_parquet('/Users/joaquinbarrutia/Dropbox/social_influencers_africa/data/twitter/1-candidates/possible_users/users_sa_filtered_additional.parquet')\n",
    "users_sa = pd.concat([users_sa_1, users_sa_2], axis=0)"
   ]
  },
  {
   "cell_type": "code",
   "execution_count": 30,
   "id": "268ecd3b",
   "metadata": {},
   "outputs": [],
   "source": [
    "inf_ke = pd.read_parquet('/Users/joaquinbarrutia/Dropbox/Bolivia_Project/social-media-influencers-af/data/01-characterize/influencers/KE/confirmed_influencers.parquet')\n",
    "inf_sa = pd.read_parquet('/Users/joaquinbarrutia/Dropbox/Bolivia_Project/social-media-influencers-af/data/01-characterize/influencers/SA/confirmed_influencers.parquet')"
   ]
  },
  {
   "cell_type": "code",
   "execution_count": 13,
   "id": "68d77ba1",
   "metadata": {},
   "outputs": [],
   "source": [
    "users_sa.drop_duplicates('id', inplace=True)"
   ]
  },
  {
   "cell_type": "code",
   "execution_count": 31,
   "id": "9e9eaaf3",
   "metadata": {},
   "outputs": [],
   "source": [
    "users_ke['id'] = users_ke['id'].astype(str)\n",
    "inf_ke['id'] = inf_ke['id'].astype(str)"
   ]
  },
  {
   "cell_type": "code",
   "execution_count": 15,
   "id": "b476afc1",
   "metadata": {},
   "outputs": [],
   "source": [
    "users_sa['id'] = users_sa['id'].astype(str)\n",
    "inf_sa['id'] = inf_sa['id'].astype(str)"
   ]
  },
  {
   "cell_type": "code",
   "execution_count": 147,
   "id": "3e1c7a77",
   "metadata": {},
   "outputs": [],
   "source": [
    "users_ke = users_ke[['username','id']]"
   ]
  },
  {
   "cell_type": "code",
   "execution_count": 148,
   "id": "b1285850",
   "metadata": {},
   "outputs": [],
   "source": [
    "users_ke.rename(columns={'id':'author_id'}, inplace=True)"
   ]
  },
  {
   "cell_type": "code",
   "execution_count": 134,
   "id": "00065923",
   "metadata": {},
   "outputs": [],
   "source": [
    "users_sa = users_sa[['username','id']]"
   ]
  },
  {
   "cell_type": "code",
   "execution_count": 136,
   "id": "b9224172",
   "metadata": {},
   "outputs": [
    {
     "name": "stderr",
     "output_type": "stream",
     "text": [
      "<ipython-input-136-341156e7dabb>:1: SettingWithCopyWarning: \n",
      "A value is trying to be set on a copy of a slice from a DataFrame\n",
      "\n",
      "See the caveats in the documentation: https://pandas.pydata.org/pandas-docs/stable/user_guide/indexing.html#returning-a-view-versus-a-copy\n",
      "  users_sa.rename(columns={'username':'handle', 'id':'author_id'}, inplace=True)\n"
     ]
    }
   ],
   "source": [
    "users_sa.rename(columns={'username':'handle', 'id':'author_id'}, inplace=True)"
   ]
  },
  {
   "cell_type": "code",
   "execution_count": 32,
   "id": "bdaeb00c",
   "metadata": {},
   "outputs": [],
   "source": [
    "data = pd.merge(inf_ke,users_ke,on='id',how='left')"
   ]
  },
  {
   "cell_type": "code",
   "execution_count": 20,
   "id": "c8df08bb",
   "metadata": {},
   "outputs": [],
   "source": [
    "data = pd.merge(inf_sa,users_sa,on='id',how='left')"
   ]
  },
  {
   "cell_type": "code",
   "execution_count": 33,
   "id": "d710c654",
   "metadata": {},
   "outputs": [
    {
     "data": {
      "text/html": [
       "<div>\n",
       "<style scoped>\n",
       "    .dataframe tbody tr th:only-of-type {\n",
       "        vertical-align: middle;\n",
       "    }\n",
       "\n",
       "    .dataframe tbody tr th {\n",
       "        vertical-align: top;\n",
       "    }\n",
       "\n",
       "    .dataframe thead th {\n",
       "        text-align: right;\n",
       "    }\n",
       "</style>\n",
       "<table border=\"1\" class=\"dataframe\">\n",
       "  <thead>\n",
       "    <tr style=\"text-align: right;\">\n",
       "      <th></th>\n",
       "      <th>handle</th>\n",
       "      <th>id</th>\n",
       "      <th>n_tweets.fc</th>\n",
       "      <th>n_tweets.na</th>\n",
       "      <th>n_tweets</th>\n",
       "      <th>location</th>\n",
       "      <th>created_at</th>\n",
       "      <th>description</th>\n",
       "      <th>name</th>\n",
       "      <th>url</th>\n",
       "      <th>...</th>\n",
       "      <th>retweet_count_mean</th>\n",
       "      <th>retweet_count_max</th>\n",
       "      <th>retweet_count_sum</th>\n",
       "      <th>retweet_count_std</th>\n",
       "      <th>interactions_count_sum</th>\n",
       "      <th>impression_count_min</th>\n",
       "      <th>impression_count_mean</th>\n",
       "      <th>impression_count_max</th>\n",
       "      <th>impression_count_sum</th>\n",
       "      <th>impression_count_std</th>\n",
       "    </tr>\n",
       "  </thead>\n",
       "  <tbody>\n",
       "    <tr>\n",
       "      <th>0</th>\n",
       "      <td>WillieOeba</td>\n",
       "      <td>2223128873</td>\n",
       "      <td>0.0</td>\n",
       "      <td>1.0</td>\n",
       "      <td>2971.0</td>\n",
       "      <td>Nairobi.kenya</td>\n",
       "      <td>2013-12-13</td>\n",
       "      <td>Current East Africa Spoken Word Battle King | ...</td>\n",
       "      <td>WORD KING</td>\n",
       "      <td>https://t.co/oPfYSj5zuc</td>\n",
       "      <td>...</td>\n",
       "      <td>32.897678</td>\n",
       "      <td>35168.0</td>\n",
       "      <td>97739.0</td>\n",
       "      <td>811.997808</td>\n",
       "      <td>116952.0</td>\n",
       "      <td>NaN</td>\n",
       "      <td>NaN</td>\n",
       "      <td>NaN</td>\n",
       "      <td>NaN</td>\n",
       "      <td>NaN</td>\n",
       "    </tr>\n",
       "    <tr>\n",
       "      <th>1</th>\n",
       "      <td>Son_of_Laikipia</td>\n",
       "      <td>545388182</td>\n",
       "      <td>0.0</td>\n",
       "      <td>8.0</td>\n",
       "      <td>10107.0</td>\n",
       "      <td>Nairobi, Kenya</td>\n",
       "      <td>2012-04-04</td>\n",
       "      <td>All I do is tweet Gîkûyû jokes and laugh unapo...</td>\n",
       "      <td>Wamutahi</td>\n",
       "      <td>NaN</td>\n",
       "      <td>...</td>\n",
       "      <td>410.147225</td>\n",
       "      <td>708737.0</td>\n",
       "      <td>4145358.0</td>\n",
       "      <td>8055.615167</td>\n",
       "      <td>4641787.0</td>\n",
       "      <td>NaN</td>\n",
       "      <td>NaN</td>\n",
       "      <td>NaN</td>\n",
       "      <td>NaN</td>\n",
       "      <td>NaN</td>\n",
       "    </tr>\n",
       "    <tr>\n",
       "      <th>2</th>\n",
       "      <td>georgemaringa_</td>\n",
       "      <td>2449669469</td>\n",
       "      <td>0.0</td>\n",
       "      <td>36.0</td>\n",
       "      <td>660.0</td>\n",
       "      <td>Kenya</td>\n",
       "      <td>2014-03-31</td>\n",
       "      <td>Anchor/Reporter @KTNNewsKE &amp; Digital @Standard...</td>\n",
       "      <td>George Maringa</td>\n",
       "      <td>https://t.co/vLK9LsoPTV</td>\n",
       "      <td>...</td>\n",
       "      <td>81.568182</td>\n",
       "      <td>13487.0</td>\n",
       "      <td>53835.0</td>\n",
       "      <td>663.070114</td>\n",
       "      <td>61047.0</td>\n",
       "      <td>0.0</td>\n",
       "      <td>0.0</td>\n",
       "      <td>0.0</td>\n",
       "      <td>0.0</td>\n",
       "      <td>0.0</td>\n",
       "    </tr>\n",
       "    <tr>\n",
       "      <th>3</th>\n",
       "      <td>alexowiti</td>\n",
       "      <td>49589975</td>\n",
       "      <td>0.0</td>\n",
       "      <td>18.0</td>\n",
       "      <td>746.0</td>\n",
       "      <td>NAIROBI-KENYA</td>\n",
       "      <td>2009-06-22</td>\n",
       "      <td>PR EXPERT &amp; PUBLICIST | TECH EVANGELIST | BUSI...</td>\n",
       "      <td>ALEX OWITI</td>\n",
       "      <td>https://t.co/SmgN7dMs2H</td>\n",
       "      <td>...</td>\n",
       "      <td>392.911528</td>\n",
       "      <td>38294.0</td>\n",
       "      <td>293112.0</td>\n",
       "      <td>2588.836234</td>\n",
       "      <td>293762.0</td>\n",
       "      <td>0.0</td>\n",
       "      <td>0.0</td>\n",
       "      <td>0.0</td>\n",
       "      <td>0.0</td>\n",
       "      <td>0.0</td>\n",
       "    </tr>\n",
       "    <tr>\n",
       "      <th>4</th>\n",
       "      <td>MuthokaTito</td>\n",
       "      <td>181289232</td>\n",
       "      <td>0.0</td>\n",
       "      <td>36.0</td>\n",
       "      <td>2092.0</td>\n",
       "      <td>Kibwezi, Kenya</td>\n",
       "      <td>2010-08-21</td>\n",
       "      <td>Cyber Intelligence Threat Analyst | Researcher...</td>\n",
       "      <td>The Muthoka®</td>\n",
       "      <td>https://t.co/5BpR5HzD8F</td>\n",
       "      <td>...</td>\n",
       "      <td>811.704111</td>\n",
       "      <td>106502.0</td>\n",
       "      <td>1698085.0</td>\n",
       "      <td>4334.484721</td>\n",
       "      <td>1698963.0</td>\n",
       "      <td>NaN</td>\n",
       "      <td>NaN</td>\n",
       "      <td>NaN</td>\n",
       "      <td>NaN</td>\n",
       "      <td>NaN</td>\n",
       "    </tr>\n",
       "    <tr>\n",
       "      <th>...</th>\n",
       "      <td>...</td>\n",
       "      <td>...</td>\n",
       "      <td>...</td>\n",
       "      <td>...</td>\n",
       "      <td>...</td>\n",
       "      <td>...</td>\n",
       "      <td>...</td>\n",
       "      <td>...</td>\n",
       "      <td>...</td>\n",
       "      <td>...</td>\n",
       "      <td>...</td>\n",
       "      <td>...</td>\n",
       "      <td>...</td>\n",
       "      <td>...</td>\n",
       "      <td>...</td>\n",
       "      <td>...</td>\n",
       "      <td>...</td>\n",
       "      <td>...</td>\n",
       "      <td>...</td>\n",
       "      <td>...</td>\n",
       "      <td>...</td>\n",
       "    </tr>\n",
       "    <tr>\n",
       "      <th>71</th>\n",
       "      <td>Eddiest_KE</td>\n",
       "      <td>1150549393</td>\n",
       "      <td>0.0</td>\n",
       "      <td>37.0</td>\n",
       "      <td>31349.0</td>\n",
       "      <td>Kisumu, Kenya</td>\n",
       "      <td>2013-02-05</td>\n",
       "      <td>Community Digital Champion | Digital Media\\n#K...</td>\n",
       "      <td>Edd</td>\n",
       "      <td>NaN</td>\n",
       "      <td>...</td>\n",
       "      <td>1651.897796</td>\n",
       "      <td>311533.0</td>\n",
       "      <td>51785344.0</td>\n",
       "      <td>7729.089623</td>\n",
       "      <td>51834173.0</td>\n",
       "      <td>NaN</td>\n",
       "      <td>NaN</td>\n",
       "      <td>NaN</td>\n",
       "      <td>NaN</td>\n",
       "      <td>NaN</td>\n",
       "    </tr>\n",
       "    <tr>\n",
       "      <th>72</th>\n",
       "      <td>AKenyanGirl</td>\n",
       "      <td>34362768</td>\n",
       "      <td>1.0</td>\n",
       "      <td>14.0</td>\n",
       "      <td>1025.0</td>\n",
       "      <td>Kenya 🇰🇪 | Where cats are 💕</td>\n",
       "      <td>2009-04-22</td>\n",
       "      <td>Mbenya's daughter ❤️ |\\nAilurophile, Mwenye Ki...</td>\n",
       "      <td>Naomi Mutua 🐾❤️</td>\n",
       "      <td>https://t.co/Oxf5nHb8Le</td>\n",
       "      <td>...</td>\n",
       "      <td>1020.848780</td>\n",
       "      <td>708829.0</td>\n",
       "      <td>1046370.0</td>\n",
       "      <td>22270.969658</td>\n",
       "      <td>1052633.0</td>\n",
       "      <td>NaN</td>\n",
       "      <td>NaN</td>\n",
       "      <td>NaN</td>\n",
       "      <td>NaN</td>\n",
       "      <td>NaN</td>\n",
       "    </tr>\n",
       "    <tr>\n",
       "      <th>73</th>\n",
       "      <td>wakajuaness</td>\n",
       "      <td>304462648</td>\n",
       "      <td>0.0</td>\n",
       "      <td>2.0</td>\n",
       "      <td>573.0</td>\n",
       "      <td>Bungoma, Kenya</td>\n",
       "      <td>2011-05-24</td>\n",
       "      <td>Founder &amp; Chief Editor-  @WakajuanessLive | Pl...</td>\n",
       "      <td>Simiyu Wakajuaness 🗨</td>\n",
       "      <td>https://t.co/8aQazXLdEs</td>\n",
       "      <td>...</td>\n",
       "      <td>394.739965</td>\n",
       "      <td>72904.0</td>\n",
       "      <td>226186.0</td>\n",
       "      <td>3684.037795</td>\n",
       "      <td>227204.0</td>\n",
       "      <td>NaN</td>\n",
       "      <td>NaN</td>\n",
       "      <td>NaN</td>\n",
       "      <td>NaN</td>\n",
       "      <td>NaN</td>\n",
       "    </tr>\n",
       "    <tr>\n",
       "      <th>74</th>\n",
       "      <td>CescKemei</td>\n",
       "      <td>807236302408220673</td>\n",
       "      <td>0.0</td>\n",
       "      <td>1.0</td>\n",
       "      <td>1832.0</td>\n",
       "      <td>Nakuru, Kenya</td>\n",
       "      <td>2016-12-09</td>\n",
       "      <td>Journalist.\\nkemeiezra67@gmail.com</td>\n",
       "      <td>Kemei Cesc.</td>\n",
       "      <td>NaN</td>\n",
       "      <td>...</td>\n",
       "      <td>1097.794760</td>\n",
       "      <td>708841.0</td>\n",
       "      <td>2011160.0</td>\n",
       "      <td>17107.958118</td>\n",
       "      <td>2014532.0</td>\n",
       "      <td>NaN</td>\n",
       "      <td>NaN</td>\n",
       "      <td>NaN</td>\n",
       "      <td>NaN</td>\n",
       "      <td>NaN</td>\n",
       "    </tr>\n",
       "    <tr>\n",
       "      <th>75</th>\n",
       "      <td>BramuelKedi</td>\n",
       "      <td>2314837515</td>\n",
       "      <td>0.0</td>\n",
       "      <td>1.0</td>\n",
       "      <td>5006.0</td>\n",
       "      <td>BUSIA KENYA</td>\n",
       "      <td>2014-01-30</td>\n",
       "      <td>\\\\ PeaceMaker\\\\ \\\\Manchester United\\\\ Q:-Socia...</td>\n",
       "      <td>SIR BRAMUEL BOKE KEDI</td>\n",
       "      <td>https://t.co/51TMUN6LVI</td>\n",
       "      <td>...</td>\n",
       "      <td>139.069916</td>\n",
       "      <td>92964.0</td>\n",
       "      <td>696184.0</td>\n",
       "      <td>2321.844540</td>\n",
       "      <td>698717.0</td>\n",
       "      <td>NaN</td>\n",
       "      <td>NaN</td>\n",
       "      <td>NaN</td>\n",
       "      <td>NaN</td>\n",
       "      <td>NaN</td>\n",
       "    </tr>\n",
       "  </tbody>\n",
       "</table>\n",
       "<p>76 rows × 42 columns</p>\n",
       "</div>"
      ],
      "text/plain": [
       "             handle                  id  n_tweets.fc  n_tweets.na  n_tweets  \\\n",
       "0        WillieOeba          2223128873          0.0          1.0    2971.0   \n",
       "1   Son_of_Laikipia           545388182          0.0          8.0   10107.0   \n",
       "2    georgemaringa_          2449669469          0.0         36.0     660.0   \n",
       "3         alexowiti            49589975          0.0         18.0     746.0   \n",
       "4       MuthokaTito           181289232          0.0         36.0    2092.0   \n",
       "..              ...                 ...          ...          ...       ...   \n",
       "71       Eddiest_KE          1150549393          0.0         37.0   31349.0   \n",
       "72      AKenyanGirl            34362768          1.0         14.0    1025.0   \n",
       "73      wakajuaness           304462648          0.0          2.0     573.0   \n",
       "74        CescKemei  807236302408220673          0.0          1.0    1832.0   \n",
       "75      BramuelKedi          2314837515          0.0          1.0    5006.0   \n",
       "\n",
       "                       location created_at  \\\n",
       "0                 Nairobi.kenya 2013-12-13   \n",
       "1               Nairobi, Kenya  2012-04-04   \n",
       "2                         Kenya 2014-03-31   \n",
       "3                 NAIROBI-KENYA 2009-06-22   \n",
       "4                Kibwezi, Kenya 2010-08-21   \n",
       "..                          ...        ...   \n",
       "71                Kisumu, Kenya 2013-02-05   \n",
       "72  Kenya 🇰🇪 | Where cats are 💕 2009-04-22   \n",
       "73               Bungoma, Kenya 2011-05-24   \n",
       "74                Nakuru, Kenya 2016-12-09   \n",
       "75                  BUSIA KENYA 2014-01-30   \n",
       "\n",
       "                                          description                   name  \\\n",
       "0   Current East Africa Spoken Word Battle King | ...              WORD KING   \n",
       "1   All I do is tweet Gîkûyû jokes and laugh unapo...               Wamutahi   \n",
       "2   Anchor/Reporter @KTNNewsKE & Digital @Standard...         George Maringa   \n",
       "3   PR EXPERT & PUBLICIST | TECH EVANGELIST | BUSI...             ALEX OWITI   \n",
       "4   Cyber Intelligence Threat Analyst | Researcher...           The Muthoka®   \n",
       "..                                                ...                    ...   \n",
       "71  Community Digital Champion | Digital Media\\n#K...                    Edd   \n",
       "72  Mbenya's daughter ❤️ |\\nAilurophile, Mwenye Ki...        Naomi Mutua 🐾❤️   \n",
       "73  Founder & Chief Editor-  @WakajuanessLive | Pl...   Simiyu Wakajuaness 🗨   \n",
       "74                 Journalist.\\nkemeiezra67@gmail.com            Kemei Cesc.   \n",
       "75  \\\\ PeaceMaker\\\\ \\\\Manchester United\\\\ Q:-Socia...  SIR BRAMUEL BOKE KEDI   \n",
       "\n",
       "                        url  ... retweet_count_mean retweet_count_max  \\\n",
       "0   https://t.co/oPfYSj5zuc  ...          32.897678           35168.0   \n",
       "1                       NaN  ...         410.147225          708737.0   \n",
       "2   https://t.co/vLK9LsoPTV  ...          81.568182           13487.0   \n",
       "3   https://t.co/SmgN7dMs2H  ...         392.911528           38294.0   \n",
       "4   https://t.co/5BpR5HzD8F  ...         811.704111          106502.0   \n",
       "..                      ...  ...                ...               ...   \n",
       "71                      NaN  ...        1651.897796          311533.0   \n",
       "72  https://t.co/Oxf5nHb8Le  ...        1020.848780          708829.0   \n",
       "73  https://t.co/8aQazXLdEs  ...         394.739965           72904.0   \n",
       "74                      NaN  ...        1097.794760          708841.0   \n",
       "75  https://t.co/51TMUN6LVI  ...         139.069916           92964.0   \n",
       "\n",
       "    retweet_count_sum  retweet_count_std  interactions_count_sum  \\\n",
       "0             97739.0         811.997808                116952.0   \n",
       "1           4145358.0        8055.615167               4641787.0   \n",
       "2             53835.0         663.070114                 61047.0   \n",
       "3            293112.0        2588.836234                293762.0   \n",
       "4           1698085.0        4334.484721               1698963.0   \n",
       "..                ...                ...                     ...   \n",
       "71         51785344.0        7729.089623              51834173.0   \n",
       "72          1046370.0       22270.969658               1052633.0   \n",
       "73           226186.0        3684.037795                227204.0   \n",
       "74          2011160.0       17107.958118               2014532.0   \n",
       "75           696184.0        2321.844540                698717.0   \n",
       "\n",
       "    impression_count_min  impression_count_mean  impression_count_max  \\\n",
       "0                    NaN                    NaN                   NaN   \n",
       "1                    NaN                    NaN                   NaN   \n",
       "2                    0.0                    0.0                   0.0   \n",
       "3                    0.0                    0.0                   0.0   \n",
       "4                    NaN                    NaN                   NaN   \n",
       "..                   ...                    ...                   ...   \n",
       "71                   NaN                    NaN                   NaN   \n",
       "72                   NaN                    NaN                   NaN   \n",
       "73                   NaN                    NaN                   NaN   \n",
       "74                   NaN                    NaN                   NaN   \n",
       "75                   NaN                    NaN                   NaN   \n",
       "\n",
       "    impression_count_sum  impression_count_std  \n",
       "0                    NaN                   NaN  \n",
       "1                    NaN                   NaN  \n",
       "2                    0.0                   0.0  \n",
       "3                    0.0                   0.0  \n",
       "4                    NaN                   NaN  \n",
       "..                   ...                   ...  \n",
       "71                   NaN                   NaN  \n",
       "72                   NaN                   NaN  \n",
       "73                   NaN                   NaN  \n",
       "74                   NaN                   NaN  \n",
       "75                   NaN                   NaN  \n",
       "\n",
       "[76 rows x 42 columns]"
      ]
     },
     "execution_count": 33,
     "metadata": {},
     "output_type": "execute_result"
    }
   ],
   "source": [
    "data"
   ]
  },
  {
   "cell_type": "code",
   "execution_count": 141,
   "id": "1f06b55e",
   "metadata": {},
   "outputs": [],
   "source": [
    "m1 = data.duplicated(['author_id'], keep=False)\n",
    "\n",
    "data['dup'] = np.select([m1],['1'], default='0')"
   ]
  },
  {
   "cell_type": "markdown",
   "id": "14da9006",
   "metadata": {},
   "source": [
    "### Obtener Followers"
   ]
  },
  {
   "cell_type": "code",
   "execution_count": 3,
   "id": "4e030a7b",
   "metadata": {},
   "outputs": [],
   "source": [
    "country = 'KE'"
   ]
  },
  {
   "cell_type": "code",
   "execution_count": 50,
   "id": "4069878e",
   "metadata": {},
   "outputs": [],
   "source": [
    "data = pd.read_excel(f'../../data/01-characterize/influencers/{country}/file_AfricaCheck.xlsx').drop('Unnamed: 0', axis=1)"
   ]
  },
  {
   "cell_type": "code",
   "execution_count": 51,
   "id": "14645bc7",
   "metadata": {},
   "outputs": [],
   "source": [
    "data.drop_duplicates('handle',inplace=True)"
   ]
  },
  {
   "cell_type": "code",
   "execution_count": 52,
   "id": "1dc0d21a",
   "metadata": {},
   "outputs": [],
   "source": [
    "data['author_id'] = data['author_id'].astype(str)"
   ]
  },
  {
   "cell_type": "code",
   "execution_count": 7,
   "id": "d75e14b4",
   "metadata": {},
   "outputs": [],
   "source": [
    "list_ke = list(data.author_id)"
   ]
  },
  {
   "cell_type": "code",
   "execution_count": 8,
   "id": "d11197f6",
   "metadata": {},
   "outputs": [
    {
     "data": {
      "text/plain": [
       "266"
      ]
     },
     "execution_count": 8,
     "metadata": {},
     "output_type": "execute_result"
    }
   ],
   "source": [
    "len(list_ke)"
   ]
  },
  {
   "cell_type": "code",
   "execution_count": 175,
   "id": "ac27647e",
   "metadata": {},
   "outputs": [
    {
     "data": {
      "text/plain": [
       "215"
      ]
     },
     "execution_count": 175,
     "metadata": {},
     "output_type": "execute_result"
    }
   ],
   "source": [
    "len(list_sa)"
   ]
  },
  {
   "cell_type": "code",
   "execution_count": 39,
   "id": "6efaa2e5",
   "metadata": {},
   "outputs": [],
   "source": [
    "def get_path(country):\n",
    "    base = f'../../data/01-characterize/followers/{country}/'\n",
    "    path_save_c = base + '00-raw/collect/'\n",
    "    path_save_i = base + '00-raw/integrate/'\n",
    "\n",
    "    return path_save_c, path_save_i\n",
    "\n",
    "path_save_c, path_save_i = get_path('KE')"
   ]
  },
  {
   "cell_type": "code",
   "execution_count": 77,
   "id": "c9f3d400",
   "metadata": {},
   "outputs": [
    {
     "name": "stderr",
     "output_type": "stream",
     "text": [
      "100%|██████████| 13/13 [13:03<00:00, 60.28s/it]\n"
     ]
    }
   ],
   "source": [
    "bearer_token = 'AAAAAAAAAAAAAAAAAAAAAFpgZAEAAAAAbJS59UWzipi32ixd7LHtXov9olo%3D7gxD8Afshgj4munMXHLU08jzRdTpsAh4RZqq7VBofq1wAvkx1T'\n",
    "\n",
    "TweetPle.TweepleStreamer(\n",
    "        ids[1:], \n",
    "        bearer_token, \n",
    "        path_save=path_save_c\n",
    "    ).followers_lookup()\n"
   ]
  },
  {
   "cell_type": "code",
   "execution_count": 69,
   "id": "af64ac02",
   "metadata": {},
   "outputs": [],
   "source": [
    "from os import listdir\n",
    "from os.path import isfile, join\n",
    "mypath = path_save_c\n",
    "\n",
    "onlyfiles = [f for f in listdir(mypath) if isfile(join(mypath, f))]\n",
    "onlyfiles = [f.replace('.parquet', '') for f in onlyfiles]"
   ]
  },
  {
   "cell_type": "code",
   "execution_count": 70,
   "id": "fa0fadf1",
   "metadata": {},
   "outputs": [],
   "source": [
    "ids = list(set(list_ke).difference(onlyfiles))"
   ]
  },
  {
   "cell_type": "code",
   "execution_count": 71,
   "id": "6c86200e",
   "metadata": {},
   "outputs": [
    {
     "data": {
      "text/plain": [
       "14"
      ]
     },
     "execution_count": 71,
     "metadata": {},
     "output_type": "execute_result"
    }
   ],
   "source": [
    "len(ids)"
   ]
  },
  {
   "cell_type": "code",
   "execution_count": 76,
   "id": "7537dab9",
   "metadata": {},
   "outputs": [
    {
     "data": {
      "text/plain": [
       "['1360581211526230016',\n",
       " '803874788347412480',\n",
       " '828800473767481344',\n",
       " '1075003604279398016',\n",
       " '2748288857',\n",
       " '742783907343544320',\n",
       " '1219862651548918016',\n",
       " '1020272551824699008',\n",
       " '341959908',\n",
       " '807236302408220672',\n",
       " '1126820633244066048',\n",
       " '804572413618954240',\n",
       " '1123232969043382016',\n",
       " '978994553221939200']"
      ]
     },
     "execution_count": 76,
     "metadata": {},
     "output_type": "execute_result"
    }
   ],
   "source": [
    "ids"
   ]
  },
  {
   "cell_type": "code",
   "execution_count": 64,
   "id": "c332afd4",
   "metadata": {},
   "outputs": [
    {
     "data": {
      "text/html": [
       "<div>\n",
       "<style scoped>\n",
       "    .dataframe tbody tr th:only-of-type {\n",
       "        vertical-align: middle;\n",
       "    }\n",
       "\n",
       "    .dataframe tbody tr th {\n",
       "        vertical-align: top;\n",
       "    }\n",
       "\n",
       "    .dataframe thead th {\n",
       "        text-align: right;\n",
       "    }\n",
       "</style>\n",
       "<table border=\"1\" class=\"dataframe\">\n",
       "  <thead>\n",
       "    <tr style=\"text-align: right;\">\n",
       "      <th></th>\n",
       "      <th>URL</th>\n",
       "      <th>Followers</th>\n",
       "      <th>Verified</th>\n",
       "      <th>Order</th>\n",
       "      <th>Notes</th>\n",
       "      <th>Answer</th>\n",
       "      <th>Email</th>\n",
       "      <th>handle</th>\n",
       "      <th>author_id</th>\n",
       "      <th>dup</th>\n",
       "    </tr>\n",
       "  </thead>\n",
       "  <tbody>\n",
       "    <tr>\n",
       "      <th>4</th>\n",
       "      <td>https://twitter.com/AnzayaJustus1</td>\n",
       "      <td>18.1k</td>\n",
       "      <td>False</td>\n",
       "      <td>5</td>\n",
       "      <td>Journalist</td>\n",
       "      <td>NaN</td>\n",
       "      <td>NaN</td>\n",
       "      <td>AnzayaJustus1</td>\n",
       "      <td>1360581211526230016</td>\n",
       "      <td>1</td>\n",
       "    </tr>\n",
       "  </tbody>\n",
       "</table>\n",
       "</div>"
      ],
      "text/plain": [
       "                                 URL Followers  Verified  Order       Notes  \\\n",
       "4  https://twitter.com/AnzayaJustus1     18.1k     False      5  Journalist   \n",
       "\n",
       "   Answer  Email         handle            author_id  dup  \n",
       "4     NaN    NaN  AnzayaJustus1  1360581211526230016    1  "
      ]
     },
     "execution_count": 64,
     "metadata": {},
     "output_type": "execute_result"
    }
   ],
   "source": [
    "data[data['author_id']=='1360581211526230016'] ##1360581211526230018 este es id real"
   ]
  }
 ],
 "metadata": {
  "kernelspec": {
   "display_name": "Python 3",
   "language": "python",
   "name": "python3"
  },
  "language_info": {
   "codemirror_mode": {
    "name": "ipython",
    "version": 3
   },
   "file_extension": ".py",
   "mimetype": "text/x-python",
   "name": "python",
   "nbconvert_exporter": "python",
   "pygments_lexer": "ipython3",
   "version": "3.9.11"
  }
 },
 "nbformat": 4,
 "nbformat_minor": 5
}
