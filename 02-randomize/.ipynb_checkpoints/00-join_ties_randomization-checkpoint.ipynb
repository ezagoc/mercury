{
 "cells": [
  {
   "cell_type": "code",
   "execution_count": 1,
   "id": "4e2e707d",
   "metadata": {},
   "outputs": [],
   "source": [
    "import pandas as pd\n",
    "from tweetple import TweetPle\n",
    "import sys\n",
    "sys.path.insert(0, '../../src/utils')\n",
    "from funcs import *\n",
    "from tqdm import tqdm\n",
    "sys.path.insert(0, '../../src/utils')\n",
    "from general import *"
   ]
  },
  {
   "cell_type": "code",
   "execution_count": 7,
   "id": "6d905e6c",
   "metadata": {},
   "outputs": [],
   "source": [
    "base = f'../../data/03-experiment/SA/baseline/'\n",
    "path_tw = base + '00-raw/influencers/tweets/'\n",
    "path_likes = f'{base}00-raw/influencers/likes/'"
   ]
  },
  {
   "cell_type": "code",
   "execution_count": 3,
   "id": "e7075b94",
   "metadata": {},
   "outputs": [],
   "source": [
    "tweets = pd.read_parquet('../../data/03-experiment/KE/baseline/01-preprocess/influencers/tweets_batch2.parquet')"
   ]
  },
  {
   "cell_type": "code",
   "execution_count": 4,
   "id": "df9913ea",
   "metadata": {},
   "outputs": [],
   "source": [
    "followers_sa = pd.read_parquet('../../data/03-experiment/SA/baseline/01-preprocess/influencers/followers_ties_batch2.parquet')"
   ]
  },
  {
   "cell_type": "code",
   "execution_count": 56,
   "id": "38be9f16",
   "metadata": {},
   "outputs": [
    {
     "name": "stderr",
     "output_type": "stream",
     "text": [
      "<ipython-input-56-9ee54b530135>:4: FutureWarning: The default value of numeric_only in DataFrameGroupBy.sum is deprecated. In a future version, numeric_only will default to False. Either specify numeric_only or select only columns which should be valid for the function.\n",
      "  followers_grouped_sa = followers_sa.groupby('influencer_id').sum()\n"
     ]
    }
   ],
   "source": [
    "followers_grouped_n_sa = followers_sa[['influencer_id', 'follower_id']].groupby('influencer_id').count()\n",
    "followers_grouped_n_sa.rename({'follower_id': 'followers'}, axis=1, inplace=True)\n",
    "\n",
    "followers_grouped_sa = followers_sa.groupby('influencer_id').sum()\n",
    "followers_grouped_sa = followers_grouped_sa.merge(followers_grouped_n_sa, on='influencer_id', how='left')\n",
    "followers_grouped_sa = followers_grouped_sa[['followers','strong', 'weak']]\n",
    "followers_grouped_sa['absent'] = followers_grouped_sa['followers'] - followers_grouped_sa['strong'] - followers_grouped_sa['weak']"
   ]
  },
  {
   "cell_type": "code",
   "execution_count": 5,
   "id": "89cdaf9d",
   "metadata": {},
   "outputs": [],
   "source": [
    "followers_ke = pd.read_parquet('../../data/03-experiment/KE/baseline/01-preprocess/influencers/followers_ties_batch2.parquet')"
   ]
  },
  {
   "cell_type": "code",
   "execution_count": 58,
   "id": "ca8e091d",
   "metadata": {},
   "outputs": [
    {
     "name": "stderr",
     "output_type": "stream",
     "text": [
      "<ipython-input-58-925037d57192>:4: FutureWarning: The default value of numeric_only in DataFrameGroupBy.sum is deprecated. In a future version, numeric_only will default to False. Either specify numeric_only or select only columns which should be valid for the function.\n",
      "  followers_grouped_ke = followers_ke.groupby('influencer_id').sum()\n"
     ]
    }
   ],
   "source": [
    "followers_grouped_n = followers_ke[['influencer_id', 'follower_id']].groupby('influencer_id').count()\n",
    "followers_grouped_n.rename({'follower_id': 'followers'}, axis=1, inplace=True)\n",
    "\n",
    "followers_grouped_ke = followers_ke.groupby('influencer_id').sum()\n",
    "followers_grouped_ke = followers_grouped_ke.merge(followers_grouped_n, on='influencer_id', how='left')\n",
    "\n",
    "followers_grouped_ke = followers_grouped_ke[['followers','strong', 'weak']]\n",
    "followers_grouped_ke['absent'] = followers_grouped_ke['followers'] - followers_grouped_ke['strong'] - followers_grouped_ke['weak']"
   ]
  },
  {
   "cell_type": "code",
   "execution_count": 59,
   "id": "8b18eb41",
   "metadata": {},
   "outputs": [],
   "source": [
    "rand_vars_ke = pd.read_parquet('../../data/02-randomize/KE/02-variables/variables_batch2.parquet')\n",
    "rand_vars_sa = pd.read_parquet('../../data/02-randomize/SA/02-variables/variables_batch2.parquet')"
   ]
  },
  {
   "cell_type": "code",
   "execution_count": 60,
   "id": "72de6fe7",
   "metadata": {},
   "outputs": [],
   "source": [
    "followers_grouped_ke.rename(columns = {'followers':'n_followers',\n",
    "                            'strong':'n_strong',\n",
    "                            'weak':'n_weak',\n",
    "                            'absent':'n_absent'}, inplace = True)\n",
    "followers_grouped_sa.rename(columns = {'followers':'n_followers',\n",
    "                            'strong':'n_strong',\n",
    "                            'weak':'n_weak',\n",
    "                            'absent':'n_absent'}, inplace = True)"
   ]
  },
  {
   "cell_type": "code",
   "execution_count": 61,
   "id": "0babe745",
   "metadata": {},
   "outputs": [],
   "source": [
    "followers_grouped_sa.reset_index(inplace=True)\n",
    "followers_grouped_ke.reset_index(inplace=True)"
   ]
  },
  {
   "cell_type": "code",
   "execution_count": 62,
   "id": "46ccd4fc",
   "metadata": {},
   "outputs": [],
   "source": [
    "followers_grouped_ke.rename(columns = {'influencer_id':'author_id'}, inplace = True)\n",
    "followers_grouped_sa.rename(columns = {'influencer_id':'author_id'}, inplace = True)"
   ]
  },
  {
   "cell_type": "code",
   "execution_count": 63,
   "id": "04711557",
   "metadata": {},
   "outputs": [],
   "source": [
    "followers_grouped_ke['author_id'] = followers_grouped_ke['author_id'].astype(str)\n",
    "followers_grouped_sa['author_id'] = followers_grouped_sa['author_id'].astype(str)\n",
    "rand_vars_ke['author_id'] = rand_vars_ke['author_id'].astype(str)\n",
    "rand_vars_sa['author_id'] = rand_vars_sa['author_id'].astype(str)"
   ]
  },
  {
   "cell_type": "code",
   "execution_count": 64,
   "id": "07bad382",
   "metadata": {},
   "outputs": [],
   "source": [
    "rand_vars_ke = pd.merge(rand_vars_ke,followers_grouped_ke,on='author_id',how='left')\n",
    "rand_vars_sa = pd.merge(rand_vars_sa,followers_grouped_sa,on='author_id',how='left')"
   ]
  },
  {
   "cell_type": "code",
   "execution_count": 65,
   "id": "35e8af33",
   "metadata": {},
   "outputs": [
    {
     "data": {
      "text/plain": [
       "Index(['Unnamed: 0', 'author_id', 'n_tweets.fc', 'n_tweets.na', 'n_tweets',\n",
       "       'handle', 'impression_count_min', 'impression_count_mean',\n",
       "       'impression_count_max', 'impression_count_sum', 'impression_count_std',\n",
       "       'like_count_min', 'like_count_mean', 'like_count_max', 'like_count_sum',\n",
       "       'like_count_std', 'quote_count_min', 'quote_count_mean',\n",
       "       'quote_count_max', 'quote_count_sum', 'quote_count_std',\n",
       "       'reply_count_min', 'reply_count_mean', 'reply_count_max',\n",
       "       'reply_count_sum', 'reply_count_std', 'retweet_count_min',\n",
       "       'retweet_count_mean', 'retweet_count_max', 'retweet_count_sum',\n",
       "       'retweet_count_std', 'interactions_count_sum', 'location', 'created_at',\n",
       "       'description', 'name', 'url', 'username', 'verified', 'followers_count',\n",
       "       'following_count', 'listed_count', 'tweet_count', 'days_old_account',\n",
       "       'n_followers', 'n_strong', 'n_weak', 'n_absent'],\n",
       "      dtype='object')"
      ]
     },
     "execution_count": 65,
     "metadata": {},
     "output_type": "execute_result"
    }
   ],
   "source": [
    "rand_vars_sa.columns"
   ]
  },
  {
   "cell_type": "code",
   "execution_count": 66,
   "id": "3063ca6d",
   "metadata": {},
   "outputs": [],
   "source": [
    "# Remove timezone from columns if needed\n",
    "rand_vars_sa['created_at'] = rand_vars_sa['created_at'].dt.tz_localize(None)\n",
    "rand_vars_ke['created_at'] = rand_vars_ke['created_at'].dt.tz_localize(None)"
   ]
  },
  {
   "cell_type": "code",
   "execution_count": 67,
   "id": "9691c52b",
   "metadata": {},
   "outputs": [],
   "source": [
    "rand_vars_sa = rand_vars_sa.drop('Unnamed: 0', axis=1)"
   ]
  },
  {
   "cell_type": "code",
   "execution_count": 68,
   "id": "98a2d384",
   "metadata": {},
   "outputs": [],
   "source": [
    "rand_vars_ke.to_excel('../../data/02-randomize/KE/02-variables/variables_batch2.xlsx')\n",
    "rand_vars_sa.to_excel('../../data/02-randomize/SA/02-variables/variables_batch2.xlsx')"
   ]
  },
  {
   "cell_type": "markdown",
   "id": "d3c193b7",
   "metadata": {},
   "source": [
    "##### In case of days_old needed"
   ]
  },
  {
   "cell_type": "code",
   "execution_count": 19,
   "id": "b5683fc1",
   "metadata": {},
   "outputs": [],
   "source": [
    "from datetime import date\n",
    "today = date.today()\n",
    "rand_vars_ke['date_today'] = today.strftime(\"%Y-%m-%d\")\n",
    "rand_vars_sa['date_today'] = today.strftime(\"%Y-%m-%d\")"
   ]
  },
  {
   "cell_type": "code",
   "execution_count": 77,
   "id": "c2417bbb",
   "metadata": {},
   "outputs": [],
   "source": [
    "rand_vars_ke['created_at'] = rand_vars_ke['created_at'].apply(pd.to_datetime) #if conversion required\n",
    "rand_vars_ke['date_today'] = rand_vars_ke['date_today'].apply(pd.to_datetime) #if conversion required\n",
    "rand_vars_ke['days_old_account'] = (rand_vars_ke['date_today'] - rand_vars_ke['created_at']).dt.days\n",
    "\n",
    "rand_vars_sa['created_at'] = rand_vars_sa['created_at'].apply(pd.to_datetime) #if conversion required\n",
    "rand_vars_sa['date_today'] = rand_vars_sa['date_today'].apply(pd.to_datetime) #if conversion required\n",
    "rand_vars_sa['days_old_account'] = (rand_vars_sa['date_today'] - rand_vars_sa['created_at']).dt.days"
   ]
  },
  {
   "cell_type": "code",
   "execution_count": 79,
   "id": "b06b7d6c",
   "metadata": {},
   "outputs": [],
   "source": [
    "rand_vars_ke.to_excel('../../data/02-randomize/KE/02-variables/variables.xlsx')\n",
    "rand_vars_sa.to_excel('../../data/02-randomize/SA/02-variables/variables.xlsx')"
   ]
  },
  {
   "cell_type": "markdown",
   "id": "96a90f05",
   "metadata": {},
   "source": [
    "### Followers Randomization"
   ]
  },
  {
   "cell_type": "code",
   "execution_count": 69,
   "id": "7216cdbc",
   "metadata": {},
   "outputs": [],
   "source": [
    "followers_sa = pd.read_parquet('../../data/03-experiment/SA/baseline/01-preprocess/influencers/followers_ties_batch2.parquet')"
   ]
  },
  {
   "cell_type": "code",
   "execution_count": 70,
   "id": "5adf81d5",
   "metadata": {},
   "outputs": [],
   "source": [
    "# Fixing ties: if strong then weak = 0\n",
    "followers_sa['weak'] = np.where(followers_sa['strong']== 1, 0, followers_sa['weak'])"
   ]
  },
  {
   "cell_type": "code",
   "execution_count": 71,
   "id": "6f8b87f1",
   "metadata": {},
   "outputs": [
    {
     "name": "stderr",
     "output_type": "stream",
     "text": [
      "<ipython-input-71-e4df46c9e32c>:4: FutureWarning: The default value of numeric_only in DataFrameGroupBy.sum is deprecated. In a future version, numeric_only will default to False. Either specify numeric_only or select only columns which should be valid for the function.\n",
      "  followers_grouped_sa = followers_sa.groupby('follower_id').sum()\n"
     ]
    }
   ],
   "source": [
    "followers_grouped_n_sa = followers_sa[['influencer_id', 'follower_id']].groupby('follower_id').count()\n",
    "followers_grouped_n_sa.rename({'influencer_id': 'n_following'}, axis=1, inplace=True)\n",
    "\n",
    "followers_grouped_sa = followers_sa.groupby('follower_id').sum()\n",
    "followers_grouped_sa = followers_grouped_sa.merge(followers_grouped_n_sa, on='follower_id', how='left')\n",
    "followers_grouped_sa = followers_grouped_sa[['n_following','strong', 'weak']]\n",
    "followers_grouped_sa['absent'] = followers_grouped_sa['n_following'] - followers_grouped_sa['strong'] - followers_grouped_sa['weak']"
   ]
  },
  {
   "cell_type": "code",
   "execution_count": 72,
   "id": "5b024e61",
   "metadata": {},
   "outputs": [],
   "source": [
    "followers_ke = pd.read_parquet('../../data/03-experiment/KE/baseline/01-preprocess/influencers/followers_ties_batch2.parquet')"
   ]
  },
  {
   "cell_type": "code",
   "execution_count": 73,
   "id": "cd78fd79",
   "metadata": {},
   "outputs": [],
   "source": [
    "followers_ke['weak'] = np.where(followers_ke['strong']== 1, 0, followers_ke['weak'])"
   ]
  },
  {
   "cell_type": "code",
   "execution_count": 74,
   "id": "bf9c7d64",
   "metadata": {},
   "outputs": [
    {
     "name": "stderr",
     "output_type": "stream",
     "text": [
      "<ipython-input-74-afb371ce1d9e>:4: FutureWarning: The default value of numeric_only in DataFrameGroupBy.sum is deprecated. In a future version, numeric_only will default to False. Either specify numeric_only or select only columns which should be valid for the function.\n",
      "  followers_grouped_ke = followers_ke.groupby('follower_id').sum()\n"
     ]
    }
   ],
   "source": [
    "followers_grouped_n_ke = followers_ke[['influencer_id', 'follower_id']].groupby('follower_id').count()\n",
    "followers_grouped_n_ke.rename({'influencer_id': 'n_following'}, axis=1, inplace=True)\n",
    "\n",
    "followers_grouped_ke = followers_ke.groupby('follower_id').sum()\n",
    "followers_grouped_ke = followers_grouped_ke.merge(followers_grouped_n_ke, on='follower_id', how='left')\n",
    "followers_grouped_ke = followers_grouped_ke[['n_following','strong', 'weak']]\n",
    "followers_grouped_ke['absent'] = followers_grouped_ke['n_following'] - followers_grouped_ke['strong'] - followers_grouped_ke['weak']"
   ]
  },
  {
   "cell_type": "code",
   "execution_count": 75,
   "id": "e238f0e7",
   "metadata": {},
   "outputs": [],
   "source": [
    "followers_grouped_sa.reset_index(inplace=True)\n",
    "followers_grouped_ke.reset_index(inplace=True)\n",
    "followers_grouped_ke.rename(columns = {'followers':'n_followers',\n",
    "                            'strong':'n_strong',\n",
    "                            'weak':'n_weak',\n",
    "                            'absent':'n_absent'}, inplace = True)\n",
    "followers_grouped_sa.rename(columns = {'followers':'n_followers',\n",
    "                            'strong':'n_strong',\n",
    "                            'weak':'n_weak',\n",
    "                            'absent':'n_absent'}, inplace = True)\n",
    "\n",
    "followers_grouped_ke['follower_id'] = followers_grouped_ke['follower_id'].astype(str)\n",
    "followers_grouped_sa['follower_id'] = followers_grouped_sa['follower_id'].astype(str)"
   ]
  },
  {
   "cell_type": "code",
   "execution_count": 8,
   "id": "f7663589",
   "metadata": {},
   "outputs": [],
   "source": [
    "b_path = f'../../data/01-characterize/followers/KE/00-raw/'\n",
    "file = 'integrate/followers_batch2.parquet.gzip'\n",
    "info_followers_ke = pd.read_parquet(f'{b_path}{file}')\n",
    "\n",
    "b_path = f'../../data/01-characterize/followers/SA/00-raw/'\n",
    "file = 'integrate/followers_batch2.parquet.gzip'\n",
    "info_followers_sa = pd.read_parquet(f'{b_path}{file}')"
   ]
  },
  {
   "cell_type": "code",
   "execution_count": 78,
   "id": "bad9e521",
   "metadata": {},
   "outputs": [],
   "source": [
    "from ast import literal_eval\n",
    "\n",
    "\n",
    "info_followers_sa = info_followers_sa.join(\n",
    "      pd.json_normalize(info_followers_sa['public_metrics'])\n",
    " ).drop('public_metrics',axis=1)\n",
    "\n",
    "info_followers_ke = info_followers_ke.join(\n",
    "      pd.json_normalize(info_followers_ke['public_metrics'])\n",
    " ).drop('public_metrics',axis=1)"
   ]
  },
  {
   "cell_type": "code",
   "execution_count": 79,
   "id": "9115bbdd",
   "metadata": {},
   "outputs": [],
   "source": [
    "info_followers_sa.drop_duplicates('id', keep = 'last', inplace=True)\n",
    "info_followers_ke.drop_duplicates('id', keep = 'last', inplace=True)"
   ]
  },
  {
   "cell_type": "code",
   "execution_count": 80,
   "id": "35e3cb5b",
   "metadata": {},
   "outputs": [],
   "source": [
    "info_followers_ke.reset_index(drop=True, inplace=True)\n",
    "info_followers_sa.reset_index(drop=True, inplace=True)"
   ]
  },
  {
   "cell_type": "code",
   "execution_count": 81,
   "id": "466da9a0",
   "metadata": {},
   "outputs": [],
   "source": [
    "ids_ke = list(info_followers_ke['id'].astype(str))\n",
    "ids_sa = list(info_followers_sa['id'].astype(str))\n",
    "bearer_token = \"AAAAAAAAAAAAAAAAAAAAAFpgZAEAAAAAbJS59UWzipi32ixd7LHtXov9olo%3D7gxD8Afshgj4munMXHLU08jzRdTpsAh4RZqq7VBofq1wAvkx1T\""
   ]
  },
  {
   "cell_type": "code",
   "execution_count": 82,
   "id": "4aa1dbf5",
   "metadata": {},
   "outputs": [],
   "source": [
    "info_followers_ke.rename(columns={'id':'follower_id',\n",
    "                                  'public_metrics.followers_count':'followers_count',\n",
    "                                  'public_metrics.following_count': 'following_count',\n",
    "                                  'public_metrics.tweet_count':'tweet_count',\n",
    "                                  'public_metrics.listed_count':'listed_count',}, inplace=True)\n",
    "info_followers_sa.rename(columns={'id':'follower_id',\n",
    "                                  'public_metrics.followers_count':'followers_count',\n",
    "                                  'public_metrics.following_count': 'following_count',\n",
    "                                  'public_metrics.tweet_count':'tweet_count',\n",
    "                                  'public_metrics.listed_count':'listed_count',}, inplace=True)"
   ]
  },
  {
   "cell_type": "code",
   "execution_count": 83,
   "id": "a4f95644",
   "metadata": {},
   "outputs": [],
   "source": [
    "info_followers_ke = info_followers_ke.merge(followers_grouped_ke,on='follower_id',how='left')\n",
    "info_followers_sa = info_followers_sa.merge(followers_grouped_sa,on='follower_id',how='left')"
   ]
  },
  {
   "cell_type": "code",
   "execution_count": 84,
   "id": "561d5334",
   "metadata": {},
   "outputs": [],
   "source": [
    "info_followers_ke.to_parquet('../../data/02-randomize/KE/02-variables/variables_followers_batch2.parquet')\n",
    "info_followers_sa.to_parquet('../../data/02-randomize/SA/02-variables/variables_followers_batch2.parquet')"
   ]
  },
  {
   "cell_type": "code",
   "execution_count": null,
   "id": "2b08387b",
   "metadata": {},
   "outputs": [],
   "source": [
    "#### ???????"
   ]
  },
  {
   "cell_type": "code",
   "execution_count": 85,
   "id": "d2e29abf",
   "metadata": {},
   "outputs": [],
   "source": [
    "treatment_ke = pd.read_excel('../../data/02-randomize/KE/03-assignment/output/RandomizedTwitterSampleKE_batch2.xlsx')\n",
    "treatment_sa = pd.read_excel('../../data/02-randomize/SA/03-assignment/output/RandomizedTwitterSampleSA_batch2.xlsx')\n",
    "\n",
    "treatment_ke['author_id'] = treatment_ke['author_id'].astype(str)\n",
    "treatment_sa['author_id'] = treatment_sa['author_id'].astype(str)"
   ]
  },
  {
   "cell_type": "code",
   "execution_count": 86,
   "id": "3af0da9e",
   "metadata": {},
   "outputs": [],
   "source": [
    "control_ke = list(treatment_ke[treatment_ke['treatment']==0].author_id)\n",
    "control_sa = list(treatment_sa[treatment_sa['treatment']==0].author_id)\n",
    "\n",
    "treat_ke = list(treatment_ke[treatment_ke['treatment']==1].author_id)\n",
    "treat_sa = list(treatment_sa[treatment_sa['treatment']==1].author_id)"
   ]
  },
  {
   "cell_type": "code",
   "execution_count": 87,
   "id": "75454e68",
   "metadata": {},
   "outputs": [],
   "source": [
    "info_followers_ke = pd.read_parquet('../../data/02-randomize/KE/02-variables/variables_followers_batch2.parquet')\n",
    "info_followers_sa = pd.read_parquet('../../data/02-randomize/SA/02-variables/variables_followers_batch2.parquet')\n",
    "\n"
   ]
  },
  {
   "cell_type": "code",
   "execution_count": 88,
   "id": "2dd98854",
   "metadata": {},
   "outputs": [],
   "source": [
    "followers_sa = pd.read_parquet('../../data/03-experiment/SA/baseline/01-preprocess/influencers/followers_ties_batch2.parquet')\n",
    "followers_ke =  pd.read_parquet('../../data/03-experiment/KE/baseline/01-preprocess/influencers/followers_ties_batch2.parquet')\n",
    "\n",
    "followers_ke['weak'] = np.where(followers_ke['strong']== 1, 0, followers_ke['weak'])\n",
    "followers_sa['weak'] = np.where(followers_sa['strong']== 1, 0, followers_sa['weak'])\n",
    "\n",
    "followers_sa = followers_sa[followers_sa['influencer_id'].isin(treat_sa)]\n",
    "followers_ke = followers_ke[followers_ke['influencer_id'].isin(treat_ke)]"
   ]
  },
  {
   "cell_type": "code",
   "execution_count": 89,
   "id": "ef5c2f3a",
   "metadata": {},
   "outputs": [
    {
     "name": "stderr",
     "output_type": "stream",
     "text": [
      "<ipython-input-89-9f32412d0fb9>:5: FutureWarning: The default value of numeric_only in DataFrameGroupBy.sum is deprecated. In a future version, numeric_only will default to False. Either specify numeric_only or select only columns which should be valid for the function.\n",
      "  followers_grouped_sa_t = followers_sa.groupby('follower_id').sum()\n"
     ]
    }
   ],
   "source": [
    "followers_grouped_t_sa = followers_sa[['influencer_id', 'follower_id']].groupby('follower_id').count()\n",
    "followers_grouped_t_sa.rename({'influencer_id': 'n_following_treated'}, axis=1, inplace=True)\n",
    "\n",
    "\n",
    "followers_grouped_sa_t = followers_sa.groupby('follower_id').sum()\n",
    "followers_grouped_sa_t = followers_grouped_sa_t.merge(followers_grouped_t_sa, on='follower_id', how='left')\n",
    "followers_grouped_sa_t = followers_grouped_sa_t[['n_following_treated','strong', 'weak']]\n",
    "followers_grouped_sa_t['absent'] = followers_grouped_sa_t['n_following_treated'] - followers_grouped_sa_t['strong'] - followers_grouped_sa_t['weak']\n",
    "\n"
   ]
  },
  {
   "cell_type": "code",
   "execution_count": 90,
   "id": "530215a8",
   "metadata": {},
   "outputs": [
    {
     "name": "stderr",
     "output_type": "stream",
     "text": [
      "<ipython-input-90-ec48111dec97>:7: FutureWarning: The default value of numeric_only in DataFrameGroupBy.sum is deprecated. In a future version, numeric_only will default to False. Either specify numeric_only or select only columns which should be valid for the function.\n",
      "  followers_grouped_ke_t = followers_grouped_ke_t.groupby('follower_id').sum()\n"
     ]
    }
   ],
   "source": [
    "followers_grouped_t_ke = followers_ke[followers_ke['influencer_id'].isin(treat_ke)]\n",
    "followers_grouped_t_ke = followers_grouped_t_ke[['influencer_id', 'follower_id']].groupby('follower_id').count()\n",
    "followers_grouped_t_ke.rename({'influencer_id': 'n_following_treated'}, axis=1, inplace=True)\n",
    "\n",
    "\n",
    "followers_grouped_ke_t = followers_ke[followers_ke['influencer_id'].isin(treat_ke)]\n",
    "followers_grouped_ke_t = followers_grouped_ke_t.groupby('follower_id').sum()\n",
    "followers_grouped_ke_t = followers_grouped_ke_t.merge(followers_grouped_t_ke, on='follower_id', how='left')\n",
    "followers_grouped_ke_t = followers_grouped_ke_t[['n_following_treated','strong', 'weak']]\n",
    "followers_grouped_ke_t['absent'] = followers_grouped_ke_t['n_following_treated'] - followers_grouped_ke_t['strong'] - followers_grouped_ke_t['weak']\n",
    "\n",
    "\n"
   ]
  },
  {
   "cell_type": "code",
   "execution_count": 91,
   "id": "414b53a3",
   "metadata": {},
   "outputs": [],
   "source": [
    "followers_grouped_sa_t.reset_index(inplace=True)\n",
    "followers_grouped_ke_t.reset_index(inplace=True)\n",
    "followers_grouped_ke_t.rename(columns = {'followers':'n_followers_treated',\n",
    "                            'strong':'n_strong_treated',\n",
    "                            'weak':'n_weak_treated',\n",
    "                            'absent':'n_absent_treated'}, inplace = True)\n",
    "followers_grouped_sa_t.rename(columns = {'followers':'n_followers_treated',\n",
    "                            'strong':'n_strong_treated',\n",
    "                            'weak':'n_weak_treated',\n",
    "                            'absent':'n_absent_treated'}, inplace = True)\n",
    "\n",
    "followers_grouped_ke_t['follower_id'] = followers_grouped_ke_t['follower_id'].astype(str)\n",
    "followers_grouped_sa_t['follower_id'] = followers_grouped_sa_t['follower_id'].astype(str)"
   ]
  },
  {
   "cell_type": "code",
   "execution_count": 92,
   "id": "7c01d6a0",
   "metadata": {},
   "outputs": [],
   "source": [
    "info_followers_ke = info_followers_ke.merge(followers_grouped_ke_t,on='follower_id',how='left')\n",
    "info_followers_sa = info_followers_sa.merge(followers_grouped_sa_t,on='follower_id',how='left')"
   ]
  },
  {
   "cell_type": "code",
   "execution_count": 92,
   "id": "3448e47f",
   "metadata": {},
   "outputs": [],
   "source": [
    "## control"
   ]
  },
  {
   "cell_type": "code",
   "execution_count": 63,
   "id": "a6ae06f0",
   "metadata": {},
   "outputs": [],
   "source": [
    "#info_followers_ke = pd.read_parquet('../../data/02-randomize/KE/02-variables/variables_followers.parquet')\n",
    "#info_followers_sa = pd.read_parquet('../../data/02-randomize/SA/02-variables/variables_followers.parquet')"
   ]
  },
  {
   "cell_type": "code",
   "execution_count": 94,
   "id": "c1a4ee9e",
   "metadata": {},
   "outputs": [
    {
     "name": "stderr",
     "output_type": "stream",
     "text": [
      "<ipython-input-94-781b4acc1e0c>:14: FutureWarning: The default value of numeric_only in DataFrameGroupBy.sum is deprecated. In a future version, numeric_only will default to False. Either specify numeric_only or select only columns which should be valid for the function.\n",
      "  followers_grouped_sa_c = followers_sa.groupby('follower_id').sum()\n",
      "<ipython-input-94-781b4acc1e0c>:25: FutureWarning: The default value of numeric_only in DataFrameGroupBy.sum is deprecated. In a future version, numeric_only will default to False. Either specify numeric_only or select only columns which should be valid for the function.\n",
      "  followers_grouped_ke_c = followers_grouped_ke_c.groupby('follower_id').sum()\n"
     ]
    }
   ],
   "source": [
    "followers_sa = pd.read_parquet('../../data/03-experiment/SA/baseline/01-preprocess/influencers/followers_ties_batch2.parquet')\n",
    "followers_ke =  pd.read_parquet('../../data/03-experiment/KE/baseline/01-preprocess/influencers/followers_ties_batch2.parquet')\n",
    "\n",
    "followers_ke['weak'] = np.where(followers_ke['strong']== 1, 0, followers_ke['weak'])\n",
    "followers_sa['weak'] = np.where(followers_sa['strong']== 1, 0, followers_sa['weak'])\n",
    "\n",
    "followers_sa = followers_sa[followers_sa['influencer_id'].isin(control_sa)]\n",
    "followers_ke = followers_ke[followers_ke['influencer_id'].isin(control_ke)]\n",
    "\n",
    "followers_grouped_c_sa = followers_sa[['influencer_id', 'follower_id']].groupby('follower_id').count()\n",
    "followers_grouped_c_sa.rename({'influencer_id': 'n_following_control'}, axis=1, inplace=True)\n",
    "\n",
    "\n",
    "followers_grouped_sa_c = followers_sa.groupby('follower_id').sum()\n",
    "followers_grouped_sa_c = followers_grouped_sa_c.merge(followers_grouped_c_sa, on='follower_id', how='left')\n",
    "followers_grouped_sa_c = followers_grouped_sa_c[['n_following_control','strong', 'weak']]\n",
    "followers_grouped_sa_c['absent'] = followers_grouped_sa_c['n_following_control'] - followers_grouped_sa_c['strong'] - followers_grouped_sa_c['weak']\n",
    "\n",
    "followers_grouped_c_ke = followers_ke[followers_ke['influencer_id'].isin(control_ke)]\n",
    "followers_grouped_c_ke = followers_grouped_c_ke[['influencer_id', 'follower_id']].groupby('follower_id').count()\n",
    "followers_grouped_c_ke.rename({'influencer_id': 'n_following_control'}, axis=1, inplace=True)\n",
    "\n",
    "\n",
    "followers_grouped_ke_c = followers_ke[followers_ke['influencer_id'].isin(control_ke)]\n",
    "followers_grouped_ke_c = followers_grouped_ke_c.groupby('follower_id').sum()\n",
    "followers_grouped_ke_c = followers_grouped_ke_c.merge(followers_grouped_c_ke, on='follower_id', how='left')\n",
    "followers_grouped_ke_c = followers_grouped_ke_c[['n_following_control','strong', 'weak']]\n",
    "followers_grouped_ke_c['absent'] = followers_grouped_ke_c['n_following_control'] - followers_grouped_ke_c['strong'] - followers_grouped_ke_c['weak']\n",
    "\n",
    "\n",
    "followers_grouped_sa_c.reset_index(inplace=True)\n",
    "followers_grouped_ke_c.reset_index(inplace=True)\n",
    "followers_grouped_ke_c.rename(columns = {'followers':'n_followers_control',\n",
    "                            'strong':'n_strong_control',\n",
    "                            'weak':'n_weak_control',\n",
    "                            'absent':'n_absent_control'}, inplace = True)\n",
    "followers_grouped_sa_c.rename(columns = {'followers':'n_followers_control',\n",
    "                            'strong':'n_strong_control',\n",
    "                            'weak':'n_weak_control',\n",
    "                            'absent':'n_absent_control'}, inplace = True)\n",
    "\n",
    "followers_grouped_ke_c['follower_id'] = followers_grouped_ke_c['follower_id'].astype(str)\n",
    "followers_grouped_sa_c['follower_id'] = followers_grouped_sa_c['follower_id'].astype(str)"
   ]
  },
  {
   "cell_type": "code",
   "execution_count": 95,
   "id": "356e149f",
   "metadata": {},
   "outputs": [],
   "source": [
    "info_followers_ke = info_followers_ke.merge(followers_grouped_ke_c,on='follower_id',how='left')\n",
    "info_followers_sa = info_followers_sa.merge(followers_grouped_sa_c,on='follower_id',how='left')"
   ]
  },
  {
   "cell_type": "code",
   "execution_count": 96,
   "id": "1f2dde9e",
   "metadata": {},
   "outputs": [],
   "source": [
    "info_followers_ke.drop('author_id_following', axis=1, inplace=True)\n",
    "info_followers_sa.drop('author_id_following', axis=1, inplace=True)"
   ]
  },
  {
   "cell_type": "code",
   "execution_count": 98,
   "id": "173e4791",
   "metadata": {},
   "outputs": [],
   "source": [
    "info_followers_ke[\"n_following_treated\"] = info_followers_ke[\"n_following_treated\"].fillna(0)\n",
    "info_followers_ke[\"n_strong_treated\"] = info_followers_ke[\"n_strong_treated\"].fillna(0)\n",
    "info_followers_ke[\"n_weak_treated\"] = info_followers_ke[\"n_weak_treated\"].fillna(0)\n",
    "info_followers_ke[\"n_absent_treated\"] = info_followers_ke[\"n_absent_treated\"].fillna(0)\n",
    "info_followers_ke[\"n_following_control\"] = info_followers_ke[\"n_following_control\"].fillna(0)\n",
    "info_followers_ke[\"n_strong_control\"] = info_followers_ke[\"n_strong_control\"].fillna(0)\n",
    "info_followers_ke[\"n_weak_control\"] = info_followers_ke[\"n_weak_control\"].fillna(0)\n",
    "info_followers_ke[\"n_absent_control\"] = info_followers_ke[\"n_absent_control\"].fillna(0)\n"
   ]
  },
  {
   "cell_type": "code",
   "execution_count": 99,
   "id": "4515f2c2",
   "metadata": {},
   "outputs": [],
   "source": [
    "info_followers_sa[\"n_following_treated\"] = info_followers_sa[\"n_following_treated\"].fillna(0)\n",
    "info_followers_sa[\"n_strong_treated\"] = info_followers_sa[\"n_strong_treated\"].fillna(0)\n",
    "info_followers_sa[\"n_weak_treated\"] = info_followers_sa[\"n_weak_treated\"].fillna(0)\n",
    "info_followers_sa[\"n_absent_treated\"] = info_followers_sa[\"n_absent_treated\"].fillna(0)\n",
    "info_followers_sa[\"n_following_control\"] = info_followers_sa[\"n_following_control\"].fillna(0)\n",
    "info_followers_sa[\"n_strong_control\"] = info_followers_sa[\"n_strong_control\"].fillna(0)\n",
    "info_followers_sa[\"n_weak_control\"] = info_followers_sa[\"n_weak_control\"].fillna(0)\n",
    "info_followers_sa[\"n_absent_control\"] = info_followers_sa[\"n_absent_control\"].fillna(0)"
   ]
  },
  {
   "cell_type": "code",
   "execution_count": 102,
   "id": "46cab15c",
   "metadata": {},
   "outputs": [],
   "source": [
    "info_followers_ke.to_parquet('../../data/02-randomize/KE/02-variables/variables_followers_batch2.parquet')\n",
    "info_followers_sa.to_parquet('../../data/02-randomize/SA/02-variables/variables_followers_batch2.parquet')"
   ]
  },
  {
   "cell_type": "code",
   "execution_count": 104,
   "id": "9d6b2996",
   "metadata": {},
   "outputs": [],
   "source": [
    "import pytz\n",
    "from datetime import datetime, timedelta\n",
    "import pandas as pd\n",
    "from datetime import date\n",
    "today = datetime.now(tz=pytz.UTC)\n",
    "info_followers_ke['date_today'] = today\n",
    "info_followers_sa['date_today'] = today"
   ]
  },
  {
   "cell_type": "code",
   "execution_count": 105,
   "id": "a45699a0",
   "metadata": {},
   "outputs": [],
   "source": [
    "info_followers_ke['created_at'] = info_followers_ke['created_at'].apply(pd.to_datetime) #if conversion required\n",
    "info_followers_ke['date_today'] = info_followers_ke['date_today'].apply(pd.to_datetime) #if conversion required\n",
    "info_followers_ke['days_old_account'] = (info_followers_ke['date_today'] - info_followers_ke['created_at']).dt.days\n",
    "\n",
    "info_followers_sa['created_at'] = info_followers_sa['created_at'].apply(pd.to_datetime) #if conversion required\n",
    "info_followers_sa['date_today'] = info_followers_sa['date_today'].apply(pd.to_datetime) #if conversion required\n",
    "info_followers_sa['days_old_account'] = (info_followers_sa['date_today'] - info_followers_sa['created_at']).dt.days"
   ]
  },
  {
   "cell_type": "code",
   "execution_count": 106,
   "id": "de3d192d",
   "metadata": {},
   "outputs": [],
   "source": [
    "ids = list(info_followers_ke[info_followers_ke['followers_count']<0]['follower_id'].astype(str))"
   ]
  },
  {
   "cell_type": "code",
   "execution_count": 139,
   "id": "1d138690",
   "metadata": {},
   "outputs": [
    {
     "data": {
      "text/html": [
       "<div>\n",
       "<style scoped>\n",
       "    .dataframe tbody tr th:only-of-type {\n",
       "        vertical-align: middle;\n",
       "    }\n",
       "\n",
       "    .dataframe tbody tr th {\n",
       "        vertical-align: top;\n",
       "    }\n",
       "\n",
       "    .dataframe thead th {\n",
       "        text-align: right;\n",
       "    }\n",
       "</style>\n",
       "<table border=\"1\" class=\"dataframe\">\n",
       "  <thead>\n",
       "    <tr style=\"text-align: right;\">\n",
       "      <th></th>\n",
       "      <th>created_at</th>\n",
       "      <th>description</th>\n",
       "      <th>entities</th>\n",
       "      <th>follower_id</th>\n",
       "      <th>location</th>\n",
       "      <th>name</th>\n",
       "      <th>pinned_tweet_id</th>\n",
       "      <th>profile_image_url</th>\n",
       "      <th>protected</th>\n",
       "      <th>url</th>\n",
       "      <th>username</th>\n",
       "      <th>verified</th>\n",
       "      <th>date_consulted</th>\n",
       "      <th>response</th>\n",
       "      <th>withheld</th>\n",
       "      <th>followers_count</th>\n",
       "      <th>following_count</th>\n",
       "      <th>listed_count</th>\n",
       "      <th>tweet_count</th>\n",
       "      <th>n_following</th>\n",
       "      <th>n_strong</th>\n",
       "      <th>n_weak</th>\n",
       "      <th>n_absent</th>\n",
       "      <th>n_following_treated</th>\n",
       "      <th>n_strong_treated</th>\n",
       "      <th>n_weak_treated</th>\n",
       "      <th>n_absent_treated</th>\n",
       "      <th>n_following_control</th>\n",
       "      <th>n_strong_control</th>\n",
       "      <th>n_weak_control</th>\n",
       "      <th>n_absent_control</th>\n",
       "      <th>date_today</th>\n",
       "      <th>days_old_account</th>\n",
       "    </tr>\n",
       "  </thead>\n",
       "  <tbody>\n",
       "  </tbody>\n",
       "</table>\n",
       "</div>"
      ],
      "text/plain": [
       "Empty DataFrame\n",
       "Columns: [created_at, description, entities, follower_id, location, name, pinned_tweet_id, profile_image_url, protected, url, username, verified, date_consulted, response, withheld, followers_count, following_count, listed_count, tweet_count, n_following, n_strong, n_weak, n_absent, n_following_treated, n_strong_treated, n_weak_treated, n_absent_treated, n_following_control, n_strong_control, n_weak_control, n_absent_control, date_today, days_old_account]\n",
       "Index: []"
      ]
     },
     "execution_count": 139,
     "metadata": {},
     "output_type": "execute_result"
    }
   ],
   "source": [
    "pd.set_option('display.max_columns', None)\n",
    "info_followers_ke[info_followers_ke['followers_count']<0]"
   ]
  },
  {
   "cell_type": "code",
   "execution_count": 113,
   "id": "e97dd3a6",
   "metadata": {},
   "outputs": [
    {
     "name": "stderr",
     "output_type": "stream",
     "text": [
      "0it [00:00, ?it/s]/Users/joaquinbarrutia/miniforge3/envs/env_tf/lib/python3.9/site-packages/tweetple/TweetPle.py:61: FutureWarning: The frame.append method is deprecated and will be removed from pandas in a future version. Use pandas.concat instead.\n",
      "  df_stats = df_stats.append(\n",
      "1it [00:01,  1.30s/it]\n"
     ]
    }
   ],
   "source": [
    "import tweetple\n",
    "\n",
    "from tweetple import TweetPle\n",
    "\n",
    "# Bearer token accesible via Twitter Developer Academic Research Track\n",
    "bearer_token='AAAAAAAAAAAAAAAAAAAAAFpgZAEAAAAAbJS59UWzipi32ixd7LHtXov9olo%3D7gxD8Afshgj4munMXHLU08jzRdTpsAh4RZqq7VBofq1wAvkx1T'\n",
    "\n",
    "# List of handle ids\n",
    "ids = list(info_followers_ke[info_followers_ke['followers_count']<0].follower_id)\n",
    "\n",
    "\n",
    "missing_info = TweetPle.TweepleStreamer(ids, bearer_token).user_lookup()"
   ]
  },
  {
   "cell_type": "code",
   "execution_count": 138,
   "id": "803c7060",
   "metadata": {},
   "outputs": [],
   "source": [
    "#corregir wrong entries\n",
    "\n",
    "info_followers_ke.loc[174632,'followers_count'] = 0\n",
    "info_followers_ke.loc[174632,'following_count'] = 61\n",
    "info_followers_ke.loc[174632,'listed_count'] = 0\n",
    "info_followers_ke.loc[174632,'tweet_count'] = 0"
   ]
  },
  {
   "cell_type": "code",
   "execution_count": 140,
   "id": "54fa422f",
   "metadata": {},
   "outputs": [],
   "source": [
    "info_followers_ke.to_parquet('../../data/02-randomize/KE/02-variables/variables_followers_batch2.parquet')\n",
    "info_followers_sa.to_parquet('../../data/02-randomize/SA/02-variables/variables_followers_batch2.parquet')"
   ]
  }
 ],
 "metadata": {
  "kernelspec": {
   "display_name": "Python 3",
   "language": "python",
   "name": "python3"
  },
  "language_info": {
   "codemirror_mode": {
    "name": "ipython",
    "version": 3
   },
   "file_extension": ".py",
   "mimetype": "text/x-python",
   "name": "python",
   "nbconvert_exporter": "python",
   "pygments_lexer": "ipython3",
   "version": "3.9.11"
  }
 },
 "nbformat": 4,
 "nbformat_minor": 5
}
